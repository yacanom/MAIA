{
  "nbformat": 4,
  "nbformat_minor": 0,
  "metadata": {
    "colab": {
      "provenance": [],
      "toc_visible": true,
      "authorship_tag": "ABX9TyMsOZPU46jiLxFk4MibmovW",
      "include_colab_link": true
    },
    "kernelspec": {
      "name": "python3",
      "display_name": "Python 3"
    },
    "language_info": {
      "name": "python"
    }
  },
  "cells": [
    {
      "cell_type": "markdown",
      "metadata": {
        "id": "view-in-github",
        "colab_type": "text"
      },
      "source": [
        "<a href=\"https://colab.research.google.com/github/yacanom/MAIA/blob/main/MLNS_Modelado_de_t%C3%B3picos.ipynb\" target=\"_parent\"><img src=\"https://colab.research.google.com/assets/colab-badge.svg\" alt=\"Open In Colab\"/></a>"
      ]
    },
    {
      "cell_type": "code",
      "source": [
        "!pip install gensim"
      ],
      "metadata": {
        "colab": {
          "base_uri": "https://localhost:8080/"
        },
        "id": "_1Y--uH-rgi4",
        "outputId": "6ede36d2-d009-4ed4-f79f-608e5ea5c1b9"
      },
      "execution_count": 1,
      "outputs": [
        {
          "output_type": "stream",
          "name": "stdout",
          "text": [
            "Requirement already satisfied: gensim in /usr/local/lib/python3.12/dist-packages (4.3.3)\n",
            "Requirement already satisfied: numpy<2.0,>=1.18.5 in /usr/local/lib/python3.12/dist-packages (from gensim) (1.26.4)\n",
            "Requirement already satisfied: scipy<1.14.0,>=1.7.0 in /usr/local/lib/python3.12/dist-packages (from gensim) (1.13.1)\n",
            "Requirement already satisfied: smart-open>=1.8.1 in /usr/local/lib/python3.12/dist-packages (from gensim) (7.3.0.post1)\n",
            "Requirement already satisfied: wrapt in /usr/local/lib/python3.12/dist-packages (from smart-open>=1.8.1->gensim) (1.17.3)\n"
          ]
        }
      ]
    },
    {
      "cell_type": "markdown",
      "source": [
        "# 0. Importación de paquetes"
      ],
      "metadata": {
        "id": "DPVjEmX420AP"
      }
    },
    {
      "cell_type": "code",
      "execution_count": 2,
      "metadata": {
        "colab": {
          "base_uri": "https://localhost:8080/"
        },
        "id": "YdIRS-9G2Nqb",
        "outputId": "ae283567-fb36-4f48-ad08-4bfde7265d96"
      },
      "outputs": [
        {
          "output_type": "stream",
          "name": "stderr",
          "text": [
            "[nltk_data] Downloading package stopwords to /root/nltk_data...\n",
            "[nltk_data]   Unzipping corpora/stopwords.zip.\n"
          ]
        }
      ],
      "source": [
        "import numpy as np\n",
        "import pandas as pd\n",
        "from IPython.display import display\n",
        "from tqdm import tqdm\n",
        "from collections import Counter\n",
        "import ast\n",
        "import re\n",
        "\n",
        "import nltk\n",
        "nltk.download('stopwords')\n",
        "from nltk.corpus import stopwords\n",
        "\n",
        "import matplotlib.pyplot as plt\n",
        "import matplotlib.mlab as mlab\n",
        "import seaborn as sb\n",
        "\n",
        "from textblob import TextBlob\n",
        "import scipy.stats as stats\n",
        "\n",
        "from sklearn.feature_extraction.text import CountVectorizer\n",
        "from sklearn.decomposition import TruncatedSVD\n",
        "from sklearn.decomposition import LatentDirichletAllocation\n",
        "from sklearn.manifold import TSNE\n",
        "from sklearn.model_selection import GridSearchCV\n",
        "from sklearn.pipeline import Pipeline\n",
        "from sklearn.metrics import make_scorer, mean_squared_error\n",
        "\n",
        "import gensim\n",
        "from gensim import corpora\n",
        "from gensim.models import CoherenceModel\n",
        "from sklearn.feature_extraction.text import CountVectorizer\n",
        "\n",
        "from bokeh.plotting import figure, output_file, show\n",
        "from bokeh.models import Label\n",
        "from bokeh.io import output_notebook\n",
        "output_notebook()\n",
        "\n",
        "%matplotlib inline"
      ]
    },
    {
      "cell_type": "markdown",
      "source": [
        "# **Modelado de Tópicos con Machine Learning No Supervisado: Análisis de Noticias en Español**"
      ],
      "metadata": {
        "id": "a1XjyUA-dWzQ"
      }
    },
    {
      "cell_type": "markdown",
      "source": [
        "Este notebook busca exponer cómo se trabaja **el modelo de tópicos** desde el machine learning no supervisado. El modelado de tópicos es una técnica que permite descubrir la estructura temática latente en grandes colecciones de texto.\n",
        "A diferencia de los modelos supervisados, no requiere etiquetas predefinidas, lo que lo hace ideal para explorar datasets de texto sin categorizar. A\n",
        "\n",
        "En este caso, utilizaremos un conjunto de datos de noticias en español (spanish-news-classification) que fue obtenido por scraping para el **Datatón 2022 de Bancolombia**. El propósito original del dataset era entrenar modelos supervisados de recomendación en categorías como Macroeconomía, Sostenibilidad,\n",
        "Innovación, Regulaciones, Alianzas, Reputación y Otros.\n",
        "\n",
        "Nuestro objetivo será aplicar técnicas no supervisadas para identificar los temas principales que emergen de estas noticias.\n",
        "\n",
        "Exploraremos dos de los modelos de tópicos más comunes: **Latent Semantic Analysis (LSA) y Latent Dirichlet Allocation (LDA)**, y discutiremos las mejores prácticas para la búsqueda de hiperparámetros en cada uno."
      ],
      "metadata": {
        "id": "Iye4MzbvdiYw"
      }
    },
    {
      "cell_type": "markdown",
      "source": [
        "# **Preparación de los Datos**"
      ],
      "metadata": {
        "id": "qxpHG-qn62B2"
      }
    },
    {
      "cell_type": "markdown",
      "source": [
        "## Preprocesamiento y Vectorización del Texto"
      ],
      "metadata": {
        "id": "Irc8dBjceGFK"
      }
    },
    {
      "cell_type": "markdown",
      "source": [
        "El preprocesamiento para el modelado de tópicos implica transformar el texto sin estructurar en una representación numérica que los algoritmos puedan procesar. Para este fin, utilizaremos **CountVectorizer** de **Scikit-learn**. Este proceso convierte cada documento en un vector que cuenta la frecuencia de cada palabra. Es crucial eliminar las 'stop words' (palabras comunes como 'el', 'la', 'un') para que el modelo se enfoque en palabras más significativas para la identificación de tópicos.\n",
        "\n",
        "El resultado será una Matriz Documento-Término (DTM), donde las filas representan documentos y las columnas representan palabras del vocabulario. También se mostrará el vocabulario resultante."
      ],
      "metadata": {
        "id": "bhtnA2_IeMSd"
      }
    },
    {
      "cell_type": "code",
      "source": [
        "url = 'https://raw.githubusercontent.com/yacanom/MAIA/refs/heads/main/df_total.csv'\n",
        "\n",
        "try:\n",
        "    df = pd.read_csv(url)\n",
        "    print(f\"Dataset cargado correctamente con {df.shape[0]} filas y {df.shape[1]} columnas.\")\n",
        "except Exception as e:\n",
        "    print(f\"Error al cargar el dataset: {e}\")\n",
        "\n",
        "df.head()"
      ],
      "metadata": {
        "colab": {
          "base_uri": "https://localhost:8080/",
          "height": 224
        },
        "id": "ErlZNstM7FlT",
        "outputId": "0c2d21db-667b-4c85-b005-3641b2bad211"
      },
      "execution_count": 3,
      "outputs": [
        {
          "output_type": "stream",
          "name": "stdout",
          "text": [
            "Dataset cargado correctamente con 1217 filas y 3 columnas.\n"
          ]
        },
        {
          "output_type": "execute_result",
          "data": {
            "text/plain": [
              "                                                url  \\\n",
              "0  https://www.larepublica.co/redirect/post/3201905   \n",
              "1  https://www.larepublica.co/redirect/post/3210288   \n",
              "2  https://www.larepublica.co/redirect/post/3240676   \n",
              "3  https://www.larepublica.co/redirect/post/3342889   \n",
              "4  https://www.larepublica.co/redirect/post/3427208   \n",
              "\n",
              "                                                news           Type  \n",
              "0  Durante el foro La banca articulador empresari...           Otra  \n",
              "1  El regulador de valores de China dijo el domin...   Regulaciones  \n",
              "2  En una industria históricamente masculina como...       Alianzas  \n",
              "3  Con el dato de marzo el IPC interanual encaden...  Macroeconomia  \n",
              "4  Ayer en Cartagena se dio inicio a la versión n...           Otra  "
            ],
            "text/html": [
              "\n",
              "  <div id=\"df-709b4f44-1fca-47d8-b219-e3cd269b6f7f\" class=\"colab-df-container\">\n",
              "    <div>\n",
              "<style scoped>\n",
              "    .dataframe tbody tr th:only-of-type {\n",
              "        vertical-align: middle;\n",
              "    }\n",
              "\n",
              "    .dataframe tbody tr th {\n",
              "        vertical-align: top;\n",
              "    }\n",
              "\n",
              "    .dataframe thead th {\n",
              "        text-align: right;\n",
              "    }\n",
              "</style>\n",
              "<table border=\"1\" class=\"dataframe\">\n",
              "  <thead>\n",
              "    <tr style=\"text-align: right;\">\n",
              "      <th></th>\n",
              "      <th>url</th>\n",
              "      <th>news</th>\n",
              "      <th>Type</th>\n",
              "    </tr>\n",
              "  </thead>\n",
              "  <tbody>\n",
              "    <tr>\n",
              "      <th>0</th>\n",
              "      <td>https://www.larepublica.co/redirect/post/3201905</td>\n",
              "      <td>Durante el foro La banca articulador empresari...</td>\n",
              "      <td>Otra</td>\n",
              "    </tr>\n",
              "    <tr>\n",
              "      <th>1</th>\n",
              "      <td>https://www.larepublica.co/redirect/post/3210288</td>\n",
              "      <td>El regulador de valores de China dijo el domin...</td>\n",
              "      <td>Regulaciones</td>\n",
              "    </tr>\n",
              "    <tr>\n",
              "      <th>2</th>\n",
              "      <td>https://www.larepublica.co/redirect/post/3240676</td>\n",
              "      <td>En una industria históricamente masculina como...</td>\n",
              "      <td>Alianzas</td>\n",
              "    </tr>\n",
              "    <tr>\n",
              "      <th>3</th>\n",
              "      <td>https://www.larepublica.co/redirect/post/3342889</td>\n",
              "      <td>Con el dato de marzo el IPC interanual encaden...</td>\n",
              "      <td>Macroeconomia</td>\n",
              "    </tr>\n",
              "    <tr>\n",
              "      <th>4</th>\n",
              "      <td>https://www.larepublica.co/redirect/post/3427208</td>\n",
              "      <td>Ayer en Cartagena se dio inicio a la versión n...</td>\n",
              "      <td>Otra</td>\n",
              "    </tr>\n",
              "  </tbody>\n",
              "</table>\n",
              "</div>\n",
              "    <div class=\"colab-df-buttons\">\n",
              "\n",
              "  <div class=\"colab-df-container\">\n",
              "    <button class=\"colab-df-convert\" onclick=\"convertToInteractive('df-709b4f44-1fca-47d8-b219-e3cd269b6f7f')\"\n",
              "            title=\"Convert this dataframe to an interactive table.\"\n",
              "            style=\"display:none;\">\n",
              "\n",
              "  <svg xmlns=\"http://www.w3.org/2000/svg\" height=\"24px\" viewBox=\"0 -960 960 960\">\n",
              "    <path d=\"M120-120v-720h720v720H120Zm60-500h600v-160H180v160Zm220 220h160v-160H400v160Zm0 220h160v-160H400v160ZM180-400h160v-160H180v160Zm440 0h160v-160H620v160ZM180-180h160v-160H180v160Zm440 0h160v-160H620v160Z\"/>\n",
              "  </svg>\n",
              "    </button>\n",
              "\n",
              "  <style>\n",
              "    .colab-df-container {\n",
              "      display:flex;\n",
              "      gap: 12px;\n",
              "    }\n",
              "\n",
              "    .colab-df-convert {\n",
              "      background-color: #E8F0FE;\n",
              "      border: none;\n",
              "      border-radius: 50%;\n",
              "      cursor: pointer;\n",
              "      display: none;\n",
              "      fill: #1967D2;\n",
              "      height: 32px;\n",
              "      padding: 0 0 0 0;\n",
              "      width: 32px;\n",
              "    }\n",
              "\n",
              "    .colab-df-convert:hover {\n",
              "      background-color: #E2EBFA;\n",
              "      box-shadow: 0px 1px 2px rgba(60, 64, 67, 0.3), 0px 1px 3px 1px rgba(60, 64, 67, 0.15);\n",
              "      fill: #174EA6;\n",
              "    }\n",
              "\n",
              "    .colab-df-buttons div {\n",
              "      margin-bottom: 4px;\n",
              "    }\n",
              "\n",
              "    [theme=dark] .colab-df-convert {\n",
              "      background-color: #3B4455;\n",
              "      fill: #D2E3FC;\n",
              "    }\n",
              "\n",
              "    [theme=dark] .colab-df-convert:hover {\n",
              "      background-color: #434B5C;\n",
              "      box-shadow: 0px 1px 3px 1px rgba(0, 0, 0, 0.15);\n",
              "      filter: drop-shadow(0px 1px 2px rgba(0, 0, 0, 0.3));\n",
              "      fill: #FFFFFF;\n",
              "    }\n",
              "  </style>\n",
              "\n",
              "    <script>\n",
              "      const buttonEl =\n",
              "        document.querySelector('#df-709b4f44-1fca-47d8-b219-e3cd269b6f7f button.colab-df-convert');\n",
              "      buttonEl.style.display =\n",
              "        google.colab.kernel.accessAllowed ? 'block' : 'none';\n",
              "\n",
              "      async function convertToInteractive(key) {\n",
              "        const element = document.querySelector('#df-709b4f44-1fca-47d8-b219-e3cd269b6f7f');\n",
              "        const dataTable =\n",
              "          await google.colab.kernel.invokeFunction('convertToInteractive',\n",
              "                                                    [key], {});\n",
              "        if (!dataTable) return;\n",
              "\n",
              "        const docLinkHtml = 'Like what you see? Visit the ' +\n",
              "          '<a target=\"_blank\" href=https://colab.research.google.com/notebooks/data_table.ipynb>data table notebook</a>'\n",
              "          + ' to learn more about interactive tables.';\n",
              "        element.innerHTML = '';\n",
              "        dataTable['output_type'] = 'display_data';\n",
              "        await google.colab.output.renderOutput(dataTable, element);\n",
              "        const docLink = document.createElement('div');\n",
              "        docLink.innerHTML = docLinkHtml;\n",
              "        element.appendChild(docLink);\n",
              "      }\n",
              "    </script>\n",
              "  </div>\n",
              "\n",
              "\n",
              "    <div id=\"df-6594fcaa-1f81-423e-99e0-51f4f529f26d\">\n",
              "      <button class=\"colab-df-quickchart\" onclick=\"quickchart('df-6594fcaa-1f81-423e-99e0-51f4f529f26d')\"\n",
              "                title=\"Suggest charts\"\n",
              "                style=\"display:none;\">\n",
              "\n",
              "<svg xmlns=\"http://www.w3.org/2000/svg\" height=\"24px\"viewBox=\"0 0 24 24\"\n",
              "     width=\"24px\">\n",
              "    <g>\n",
              "        <path d=\"M19 3H5c-1.1 0-2 .9-2 2v14c0 1.1.9 2 2 2h14c1.1 0 2-.9 2-2V5c0-1.1-.9-2-2-2zM9 17H7v-7h2v7zm4 0h-2V7h2v10zm4 0h-2v-4h2v4z\"/>\n",
              "    </g>\n",
              "</svg>\n",
              "      </button>\n",
              "\n",
              "<style>\n",
              "  .colab-df-quickchart {\n",
              "      --bg-color: #E8F0FE;\n",
              "      --fill-color: #1967D2;\n",
              "      --hover-bg-color: #E2EBFA;\n",
              "      --hover-fill-color: #174EA6;\n",
              "      --disabled-fill-color: #AAA;\n",
              "      --disabled-bg-color: #DDD;\n",
              "  }\n",
              "\n",
              "  [theme=dark] .colab-df-quickchart {\n",
              "      --bg-color: #3B4455;\n",
              "      --fill-color: #D2E3FC;\n",
              "      --hover-bg-color: #434B5C;\n",
              "      --hover-fill-color: #FFFFFF;\n",
              "      --disabled-bg-color: #3B4455;\n",
              "      --disabled-fill-color: #666;\n",
              "  }\n",
              "\n",
              "  .colab-df-quickchart {\n",
              "    background-color: var(--bg-color);\n",
              "    border: none;\n",
              "    border-radius: 50%;\n",
              "    cursor: pointer;\n",
              "    display: none;\n",
              "    fill: var(--fill-color);\n",
              "    height: 32px;\n",
              "    padding: 0;\n",
              "    width: 32px;\n",
              "  }\n",
              "\n",
              "  .colab-df-quickchart:hover {\n",
              "    background-color: var(--hover-bg-color);\n",
              "    box-shadow: 0 1px 2px rgba(60, 64, 67, 0.3), 0 1px 3px 1px rgba(60, 64, 67, 0.15);\n",
              "    fill: var(--button-hover-fill-color);\n",
              "  }\n",
              "\n",
              "  .colab-df-quickchart-complete:disabled,\n",
              "  .colab-df-quickchart-complete:disabled:hover {\n",
              "    background-color: var(--disabled-bg-color);\n",
              "    fill: var(--disabled-fill-color);\n",
              "    box-shadow: none;\n",
              "  }\n",
              "\n",
              "  .colab-df-spinner {\n",
              "    border: 2px solid var(--fill-color);\n",
              "    border-color: transparent;\n",
              "    border-bottom-color: var(--fill-color);\n",
              "    animation:\n",
              "      spin 1s steps(1) infinite;\n",
              "  }\n",
              "\n",
              "  @keyframes spin {\n",
              "    0% {\n",
              "      border-color: transparent;\n",
              "      border-bottom-color: var(--fill-color);\n",
              "      border-left-color: var(--fill-color);\n",
              "    }\n",
              "    20% {\n",
              "      border-color: transparent;\n",
              "      border-left-color: var(--fill-color);\n",
              "      border-top-color: var(--fill-color);\n",
              "    }\n",
              "    30% {\n",
              "      border-color: transparent;\n",
              "      border-left-color: var(--fill-color);\n",
              "      border-top-color: var(--fill-color);\n",
              "      border-right-color: var(--fill-color);\n",
              "    }\n",
              "    40% {\n",
              "      border-color: transparent;\n",
              "      border-right-color: var(--fill-color);\n",
              "      border-top-color: var(--fill-color);\n",
              "    }\n",
              "    60% {\n",
              "      border-color: transparent;\n",
              "      border-right-color: var(--fill-color);\n",
              "    }\n",
              "    80% {\n",
              "      border-color: transparent;\n",
              "      border-right-color: var(--fill-color);\n",
              "      border-bottom-color: var(--fill-color);\n",
              "    }\n",
              "    90% {\n",
              "      border-color: transparent;\n",
              "      border-bottom-color: var(--fill-color);\n",
              "    }\n",
              "  }\n",
              "</style>\n",
              "\n",
              "      <script>\n",
              "        async function quickchart(key) {\n",
              "          const quickchartButtonEl =\n",
              "            document.querySelector('#' + key + ' button');\n",
              "          quickchartButtonEl.disabled = true;  // To prevent multiple clicks.\n",
              "          quickchartButtonEl.classList.add('colab-df-spinner');\n",
              "          try {\n",
              "            const charts = await google.colab.kernel.invokeFunction(\n",
              "                'suggestCharts', [key], {});\n",
              "          } catch (error) {\n",
              "            console.error('Error during call to suggestCharts:', error);\n",
              "          }\n",
              "          quickchartButtonEl.classList.remove('colab-df-spinner');\n",
              "          quickchartButtonEl.classList.add('colab-df-quickchart-complete');\n",
              "        }\n",
              "        (() => {\n",
              "          let quickchartButtonEl =\n",
              "            document.querySelector('#df-6594fcaa-1f81-423e-99e0-51f4f529f26d button');\n",
              "          quickchartButtonEl.style.display =\n",
              "            google.colab.kernel.accessAllowed ? 'block' : 'none';\n",
              "        })();\n",
              "      </script>\n",
              "    </div>\n",
              "\n",
              "    </div>\n",
              "  </div>\n"
            ],
            "application/vnd.google.colaboratory.intrinsic+json": {
              "type": "dataframe",
              "variable_name": "df",
              "summary": "{\n  \"name\": \"df\",\n  \"rows\": 1217,\n  \"fields\": [\n    {\n      \"column\": \"url\",\n      \"properties\": {\n        \"dtype\": \"string\",\n        \"num_unique_values\": 1101,\n        \"samples\": [\n          \"https://www.bbva.com/es/sostenibilidad/por-la-tierra-por-el-mundo-por-todos-un-dia-y-una-sola-tierra/\",\n          \"https://www.larepublica.co/redirect/post/3307565\",\n          \"https://www.bbva.com/es/ar/bbva-ofrece-una-amplia-variedad-de-productos-y-servicios-agropecuarios-en-expoagro/\"\n        ],\n        \"semantic_type\": \"\",\n        \"description\": \"\"\n      }\n    },\n    {\n      \"column\": \"news\",\n      \"properties\": {\n        \"dtype\": \"string\",\n        \"num_unique_values\": 1138,\n        \"samples\": [\n          \"Se anunci\\u00f3 una alianza estrat\\u00e9gica entre la fintech de soluciones financieras Omni Latam y JP Morgan para crear una plataforma que brinde soluciones financieras digitales para grandes empresas y pyme garantiz\\u00e1ndoles liquidez y acceso a capital de trabajo.La iniciativa busca proteger la cadena de suministro de los compradores frente a cualquier necesidad crediticia y desajuste de financiaci\\u00f3n. Se asegurar\\u00e1 que los proveedores tengan acceso a un programa de pagos anticipados de facturas.Con esta alianza combinamos las s\\u00f3lidas capacidades financieras de J.P. Morgan en Am\\u00e9rica Latina y la innovaci\\u00f3n tecnol\\u00f3gica de Omni Latam al servicio de las empresas proporcionando alternativas hechas a la medida de nuestros clientes que se adaptan tanto a compradores como a proveedores. El objetivo es facilitar el acceso al capital de trabajo adicional que necesitan para escalar sus negocios mejorando la estabilidad de la cadena de suministro as\\u00ed como su relaci\\u00f3n y reputaci\\u00f3n en el mercado dijo Diego Caicedo CEO  Cofundador de Omni Latam.Se espera que el acuerdo acelere la participaci\\u00f3n de JP Morgan en la regi\\u00f3n. La compa\\u00f1\\u00eda ya procesa cerca de 40 millones de transacciones diarias siendo el principal liquidador de d\\u00f3lares del mundo.Buscamos solventar las necesidades de los empresarios latinoamericanos por medio de soluciones de financiaci\\u00f3n de la cadena de suministro. Creemos que somos los mejor posicionados para atender esas necesidades de la mano de Omni Latam dijo Ignacio Munoz De Cote director de pagos para Latinoam\\u00e9rica en JP Morgan.\",\n          \"\\u00bfSon los filtros del agua realmente necesarios donde el acceso al agua potable est\\u00e1 garantizado? \\u00bfTienen beneficios para la salud y el medioambiente? Mientras en lugares sin agua potable, los filtros pueden significar una aut\\u00e9ntica revoluci\\u00f3n; en los hogares con agua de grifo potable, hay que tener en cuenta para qu\\u00e9 vas a utilizar las distintas tecnolog\\u00edas de filtrado. Importante: los filtros ayudan a solucionar el desaf\\u00edo del agua embotellada en pl\\u00e1stico, lo que contribuye con la sostenibilidad.\\r\\nTres \\u00e1tomos forman una mol\\u00e9cula sencilla. Dos hidr\\u00f3genos y un ox\\u00edgeno est\\u00e1n en la base de la revoluci\\u00f3n de la vida en nuestro planeta. Sin el agua no existir\\u00eda nada de lo que conocemos. Y, sin embargo, cuando abrimos el grifo y la dejamos correr no pensamos en esto. Lo damos por sentado, a pesar de que se trata de un bien m\\u00e1s escaso y con m\\u00e1s amenazas de lo que podr\\u00edamos pensar.\\r\\nEn el mundo, hoy, la mayor\\u00eda de las personas tienen acceso a agua potable. Sin embargo, seg\\u00fan la Organizaci\\u00f3n Mundial de la Salud, m\\u00e1s de 2000 millones de habitantes consumen a diario agua que tiene el potencial de estar contaminada. La diferencia, en la mayor\\u00eda de los casos, la marca la presencia de sistemas de filtrado, depuraci\\u00f3n y potabilizaci\\u00f3n industriales, as\\u00ed como controles que aseguran que beberla no implica riesgos para la salud.\\r\\nAdem\\u00e1s, siempre existe la posibilidad de instalar purificadores de agua a nivel dom\\u00e9stico. Pero \\u00bfson realmente necesarios en aquellos lugares donde el acceso al agua potable est\\u00e1 garantizado? \\u00bfQu\\u00e9 tipos existen y c\\u00f3mo funcionan? \\u00bfTienen realmente beneficios para la salud y el medioambiente?\\r\\nAgua limpia y saneamiento\\r\\nDurante tres d\\u00edas, diversos distritos de Lima y el Callao tendr\\u00e1n el servicio de agua restringido. Debido a este escenario, los peruanos tienen la oportunidad de reflexionar sobre los cuidados que se le debe dar al agua. A continuaci\\u00f3n, algunos consejos sobre qu\\u00e9 se debe hacer para ahorrarla y qu\\u00e9 trucos hay seguir cuando no se cuenta con muchas reservas.\\r\\n\\u201cLa variedad de part\\u00edculas que pueden ser encontradas dentro del agua de grifo es muy grande. Dependiendo de cada regi\\u00f3n e incluso dentro de la misma provincia puede cambiar notablemente, ya que los acu\\u00edferos y los procesos de tratamiento y transporte son distintos\\u201d, explica Alex Dakov, responsable de la ONG Oceanic Global y CEO de Agua NEA y Green Motive. Lo que s\\u00ed est\\u00e1 claro es que lo que habitualmente llamamos agua es mucho m\\u00e1s que hidr\\u00f3geno y ox\\u00edgeno.\\r\\nEn estado natural, el agua contiene microorganismos y multitud de part\\u00edculas en suspensi\\u00f3n y elementos qu\\u00edmicos disueltos que recoge de su entorno. A ellos se han sumado los micropl\\u00e1sticos, aunque su impacto en la salud todav\\u00eda no se ha logrado determinar. En los pa\\u00edses en los que el acceso al agua potable est\\u00e1 garantizado, se llevan a cabo una serie de procesos de filtrado y desinfecci\\u00f3n para garantizar que la mayor\\u00eda de estos elementos no acabe siendo ingerida. Aun as\\u00ed, existen otras razones por las que se puede querer instalar un filtro en casa.\\r\\n\\u201cCuando hablamos de agua, muchas veces influye un criterio por encima de otros: la percepci\\u00f3n del sabor. Un criterio totalmente subjetivo que cada persona siente o aplica de manera diferente\\u201d, a\\u00f1ade Dakov. \\u201cLas tecnolog\\u00edas de filtrado ayudan a modificar esa percepci\\u00f3n, y por tanto pueden ayudar a beber agua del grifo, pese a no ser necesario desde un punto de vista qu\\u00edmico\\u201d.\\r\\nLa cosa cambia si hablamos de lugares en los que el agua corriente no es potable o ni siquiera existe tal red de agua corriente. Aqu\\u00ed, un filtro puede marcar un antes y un despu\\u00e9s, aunque garantizar la potabilidad, desde un punto de vista qu\\u00edmico y biol\\u00f3gico, es m\\u00e1s complejo que instalar un sistema de filtrado. \\u201cPara muchas comunidades donde el acceso al agua potable es complicado, un filtro puede ser una aut\\u00e9ntica revoluci\\u00f3n. Puede facilitar el acceso a una fuente de vida b\\u00e1sica para el ser humano de una manera econ\\u00f3mica y universal\\u201d, subraya el responsable de Oceanic Global.\\r\\nGesti\\u00f3n del Agua\\r\\nEl agua es un elemento imprescindible para el d\\u00eda a d\\u00eda a cuyo consumo no se le presta la debida atenci\\u00f3n \\u2013salvo en los cada vez m\\u00e1s frecuentes momentos de sequ\\u00eda\\u2013 debido a que su acceso y precio son a\\u00fan muy asequibles para el servicio que presta. El aumento de la concienciaci\\u00f3n ecol\\u00f3gica que se vive de unos a\\u00f1os a esta parte no es, sin embargo, todav\\u00eda suficiente para que los h\\u00e1bitos de los ciudadanos se hayan adecuado a las crecientes necesidades de ahorro de agua que demandan los tiempos que corren. De ah\\u00ed que sea muy oportuno revisar una serie de consejos para controlar la utilizaci\\u00f3n del l\\u00edquido elemento.\\r\\nLos filtros de agua para el hogar han ganado en variedad y eficiencia en los \\u00faltimos a\\u00f1os. Van desde sistemas sencillos para eliminar olores o sabores hasta unidades de desinfecci\\u00f3n o de desmineralizaci\\u00f3n. Estas son las principales tecnolog\\u00edas de filtrado disponibles para uso dom\\u00e9stico en la actualidad, seg\\u00fan el Centro para el Control y la Prevenci\\u00f3n de Enfermedades (CDC) de Estados Unidos.\\r\\nPara elegir filtro, debemos tener en cuenta el tipo de agua de nuestra zona y el prop\\u00f3sito que vamos a darle al agua filtrada. \\u201cCada filtro tiene un uso y unas caracter\\u00edsticas; y no tenerlo en cuenta puede dar lugar a una modificaci\\u00f3n negativa para el agua que se bebe. Por ejemplo, no cambiar un filtro de carbono cuando corresponde, puede acabar contaminando el agua que se est\\u00e1 bebiendo\\u201d, explica Alex Dakov.\\r\\nCada a\\u00f1o generamos m\\u00e1s de 300 millones de toneladas de residuos pl\\u00e1sticos en todo el mundo. La mayor\\u00eda no se recicla (m\\u00e1s de un 80 %) y unos ocho millones de toneladas acaban en los oc\\u00e9anos, seg\\u00fan datos de la agencia medioambiental de la ONU. Cada a\\u00f1o, se producen cerca de 500.000 millones de botellas pl\\u00e1sticas para agua y otras bebidas, la mayor\\u00eda de las cuales acaban en nuestro entorno como basura. En entidades financieras como BBVA, el pl\\u00e1stico es una especie en extinci\\u00f3n.\\r\\nAgua limpia y saneamiento\\r\\nA Rosa Ancco todav\\u00eda le sorprende o\\u00edr en su casa el sonido del agua corriendo. La costumbre no le deja olvidar que hasta hace poco ba\\u00f1aba a sus hijos con botellas de agua caliente. No ha tenido una vida f\\u00e1cil, pero su deseo de darle a su familia un techo digno bajo el que vivir y el apoyo de la Fundaci\\u00f3n Microfinanzas BBVA han sido suficientes para conseguirlo.\\r\\nEl problema de los pl\\u00e1sticos es complejo y atiende a muchas causas, pero la falta de acceso a agua potable es una de ellas. Seg\\u00fan el \\u00faltimo informe de Ocean Panel, mejorar la gesti\\u00f3n del agua y el saneamiento en el mundo es una de las principales l\\u00edneas de acci\\u00f3n para reducir la contaminaci\\u00f3n pl\\u00e1stica (y mejorar la salud global).\\r\\n\\u201cUna de las mayores ventajas que tiene el agua del grifo es que reduce el impacto medioambiental que genera el agua embotellada\\u201d, subraya el CEO de Agua NEA.\\u00a0\\u201cNo solo por la incesante producci\\u00f3n de pl\\u00e1sticos que supone la fabricaci\\u00f3n de las botellas o garrafas, se estima que en el mundo se abren m\\u00e1s de un mill\\u00f3n de botellas de pl\\u00e1stico cada minuto, sino tambi\\u00e9n por los costes medioambientales de su transporte\\u201d.\\r\\nEn este sentido, los filtros de agua y, sobre todo, los aplicados para mejorar la red de agua potable de localidades que dependen en gran medida del agua embotellada, pueden ser una soluci\\u00f3n.\\u00a0 \\u201cUno de los retos a los que la humanidad se enfrentar\\u00e1 en este siglo ser\\u00e1 garantizar el acceso a agua potable para los 8.000 millones de personas que pronto poblaremos el planeta, sin que eso multiplique el problema que tenemos con los pl\\u00e1sticos\\u201d, a\\u00f1ade Dakov.\\r\\nDisponer de una fuente de agua potable en todos los hogares es esencial para la salud humana y del medioambiente. Y disfrutar de agua limpia y desag\\u00fces es un factor m\\u00e1s para luchar contra la desigualdad. En la medida en que reducen la dependencia del agua embotellada, los filtros de agua pueden suponer una de las soluciones a este desaf\\u00edo. Sin embargo, como ya hemos se\\u00f1alado, garantizar la potabilidad del agua desde un punto de vista qu\\u00edmico y biol\\u00f3gico es mucho m\\u00e1s complicado que instalar un filtro en casa.\",\n          \"Los presidentes de Iberia e Iberia Express y el consejero delegado de Cepsa han firmado hoy un acuerdo para avanzar en la descarbonizaci\\u00f3n del sector a\\u00e9reo a trav\\u00e9s del desarrollo e investigaci\\u00f3n de combustibles de origen sostenible y otras alternativas energ\\u00e9ticas como el hidr\\u00f3geno renovable y la electricidad para fomentar la movilidad sostenible de aviones y de la flota de veh\\u00edculos que les prestan servicios en aeropuertos.Para las tres compa\\u00f1\\u00edas el desarrollo de los combustibles de origen sostenible SAF son una prioridad para continuar avanzando hacia una industria cada vez m\\u00e1s baja en carbono y contribuir as\\u00ed a la consecuci\\u00f3n de la Agenda 2030. Este proyecto que contempla la investigaci\\u00f3n y pruebas en vuelo con SAF contribuye a los Objetivos para el Desarrollo Sostenible n\\u00famero 7 Garantizar el acceso a una energ\\u00eda asequible segura sostenible y moderna 8 Promover el crecimiento econ\\u00f3mico inclusivo y sostenible el empleo y el trabajo dignoy 13 adoptar medidas urgentes para combatir el cambio clim\\u00e1tico y sus efectos.Cepsa est\\u00e1 trabajando en un ambicioso plan para dar un giro verde a todos sus negocios y convertirse en un referente de la transici\\u00f3n energ\\u00e9tica en su sector. Adem\\u00e1s la compa\\u00f1\\u00eda cuenta con una amplia experiencia en este \\u00e1mbito lleva m\\u00e1s de 10 a\\u00f1os produciendo biocombustibles en sus centros industriales y desarrolla estudios pioneros a nivel mundial para convertir residuos y aceites usados en combustibles de origen renovable de alto valor energ\\u00e9tico.Para Maarten Wetselaar consejero delegado de Cepsa esta alianza muestra la apuesta de Cepsa por la sostenibilidad y la firme determinaci\\u00f3n de apoyar a nuestros clientes dot\\u00e1ndolos de soluciones viables que aceleren su transici\\u00f3n energ\\u00e9tica. Como referente en el suministro de combustibles para el sector a\\u00e9reo compartimos con el Grupo Iberia el objetivo com\\u00fan de impulsar la descarbonizaci\\u00f3n del transporte como herramienta de lucha contra el cambio clim\\u00e1tico.Como parte del Grupo IAG Iberia e Iberia Express se han comprometido a lograr cero emisiones netas en 2050 y a operar un m\\u00ednimo de un 10 de sus vuelos con combustibles de origen sostenible en 2030.Para la descarbonizaci\\u00f3n del sector a\\u00e9reo es imprescindible el desarrollo producci\\u00f3n y distribuci\\u00f3n de los combustibles de origen sostenible a precios asequibles y en cantidad suficiente para abastecer a las aerol\\u00edneas. Confiamos en que este acuerdo con Cepsa contribuya a ese objetivo ha comentado Javier S\\u00e1nchezPrieto presidente y CEO de Iberia.Combustibles sosteniblesLos biocombustibles para la aviaci\\u00f3n tienen un papel clave en la descarbonizaci\\u00f3n del turismo y del transporte a\\u00e9reo. En comparaci\\u00f3n con el combustible convencional el SAF puede reducir las emisiones de la aviaci\\u00f3n hasta en un 80 respecto al queroseno convencional durante todo su ciclo de vida seg\\u00fan la Asociaci\\u00f3n Internacional de Transporte A\\u00e9reo.Adem\\u00e1s aportan otros beneficios impulsa la econom\\u00eda circular aumenta la independencia energ\\u00e9tica y con ella la seguridad de suministro asegura el mantenimiento de un importante motor de la econom\\u00eda espa\\u00f1ola 200.000 empleos de calidad y puede utilizarse de manera inmediata sin necesidad de renovar la flota y aprovechando las infraestructuras de suministro actuales.Para la consecuci\\u00f3n del objetivo de crecimiento cero de las emisiones de carbono desde 2020 la Asociaci\\u00f3n del Transporte A\\u00e9reo Internacional IATA est\\u00e1 impulsando el uso de biocombustibles sostenibles entre otras iniciativas por su significativa reducci\\u00f3n de CO2.Este acuerdo entre Cepsa y el Grupo Iberia est\\u00e1 en l\\u00ednea con el conjunto de medidas Fit for 55 de la Comisi\\u00f3n Europea que incluye una iniciativa legislativa denominada RefuelEU Aviation que pretende impulsar la oferta y demanda de biocombustibles de aviaci\\u00f3n en la Uni\\u00f3n Europea alcanzando un uso de 2 en 2025 de 5 en 2030 y de 63 en 2050.\"\n        ],\n        \"semantic_type\": \"\",\n        \"description\": \"\"\n      }\n    },\n    {\n      \"column\": \"Type\",\n      \"properties\": {\n        \"dtype\": \"category\",\n        \"num_unique_values\": 7,\n        \"samples\": [\n          \"Otra\",\n          \"Regulaciones\",\n          \"Sostenibilidad\"\n        ],\n        \"semantic_type\": \"\",\n        \"description\": \"\"\n      }\n    }\n  ]\n}"
            }
          },
          "metadata": {},
          "execution_count": 3
        }
      ]
    },
    {
      "cell_type": "code",
      "source": [
        "df.info()"
      ],
      "metadata": {
        "colab": {
          "base_uri": "https://localhost:8080/"
        },
        "id": "JGpJCtzh6xdV",
        "outputId": "9faab529-3be2-43dc-e7ec-4f2e56a2a0b3"
      },
      "execution_count": 4,
      "outputs": [
        {
          "output_type": "stream",
          "name": "stdout",
          "text": [
            "<class 'pandas.core.frame.DataFrame'>\n",
            "RangeIndex: 1217 entries, 0 to 1216\n",
            "Data columns (total 3 columns):\n",
            " #   Column  Non-Null Count  Dtype \n",
            "---  ------  --------------  ----- \n",
            " 0   url     1217 non-null   object\n",
            " 1   news    1217 non-null   object\n",
            " 2   Type    1217 non-null   object\n",
            "dtypes: object(3)\n",
            "memory usage: 28.7+ KB\n"
          ]
        }
      ]
    },
    {
      "cell_type": "code",
      "source": [
        "data = df[['news']]\n",
        "print(data.info())\n",
        "data.head()"
      ],
      "metadata": {
        "colab": {
          "base_uri": "https://localhost:8080/",
          "height": 362
        },
        "id": "75SV66E9DLDi",
        "outputId": "9c8f63a6-0745-4757-cae6-3c02a55b51d0"
      },
      "execution_count": 5,
      "outputs": [
        {
          "output_type": "stream",
          "name": "stdout",
          "text": [
            "<class 'pandas.core.frame.DataFrame'>\n",
            "RangeIndex: 1217 entries, 0 to 1216\n",
            "Data columns (total 1 columns):\n",
            " #   Column  Non-Null Count  Dtype \n",
            "---  ------  --------------  ----- \n",
            " 0   news    1217 non-null   object\n",
            "dtypes: object(1)\n",
            "memory usage: 9.6+ KB\n",
            "None\n"
          ]
        },
        {
          "output_type": "execute_result",
          "data": {
            "text/plain": [
              "                                                news\n",
              "0  Durante el foro La banca articulador empresari...\n",
              "1  El regulador de valores de China dijo el domin...\n",
              "2  En una industria históricamente masculina como...\n",
              "3  Con el dato de marzo el IPC interanual encaden...\n",
              "4  Ayer en Cartagena se dio inicio a la versión n..."
            ],
            "text/html": [
              "\n",
              "  <div id=\"df-2f623fe9-e200-4da3-a474-c2f5e4dcd60e\" class=\"colab-df-container\">\n",
              "    <div>\n",
              "<style scoped>\n",
              "    .dataframe tbody tr th:only-of-type {\n",
              "        vertical-align: middle;\n",
              "    }\n",
              "\n",
              "    .dataframe tbody tr th {\n",
              "        vertical-align: top;\n",
              "    }\n",
              "\n",
              "    .dataframe thead th {\n",
              "        text-align: right;\n",
              "    }\n",
              "</style>\n",
              "<table border=\"1\" class=\"dataframe\">\n",
              "  <thead>\n",
              "    <tr style=\"text-align: right;\">\n",
              "      <th></th>\n",
              "      <th>news</th>\n",
              "    </tr>\n",
              "  </thead>\n",
              "  <tbody>\n",
              "    <tr>\n",
              "      <th>0</th>\n",
              "      <td>Durante el foro La banca articulador empresari...</td>\n",
              "    </tr>\n",
              "    <tr>\n",
              "      <th>1</th>\n",
              "      <td>El regulador de valores de China dijo el domin...</td>\n",
              "    </tr>\n",
              "    <tr>\n",
              "      <th>2</th>\n",
              "      <td>En una industria históricamente masculina como...</td>\n",
              "    </tr>\n",
              "    <tr>\n",
              "      <th>3</th>\n",
              "      <td>Con el dato de marzo el IPC interanual encaden...</td>\n",
              "    </tr>\n",
              "    <tr>\n",
              "      <th>4</th>\n",
              "      <td>Ayer en Cartagena se dio inicio a la versión n...</td>\n",
              "    </tr>\n",
              "  </tbody>\n",
              "</table>\n",
              "</div>\n",
              "    <div class=\"colab-df-buttons\">\n",
              "\n",
              "  <div class=\"colab-df-container\">\n",
              "    <button class=\"colab-df-convert\" onclick=\"convertToInteractive('df-2f623fe9-e200-4da3-a474-c2f5e4dcd60e')\"\n",
              "            title=\"Convert this dataframe to an interactive table.\"\n",
              "            style=\"display:none;\">\n",
              "\n",
              "  <svg xmlns=\"http://www.w3.org/2000/svg\" height=\"24px\" viewBox=\"0 -960 960 960\">\n",
              "    <path d=\"M120-120v-720h720v720H120Zm60-500h600v-160H180v160Zm220 220h160v-160H400v160Zm0 220h160v-160H400v160ZM180-400h160v-160H180v160Zm440 0h160v-160H620v160ZM180-180h160v-160H180v160Zm440 0h160v-160H620v160Z\"/>\n",
              "  </svg>\n",
              "    </button>\n",
              "\n",
              "  <style>\n",
              "    .colab-df-container {\n",
              "      display:flex;\n",
              "      gap: 12px;\n",
              "    }\n",
              "\n",
              "    .colab-df-convert {\n",
              "      background-color: #E8F0FE;\n",
              "      border: none;\n",
              "      border-radius: 50%;\n",
              "      cursor: pointer;\n",
              "      display: none;\n",
              "      fill: #1967D2;\n",
              "      height: 32px;\n",
              "      padding: 0 0 0 0;\n",
              "      width: 32px;\n",
              "    }\n",
              "\n",
              "    .colab-df-convert:hover {\n",
              "      background-color: #E2EBFA;\n",
              "      box-shadow: 0px 1px 2px rgba(60, 64, 67, 0.3), 0px 1px 3px 1px rgba(60, 64, 67, 0.15);\n",
              "      fill: #174EA6;\n",
              "    }\n",
              "\n",
              "    .colab-df-buttons div {\n",
              "      margin-bottom: 4px;\n",
              "    }\n",
              "\n",
              "    [theme=dark] .colab-df-convert {\n",
              "      background-color: #3B4455;\n",
              "      fill: #D2E3FC;\n",
              "    }\n",
              "\n",
              "    [theme=dark] .colab-df-convert:hover {\n",
              "      background-color: #434B5C;\n",
              "      box-shadow: 0px 1px 3px 1px rgba(0, 0, 0, 0.15);\n",
              "      filter: drop-shadow(0px 1px 2px rgba(0, 0, 0, 0.3));\n",
              "      fill: #FFFFFF;\n",
              "    }\n",
              "  </style>\n",
              "\n",
              "    <script>\n",
              "      const buttonEl =\n",
              "        document.querySelector('#df-2f623fe9-e200-4da3-a474-c2f5e4dcd60e button.colab-df-convert');\n",
              "      buttonEl.style.display =\n",
              "        google.colab.kernel.accessAllowed ? 'block' : 'none';\n",
              "\n",
              "      async function convertToInteractive(key) {\n",
              "        const element = document.querySelector('#df-2f623fe9-e200-4da3-a474-c2f5e4dcd60e');\n",
              "        const dataTable =\n",
              "          await google.colab.kernel.invokeFunction('convertToInteractive',\n",
              "                                                    [key], {});\n",
              "        if (!dataTable) return;\n",
              "\n",
              "        const docLinkHtml = 'Like what you see? Visit the ' +\n",
              "          '<a target=\"_blank\" href=https://colab.research.google.com/notebooks/data_table.ipynb>data table notebook</a>'\n",
              "          + ' to learn more about interactive tables.';\n",
              "        element.innerHTML = '';\n",
              "        dataTable['output_type'] = 'display_data';\n",
              "        await google.colab.output.renderOutput(dataTable, element);\n",
              "        const docLink = document.createElement('div');\n",
              "        docLink.innerHTML = docLinkHtml;\n",
              "        element.appendChild(docLink);\n",
              "      }\n",
              "    </script>\n",
              "  </div>\n",
              "\n",
              "\n",
              "    <div id=\"df-05420333-d802-4653-889b-970e9ccd6898\">\n",
              "      <button class=\"colab-df-quickchart\" onclick=\"quickchart('df-05420333-d802-4653-889b-970e9ccd6898')\"\n",
              "                title=\"Suggest charts\"\n",
              "                style=\"display:none;\">\n",
              "\n",
              "<svg xmlns=\"http://www.w3.org/2000/svg\" height=\"24px\"viewBox=\"0 0 24 24\"\n",
              "     width=\"24px\">\n",
              "    <g>\n",
              "        <path d=\"M19 3H5c-1.1 0-2 .9-2 2v14c0 1.1.9 2 2 2h14c1.1 0 2-.9 2-2V5c0-1.1-.9-2-2-2zM9 17H7v-7h2v7zm4 0h-2V7h2v10zm4 0h-2v-4h2v4z\"/>\n",
              "    </g>\n",
              "</svg>\n",
              "      </button>\n",
              "\n",
              "<style>\n",
              "  .colab-df-quickchart {\n",
              "      --bg-color: #E8F0FE;\n",
              "      --fill-color: #1967D2;\n",
              "      --hover-bg-color: #E2EBFA;\n",
              "      --hover-fill-color: #174EA6;\n",
              "      --disabled-fill-color: #AAA;\n",
              "      --disabled-bg-color: #DDD;\n",
              "  }\n",
              "\n",
              "  [theme=dark] .colab-df-quickchart {\n",
              "      --bg-color: #3B4455;\n",
              "      --fill-color: #D2E3FC;\n",
              "      --hover-bg-color: #434B5C;\n",
              "      --hover-fill-color: #FFFFFF;\n",
              "      --disabled-bg-color: #3B4455;\n",
              "      --disabled-fill-color: #666;\n",
              "  }\n",
              "\n",
              "  .colab-df-quickchart {\n",
              "    background-color: var(--bg-color);\n",
              "    border: none;\n",
              "    border-radius: 50%;\n",
              "    cursor: pointer;\n",
              "    display: none;\n",
              "    fill: var(--fill-color);\n",
              "    height: 32px;\n",
              "    padding: 0;\n",
              "    width: 32px;\n",
              "  }\n",
              "\n",
              "  .colab-df-quickchart:hover {\n",
              "    background-color: var(--hover-bg-color);\n",
              "    box-shadow: 0 1px 2px rgba(60, 64, 67, 0.3), 0 1px 3px 1px rgba(60, 64, 67, 0.15);\n",
              "    fill: var(--button-hover-fill-color);\n",
              "  }\n",
              "\n",
              "  .colab-df-quickchart-complete:disabled,\n",
              "  .colab-df-quickchart-complete:disabled:hover {\n",
              "    background-color: var(--disabled-bg-color);\n",
              "    fill: var(--disabled-fill-color);\n",
              "    box-shadow: none;\n",
              "  }\n",
              "\n",
              "  .colab-df-spinner {\n",
              "    border: 2px solid var(--fill-color);\n",
              "    border-color: transparent;\n",
              "    border-bottom-color: var(--fill-color);\n",
              "    animation:\n",
              "      spin 1s steps(1) infinite;\n",
              "  }\n",
              "\n",
              "  @keyframes spin {\n",
              "    0% {\n",
              "      border-color: transparent;\n",
              "      border-bottom-color: var(--fill-color);\n",
              "      border-left-color: var(--fill-color);\n",
              "    }\n",
              "    20% {\n",
              "      border-color: transparent;\n",
              "      border-left-color: var(--fill-color);\n",
              "      border-top-color: var(--fill-color);\n",
              "    }\n",
              "    30% {\n",
              "      border-color: transparent;\n",
              "      border-left-color: var(--fill-color);\n",
              "      border-top-color: var(--fill-color);\n",
              "      border-right-color: var(--fill-color);\n",
              "    }\n",
              "    40% {\n",
              "      border-color: transparent;\n",
              "      border-right-color: var(--fill-color);\n",
              "      border-top-color: var(--fill-color);\n",
              "    }\n",
              "    60% {\n",
              "      border-color: transparent;\n",
              "      border-right-color: var(--fill-color);\n",
              "    }\n",
              "    80% {\n",
              "      border-color: transparent;\n",
              "      border-right-color: var(--fill-color);\n",
              "      border-bottom-color: var(--fill-color);\n",
              "    }\n",
              "    90% {\n",
              "      border-color: transparent;\n",
              "      border-bottom-color: var(--fill-color);\n",
              "    }\n",
              "  }\n",
              "</style>\n",
              "\n",
              "      <script>\n",
              "        async function quickchart(key) {\n",
              "          const quickchartButtonEl =\n",
              "            document.querySelector('#' + key + ' button');\n",
              "          quickchartButtonEl.disabled = true;  // To prevent multiple clicks.\n",
              "          quickchartButtonEl.classList.add('colab-df-spinner');\n",
              "          try {\n",
              "            const charts = await google.colab.kernel.invokeFunction(\n",
              "                'suggestCharts', [key], {});\n",
              "          } catch (error) {\n",
              "            console.error('Error during call to suggestCharts:', error);\n",
              "          }\n",
              "          quickchartButtonEl.classList.remove('colab-df-spinner');\n",
              "          quickchartButtonEl.classList.add('colab-df-quickchart-complete');\n",
              "        }\n",
              "        (() => {\n",
              "          let quickchartButtonEl =\n",
              "            document.querySelector('#df-05420333-d802-4653-889b-970e9ccd6898 button');\n",
              "          quickchartButtonEl.style.display =\n",
              "            google.colab.kernel.accessAllowed ? 'block' : 'none';\n",
              "        })();\n",
              "      </script>\n",
              "    </div>\n",
              "\n",
              "    </div>\n",
              "  </div>\n"
            ],
            "application/vnd.google.colaboratory.intrinsic+json": {
              "type": "dataframe",
              "variable_name": "data",
              "summary": "{\n  \"name\": \"data\",\n  \"rows\": 1217,\n  \"fields\": [\n    {\n      \"column\": \"news\",\n      \"properties\": {\n        \"dtype\": \"string\",\n        \"num_unique_values\": 1138,\n        \"samples\": [\n          \"Se anunci\\u00f3 una alianza estrat\\u00e9gica entre la fintech de soluciones financieras Omni Latam y JP Morgan para crear una plataforma que brinde soluciones financieras digitales para grandes empresas y pyme garantiz\\u00e1ndoles liquidez y acceso a capital de trabajo.La iniciativa busca proteger la cadena de suministro de los compradores frente a cualquier necesidad crediticia y desajuste de financiaci\\u00f3n. Se asegurar\\u00e1 que los proveedores tengan acceso a un programa de pagos anticipados de facturas.Con esta alianza combinamos las s\\u00f3lidas capacidades financieras de J.P. Morgan en Am\\u00e9rica Latina y la innovaci\\u00f3n tecnol\\u00f3gica de Omni Latam al servicio de las empresas proporcionando alternativas hechas a la medida de nuestros clientes que se adaptan tanto a compradores como a proveedores. El objetivo es facilitar el acceso al capital de trabajo adicional que necesitan para escalar sus negocios mejorando la estabilidad de la cadena de suministro as\\u00ed como su relaci\\u00f3n y reputaci\\u00f3n en el mercado dijo Diego Caicedo CEO  Cofundador de Omni Latam.Se espera que el acuerdo acelere la participaci\\u00f3n de JP Morgan en la regi\\u00f3n. La compa\\u00f1\\u00eda ya procesa cerca de 40 millones de transacciones diarias siendo el principal liquidador de d\\u00f3lares del mundo.Buscamos solventar las necesidades de los empresarios latinoamericanos por medio de soluciones de financiaci\\u00f3n de la cadena de suministro. Creemos que somos los mejor posicionados para atender esas necesidades de la mano de Omni Latam dijo Ignacio Munoz De Cote director de pagos para Latinoam\\u00e9rica en JP Morgan.\",\n          \"\\u00bfSon los filtros del agua realmente necesarios donde el acceso al agua potable est\\u00e1 garantizado? \\u00bfTienen beneficios para la salud y el medioambiente? Mientras en lugares sin agua potable, los filtros pueden significar una aut\\u00e9ntica revoluci\\u00f3n; en los hogares con agua de grifo potable, hay que tener en cuenta para qu\\u00e9 vas a utilizar las distintas tecnolog\\u00edas de filtrado. Importante: los filtros ayudan a solucionar el desaf\\u00edo del agua embotellada en pl\\u00e1stico, lo que contribuye con la sostenibilidad.\\r\\nTres \\u00e1tomos forman una mol\\u00e9cula sencilla. Dos hidr\\u00f3genos y un ox\\u00edgeno est\\u00e1n en la base de la revoluci\\u00f3n de la vida en nuestro planeta. Sin el agua no existir\\u00eda nada de lo que conocemos. Y, sin embargo, cuando abrimos el grifo y la dejamos correr no pensamos en esto. Lo damos por sentado, a pesar de que se trata de un bien m\\u00e1s escaso y con m\\u00e1s amenazas de lo que podr\\u00edamos pensar.\\r\\nEn el mundo, hoy, la mayor\\u00eda de las personas tienen acceso a agua potable. Sin embargo, seg\\u00fan la Organizaci\\u00f3n Mundial de la Salud, m\\u00e1s de 2000 millones de habitantes consumen a diario agua que tiene el potencial de estar contaminada. La diferencia, en la mayor\\u00eda de los casos, la marca la presencia de sistemas de filtrado, depuraci\\u00f3n y potabilizaci\\u00f3n industriales, as\\u00ed como controles que aseguran que beberla no implica riesgos para la salud.\\r\\nAdem\\u00e1s, siempre existe la posibilidad de instalar purificadores de agua a nivel dom\\u00e9stico. Pero \\u00bfson realmente necesarios en aquellos lugares donde el acceso al agua potable est\\u00e1 garantizado? \\u00bfQu\\u00e9 tipos existen y c\\u00f3mo funcionan? \\u00bfTienen realmente beneficios para la salud y el medioambiente?\\r\\nAgua limpia y saneamiento\\r\\nDurante tres d\\u00edas, diversos distritos de Lima y el Callao tendr\\u00e1n el servicio de agua restringido. Debido a este escenario, los peruanos tienen la oportunidad de reflexionar sobre los cuidados que se le debe dar al agua. A continuaci\\u00f3n, algunos consejos sobre qu\\u00e9 se debe hacer para ahorrarla y qu\\u00e9 trucos hay seguir cuando no se cuenta con muchas reservas.\\r\\n\\u201cLa variedad de part\\u00edculas que pueden ser encontradas dentro del agua de grifo es muy grande. Dependiendo de cada regi\\u00f3n e incluso dentro de la misma provincia puede cambiar notablemente, ya que los acu\\u00edferos y los procesos de tratamiento y transporte son distintos\\u201d, explica Alex Dakov, responsable de la ONG Oceanic Global y CEO de Agua NEA y Green Motive. Lo que s\\u00ed est\\u00e1 claro es que lo que habitualmente llamamos agua es mucho m\\u00e1s que hidr\\u00f3geno y ox\\u00edgeno.\\r\\nEn estado natural, el agua contiene microorganismos y multitud de part\\u00edculas en suspensi\\u00f3n y elementos qu\\u00edmicos disueltos que recoge de su entorno. A ellos se han sumado los micropl\\u00e1sticos, aunque su impacto en la salud todav\\u00eda no se ha logrado determinar. En los pa\\u00edses en los que el acceso al agua potable est\\u00e1 garantizado, se llevan a cabo una serie de procesos de filtrado y desinfecci\\u00f3n para garantizar que la mayor\\u00eda de estos elementos no acabe siendo ingerida. Aun as\\u00ed, existen otras razones por las que se puede querer instalar un filtro en casa.\\r\\n\\u201cCuando hablamos de agua, muchas veces influye un criterio por encima de otros: la percepci\\u00f3n del sabor. Un criterio totalmente subjetivo que cada persona siente o aplica de manera diferente\\u201d, a\\u00f1ade Dakov. \\u201cLas tecnolog\\u00edas de filtrado ayudan a modificar esa percepci\\u00f3n, y por tanto pueden ayudar a beber agua del grifo, pese a no ser necesario desde un punto de vista qu\\u00edmico\\u201d.\\r\\nLa cosa cambia si hablamos de lugares en los que el agua corriente no es potable o ni siquiera existe tal red de agua corriente. Aqu\\u00ed, un filtro puede marcar un antes y un despu\\u00e9s, aunque garantizar la potabilidad, desde un punto de vista qu\\u00edmico y biol\\u00f3gico, es m\\u00e1s complejo que instalar un sistema de filtrado. \\u201cPara muchas comunidades donde el acceso al agua potable es complicado, un filtro puede ser una aut\\u00e9ntica revoluci\\u00f3n. Puede facilitar el acceso a una fuente de vida b\\u00e1sica para el ser humano de una manera econ\\u00f3mica y universal\\u201d, subraya el responsable de Oceanic Global.\\r\\nGesti\\u00f3n del Agua\\r\\nEl agua es un elemento imprescindible para el d\\u00eda a d\\u00eda a cuyo consumo no se le presta la debida atenci\\u00f3n \\u2013salvo en los cada vez m\\u00e1s frecuentes momentos de sequ\\u00eda\\u2013 debido a que su acceso y precio son a\\u00fan muy asequibles para el servicio que presta. El aumento de la concienciaci\\u00f3n ecol\\u00f3gica que se vive de unos a\\u00f1os a esta parte no es, sin embargo, todav\\u00eda suficiente para que los h\\u00e1bitos de los ciudadanos se hayan adecuado a las crecientes necesidades de ahorro de agua que demandan los tiempos que corren. De ah\\u00ed que sea muy oportuno revisar una serie de consejos para controlar la utilizaci\\u00f3n del l\\u00edquido elemento.\\r\\nLos filtros de agua para el hogar han ganado en variedad y eficiencia en los \\u00faltimos a\\u00f1os. Van desde sistemas sencillos para eliminar olores o sabores hasta unidades de desinfecci\\u00f3n o de desmineralizaci\\u00f3n. Estas son las principales tecnolog\\u00edas de filtrado disponibles para uso dom\\u00e9stico en la actualidad, seg\\u00fan el Centro para el Control y la Prevenci\\u00f3n de Enfermedades (CDC) de Estados Unidos.\\r\\nPara elegir filtro, debemos tener en cuenta el tipo de agua de nuestra zona y el prop\\u00f3sito que vamos a darle al agua filtrada. \\u201cCada filtro tiene un uso y unas caracter\\u00edsticas; y no tenerlo en cuenta puede dar lugar a una modificaci\\u00f3n negativa para el agua que se bebe. Por ejemplo, no cambiar un filtro de carbono cuando corresponde, puede acabar contaminando el agua que se est\\u00e1 bebiendo\\u201d, explica Alex Dakov.\\r\\nCada a\\u00f1o generamos m\\u00e1s de 300 millones de toneladas de residuos pl\\u00e1sticos en todo el mundo. La mayor\\u00eda no se recicla (m\\u00e1s de un 80 %) y unos ocho millones de toneladas acaban en los oc\\u00e9anos, seg\\u00fan datos de la agencia medioambiental de la ONU. Cada a\\u00f1o, se producen cerca de 500.000 millones de botellas pl\\u00e1sticas para agua y otras bebidas, la mayor\\u00eda de las cuales acaban en nuestro entorno como basura. En entidades financieras como BBVA, el pl\\u00e1stico es una especie en extinci\\u00f3n.\\r\\nAgua limpia y saneamiento\\r\\nA Rosa Ancco todav\\u00eda le sorprende o\\u00edr en su casa el sonido del agua corriendo. La costumbre no le deja olvidar que hasta hace poco ba\\u00f1aba a sus hijos con botellas de agua caliente. No ha tenido una vida f\\u00e1cil, pero su deseo de darle a su familia un techo digno bajo el que vivir y el apoyo de la Fundaci\\u00f3n Microfinanzas BBVA han sido suficientes para conseguirlo.\\r\\nEl problema de los pl\\u00e1sticos es complejo y atiende a muchas causas, pero la falta de acceso a agua potable es una de ellas. Seg\\u00fan el \\u00faltimo informe de Ocean Panel, mejorar la gesti\\u00f3n del agua y el saneamiento en el mundo es una de las principales l\\u00edneas de acci\\u00f3n para reducir la contaminaci\\u00f3n pl\\u00e1stica (y mejorar la salud global).\\r\\n\\u201cUna de las mayores ventajas que tiene el agua del grifo es que reduce el impacto medioambiental que genera el agua embotellada\\u201d, subraya el CEO de Agua NEA.\\u00a0\\u201cNo solo por la incesante producci\\u00f3n de pl\\u00e1sticos que supone la fabricaci\\u00f3n de las botellas o garrafas, se estima que en el mundo se abren m\\u00e1s de un mill\\u00f3n de botellas de pl\\u00e1stico cada minuto, sino tambi\\u00e9n por los costes medioambientales de su transporte\\u201d.\\r\\nEn este sentido, los filtros de agua y, sobre todo, los aplicados para mejorar la red de agua potable de localidades que dependen en gran medida del agua embotellada, pueden ser una soluci\\u00f3n.\\u00a0 \\u201cUno de los retos a los que la humanidad se enfrentar\\u00e1 en este siglo ser\\u00e1 garantizar el acceso a agua potable para los 8.000 millones de personas que pronto poblaremos el planeta, sin que eso multiplique el problema que tenemos con los pl\\u00e1sticos\\u201d, a\\u00f1ade Dakov.\\r\\nDisponer de una fuente de agua potable en todos los hogares es esencial para la salud humana y del medioambiente. Y disfrutar de agua limpia y desag\\u00fces es un factor m\\u00e1s para luchar contra la desigualdad. En la medida en que reducen la dependencia del agua embotellada, los filtros de agua pueden suponer una de las soluciones a este desaf\\u00edo. Sin embargo, como ya hemos se\\u00f1alado, garantizar la potabilidad del agua desde un punto de vista qu\\u00edmico y biol\\u00f3gico es mucho m\\u00e1s complicado que instalar un filtro en casa.\",\n          \"Los presidentes de Iberia e Iberia Express y el consejero delegado de Cepsa han firmado hoy un acuerdo para avanzar en la descarbonizaci\\u00f3n del sector a\\u00e9reo a trav\\u00e9s del desarrollo e investigaci\\u00f3n de combustibles de origen sostenible y otras alternativas energ\\u00e9ticas como el hidr\\u00f3geno renovable y la electricidad para fomentar la movilidad sostenible de aviones y de la flota de veh\\u00edculos que les prestan servicios en aeropuertos.Para las tres compa\\u00f1\\u00edas el desarrollo de los combustibles de origen sostenible SAF son una prioridad para continuar avanzando hacia una industria cada vez m\\u00e1s baja en carbono y contribuir as\\u00ed a la consecuci\\u00f3n de la Agenda 2030. Este proyecto que contempla la investigaci\\u00f3n y pruebas en vuelo con SAF contribuye a los Objetivos para el Desarrollo Sostenible n\\u00famero 7 Garantizar el acceso a una energ\\u00eda asequible segura sostenible y moderna 8 Promover el crecimiento econ\\u00f3mico inclusivo y sostenible el empleo y el trabajo dignoy 13 adoptar medidas urgentes para combatir el cambio clim\\u00e1tico y sus efectos.Cepsa est\\u00e1 trabajando en un ambicioso plan para dar un giro verde a todos sus negocios y convertirse en un referente de la transici\\u00f3n energ\\u00e9tica en su sector. Adem\\u00e1s la compa\\u00f1\\u00eda cuenta con una amplia experiencia en este \\u00e1mbito lleva m\\u00e1s de 10 a\\u00f1os produciendo biocombustibles en sus centros industriales y desarrolla estudios pioneros a nivel mundial para convertir residuos y aceites usados en combustibles de origen renovable de alto valor energ\\u00e9tico.Para Maarten Wetselaar consejero delegado de Cepsa esta alianza muestra la apuesta de Cepsa por la sostenibilidad y la firme determinaci\\u00f3n de apoyar a nuestros clientes dot\\u00e1ndolos de soluciones viables que aceleren su transici\\u00f3n energ\\u00e9tica. Como referente en el suministro de combustibles para el sector a\\u00e9reo compartimos con el Grupo Iberia el objetivo com\\u00fan de impulsar la descarbonizaci\\u00f3n del transporte como herramienta de lucha contra el cambio clim\\u00e1tico.Como parte del Grupo IAG Iberia e Iberia Express se han comprometido a lograr cero emisiones netas en 2050 y a operar un m\\u00ednimo de un 10 de sus vuelos con combustibles de origen sostenible en 2030.Para la descarbonizaci\\u00f3n del sector a\\u00e9reo es imprescindible el desarrollo producci\\u00f3n y distribuci\\u00f3n de los combustibles de origen sostenible a precios asequibles y en cantidad suficiente para abastecer a las aerol\\u00edneas. Confiamos en que este acuerdo con Cepsa contribuya a ese objetivo ha comentado Javier S\\u00e1nchezPrieto presidente y CEO de Iberia.Combustibles sosteniblesLos biocombustibles para la aviaci\\u00f3n tienen un papel clave en la descarbonizaci\\u00f3n del turismo y del transporte a\\u00e9reo. En comparaci\\u00f3n con el combustible convencional el SAF puede reducir las emisiones de la aviaci\\u00f3n hasta en un 80 respecto al queroseno convencional durante todo su ciclo de vida seg\\u00fan la Asociaci\\u00f3n Internacional de Transporte A\\u00e9reo.Adem\\u00e1s aportan otros beneficios impulsa la econom\\u00eda circular aumenta la independencia energ\\u00e9tica y con ella la seguridad de suministro asegura el mantenimiento de un importante motor de la econom\\u00eda espa\\u00f1ola 200.000 empleos de calidad y puede utilizarse de manera inmediata sin necesidad de renovar la flota y aprovechando las infraestructuras de suministro actuales.Para la consecuci\\u00f3n del objetivo de crecimiento cero de las emisiones de carbono desde 2020 la Asociaci\\u00f3n del Transporte A\\u00e9reo Internacional IATA est\\u00e1 impulsando el uso de biocombustibles sostenibles entre otras iniciativas por su significativa reducci\\u00f3n de CO2.Este acuerdo entre Cepsa y el Grupo Iberia est\\u00e1 en l\\u00ednea con el conjunto de medidas Fit for 55 de la Comisi\\u00f3n Europea que incluye una iniciativa legislativa denominada RefuelEU Aviation que pretende impulsar la oferta y demanda de biocombustibles de aviaci\\u00f3n en la Uni\\u00f3n Europea alcanzando un uso de 2 en 2025 de 5 en 2030 y de 63 en 2050.\"\n        ],\n        \"semantic_type\": \"\",\n        \"description\": \"\"\n      }\n    }\n  ]\n}"
            }
          },
          "metadata": {},
          "execution_count": 5
        }
      ]
    },
    {
      "cell_type": "markdown",
      "source": [
        "El único paso de preprocesamiento necesario en nuestro caso es la construcción de características, en la que tomamos el texto de las noticias y los representamos en algún espacio de características manejable. En la práctica, esto significa simplemente convertir cada cadena en un vector numérico."
      ],
      "metadata": {
        "id": "NvzO12WgDK0h"
      }
    },
    {
      "cell_type": "code",
      "source": [
        "# Vectorizacion con stopwords en Spanish\n",
        "spanish_stop_words = stopwords.words('spanish')\n",
        "\n",
        "def preprocess(text):\n",
        "    # Minúsculas\n",
        "    text = text.lower()\n",
        "    # Tokenización simple\n",
        "    tokens = text.split()\n",
        "    # Eliminar stopwords\n",
        "    tokens = [t for t in tokens if t not in spanish_stop_words]\n",
        "    return \" \".join(tokens)\n",
        "\n",
        "data['clean_news'] = df['news'].astype(str).apply(preprocess)\n",
        "data[['news','clean_news']].head()"
      ],
      "metadata": {
        "colab": {
          "base_uri": "https://localhost:8080/",
          "height": 330
        },
        "id": "B3pnP0m8Xpbc",
        "outputId": "e17ed3d5-c9ea-4d77-c1d3-85872b19d51e"
      },
      "execution_count": 11,
      "outputs": [
        {
          "output_type": "stream",
          "name": "stderr",
          "text": [
            "/tmp/ipython-input-1066451209.py:13: SettingWithCopyWarning: \n",
            "A value is trying to be set on a copy of a slice from a DataFrame.\n",
            "Try using .loc[row_indexer,col_indexer] = value instead\n",
            "\n",
            "See the caveats in the documentation: https://pandas.pydata.org/pandas-docs/stable/user_guide/indexing.html#returning-a-view-versus-a-copy\n",
            "  data['clean_news'] = df['news'].astype(str).apply(preprocess)\n"
          ]
        },
        {
          "output_type": "execute_result",
          "data": {
            "text/plain": [
              "                                                news  \\\n",
              "0  Durante el foro La banca articulador empresari...   \n",
              "1  El regulador de valores de China dijo el domin...   \n",
              "2  En una industria históricamente masculina como...   \n",
              "3  Con el dato de marzo el IPC interanual encaden...   \n",
              "4  Ayer en Cartagena se dio inicio a la versión n...   \n",
              "\n",
              "                                          clean_news  \n",
              "0  foro banca articulador empresarial desarrollo ...  \n",
              "1  regulador valores china dijo domingo buscará c...  \n",
              "2  industria históricamente masculina aviación vi...  \n",
              "3  dato marzo ipc interanual encadena decimoquint...  \n",
              "4  ayer cartagena dio inicio versión número 56 co...  "
            ],
            "text/html": [
              "\n",
              "  <div id=\"df-ce1dc83c-f9ef-47fc-82da-6701d4b1f593\" class=\"colab-df-container\">\n",
              "    <div>\n",
              "<style scoped>\n",
              "    .dataframe tbody tr th:only-of-type {\n",
              "        vertical-align: middle;\n",
              "    }\n",
              "\n",
              "    .dataframe tbody tr th {\n",
              "        vertical-align: top;\n",
              "    }\n",
              "\n",
              "    .dataframe thead th {\n",
              "        text-align: right;\n",
              "    }\n",
              "</style>\n",
              "<table border=\"1\" class=\"dataframe\">\n",
              "  <thead>\n",
              "    <tr style=\"text-align: right;\">\n",
              "      <th></th>\n",
              "      <th>news</th>\n",
              "      <th>clean_news</th>\n",
              "    </tr>\n",
              "  </thead>\n",
              "  <tbody>\n",
              "    <tr>\n",
              "      <th>0</th>\n",
              "      <td>Durante el foro La banca articulador empresari...</td>\n",
              "      <td>foro banca articulador empresarial desarrollo ...</td>\n",
              "    </tr>\n",
              "    <tr>\n",
              "      <th>1</th>\n",
              "      <td>El regulador de valores de China dijo el domin...</td>\n",
              "      <td>regulador valores china dijo domingo buscará c...</td>\n",
              "    </tr>\n",
              "    <tr>\n",
              "      <th>2</th>\n",
              "      <td>En una industria históricamente masculina como...</td>\n",
              "      <td>industria históricamente masculina aviación vi...</td>\n",
              "    </tr>\n",
              "    <tr>\n",
              "      <th>3</th>\n",
              "      <td>Con el dato de marzo el IPC interanual encaden...</td>\n",
              "      <td>dato marzo ipc interanual encadena decimoquint...</td>\n",
              "    </tr>\n",
              "    <tr>\n",
              "      <th>4</th>\n",
              "      <td>Ayer en Cartagena se dio inicio a la versión n...</td>\n",
              "      <td>ayer cartagena dio inicio versión número 56 co...</td>\n",
              "    </tr>\n",
              "  </tbody>\n",
              "</table>\n",
              "</div>\n",
              "    <div class=\"colab-df-buttons\">\n",
              "\n",
              "  <div class=\"colab-df-container\">\n",
              "    <button class=\"colab-df-convert\" onclick=\"convertToInteractive('df-ce1dc83c-f9ef-47fc-82da-6701d4b1f593')\"\n",
              "            title=\"Convert this dataframe to an interactive table.\"\n",
              "            style=\"display:none;\">\n",
              "\n",
              "  <svg xmlns=\"http://www.w3.org/2000/svg\" height=\"24px\" viewBox=\"0 -960 960 960\">\n",
              "    <path d=\"M120-120v-720h720v720H120Zm60-500h600v-160H180v160Zm220 220h160v-160H400v160Zm0 220h160v-160H400v160ZM180-400h160v-160H180v160Zm440 0h160v-160H620v160ZM180-180h160v-160H180v160Zm440 0h160v-160H620v160Z\"/>\n",
              "  </svg>\n",
              "    </button>\n",
              "\n",
              "  <style>\n",
              "    .colab-df-container {\n",
              "      display:flex;\n",
              "      gap: 12px;\n",
              "    }\n",
              "\n",
              "    .colab-df-convert {\n",
              "      background-color: #E8F0FE;\n",
              "      border: none;\n",
              "      border-radius: 50%;\n",
              "      cursor: pointer;\n",
              "      display: none;\n",
              "      fill: #1967D2;\n",
              "      height: 32px;\n",
              "      padding: 0 0 0 0;\n",
              "      width: 32px;\n",
              "    }\n",
              "\n",
              "    .colab-df-convert:hover {\n",
              "      background-color: #E2EBFA;\n",
              "      box-shadow: 0px 1px 2px rgba(60, 64, 67, 0.3), 0px 1px 3px 1px rgba(60, 64, 67, 0.15);\n",
              "      fill: #174EA6;\n",
              "    }\n",
              "\n",
              "    .colab-df-buttons div {\n",
              "      margin-bottom: 4px;\n",
              "    }\n",
              "\n",
              "    [theme=dark] .colab-df-convert {\n",
              "      background-color: #3B4455;\n",
              "      fill: #D2E3FC;\n",
              "    }\n",
              "\n",
              "    [theme=dark] .colab-df-convert:hover {\n",
              "      background-color: #434B5C;\n",
              "      box-shadow: 0px 1px 3px 1px rgba(0, 0, 0, 0.15);\n",
              "      filter: drop-shadow(0px 1px 2px rgba(0, 0, 0, 0.3));\n",
              "      fill: #FFFFFF;\n",
              "    }\n",
              "  </style>\n",
              "\n",
              "    <script>\n",
              "      const buttonEl =\n",
              "        document.querySelector('#df-ce1dc83c-f9ef-47fc-82da-6701d4b1f593 button.colab-df-convert');\n",
              "      buttonEl.style.display =\n",
              "        google.colab.kernel.accessAllowed ? 'block' : 'none';\n",
              "\n",
              "      async function convertToInteractive(key) {\n",
              "        const element = document.querySelector('#df-ce1dc83c-f9ef-47fc-82da-6701d4b1f593');\n",
              "        const dataTable =\n",
              "          await google.colab.kernel.invokeFunction('convertToInteractive',\n",
              "                                                    [key], {});\n",
              "        if (!dataTable) return;\n",
              "\n",
              "        const docLinkHtml = 'Like what you see? Visit the ' +\n",
              "          '<a target=\"_blank\" href=https://colab.research.google.com/notebooks/data_table.ipynb>data table notebook</a>'\n",
              "          + ' to learn more about interactive tables.';\n",
              "        element.innerHTML = '';\n",
              "        dataTable['output_type'] = 'display_data';\n",
              "        await google.colab.output.renderOutput(dataTable, element);\n",
              "        const docLink = document.createElement('div');\n",
              "        docLink.innerHTML = docLinkHtml;\n",
              "        element.appendChild(docLink);\n",
              "      }\n",
              "    </script>\n",
              "  </div>\n",
              "\n",
              "\n",
              "    <div id=\"df-ca492a32-8efe-42f6-b9e1-b296cd33e1e8\">\n",
              "      <button class=\"colab-df-quickchart\" onclick=\"quickchart('df-ca492a32-8efe-42f6-b9e1-b296cd33e1e8')\"\n",
              "                title=\"Suggest charts\"\n",
              "                style=\"display:none;\">\n",
              "\n",
              "<svg xmlns=\"http://www.w3.org/2000/svg\" height=\"24px\"viewBox=\"0 0 24 24\"\n",
              "     width=\"24px\">\n",
              "    <g>\n",
              "        <path d=\"M19 3H5c-1.1 0-2 .9-2 2v14c0 1.1.9 2 2 2h14c1.1 0 2-.9 2-2V5c0-1.1-.9-2-2-2zM9 17H7v-7h2v7zm4 0h-2V7h2v10zm4 0h-2v-4h2v4z\"/>\n",
              "    </g>\n",
              "</svg>\n",
              "      </button>\n",
              "\n",
              "<style>\n",
              "  .colab-df-quickchart {\n",
              "      --bg-color: #E8F0FE;\n",
              "      --fill-color: #1967D2;\n",
              "      --hover-bg-color: #E2EBFA;\n",
              "      --hover-fill-color: #174EA6;\n",
              "      --disabled-fill-color: #AAA;\n",
              "      --disabled-bg-color: #DDD;\n",
              "  }\n",
              "\n",
              "  [theme=dark] .colab-df-quickchart {\n",
              "      --bg-color: #3B4455;\n",
              "      --fill-color: #D2E3FC;\n",
              "      --hover-bg-color: #434B5C;\n",
              "      --hover-fill-color: #FFFFFF;\n",
              "      --disabled-bg-color: #3B4455;\n",
              "      --disabled-fill-color: #666;\n",
              "  }\n",
              "\n",
              "  .colab-df-quickchart {\n",
              "    background-color: var(--bg-color);\n",
              "    border: none;\n",
              "    border-radius: 50%;\n",
              "    cursor: pointer;\n",
              "    display: none;\n",
              "    fill: var(--fill-color);\n",
              "    height: 32px;\n",
              "    padding: 0;\n",
              "    width: 32px;\n",
              "  }\n",
              "\n",
              "  .colab-df-quickchart:hover {\n",
              "    background-color: var(--hover-bg-color);\n",
              "    box-shadow: 0 1px 2px rgba(60, 64, 67, 0.3), 0 1px 3px 1px rgba(60, 64, 67, 0.15);\n",
              "    fill: var(--button-hover-fill-color);\n",
              "  }\n",
              "\n",
              "  .colab-df-quickchart-complete:disabled,\n",
              "  .colab-df-quickchart-complete:disabled:hover {\n",
              "    background-color: var(--disabled-bg-color);\n",
              "    fill: var(--disabled-fill-color);\n",
              "    box-shadow: none;\n",
              "  }\n",
              "\n",
              "  .colab-df-spinner {\n",
              "    border: 2px solid var(--fill-color);\n",
              "    border-color: transparent;\n",
              "    border-bottom-color: var(--fill-color);\n",
              "    animation:\n",
              "      spin 1s steps(1) infinite;\n",
              "  }\n",
              "\n",
              "  @keyframes spin {\n",
              "    0% {\n",
              "      border-color: transparent;\n",
              "      border-bottom-color: var(--fill-color);\n",
              "      border-left-color: var(--fill-color);\n",
              "    }\n",
              "    20% {\n",
              "      border-color: transparent;\n",
              "      border-left-color: var(--fill-color);\n",
              "      border-top-color: var(--fill-color);\n",
              "    }\n",
              "    30% {\n",
              "      border-color: transparent;\n",
              "      border-left-color: var(--fill-color);\n",
              "      border-top-color: var(--fill-color);\n",
              "      border-right-color: var(--fill-color);\n",
              "    }\n",
              "    40% {\n",
              "      border-color: transparent;\n",
              "      border-right-color: var(--fill-color);\n",
              "      border-top-color: var(--fill-color);\n",
              "    }\n",
              "    60% {\n",
              "      border-color: transparent;\n",
              "      border-right-color: var(--fill-color);\n",
              "    }\n",
              "    80% {\n",
              "      border-color: transparent;\n",
              "      border-right-color: var(--fill-color);\n",
              "      border-bottom-color: var(--fill-color);\n",
              "    }\n",
              "    90% {\n",
              "      border-color: transparent;\n",
              "      border-bottom-color: var(--fill-color);\n",
              "    }\n",
              "  }\n",
              "</style>\n",
              "\n",
              "      <script>\n",
              "        async function quickchart(key) {\n",
              "          const quickchartButtonEl =\n",
              "            document.querySelector('#' + key + ' button');\n",
              "          quickchartButtonEl.disabled = true;  // To prevent multiple clicks.\n",
              "          quickchartButtonEl.classList.add('colab-df-spinner');\n",
              "          try {\n",
              "            const charts = await google.colab.kernel.invokeFunction(\n",
              "                'suggestCharts', [key], {});\n",
              "          } catch (error) {\n",
              "            console.error('Error during call to suggestCharts:', error);\n",
              "          }\n",
              "          quickchartButtonEl.classList.remove('colab-df-spinner');\n",
              "          quickchartButtonEl.classList.add('colab-df-quickchart-complete');\n",
              "        }\n",
              "        (() => {\n",
              "          let quickchartButtonEl =\n",
              "            document.querySelector('#df-ca492a32-8efe-42f6-b9e1-b296cd33e1e8 button');\n",
              "          quickchartButtonEl.style.display =\n",
              "            google.colab.kernel.accessAllowed ? 'block' : 'none';\n",
              "        })();\n",
              "      </script>\n",
              "    </div>\n",
              "\n",
              "    </div>\n",
              "  </div>\n"
            ],
            "application/vnd.google.colaboratory.intrinsic+json": {
              "type": "dataframe",
              "summary": "{\n  \"name\": \"data[['news','clean_news']]\",\n  \"rows\": 5,\n  \"fields\": [\n    {\n      \"column\": \"news\",\n      \"properties\": {\n        \"dtype\": \"string\",\n        \"num_unique_values\": 5,\n        \"samples\": [\n          \"El regulador de valores de China dijo el domingo que buscar\\u00e1 una cooperaci\\u00f3n m\\u00e1s estrecha con su par estadounidense y que apoyar\\u00e1 las salidas a bolsa en el extranjero luego de que supervisores estadounidenses endurecieron las exigencias de divulgaci\\u00f3n de informaci\\u00f3n para las empresas chinas y expresaron preocupaci\\u00f3n por medidas de Pek\\u00edn.La Comisi\\u00f3n Reguladora de Valores de China CSRC dijo en un comunicado que tom\\u00f3 nota de los nuevos requisitos de la Comisi\\u00f3n de Valores de Estados Unidos SEC para las empresas chinas y que ambas partes deber\\u00edan mantener el esp\\u00edritu de respeto mutuo y reforzar las comunicaciones sobre la regulaci\\u00f3n.La CSRC siempre ha estado abierta a que las empresas elijan d\\u00f3nde salir a bolsa y la pol\\u00edtica nacional b\\u00e1sica de China de avanzar en la reforma y la apertura es inquebrantable y la apertura financiera al mundo exterior continuar\\u00e1 dijo en su sitio web.La SEC hab\\u00eda dicho el viernes que exigir\\u00e1 a las compa\\u00f1\\u00edas chinas que revelen la incertidumbre sobre futuras acciones del gobierno de China que puedan afectar significativamente a los resultados financieros de la empresa antes de permitirles captar capital en los mercados de valores estadounidenses.Los emisores chinos tambi\\u00e9n deben revelar si se les deneg\\u00f3 el permiso de las autoridades chinas para cotizar en las bolsas estadounidenses y los riesgos de que dicha aprobaci\\u00f3n pueda ser denegada o rescindida a\\u00f1adi\\u00f3 la SEC.China ha reforzado su control regulatorio sobre la emisi\\u00f3n de acciones en el extranjero despu\\u00e9s de que lanz\\u00f3 una investigaci\\u00f3n de ciberseguridad sobre el gigante del transporte Didi Global Inc el mes pasado apenas unos d\\u00edas despu\\u00e9s de su cotizaci\\u00f3n en Nueva York.El gabinete chino dijo el 6 de julio que reforzar\\u00eda la supervisi\\u00f3n de todas las empresas chinas que cotizan en el extranjero.El regulador del ciberespacio chino dijo que cualquier empresa con datos de m\\u00e1s de un mill\\u00f3n de usuarios debe someterse a una revisi\\u00f3n de ciberseguridad antes de cotizar en el extranjero.El banco central de China tambi\\u00e9n ha dicho que las empresas de pago no bancarias deben informar de sus planes de cotizar en el extranjero.\",\n          \"Ayer en Cartagena se dio inicio a la versi\\u00f3n n\\u00famero 56 de la Convenci\\u00f3n Bancaria. Este ser\\u00e1 el primer encuentro de los banqueros del pa\\u00eds con el presidente Gustavo Petro quien estar\\u00e1 en la sesi\\u00f3n de clausura el pr\\u00f3ximo viernes.Mario Pardo Bayona el presidente de la Junta Directiva de Asobancaria y presidente de Bbva Colombia dio inicio a la sesi\\u00f3n de apertura destacando que a pesar de los avances econ\\u00f3micos y financieros del pa\\u00eds a\\u00fan existe un reto clave reducir las inequidades.En ese sentido el directivo propuso cinco objetivos desde la banca. Como primer punto resalt\\u00f3 la importancia de seguir financiando infraestructura de telecomunicaciones energ\\u00eda agua y alcantarillado que faciliten la vida y la provisi\\u00f3n de servicios en la ruralidad.Como segundo y tercer punto ser\\u00eda clave seguir comprometidos con la bancarizaci\\u00f3n y aumentar el acceso al cr\\u00e9dito pues solo 34 de los adultos y 31 de las Pyme en Colombia acceden al cr\\u00e9dito formal. Sustituir el gota a gota por el cr\\u00e9dito formal es el mejor instrumento para que los colombianos puedan materializar sus sue\\u00f1os y para reducir la pobreza de los microempresarios dijo el directivo.Otro objetivo es trabajar para que los productos financieros cada vez sean m\\u00e1s econ\\u00f3micos aprovechando la digitalizaci\\u00f3n. Como \\u00faltimo punto se debe garantizar que los avances lleguen a todos. A las poblaciones negras raizales palenqueras ind\\u00edgenas mujeres cabeza de familia campesinos j\\u00f3venes discapacitados migrantes etc. Para ello debemos trabajar con el Estado en identificar y derribar las barreras que existan y desde el sector debemos medir publicar y comprometer cifras con los avances en los servicios a estos segmentos poblacionales se\\u00f1al\\u00f3 Pardo.A su turno el gerente general del Banco de la Rep\\u00fablica Leonardo Villar resalt\\u00f3 el papel de la banca durante la pandemia. Las cifras a julio excluyendo la cartera de moneda extranjera muestran tasas de crecimiento de 17 en el cr\\u00e9dito agregado y cercanas a 23 en la cartera para los consumidores. Sin embargo asegur\\u00f3 que dicho crecimiento tiene su contrapartida en el mayor endeudamiento de los consumidores y las empresas por lo que el aumento de las tasas se reflejar\\u00eda en un incremento de la carga financiera.De hecho el superintendente financiero Jorge Casta\\u00f1o advirti\\u00f3 un aumento de los cupos de las tarjetas de cr\\u00e9dito y el deterioro de las originaciones nuevas. El problema es el sobreendeudamiento que las familias puedan tener al acceder a esos cupos altos de tarjetas de cr\\u00e9ditos. La Superintendencia Financiera est\\u00e1 viendo que la carga financiera de los hogares ha empezado a aumentar. La porci\\u00f3n de dinero que las familias utilizan para pagar sus deudas est\\u00e1 empezando a crecer. Si a esto le agregamos el efecto de la inflaci\\u00f3n va a haber una mayor presi\\u00f3n en la capacidad de pago. Nuestro mensaje es que sigamos siendo muy responsables en el uso de los cr\\u00e9ditos asegur\\u00f3 Casta\\u00f1o.Durante la apertura del evento el gerente del Emisor tambi\\u00e9n se refiri\\u00f3 al avance de los pagos digitales y asegur\\u00f3 que tomamos la decisi\\u00f3n de avanzar hacia un sistema de transferencias digitales inmediatas seguras y eficientes que sea totalmente interoperable y que contribuya a la competitividad de los mercados y el desarrollo del pa\\u00eds.Frente al anuncio que hizo el director de la Dian Luis Carlos Reyes sobre avanzar en la emisi\\u00f3n de una moneda digital Villar asegur\\u00f3 que a inicios de agosto se instal\\u00f3 un foro para avanzar en las decisiones urgentes relacionadas con los pagos inmediatos y que dicho foro servir\\u00e1 como insumo para en un futuro tomar la decisi\\u00f3n sobre emitir o no una moneda digital.Un reto del Estado es seguir ofreciendo garant\\u00edas para facilitar el acceso al cr\\u00e9dito de las mujeres esquema donde todav\\u00eda hay brechas a favor de los hombres.Confiamos en que el foro se convierta en una herramienta para avanzar en las decisiones que tenemos en los pagos inmediatos. Nuestro referente m\\u00e1s cercano es el sistema Pix que se ha desarrollado en Brasil donde tras solo dos a\\u00f1os de operaci\\u00f3n m\\u00e1s de 70 de los adultos utiliza el sistema para sus pagos . Este mismo foro podr\\u00e1 servirnos para avanzar en el dise\\u00f1os de esquemas que ampl\\u00eden la oferta de pagos transfronterizos y as\\u00ed evaluar la conveniencia de emitir una moneda digital del Banco Central dijo Villar.Asobancaria cambi\\u00f3 su marca y eslogan despu\\u00e9s de m\\u00e1s de 50 a\\u00f1osEn el inicio de la Convenci\\u00f3n Bancaria en Cartagena Asobancaria anunci\\u00f3 la renovaci\\u00f3n de su logo por primera vez en 50 a\\u00f1os y su slogan que ahora se refiere a acercar la banca a los colombianos.Lo anterior indic\\u00f3 su presidente Hernando Jos\\u00e9 G\\u00f3mez como reflejo de la transformaci\\u00f3n que ha experimentado el sector financiero y de su compromiso con el pa\\u00eds. Seg\\u00fan el dirigente gremial la marca busca reflejar el apoyo al desarrollo sostenible del pa\\u00eds y la construcci\\u00f3n de caminos hacia un futuro compartido.\",\n          \"En una industria hist\\u00f3ricamente masculina como lo es la aviaci\\u00f3n Viva present\\u00f3 su avi\\u00f3n rosado A320NEO que apuesta por la equidad de g\\u00e9nero la lucha contra el c\\u00e1ncer de mama la inclusi\\u00f3n y la diversidad.Desde Francia lleg\\u00f3 Go Pink que tuvo un precio promedio de US50 millones convirti\\u00e9ndose en la aeronave n\\u00famero 20 de las 21 con las que finalizar\\u00e1 el a\\u00f1o esta aerol\\u00ednea.En Viva estamos trabajando muy fuerte para que haya m\\u00e1s mujeres. Actualmente el grupo ejecutivo est\\u00e1 compuesto por 42 mujeres pero la meta es llegar en 2022 con 50 de ellas en nuestro staff se\\u00f1al\\u00f3 F\\u00e9lix Antelo CEO de Viva.Asimismo agreg\\u00f3 que est\\u00e1n evaluando traer otro avi\\u00f3n con esta propuesta para el pr\\u00f3ximo a\\u00f1o as\\u00ed como proyectan un crecimiento de 60 en sillas para el \\u00faltimo trimestre de 2021 en comparaci\\u00f3n con el mismo periodo de 2019.Vamos a estar moviendo m\\u00e1s de dos millones de pasajeros para finalizar el a\\u00f1o es un n\\u00famero ambicioso pero estamos contentos por la reacci\\u00f3n del mercado y porque muchos pasajeros est\\u00e1n eligiendo a Viva por la flota nueva la nueva imagen y los precios bajos dijo.Sobre los planes de expansi\\u00f3n internacional de la compa\\u00f1\\u00eda la aerol\\u00ednea continuar\\u00e1 creciendo pues proyectan abrir 15 rutas en tres a\\u00f1os.Tenemos una buena apuesta por Florida Nueva York Rep\\u00fablica Dominicana y Buenos Aires probablemente para el pr\\u00f3ximo a\\u00f1o cont\\u00f3 Declan Ryan presidente del Grupo Viva.Del mismo modo revel\\u00f3 que se estudia una alianza con Viva Aerobus la aerol\\u00ednea mexicana que recientemente empez\\u00f3 a operar en Colombia.Viva Aerobus es como un hijo para m\\u00ed. Juan Carlos el CEO es un gran amigo y seguramente vamos a trabajar con ellos. Es algo que se contempla.Teniendo en cuenta la entrada de m\\u00e1s empresas al modelo de low cost muchos cuestionan si la industria va camino a ser solo de este nicho no obstante es algo que no podr\\u00e1n asumir todas las aerol\\u00edneas seg\\u00fan Ryan.En promedio las personas ahorran US50 al viajar con modelo de bajo costo es decir US14 billones han sido ahorrados por los colombianos. Sin embargo la historia de la aviaci\\u00f3n nos ha mostrado que cuando las grandes aerol\\u00edneas tratan de trabajar bajo el modelo de low cost no les funciona por sus costos.\"\n        ],\n        \"semantic_type\": \"\",\n        \"description\": \"\"\n      }\n    },\n    {\n      \"column\": \"clean_news\",\n      \"properties\": {\n        \"dtype\": \"string\",\n        \"num_unique_values\": 5,\n        \"samples\": [\n          \"regulador valores china dijo domingo buscar\\u00e1 cooperaci\\u00f3n estrecha par estadounidense apoyar\\u00e1 salidas bolsa extranjero luego supervisores estadounidenses endurecieron exigencias divulgaci\\u00f3n informaci\\u00f3n empresas chinas expresaron preocupaci\\u00f3n medidas pek\\u00edn.la comisi\\u00f3n reguladora valores china csrc dijo comunicado tom\\u00f3 nota nuevos requisitos comisi\\u00f3n valores unidos sec empresas chinas ambas partes deber\\u00edan mantener esp\\u00edritu respeto mutuo reforzar comunicaciones regulaci\\u00f3n.la csrc siempre abierta empresas elijan d\\u00f3nde salir bolsa pol\\u00edtica nacional b\\u00e1sica china avanzar reforma apertura inquebrantable apertura financiera mundo exterior continuar\\u00e1 dijo sitio web.la sec dicho viernes exigir\\u00e1 compa\\u00f1\\u00edas chinas revelen incertidumbre futuras acciones gobierno china puedan afectar significativamente resultados financieros empresa permitirles captar capital mercados valores estadounidenses.los emisores chinos deben revelar si deneg\\u00f3 permiso autoridades chinas cotizar bolsas estadounidenses riesgos dicha aprobaci\\u00f3n pueda ser denegada rescindida a\\u00f1adi\\u00f3 sec.china reforzado control regulatorio emisi\\u00f3n acciones extranjero despu\\u00e9s lanz\\u00f3 investigaci\\u00f3n ciberseguridad gigante transporte didi global inc mes pasado apenas d\\u00edas despu\\u00e9s cotizaci\\u00f3n nueva york.el gabinete chino dijo 6 julio reforzar\\u00eda supervisi\\u00f3n todas empresas chinas cotizan extranjero.el regulador ciberespacio chino dijo cualquier empresa datos mill\\u00f3n usuarios debe someterse revisi\\u00f3n ciberseguridad cotizar extranjero.el banco central china dicho empresas pago bancarias deben informar planes cotizar extranjero.\",\n          \"ayer cartagena dio inicio versi\\u00f3n n\\u00famero 56 convenci\\u00f3n bancaria. primer encuentro banqueros pa\\u00eds presidente gustavo petro sesi\\u00f3n clausura pr\\u00f3ximo viernes.mario pardo bayona presidente junta directiva asobancaria presidente bbva colombia dio inicio sesi\\u00f3n apertura destacando pesar avances econ\\u00f3micos financieros pa\\u00eds a\\u00fan existe reto clave reducir inequidades.en directivo propuso cinco objetivos banca. primer punto resalt\\u00f3 importancia seguir financiando infraestructura telecomunicaciones energ\\u00eda agua alcantarillado faciliten vida provisi\\u00f3n servicios ruralidad.como segundo tercer punto clave seguir comprometidos bancarizaci\\u00f3n aumentar acceso cr\\u00e9dito pues solo 34 adultos 31 pyme colombia acceden cr\\u00e9dito formal. sustituir gota gota cr\\u00e9dito formal mejor instrumento colombianos puedan materializar sue\\u00f1os reducir pobreza microempresarios dijo directivo.otro objetivo trabajar productos financieros cada vez econ\\u00f3micos aprovechando digitalizaci\\u00f3n. \\u00faltimo punto debe garantizar avances lleguen todos. poblaciones negras raizales palenqueras ind\\u00edgenas mujeres cabeza familia campesinos j\\u00f3venes discapacitados migrantes etc. ello debemos trabajar identificar derribar barreras existan sector debemos medir publicar comprometer cifras avances servicios segmentos poblacionales se\\u00f1al\\u00f3 pardo.a turno gerente general banco rep\\u00fablica leonardo villar resalt\\u00f3 papel banca pandemia. cifras julio excluyendo cartera moneda extranjera muestran tasas crecimiento 17 cr\\u00e9dito agregado cercanas 23 cartera consumidores. embargo asegur\\u00f3 dicho crecimiento contrapartida mayor endeudamiento consumidores empresas aumento tasas reflejar\\u00eda incremento carga financiera.de hecho superintendente financiero jorge casta\\u00f1o advirti\\u00f3 aumento cupos tarjetas cr\\u00e9dito deterioro originaciones nuevas. problema sobreendeudamiento familias puedan tener acceder cupos altos tarjetas cr\\u00e9ditos. superintendencia financiera viendo carga financiera hogares empezado aumentar. porci\\u00f3n dinero familias utilizan pagar deudas empezando crecer. si agregamos efecto inflaci\\u00f3n va haber mayor presi\\u00f3n capacidad pago. mensaje sigamos siendo responsables uso cr\\u00e9ditos asegur\\u00f3 casta\\u00f1o.durante apertura evento gerente emisor refiri\\u00f3 avance pagos digitales asegur\\u00f3 tomamos decisi\\u00f3n avanzar hacia sistema transferencias digitales inmediatas seguras eficientes totalmente interoperable contribuya competitividad mercados desarrollo pa\\u00eds.frente anuncio hizo director dian luis carlos reyes avanzar emisi\\u00f3n moneda digital villar asegur\\u00f3 inicios agosto instal\\u00f3 foro avanzar decisiones urgentes relacionadas pagos inmediatos dicho foro servir\\u00e1 insumo futuro tomar decisi\\u00f3n emitir moneda digital.un reto seguir ofreciendo garant\\u00edas facilitar acceso cr\\u00e9dito mujeres esquema todav\\u00eda brechas favor hombres.confiamos foro convierta herramienta avanzar decisiones pagos inmediatos. referente cercano sistema pix desarrollado brasil tras solo dos a\\u00f1os operaci\\u00f3n 70 adultos utiliza sistema pagos . mismo foro podr\\u00e1 servirnos avanzar dise\\u00f1os esquemas ampl\\u00eden oferta pagos transfronterizos as\\u00ed evaluar conveniencia emitir moneda digital banco central dijo villar.asobancaria cambi\\u00f3 marca eslogan despu\\u00e9s 50 a\\u00f1osen inicio convenci\\u00f3n bancaria cartagena asobancaria anunci\\u00f3 renovaci\\u00f3n logo primera vez 50 a\\u00f1os slogan ahora refiere acercar banca colombianos.lo anterior indic\\u00f3 presidente hernando jos\\u00e9 g\\u00f3mez reflejo transformaci\\u00f3n experimentado sector financiero compromiso pa\\u00eds. seg\\u00fan dirigente gremial marca busca reflejar apoyo desarrollo sostenible pa\\u00eds construcci\\u00f3n caminos hacia futuro compartido.\",\n          \"industria hist\\u00f3ricamente masculina aviaci\\u00f3n viva present\\u00f3 avi\\u00f3n rosado a320neo apuesta equidad g\\u00e9nero lucha c\\u00e1ncer mama inclusi\\u00f3n diversidad.desde francia lleg\\u00f3 go pink precio promedio us50 millones convirti\\u00e9ndose aeronave n\\u00famero 20 21 finalizar\\u00e1 a\\u00f1o aerol\\u00ednea.en viva trabajando fuerte mujeres. actualmente grupo ejecutivo compuesto 42 mujeres meta llegar 2022 50 staff se\\u00f1al\\u00f3 f\\u00e9lix antelo ceo viva.asimismo agreg\\u00f3 evaluando traer avi\\u00f3n propuesta pr\\u00f3ximo a\\u00f1o as\\u00ed proyectan crecimiento 60 sillas \\u00faltimo trimestre 2021 comparaci\\u00f3n mismo periodo 2019.vamos moviendo dos millones pasajeros finalizar a\\u00f1o n\\u00famero ambicioso contentos reacci\\u00f3n mercado pasajeros eligiendo viva flota nueva nueva imagen precios bajos dijo.sobre planes expansi\\u00f3n internacional compa\\u00f1\\u00eda aerol\\u00ednea continuar\\u00e1 creciendo pues proyectan abrir 15 rutas tres a\\u00f1os.tenemos buena apuesta florida nueva york rep\\u00fablica dominicana buenos aires probablemente pr\\u00f3ximo a\\u00f1o cont\\u00f3 declan ryan presidente grupo viva.del mismo modo revel\\u00f3 estudia alianza viva aerobus aerol\\u00ednea mexicana recientemente empez\\u00f3 operar colombia.viva aerobus hijo m\\u00ed. juan carlos ceo gran amigo seguramente vamos trabajar ellos. contempla.teniendo cuenta entrada empresas modelo low cost cuestionan si industria va camino ser solo nicho obstante podr\\u00e1n asumir todas aerol\\u00edneas seg\\u00fan ryan.en promedio personas ahorran us50 viajar modelo bajo costo decir us14 billones sido ahorrados colombianos. embargo historia aviaci\\u00f3n mostrado grandes aerol\\u00edneas tratan trabajar bajo modelo low cost funciona costos.\"\n        ],\n        \"semantic_type\": \"\",\n        \"description\": \"\"\n      }\n    }\n  ]\n}"
            }
          },
          "metadata": {},
          "execution_count": 11
        }
      ]
    },
    {
      "cell_type": "code",
      "source": [
        "vectorizer = CountVectorizer(stop_words=spanish_stop_words, max_features=40000)\n",
        "document_term_matrix = vectorizer.fit_transform(data['clean_news'])\n",
        "\n",
        "# Obtener el vocabulario\n",
        "vocabulary = vectorizer.get_feature_names_out()\n",
        "\n",
        "# Ejemplo: Obtener el vector de un texto específico\n",
        "text_to_vectorize = data['news'].iloc[0]  # Obtener el primer texto\n",
        "text_vector = vectorizer.transform([text_to_vectorize]).toarray()\n",
        "\n",
        "print('Vector del texto:', text_vector)\n",
        "print('Vocabulario:', vocabulary)"
      ],
      "metadata": {
        "colab": {
          "base_uri": "https://localhost:8080/"
        },
        "id": "0KhmFalQEDCe",
        "outputId": "924a3e2f-fd2b-4c5f-e944-ddf21d6ecfb6"
      },
      "execution_count": 12,
      "outputs": [
        {
          "output_type": "stream",
          "name": "stdout",
          "text": [
            "Vector del texto: [[0 0 0 ... 0 0 0]]\n",
            "Vocabulario: ['00' '000' '000a' ... 'úrsula' 'útil' 'útiles']\n"
          ]
        }
      ]
    },
    {
      "cell_type": "markdown",
      "source": [
        "# **Modelamiento**"
      ],
      "metadata": {
        "id": "A2-Jc55IE2Qb"
      }
    },
    {
      "cell_type": "markdown",
      "source": [
        "## **Latent Semantic Analysis**"
      ],
      "metadata": {
        "id": "NjdMi5mUItDE"
      }
    },
    {
      "cell_type": "markdown",
      "source": [
        "LSA es una técnica de procesamiento de lenguaje natural que utiliza la descomposición en valores singulares (SVD) para analizar las relaciones entre un conjunto de documentos y los términos que contienen. Su objetivo es reducir la dimensionalidad de la matriz documento-término, capturando la estructura semántica latente y los temas subyacentes. Aquí, cada tópico se derivará de patrones de co-ocurrencia de palabras.\n",
        "\n",
        "Procederemos a aplicar LSA para identificar un número inicial de tópicos y luego examinaremos las palabras más representativas de cada uno."
      ],
      "metadata": {
        "id": "ahd5-PTyeeKu"
      }
    },
    {
      "cell_type": "code",
      "source": [
        "#Escogemos un valor predeterminado de 4 tópicos\n",
        "n_topics = 4\n",
        "\n",
        "lsa_model = TruncatedSVD(n_components=n_topics)\n",
        "lsa_topic_matrix = lsa_model.fit_transform(document_term_matrix)"
      ],
      "metadata": {
        "id": "hFO9V03dGII2"
      },
      "execution_count": 13,
      "outputs": []
    },
    {
      "cell_type": "code",
      "source": [
        "# Dfunciones de ayuda\n",
        "def get_keys(topic_matrix):\n",
        "    '''\n",
        "    returns an integer list of predicted topic\n",
        "    categories for a given topic matrix\n",
        "    '''\n",
        "    keys = topic_matrix.argmax(axis=1).tolist()\n",
        "    return keys\n",
        "\n",
        "def keys_to_counts(keys):\n",
        "    '''\n",
        "    returns a tuple of topic categories and their\n",
        "    accompanying magnitudes for a given list of keys\n",
        "    '''\n",
        "    count_pairs = Counter(keys).items()\n",
        "    categories = [pair[0] for pair in count_pairs]\n",
        "    counts = [pair[1] for pair in count_pairs]\n",
        "    return (categories, counts)\n",
        "\n",
        "def get_top_n_words(n, keys, document_term_matrix, count_vectorizer):\n",
        "    '''\n",
        "    returns a list of n_topic strings, where each string contains the n most common\n",
        "    words in a predicted category, in order\n",
        "    '''\n",
        "    top_word_indices = []\n",
        "    for topic in range(n_topics):\n",
        "        temp_vector_sum = 0\n",
        "        for i in range(len(keys)):\n",
        "            if keys[i] == topic:\n",
        "                temp_vector_sum += document_term_matrix[i]\n",
        "        temp_vector_sum = temp_vector_sum.toarray()\n",
        "        top_n_word_indices = np.flip(np.argsort(temp_vector_sum)[0][-n:],0)\n",
        "        top_word_indices.append(top_n_word_indices)\n",
        "    top_words = []\n",
        "    for topic in top_word_indices:\n",
        "        topic_words = []\n",
        "        for index in topic:\n",
        "            temp_word_vector = np.zeros((1,document_term_matrix.shape[1]))\n",
        "            temp_word_vector[:,index] = 1\n",
        "            the_word = count_vectorizer.inverse_transform(temp_word_vector)[0][0]\n",
        "            topic_words.append(the_word.encode('utf-8').decode('utf-8'))\n",
        "        top_words.append(\" \".join(topic_words))\n",
        "    return top_words"
      ],
      "metadata": {
        "id": "ixr0InQNGtmk"
      },
      "execution_count": 14,
      "outputs": []
    },
    {
      "cell_type": "code",
      "source": [
        "lsa_keys = get_keys(lsa_topic_matrix)\n",
        "lsa_categories, lsa_counts = keys_to_counts(lsa_keys)"
      ],
      "metadata": {
        "id": "gmUJCcr0Gvo6"
      },
      "execution_count": 15,
      "outputs": []
    },
    {
      "cell_type": "code",
      "source": [
        "top_n_words_lsa = get_top_n_words(10, lsa_keys, document_term_matrix, vectorizer)\n",
        "\n",
        "for i in range(len(top_n_words_lsa)):\n",
        "    print(\"Topic {}: \".format(i+1), top_n_words_lsa[i])"
      ],
      "metadata": {
        "colab": {
          "base_uri": "https://localhost:8080/"
        },
        "id": "hh8CC1_vG-aO",
        "outputId": "98be6f11-9369-4354-c87c-9eb7470e2029"
      },
      "execution_count": 16,
      "outputs": [
        {
          "output_type": "stream",
          "name": "stdout",
          "text": [
            "Topic 1:  bbva millones año empresas banco clientes colombia país crecimiento además\n",
            "Topic 2:  inflación precios año alimentos ipc mes puntos tasa aumento variación\n",
            "Topic 3:  energía agua electricidad eléctrica puede consumo solar renovables energías según\n",
            "Topic 4:  datos información clientes ciencia modelos learning forma machine empresas aprendizaje\n"
          ]
        }
      ]
    },
    {
      "cell_type": "markdown",
      "source": [
        "Así, tenemos una lista de categorías temáticas previstas, en la que cada categoría se caracteriza por sus palabras más frecuentes.\n",
        "\n",
        "El gráfico de barras mostrará la cantidad de noticias asignadas a cada tópico."
      ],
      "metadata": {
        "id": "B8qqfLl2HiWk"
      }
    },
    {
      "cell_type": "code",
      "source": [
        "top_n_words = get_top_n_words(5, lsa_keys, document_term_matrix, vectorizer)\n",
        "labels = ['Topic {}: \\n'.format(i) + top_n_words[i] for i in lsa_categories]\n",
        "\n",
        "print(\"Topic Labels:\")\n",
        "for i, category in enumerate(lsa_categories):\n",
        "    label = \"Topic {}: \\n\".format(i) + top_n_words[i]\n",
        "    print(label)\n",
        "\n",
        "# Create the bar chart with unformatted category labels\n",
        "fig, ax = plt.subplots(figsize=(16, 8))\n",
        "ax.bar(lsa_categories, lsa_counts);\n",
        "ax.set_xticks(lsa_categories);\n",
        "ax.set_xlabel('Topic Category');  # Change label to 'Topic Category'\n",
        "ax.set_ylabel('Number of quejas');\n",
        "ax.set_title('LSA topic counts');\n",
        "plt.show()"
      ],
      "metadata": {
        "colab": {
          "base_uri": "https://localhost:8080/",
          "height": 711
        },
        "id": "9a5CfoCvHiNA",
        "outputId": "c05da4fe-dea4-463b-e87d-5ea5da111637"
      },
      "execution_count": 17,
      "outputs": [
        {
          "output_type": "stream",
          "name": "stdout",
          "text": [
            "Topic Labels:\n",
            "Topic 0: \n",
            "bbva millones año empresas banco\n",
            "Topic 1: \n",
            "inflación precios año alimentos ipc\n",
            "Topic 2: \n",
            "energía agua electricidad eléctrica puede\n",
            "Topic 3: \n",
            "datos información clientes ciencia modelos\n"
          ]
        },
        {
          "output_type": "display_data",
          "data": {
            "text/plain": [
              "<Figure size 1600x800 with 1 Axes>"
            ],
            "image/png": "[encoded data removed]"
          },
          "metadata": {}
        }
      ]
    },
    {
      "cell_type": "markdown",
      "source": [
        "Para entender mejor los tópicos identificados por LSA, visualizamos la distribución de documentos por cada tópico y la agrupación de estos documentos en un espacio bidimensional usando t-SNE (t-distributed Stochastic Neighbor Embedding). Los centroides de los clústeres, etiquetados con las 5 palabras principales de cada tópico, ayudan a interpretar los temas.\n",
        "\n",
        "El gráfico t-SNE revelará si los tópicos forman clústeres distintivos"
      ],
      "metadata": {
        "id": "caDd4XQ7gOed"
      }
    },
    {
      "cell_type": "code",
      "source": [
        "tsne_lsa_model = TSNE(n_components=2, perplexity=50, learning_rate=100,\n",
        "                        n_iter=2000, verbose=1, random_state=0, angle=0.75)\n",
        "tsne_lsa_vectors = tsne_lsa_model.fit_transform(lsa_topic_matrix)"
      ],
      "metadata": {
        "colab": {
          "base_uri": "https://localhost:8080/"
        },
        "id": "-MSNBc5jHl8L",
        "outputId": "6c4b6877-30cb-40cf-8c6f-19b4567d03e4"
      },
      "execution_count": 18,
      "outputs": [
        {
          "output_type": "stream",
          "name": "stderr",
          "text": [
            "/usr/local/lib/python3.12/dist-packages/sklearn/manifold/_t_sne.py:1164: FutureWarning: 'n_iter' was renamed to 'max_iter' in version 1.5 and will be removed in 1.7.\n",
            "  warnings.warn(\n"
          ]
        },
        {
          "output_type": "stream",
          "name": "stdout",
          "text": [
            "[t-SNE] Computing 151 nearest neighbors...\n",
            "[t-SNE] Indexed 1217 samples in 0.007s...\n",
            "[t-SNE] Computed neighbors for 1217 samples in 0.050s...\n",
            "[t-SNE] Computed conditional probabilities for sample 1000 / 1217\n",
            "[t-SNE] Computed conditional probabilities for sample 1217 / 1217\n",
            "[t-SNE] Mean sigma: 0.918534\n",
            "[t-SNE] KL divergence after 250 iterations with early exaggeration: 59.742493\n",
            "[t-SNE] KL divergence after 2000 iterations: 0.619417\n"
          ]
        }
      ]
    },
    {
      "cell_type": "code",
      "source": [
        "# Define helper functions\n",
        "def get_mean_topic_vectors(keys, two_dim_vectors):\n",
        "    '''\n",
        "    returns a list of centroid vectors from each predicted topic category\n",
        "    '''\n",
        "    mean_topic_vectors = []\n",
        "    for t in range(n_topics):\n",
        "        articles_in_that_topic = []\n",
        "        for i in range(len(keys)):\n",
        "            if keys[i] == t:\n",
        "                articles_in_that_topic.append(two_dim_vectors[i])\n",
        "\n",
        "        articles_in_that_topic = np.vstack(articles_in_that_topic)\n",
        "        mean_article_in_that_topic = np.mean(articles_in_that_topic, axis=0)\n",
        "        mean_topic_vectors.append(mean_article_in_that_topic)\n",
        "    return mean_topic_vectors"
      ],
      "metadata": {
        "id": "CRBAR7ZaHzFi"
      },
      "execution_count": 19,
      "outputs": []
    },
    {
      "cell_type": "code",
      "source": [
        "colormap = np.array([\n",
        "    \"#1f77b4\", \"#aec7e8\", \"#ff7f0e\", \"#ffbb78\", \"#2ca02c\",\n",
        "    \"#98df8a\", \"#d62728\", \"#ff9896\", \"#9467bd\", \"#c5b0d5\",\n",
        "    \"#8c564b\", \"#c49c94\", \"#e377c2\", \"#f7b6d2\", \"#7f7f7f\",\n",
        "    \"#c7c7c7\", \"#bcbd22\", \"#dbdb8d\", \"#17becf\", \"#9edae5\" ])\n",
        "colormap = colormap[:n_topics]"
      ],
      "metadata": {
        "id": "TUauk6SjH3O1"
      },
      "execution_count": 20,
      "outputs": []
    },
    {
      "cell_type": "code",
      "source": [
        "lsa_mean_topic_vectors = get_mean_topic_vectors(lsa_keys, tsne_lsa_vectors)\n",
        "\n",
        "plot = figure(title=\"t-SNE Clustering of {} LSA Topics\".format(n_topics), width=700, height=700)\n",
        "plot.scatter(x=tsne_lsa_vectors[:,0], y=tsne_lsa_vectors[:,1], color=colormap[lsa_keys])\n",
        "\n",
        "# Define el color del texto de las etiquetas en negro\n",
        "text_color = \"black\"\n",
        "\n",
        "for t in range(n_topics):\n",
        "  label = Label(x=lsa_mean_topic_vectors[t][0], y=lsa_mean_topic_vectors[t][1],\n",
        "                text=top_n_words[t], text_color=text_color)\n",
        "  plot.add_layout(label)\n",
        "\n",
        "show(plot)\n",
        "\n",
        "print(\"\\nTopic Labels:\")\n",
        "for i, topic in enumerate(lsa_categories):\n",
        "  label = \"Topic {}:\".format(i) + top_n_words[i]\n",
        "  print(label)"
      ],
      "metadata": {
        "collapsed": true,
        "id": "9dAOFHUbH5O6",
        "colab": {
          "base_uri": "https://localhost:8080/",
          "height": 821
        },
        "outputId": "2a5eed86-fd35-4873-c733-08dae92e9101"
      },
      "execution_count": 21,
      "outputs": [
        {
          "output_type": "display_data",
          "data": {
            "application/javascript": [
              "'use strict';\n",
              "(function(root) {\n",
              "  function now() {\n",
              "    return new Date();\n",
              "  }\n",
              "\n",
              "  const force = true;\n",
              "\n",
              "  if (typeof root._bokeh_onload_callbacks === \"undefined\" || force === true) {\n",
              "    root._bokeh_onload_callbacks = [];\n",
              "    root._bokeh_is_loading = undefined;\n",
              "  }\n",
              "\n",
              "const JS_MIME_TYPE = 'application/javascript';\n",
              "  const HTML_MIME_TYPE = 'text/html';\n",
              "  const EXEC_MIME_TYPE = 'application/vnd.bokehjs_exec.v0+json';\n",
              "  const CLASS_NAME = 'output_bokeh rendered_html';\n",
              "\n",
              "  /**\n",
              "   * Render data to the DOM node\n",
              "   */\n",
              "  function render(props, node) {\n",
              "    const script = document.createElement(\"script\");\n",
              "    node.appendChild(script);\n",
              "  }\n",
              "\n",
              "  /**\n",
              "   * Handle when an output is cleared or removed\n",
              "   */\n",
              "  function handleClearOutput(event, handle) {\n",
              "    function drop(id) {\n",
              "      const view = Bokeh.index.get_by_id(id)\n",
              "      if (view != null) {\n",
              "        view.model.document.clear()\n",
              "        Bokeh.index.delete(view)\n",
              "      }\n",
              "    }\n",
              "\n",
              "    const cell = handle.cell;\n",
              "\n",
              "    const id = cell.output_area._bokeh_element_id;\n",
              "    const server_id = cell.output_area._bokeh_server_id;\n",
              "\n",
              "    // Clean up Bokeh references\n",
              "    if (id != null) {\n",
              "      drop(id)\n",
              "    }\n",
              "\n",
              "    if (server_id !== undefined) {\n",
              "      // Clean up Bokeh references\n",
              "      const cmd_clean = \"from bokeh.io.state import curstate; print(curstate().uuid_to_server['\" + server_id + \"'].get_sessions()[0].document.roots[0]._id)\";\n",
              "      cell.notebook.kernel.execute(cmd_clean, {\n",
              "        iopub: {\n",
              "          output: function(msg) {\n",
              "            const id = msg.content.text.trim()\n",
              "            drop(id)\n",
              "          }\n",
              "        }\n",
              "      });\n",
              "      // Destroy server and session\n",
              "      const cmd_destroy = \"import bokeh.io.notebook as ion; ion.destroy_server('\" + server_id + \"')\";\n",
              "      cell.notebook.kernel.execute(cmd_destroy);\n",
              "    }\n",
              "  }\n",
              "\n",
              "  /**\n",
              "   * Handle when a new output is added\n",
              "   */\n",
              "  function handleAddOutput(event, handle) {\n",
              "    const output_area = handle.output_area;\n",
              "    const output = handle.output;\n",
              "\n",
              "    // limit handleAddOutput to display_data with EXEC_MIME_TYPE content only\n",
              "    if ((output.output_type != \"display_data\") || (!Object.prototype.hasOwnProperty.call(output.data, EXEC_MIME_TYPE))) {\n",
              "      return\n",
              "    }\n",
              "\n",
              "    const toinsert = output_area.element.find(\".\" + CLASS_NAME.split(' ')[0]);\n",
              "\n",
              "    if (output.metadata[EXEC_MIME_TYPE][\"id\"] !== undefined) {\n",
              "      toinsert[toinsert.length - 1].firstChild.textContent = output.data[JS_MIME_TYPE];\n",
              "      // store reference to embed id on output_area\n",
              "      output_area._bokeh_element_id = output.metadata[EXEC_MIME_TYPE][\"id\"];\n",
              "    }\n",
              "    if (output.metadata[EXEC_MIME_TYPE][\"server_id\"] !== undefined) {\n",
              "      const bk_div = document.createElement(\"div\");\n",
              "      bk_div.innerHTML = output.data[HTML_MIME_TYPE];\n",
              "      const script_attrs = bk_div.children[0].attributes;\n",
              "      for (let i = 0; i < script_attrs.length; i++) {\n",
              "        toinsert[toinsert.length - 1].firstChild.setAttribute(script_attrs[i].name, script_attrs[i].value);\n",
              "        toinsert[toinsert.length - 1].firstChild.textContent = bk_div.children[0].textContent\n",
              "      }\n",
              "      // store reference to server id on output_area\n",
              "      output_area._bokeh_server_id = output.metadata[EXEC_MIME_TYPE][\"server_id\"];\n",
              "    }\n",
              "  }\n",
              "\n",
              "  function register_renderer(events, OutputArea) {\n",
              "\n",
              "    function append_mime(data, metadata, element) {\n",
              "      // create a DOM node to render to\n",
              "      const toinsert = this.create_output_subarea(\n",
              "        metadata,\n",
              "        CLASS_NAME,\n",
              "        EXEC_MIME_TYPE\n",
              "      );\n",
              "      this.keyboard_manager.register_events(toinsert);\n",
              "      // Render to node\n",
              "      const props = {data: data, metadata: metadata[EXEC_MIME_TYPE]};\n",
              "      render(props, toinsert[toinsert.length - 1]);\n",
              "      element.append(toinsert);\n",
              "      return toinsert\n",
              "    }\n",
              "\n",
              "    /* Handle when an output is cleared or removed */\n",
              "    events.on('clear_output.CodeCell', handleClearOutput);\n",
              "    events.on('delete.Cell', handleClearOutput);\n",
              "\n",
              "    /* Handle when a new output is added */\n",
              "    events.on('output_added.OutputArea', handleAddOutput);\n",
              "\n",
              "    /**\n",
              "     * Register the mime type and append_mime function with output_area\n",
              "     */\n",
              "    OutputArea.prototype.register_mime_type(EXEC_MIME_TYPE, append_mime, {\n",
              "      /* Is output safe? */\n",
              "      safe: true,\n",
              "      /* Index of renderer in `output_area.display_order` */\n",
              "      index: 0\n",
              "    });\n",
              "  }\n",
              "\n",
              "  // register the mime type if in Jupyter Notebook environment and previously unregistered\n",
              "  if (root.Jupyter !== undefined) {\n",
              "    const events = require('base/js/events');\n",
              "    const OutputArea = require('notebook/js/outputarea').OutputArea;\n",
              "\n",
              "    if (OutputArea.prototype.mime_types().indexOf(EXEC_MIME_TYPE) == -1) {\n",
              "      register_renderer(events, OutputArea);\n",
              "    }\n",
              "  }\n",
              "  if (typeof (root._bokeh_timeout) === \"undefined\" || force === true) {\n",
              "    root._bokeh_timeout = Date.now() + 5000;\n",
              "    root._bokeh_failed_load = false;\n",
              "  }\n",
              "\n",
              "  const NB_LOAD_WARNING = {'data': {'text/html':\n",
              "     \"<div style='background-color: #fdd'>\\n\"+\n",
              "     \"<p>\\n\"+\n",
              "     \"BokehJS does not appear to have successfully loaded. If loading BokehJS from CDN, this \\n\"+\n",
              "     \"may be due to a slow or bad network connection. Possible fixes:\\n\"+\n",
              "     \"</p>\\n\"+\n",
              "     \"<ul>\\n\"+\n",
              "     \"<li>re-rerun `output_notebook()` to attempt to load from CDN again, or</li>\\n\"+\n",
              "     \"<li>use INLINE resources instead, as so:</li>\\n\"+\n",
              "     \"</ul>\\n\"+\n",
              "     \"<code>\\n\"+\n",
              "     \"from bokeh.resources import INLINE\\n\"+\n",
              "     \"output_notebook(resources=INLINE)\\n\"+\n",
              "     \"</code>\\n\"+\n",
              "     \"</div>\"}};\n",
              "\n",
              "  function display_loaded(error = null) {\n",
              "    const el = document.getElementById(null);\n",
              "    if (el != null) {\n",
              "      const html = (() => {\n",
              "        if (typeof root.Bokeh === \"undefined\") {\n",
              "          if (error == null) {\n",
              "            return \"BokehJS is loading ...\";\n",
              "          } else {\n",
              "            return \"BokehJS failed to load.\";\n",
              "          }\n",
              "        } else {\n",
              "          const prefix = `BokehJS ${root.Bokeh.version}`;\n",
              "          if (error == null) {\n",
              "            return `${prefix} successfully loaded.`;\n",
              "          } else {\n",
              "            return `${prefix} <b>encountered errors</b> while loading and may not function as expected.`;\n",
              "          }\n",
              "        }\n",
              "      })();\n",
              "      el.innerHTML = html;\n",
              "\n",
              "      if (error != null) {\n",
              "        const wrapper = document.createElement(\"div\");\n",
              "        wrapper.style.overflow = \"auto\";\n",
              "        wrapper.style.height = \"5em\";\n",
              "        wrapper.style.resize = \"vertical\";\n",
              "        const content = document.createElement(\"div\");\n",
              "        content.style.fontFamily = \"monospace\";\n",
              "        content.style.whiteSpace = \"pre-wrap\";\n",
              "        content.style.backgroundColor = \"rgb(255, 221, 221)\";\n",
              "        content.textContent = error.stack ?? error.toString();\n",
              "        wrapper.append(content);\n",
              "        el.append(wrapper);\n",
              "      }\n",
              "    } else if (Date.now() < root._bokeh_timeout) {\n",
              "      setTimeout(() => display_loaded(error), 100);\n",
              "    }\n",
              "  }\n",
              "\n",
              "  function run_callbacks() {\n",
              "    try {\n",
              "      root._bokeh_onload_callbacks.forEach(function(callback) {\n",
              "        if (callback != null)\n",
              "          callback();\n",
              "      });\n",
              "    } finally {\n",
              "      delete root._bokeh_onload_callbacks\n",
              "    }\n",
              "    console.debug(\"Bokeh: all callbacks have finished\");\n",
              "  }\n",
              "\n",
              "  function load_libs(css_urls, js_urls, callback) {\n",
              "    if (css_urls == null) css_urls = [];\n",
              "    if (js_urls == null) js_urls = [];\n",
              "\n",
              "    root._bokeh_onload_callbacks.push(callback);\n",
              "    if (root._bokeh_is_loading > 0) {\n",
              "      console.debug(\"Bokeh: BokehJS is being loaded, scheduling callback at\", now());\n",
              "      return null;\n",
              "    }\n",
              "    if (js_urls == null || js_urls.length === 0) {\n",
              "      run_callbacks();\n",
              "      return null;\n",
              "    }\n",
              "    console.debug(\"Bokeh: BokehJS not loaded, scheduling load and callback at\", now());\n",
              "    root._bokeh_is_loading = css_urls.length + js_urls.length;\n",
              "\n",
              "    function on_load() {\n",
              "      root._bokeh_is_loading--;\n",
              "      if (root._bokeh_is_loading === 0) {\n",
              "        console.debug(\"Bokeh: all BokehJS libraries/stylesheets loaded\");\n",
              "        run_callbacks()\n",
              "      }\n",
              "    }\n",
              "\n",
              "    function on_error(url) {\n",
              "      console.error(\"failed to load \" + url);\n",
              "    }\n",
              "\n",
              "    for (let i = 0; i < css_urls.length; i++) {\n",
              "      const url = css_urls[i];\n",
              "      const element = document.createElement(\"link\");\n",
              "      element.onload = on_load;\n",
              "      element.onerror = on_error.bind(null, url);\n",
              "      element.rel = \"stylesheet\";\n",
              "      element.type = \"text/css\";\n",
              "      element.href = url;\n",
              "      console.debug(\"Bokeh: injecting link tag for BokehJS stylesheet: \", url);\n",
              "      document.body.appendChild(element);\n",
              "    }\n",
              "\n",
              "    for (let i = 0; i < js_urls.length; i++) {\n",
              "      const url = js_urls[i];\n",
              "      const element = document.createElement('script');\n",
              "      element.onload = on_load;\n",
              "      element.onerror = on_error.bind(null, url);\n",
              "      element.async = false;\n",
              "      element.src = url;\n",
              "      console.debug(\"Bokeh: injecting script tag for BokehJS library: \", url);\n",
              "      document.head.appendChild(element);\n",
              "    }\n",
              "  };\n",
              "\n",
              "  function inject_raw_css(css) {\n",
              "    const element = document.createElement(\"style\");\n",
              "    element.appendChild(document.createTextNode(css));\n",
              "    document.body.appendChild(element);\n",
              "  }\n",
              "\n",
              "  const js_urls = [\"https://cdn.bokeh.org/bokeh/release/bokeh-3.7.3.min.js\", \"https://cdn.bokeh.org/bokeh/release/bokeh-gl-3.7.3.min.js\", \"https://cdn.bokeh.org/bokeh/release/bokeh-widgets-3.7.3.min.js\", \"https://cdn.bokeh.org/bokeh/release/bokeh-tables-3.7.3.min.js\", \"https://cdn.bokeh.org/bokeh/release/bokeh-mathjax-3.7.3.min.js\"];\n",
              "  const css_urls = [];\n",
              "\n",
              "  const inline_js = [    function(Bokeh) {\n",
              "      Bokeh.set_log_level(\"info\");\n",
              "    },\n",
              "function(Bokeh) {\n",
              "    }\n",
              "  ];\n",
              "\n",
              "  function run_inline_js() {\n",
              "    if (root.Bokeh !== undefined || force === true) {\n",
              "      try {\n",
              "            for (let i = 0; i < inline_js.length; i++) {\n",
              "      inline_js[i].call(root, root.Bokeh);\n",
              "    }\n",
              "\n",
              "      } catch (error) {throw error;\n",
              "      }} else if (Date.now() < root._bokeh_timeout) {\n",
              "      setTimeout(run_inline_js, 100);\n",
              "    } else if (!root._bokeh_failed_load) {\n",
              "      console.log(\"Bokeh: BokehJS failed to load within specified timeout.\");\n",
              "      root._bokeh_failed_load = true;\n",
              "    } else if (force !== true) {\n",
              "      const cell = $(document.getElementById(null)).parents('.cell').data().cell;\n",
              "      cell.output_area.append_execute_result(NB_LOAD_WARNING)\n",
              "    }\n",
              "  }\n",
              "\n",
              "  if (root._bokeh_is_loading === 0) {\n",
              "    console.debug(\"Bokeh: BokehJS loaded, going straight to plotting\");\n",
              "    run_inline_js();\n",
              "  } else {\n",
              "    load_libs(css_urls, js_urls, function() {\n",
              "      console.debug(\"Bokeh: BokehJS plotting callback run at\", now());\n",
              "      run_inline_js();\n",
              "    });\n",
              "  }\n",
              "}(window));"
            ],
            "application/vnd.bokehjs_load.v0+json": "'use strict';\n(function(root) {\n  function now() {\n    return new Date();\n  }\n\n  const force = true;\n\n  if (typeof root._bokeh_onload_callbacks === \"undefined\" || force === true) {\n    root._bokeh_onload_callbacks = [];\n    root._bokeh_is_loading = undefined;\n  }\n\n\n  if (typeof (root._bokeh_timeout) === \"undefined\" || force === true) {\n    root._bokeh_timeout = Date.now() + 5000;\n    root._bokeh_failed_load = false;\n  }\n\n  const NB_LOAD_WARNING = {'data': {'text/html':\n     \"<div style='background-color: #fdd'>\\n\"+\n     \"<p>\\n\"+\n     \"BokehJS does not appear to have successfully loaded. If loading BokehJS from CDN, this \\n\"+\n     \"may be due to a slow or bad network connection. Possible fixes:\\n\"+\n     \"</p>\\n\"+\n     \"<ul>\\n\"+\n     \"<li>re-rerun `output_notebook()` to attempt to load from CDN again, or</li>\\n\"+\n     \"<li>use INLINE resources instead, as so:</li>\\n\"+\n     \"</ul>\\n\"+\n     \"<code>\\n\"+\n     \"from bokeh.resources import INLINE\\n\"+\n     \"output_notebook(resources=INLINE)\\n\"+\n     \"</code>\\n\"+\n     \"</div>\"}};\n\n  function display_loaded(error = null) {\n    const el = document.getElementById(null);\n    if (el != null) {\n      const html = (() => {\n        if (typeof root.Bokeh === \"undefined\") {\n          if (error == null) {\n            return \"BokehJS is loading ...\";\n          } else {\n            return \"BokehJS failed to load.\";\n          }\n        } else {\n          const prefix = `BokehJS ${root.Bokeh.version}`;\n          if (error == null) {\n            return `${prefix} successfully loaded.`;\n          } else {\n            return `${prefix} <b>encountered errors</b> while loading and may not function as expected.`;\n          }\n        }\n      })();\n      el.innerHTML = html;\n\n      if (error != null) {\n        const wrapper = document.createElement(\"div\");\n        wrapper.style.overflow = \"auto\";\n        wrapper.style.height = \"5em\";\n        wrapper.style.resize = \"vertical\";\n        const content = document.createElement(\"div\");\n        content.style.fontFamily = \"monospace\";\n        content.style.whiteSpace = \"pre-wrap\";\n        content.style.backgroundColor = \"rgb(255, 221, 221)\";\n        content.textContent = error.stack ?? error.toString();\n        wrapper.append(content);\n        el.append(wrapper);\n      }\n    } else if (Date.now() < root._bokeh_timeout) {\n      setTimeout(() => display_loaded(error), 100);\n    }\n  }\n\n  function run_callbacks() {\n    try {\n      root._bokeh_onload_callbacks.forEach(function(callback) {\n        if (callback != null)\n          callback();\n      });\n    } finally {\n      delete root._bokeh_onload_callbacks\n    }\n    console.debug(\"Bokeh: all callbacks have finished\");\n  }\n\n  function load_libs(css_urls, js_urls, callback) {\n    if (css_urls == null) css_urls = [];\n    if (js_urls == null) js_urls = [];\n\n    root._bokeh_onload_callbacks.push(callback);\n    if (root._bokeh_is_loading > 0) {\n      console.debug(\"Bokeh: BokehJS is being loaded, scheduling callback at\", now());\n      return null;\n    }\n    if (js_urls == null || js_urls.length === 0) {\n      run_callbacks();\n      return null;\n    }\n    console.debug(\"Bokeh: BokehJS not loaded, scheduling load and callback at\", now());\n    root._bokeh_is_loading = css_urls.length + js_urls.length;\n\n    function on_load() {\n      root._bokeh_is_loading--;\n      if (root._bokeh_is_loading === 0) {\n        console.debug(\"Bokeh: all BokehJS libraries/stylesheets loaded\");\n        run_callbacks()\n      }\n    }\n\n    function on_error(url) {\n      console.error(\"failed to load \" + url);\n    }\n\n    for (let i = 0; i < css_urls.length; i++) {\n      const url = css_urls[i];\n      const element = document.createElement(\"link\");\n      element.onload = on_load;\n      element.onerror = on_error.bind(null, url);\n      element.rel = \"stylesheet\";\n      element.type = \"text/css\";\n      element.href = url;\n      console.debug(\"Bokeh: injecting link tag for BokehJS stylesheet: \", url);\n      document.body.appendChild(element);\n    }\n\n    for (let i = 0; i < js_urls.length; i++) {\n      const url = js_urls[i];\n      const element = document.createElement('script');\n      element.onload = on_load;\n      element.onerror = on_error.bind(null, url);\n      element.async = false;\n      element.src = url;\n      console.debug(\"Bokeh: injecting script tag for BokehJS library: \", url);\n      document.head.appendChild(element);\n    }\n  };\n\n  function inject_raw_css(css) {\n    const element = document.createElement(\"style\");\n    element.appendChild(document.createTextNode(css));\n    document.body.appendChild(element);\n  }\n\n  const js_urls = [\"https://cdn.bokeh.org/bokeh/release/bokeh-3.7.3.min.js\", \"https://cdn.bokeh.org/bokeh/release/bokeh-gl-3.7.3.min.js\", \"https://cdn.bokeh.org/bokeh/release/bokeh-widgets-3.7.3.min.js\", \"https://cdn.bokeh.org/bokeh/release/bokeh-tables-3.7.3.min.js\", \"https://cdn.bokeh.org/bokeh/release/bokeh-mathjax-3.7.3.min.js\"];\n  const css_urls = [];\n\n  const inline_js = [    function(Bokeh) {\n      Bokeh.set_log_level(\"info\");\n    },\nfunction(Bokeh) {\n    }\n  ];\n\n  function run_inline_js() {\n    if (root.Bokeh !== undefined || force === true) {\n      try {\n            for (let i = 0; i < inline_js.length; i++) {\n      inline_js[i].call(root, root.Bokeh);\n    }\n\n      } catch (error) {throw error;\n      }} else if (Date.now() < root._bokeh_timeout) {\n      setTimeout(run_inline_js, 100);\n    } else if (!root._bokeh_failed_load) {\n      console.log(\"Bokeh: BokehJS failed to load within specified timeout.\");\n      root._bokeh_failed_load = true;\n    } else if (force !== true) {\n      const cell = $(document.getElementById(null)).parents('.cell').data().cell;\n      cell.output_area.append_execute_result(NB_LOAD_WARNING)\n    }\n  }\n\n  if (root._bokeh_is_loading === 0) {\n    console.debug(\"Bokeh: BokehJS loaded, going straight to plotting\");\n    run_inline_js();\n  } else {\n    load_libs(css_urls, js_urls, function() {\n      console.debug(\"Bokeh: BokehJS plotting callback run at\", now());\n      run_inline_js();\n    });\n  }\n}(window));"
          },
          "metadata": {}
        },
        {
          "output_type": "display_data",
          "data": {
            "text/html": [
              "\n",
              "  <div id=\"e32e38fb-48f8-4c9f-a70e-9524231af74a\" data-root-id=\"p1003\" style=\"display: contents;\"></div>\n"
            ]
          },
          "metadata": {}
        },
        {
          "output_type": "display_data",
          "data": {
            "application/javascript": [
              "(function(root) {\n",
              "  function embed_document(root) {\n",
              "  const docs_json = {\"09034ed7-3c89-4d9b-879f-0946f211c4e8\":{\"version\":\"3.7.3\",\"title\":\"Bokeh Application\",\"roots\":[{\"type\":\"object\",\"name\":\"Figure\",\"id\":\"p1003\",\"attributes\":{\"width\":700,\"height\":700,\"x_range\":{\"type\":\"object\",\"name\":\"DataRange1d\",\"id\":\"p1004\"},\"y_range\":{\"type\":\"object\",\"name\":\"DataRange1d\",\"id\":\"p1005\"},\"x_scale\":{\"type\":\"object\",\"name\":\"LinearScale\",\"id\":\"p1013\"},\"y_scale\":{\"type\":\"object\",\"name\":\"LinearScale\",\"id\":\"p1014\"},\"title\":{\"type\":\"object\",\"name\":\"Title\",\"id\":\"p1006\",\"attributes\":{\"text\":\"t-SNE Clustering of 4 LSA Topics\"}},\"renderers\":[{\"type\":\"object\",\"name\":\"GlyphRenderer\",\"id\":\"p1044\",\"attributes\":{\"data_source\":{\"type\":\"object\",\"name\":\"ColumnDataSource\",\"id\":\"p1038\",\"attributes\":{\"selected\":{\"type\":\"object\",\"name\":\"Selection\",\"id\":\"p1039\",\"attributes\":{\"indices\":[],\"line_indices\":[]}},\"selection_policy\":{\"type\":\"object\",\"name\":\"UnionRenderers\",\"id\":\"p1040\"},\"data\":{\"type\":\"map\",\"entries\":[[\"x\",{\"type\":\"ndarray\",\"array\":{\"type\":\"bytes\",\"data\":\"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\"},\"shape\":[1217],\"dtype\":\"float32\",\"order\":\"little\"}],[\"y\",{\"type\":\"ndarray\",\"array\":{\"type\":\"bytes\",\"data\":\"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\"},\"shape\":[1217],\"dtype\":\"float32\",\"order\":\"little\"}],[\"fill_color\",{\"type\":\"ndarray\",\"array\":[\"#1f77b4\",\"#1f77b4\",\"#1f77b4\",\"#aec7e8\",\"#1f77b4\",\"#1f77b4\",\"#1f77b4\",\"#1f77b4\",\"#1f77b4\",\"#1f77b4\",\"#1f77b4\",\"#1f77b4\",\"#1f77b4\",\"#1f77b4\",\"#1f77b4\",\"#1f77b4\",\"#1f77b4\",\"#aec7e8\",\"#1f77b4\",\"#1f77b4\",\"#1f77b4\",\"#1f77b4\",\"#1f77b4\",\"#aec7e8\",\"#1f77b4\",\"#1f77b4\",\"#1f77b4\",\"#1f77b4\",\"#1f77b4\",\"#1f77b4\",\"#1f77b4\",\"#1f77b4\",\"#aec7e8\",\"#1f77b4\",\"#1f77b4\",\"#1f77b4\",\"#aec7e8\",\"#1f77b4\",\"#1f77b4\",\"#1f77b4\",\"#1f77b4\",\"#ff7f0e\",\"#1f77b4\",\"#1f77b4\",\"#1f77b4\",\"#1f77b4\",\"#1f77b4\",\"#1f77b4\",\"#1f77b4\",\"#1f77b4\",\"#1f77b4\",\"#1f77b4\",\"#aec7e8\",\"#1f77b4\",\"#1f77b4\",\"#1f77b4\",\"#1f77b4\",\"#1f77b4\",\"#1f77b4\",\"#aec7e8\",\"#1f77b4\",\"#1f77b4\",\"#1f77b4\",\"#1f77b4\",\"#1f77b4\",\"#1f77b4\",\"#1f77b4\",\"#1f77b4\",\"#1f77b4\",\"#1f77b4\",\"#1f77b4\",\"#1f77b4\",\"#1f77b4\",\"#aec7e8\",\"#1f77b4\",\"#1f77b4\",\"#1f77b4\",\"#1f77b4\",\"#1f77b4\",\"#1f77b4\",\"#ff7f0e\",\"#1f77b4\",\"#1f77b4\",\"#1f77b4\",\"#1f77b4\",\"#1f77b4\",\"#1f77b4\",\"#1f77b4\",\"#aec7e8\",\"#1f77b4\",\"#1f77b4\",\"#1f77b4\",\"#1f77b4\",\"#1f77b4\",\"#ff7f0e\",\"#1f77b4\",\"#1f77b4\",\"#1f77b4\",\"#1f77b4\",\"#1f77b4\",\"#1f77b4\",\"#1f77b4\",\"#1f77b4\",\"#1f77b4\",\"#1f77b4\",\"#1f77b4\",\"#1f77b4\",\"#1f77b4\",\"#1f77b4\",\"#1f77b4\",\"#1f77b4\",\"#1f77b4\",\"#aec7e8\",\"#1f77b4\",\"#1f77b4\",\"#1f77b4\",\"#1f77b4\",\"#1f77b4\",\"#1f77b4\",\"#1f77b4\",\"#1f77b4\",\"#aec7e8\",\"#1f77b4\",\"#1f77b4\",\"#1f77b4\",\"#1f77b4\",\"#aec7e8\",\"#1f77b4\",\"#1f77b4\",\"#1f77b4\",\"#1f77b4\",\"#1f77b4\",\"#aec7e8\",\"#aec7e8\",\"#1f77b4\",\"#1f77b4\",\"#1f77b4\",\"#ff7f0e\",\"#1f77b4\",\"#1f77b4\",\"#1f77b4\",\"#ff7f0e\",\"#1f77b4\",\"#aec7e8\",\"#1f77b4\",\"#1f77b4\",\"#1f77b4\",\"#1f77b4\",\"#1f77b4\",\"#ff7f0e\",\"#1f77b4\",\"#1f77b4\",\"#aec7e8\",\"#aec7e8\",\"#aec7e8\",\"#1f77b4\",\"#1f77b4\",\"#1f77b4\",\"#1f77b4\",\"#1f77b4\",\"#1f77b4\",\"#1f77b4\",\"#1f77b4\",\"#1f77b4\",\"#1f77b4\",\"#1f77b4\",\"#1f77b4\",\"#1f77b4\",\"#1f77b4\",\"#aec7e8\",\"#1f77b4\",\"#1f77b4\",\"#1f77b4\",\"#1f77b4\",\"#aec7e8\",\"#1f77b4\",\"#1f77b4\",\"#1f77b4\",\"#1f77b4\",\"#1f77b4\",\"#1f77b4\",\"#1f77b4\",\"#ff7f0e\",\"#1f77b4\",\"#1f77b4\",\"#1f77b4\",\"#1f77b4\",\"#1f77b4\",\"#ff7f0e\",\"#1f77b4\",\"#aec7e8\",\"#1f77b4\",\"#1f77b4\",\"#1f77b4\",\"#1f77b4\",\"#1f77b4\",\"#aec7e8\",\"#aec7e8\",\"#1f77b4\",\"#1f77b4\",\"#1f77b4\",\"#1f77b4\",\"#1f77b4\",\"#1f77b4\",\"#1f77b4\",\"#1f77b4\",\"#1f77b4\",\"#1f77b4\",\"#aec7e8\",\"#1f77b4\",\"#1f77b4\",\"#1f77b4\",\"#ffbb78\",\"#1f77b4\",\"#1f77b4\",\"#1f77b4\",\"#1f77b4\",\"#1f77b4\",\"#1f77b4\",\"#1f77b4\",\"#1f77b4\",\"#1f77b4\",\"#ff7f0e\",\"#1f77b4\",\"#1f77b4\",\"#1f77b4\",\"#1f77b4\",\"#1f77b4\",\"#1f77b4\",\"#1f77b4\",\"#1f77b4\",\"#1f77b4\",\"#1f77b4\",\"#1f77b4\",\"#1f77b4\",\"#1f77b4\",\"#1f77b4\",\"#1f77b4\",\"#1f77b4\",\"#1f77b4\",\"#aec7e8\",\"#1f77b4\",\"#1f77b4\",\"#aec7e8\",\"#aec7e8\",\"#1f77b4\",\"#1f77b4\",\"#1f77b4\",\"#1f77b4\",\"#1f77b4\",\"#1f77b4\",\"#1f77b4\",\"#1f77b4\",\"#1f77b4\",\"#1f77b4\",\"#1f77b4\",\"#aec7e8\",\"#1f77b4\",\"#1f77b4\",\"#1f77b4\",\"#1f77b4\",\"#1f77b4\",\"#1f77b4\",\"#1f77b4\",\"#1f77b4\",\"#1f77b4\",\"#1f77b4\",\"#1f77b4\",\"#1f77b4\",\"#1f77b4\",\"#1f77b4\",\"#1f77b4\",\"#1f77b4\",\"#aec7e8\",\"#aec7e8\",\"#1f77b4\",\"#1f77b4\",\"#1f77b4\",\"#1f77b4\",\"#1f77b4\",\"#1f77b4\",\"#1f77b4\",\"#1f77b4\",\"#1f77b4\",\"#1f77b4\",\"#1f77b4\",\"#1f77b4\",\"#aec7e8\",\"#aec7e8\",\"#1f77b4\",\"#1f77b4\",\"#1f77b4\",\"#1f77b4\",\"#aec7e8\",\"#1f77b4\",\"#1f77b4\",\"#1f77b4\",\"#1f77b4\",\"#1f77b4\",\"#1f77b4\",\"#1f77b4\",\"#1f77b4\",\"#1f77b4\",\"#1f77b4\",\"#1f77b4\",\"#1f77b4\",\"#1f77b4\",\"#1f77b4\",\"#1f77b4\",\"#1f77b4\",\"#1f77b4\",\"#1f77b4\",\"#1f77b4\",\"#1f77b4\",\"#1f77b4\",\"#1f77b4\",\"#1f77b4\",\"#1f77b4\",\"#1f77b4\",\"#aec7e8\",\"#1f77b4\",\"#1f77b4\",\"#1f77b4\",\"#1f77b4\",\"#1f77b4\",\"#1f77b4\",\"#1f77b4\",\"#1f77b4\",\"#1f77b4\",\"#1f77b4\",\"#1f77b4\",\"#ffbb78\",\"#aec7e8\",\"#aec7e8\",\"#1f77b4\",\"#aec7e8\",\"#1f77b4\",\"#1f77b4\",\"#1f77b4\",\"#1f77b4\",\"#1f77b4\",\"#1f77b4\",\"#1f77b4\",\"#aec7e8\",\"#1f77b4\",\"#1f77b4\",\"#1f77b4\",\"#1f77b4\",\"#1f77b4\",\"#1f77b4\",\"#1f77b4\",\"#1f77b4\",\"#1f77b4\",\"#aec7e8\",\"#1f77b4\",\"#1f77b4\",\"#1f77b4\",\"#1f77b4\",\"#1f77b4\",\"#1f77b4\",\"#1f77b4\",\"#1f77b4\",\"#1f77b4\",\"#1f77b4\",\"#1f77b4\",\"#1f77b4\",\"#1f77b4\",\"#1f77b4\",\"#1f77b4\",\"#1f77b4\",\"#1f77b4\",\"#1f77b4\",\"#1f77b4\",\"#1f77b4\",\"#1f77b4\",\"#1f77b4\",\"#1f77b4\",\"#1f77b4\",\"#1f77b4\",\"#1f77b4\",\"#1f77b4\",\"#1f77b4\",\"#1f77b4\",\"#1f77b4\",\"#1f77b4\",\"#1f77b4\",\"#1f77b4\",\"#aec7e8\",\"#1f77b4\",\"#1f77b4\",\"#1f77b4\",\"#1f77b4\",\"#1f77b4\",\"#1f77b4\",\"#1f77b4\",\"#1f77b4\",\"#ff7f0e\",\"#1f77b4\",\"#1f77b4\",\"#1f77b4\",\"#1f77b4\",\"#1f77b4\",\"#1f77b4\",\"#aec7e8\",\"#1f77b4\",\"#1f77b4\",\"#ff7f0e\",\"#1f77b4\",\"#1f77b4\",\"#1f77b4\",\"#aec7e8\",\"#1f77b4\",\"#1f77b4\",\"#1f77b4\",\"#1f77b4\",\"#1f77b4\",\"#1f77b4\",\"#1f77b4\",\"#1f77b4\",\"#1f77b4\",\"#1f77b4\",\"#1f77b4\",\"#1f77b4\",\"#1f77b4\",\"#1f77b4\",\"#1f77b4\",\"#1f77b4\",\"#1f77b4\",\"#1f77b4\",\"#1f77b4\",\"#1f77b4\",\"#aec7e8\",\"#1f77b4\",\"#1f77b4\",\"#1f77b4\",\"#aec7e8\",\"#1f77b4\",\"#aec7e8\",\"#1f77b4\",\"#aec7e8\",\"#1f77b4\",\"#1f77b4\",\"#1f77b4\",\"#1f77b4\",\"#1f77b4\",\"#1f77b4\",\"#1f77b4\",\"#1f77b4\",\"#1f77b4\",\"#1f77b4\",\"#1f77b4\",\"#aec7e8\",\"#1f77b4\",\"#1f77b4\",\"#1f77b4\",\"#1f77b4\",\"#1f77b4\",\"#1f77b4\",\"#aec7e8\",\"#ffbb78\",\"#1f77b4\",\"#1f77b4\",\"#1f77b4\",\"#1f77b4\",\"#1f77b4\",\"#1f77b4\",\"#1f77b4\",\"#aec7e8\",\"#1f77b4\",\"#1f77b4\",\"#aec7e8\",\"#1f77b4\",\"#1f77b4\",\"#1f77b4\",\"#1f77b4\",\"#1f77b4\",\"#1f77b4\",\"#1f77b4\",\"#1f77b4\",\"#1f77b4\",\"#1f77b4\",\"#1f77b4\",\"#1f77b4\",\"#1f77b4\",\"#1f77b4\",\"#1f77b4\",\"#1f77b4\",\"#1f77b4\",\"#1f77b4\",\"#1f77b4\",\"#1f77b4\",\"#1f77b4\",\"#1f77b4\",\"#aec7e8\",\"#1f77b4\",\"#1f77b4\",\"#1f77b4\",\"#1f77b4\",\"#1f77b4\",\"#aec7e8\",\"#1f77b4\",\"#1f77b4\",\"#1f77b4\",\"#1f77b4\",\"#1f77b4\",\"#1f77b4\",\"#1f77b4\",\"#1f77b4\",\"#1f77b4\",\"#1f77b4\",\"#aec7e8\",\"#1f77b4\",\"#1f77b4\",\"#1f77b4\",\"#1f77b4\",\"#1f77b4\",\"#ff7f0e\",\"#1f77b4\",\"#aec7e8\",\"#1f77b4\",\"#1f77b4\",\"#1f77b4\",\"#ff7f0e\",\"#1f77b4\",\"#1f77b4\",\"#1f77b4\",\"#1f77b4\",\"#1f77b4\",\"#1f77b4\",\"#1f77b4\",\"#1f77b4\",\"#1f77b4\",\"#1f77b4\",\"#1f77b4\",\"#1f77b4\",\"#1f77b4\",\"#aec7e8\",\"#1f77b4\",\"#1f77b4\",\"#1f77b4\",\"#1f77b4\",\"#1f77b4\",\"#1f77b4\",\"#1f77b4\",\"#1f77b4\",\"#1f77b4\",\"#1f77b4\",\"#1f77b4\",\"#1f77b4\",\"#1f77b4\",\"#1f77b4\",\"#1f77b4\",\"#1f77b4\",\"#1f77b4\",\"#1f77b4\",\"#1f77b4\",\"#1f77b4\",\"#1f77b4\",\"#1f77b4\",\"#1f77b4\",\"#1f77b4\",\"#ffbb78\",\"#1f77b4\",\"#1f77b4\",\"#1f77b4\",\"#1f77b4\",\"#1f77b4\",\"#1f77b4\",\"#1f77b4\",\"#1f77b4\",\"#1f77b4\",\"#1f77b4\",\"#1f77b4\",\"#1f77b4\",\"#1f77b4\",\"#1f77b4\",\"#1f77b4\",\"#1f77b4\",\"#1f77b4\",\"#1f77b4\",\"#1f77b4\",\"#aec7e8\",\"#1f77b4\",\"#1f77b4\",\"#1f77b4\",\"#1f77b4\",\"#1f77b4\",\"#1f77b4\",\"#1f77b4\",\"#1f77b4\",\"#1f77b4\",\"#1f77b4\",\"#1f77b4\",\"#1f77b4\",\"#aec7e8\",\"#1f77b4\",\"#aec7e8\",\"#1f77b4\",\"#1f77b4\",\"#1f77b4\",\"#1f77b4\",\"#1f77b4\",\"#1f77b4\",\"#1f77b4\",\"#1f77b4\",\"#1f77b4\",\"#1f77b4\",\"#1f77b4\",\"#aec7e8\",\"#aec7e8\",\"#1f77b4\",\"#1f77b4\",\"#1f77b4\",\"#1f77b4\",\"#ff7f0e\",\"#1f77b4\",\"#1f77b4\",\"#1f77b4\",\"#1f77b4\",\"#1f77b4\",\"#1f77b4\",\"#1f77b4\",\"#1f77b4\",\"#1f77b4\",\"#1f77b4\",\"#1f77b4\",\"#1f77b4\",\"#1f77b4\",\"#1f77b4\",\"#1f77b4\",\"#1f77b4\",\"#1f77b4\",\"#ff7f0e\",\"#aec7e8\",\"#1f77b4\",\"#1f77b4\",\"#1f77b4\",\"#1f77b4\",\"#1f77b4\",\"#1f77b4\",\"#1f77b4\",\"#1f77b4\",\"#1f77b4\",\"#1f77b4\",\"#1f77b4\",\"#1f77b4\",\"#1f77b4\",\"#1f77b4\",\"#1f77b4\",\"#1f77b4\",\"#1f77b4\",\"#1f77b4\",\"#1f77b4\",\"#1f77b4\",\"#1f77b4\",\"#1f77b4\",\"#aec7e8\",\"#1f77b4\",\"#1f77b4\",\"#1f77b4\",\"#1f77b4\",\"#1f77b4\",\"#1f77b4\",\"#1f77b4\",\"#1f77b4\",\"#1f77b4\",\"#aec7e8\",\"#1f77b4\",\"#1f77b4\",\"#aec7e8\",\"#1f77b4\",\"#1f77b4\",\"#1f77b4\",\"#1f77b4\",\"#1f77b4\",\"#aec7e8\",\"#ff7f0e\",\"#aec7e8\",\"#1f77b4\",\"#1f77b4\",\"#1f77b4\",\"#1f77b4\",\"#1f77b4\",\"#1f77b4\",\"#1f77b4\",\"#1f77b4\",\"#1f77b4\",\"#1f77b4\",\"#1f77b4\",\"#1f77b4\",\"#1f77b4\",\"#1f77b4\",\"#1f77b4\",\"#1f77b4\",\"#1f77b4\",\"#ffbb78\",\"#1f77b4\",\"#1f77b4\",\"#ff7f0e\",\"#1f77b4\",\"#1f77b4\",\"#1f77b4\",\"#1f77b4\",\"#ff7f0e\",\"#1f77b4\",\"#1f77b4\",\"#1f77b4\",\"#1f77b4\",\"#1f77b4\",\"#1f77b4\",\"#1f77b4\",\"#aec7e8\",\"#ff7f0e\",\"#1f77b4\",\"#aec7e8\",\"#1f77b4\",\"#1f77b4\",\"#1f77b4\",\"#1f77b4\",\"#1f77b4\",\"#1f77b4\",\"#ff7f0e\",\"#1f77b4\",\"#1f77b4\",\"#1f77b4\",\"#1f77b4\",\"#1f77b4\",\"#1f77b4\",\"#1f77b4\",\"#1f77b4\",\"#1f77b4\",\"#1f77b4\",\"#1f77b4\",\"#ff7f0e\",\"#1f77b4\",\"#1f77b4\",\"#1f77b4\",\"#1f77b4\",\"#1f77b4\",\"#1f77b4\",\"#1f77b4\",\"#1f77b4\",\"#1f77b4\",\"#aec7e8\",\"#1f77b4\",\"#1f77b4\",\"#1f77b4\",\"#1f77b4\",\"#1f77b4\",\"#1f77b4\",\"#1f77b4\",\"#1f77b4\",\"#1f77b4\",\"#1f77b4\",\"#1f77b4\",\"#1f77b4\",\"#1f77b4\",\"#1f77b4\",\"#1f77b4\",\"#1f77b4\",\"#1f77b4\",\"#1f77b4\",\"#1f77b4\",\"#1f77b4\",\"#1f77b4\",\"#1f77b4\",\"#aec7e8\",\"#1f77b4\",\"#aec7e8\",\"#1f77b4\",\"#1f77b4\",\"#1f77b4\",\"#1f77b4\",\"#ff7f0e\",\"#1f77b4\",\"#1f77b4\",\"#1f77b4\",\"#1f77b4\",\"#1f77b4\",\"#1f77b4\",\"#1f77b4\",\"#1f77b4\",\"#aec7e8\",\"#1f77b4\",\"#1f77b4\",\"#1f77b4\",\"#1f77b4\",\"#1f77b4\",\"#1f77b4\",\"#aec7e8\",\"#1f77b4\",\"#1f77b4\",\"#1f77b4\",\"#1f77b4\",\"#1f77b4\",\"#1f77b4\",\"#1f77b4\",\"#ffbb78\",\"#1f77b4\",\"#1f77b4\",\"#aec7e8\",\"#1f77b4\",\"#1f77b4\",\"#1f77b4\",\"#1f77b4\",\"#aec7e8\",\"#1f77b4\",\"#1f77b4\",\"#1f77b4\",\"#1f77b4\",\"#1f77b4\",\"#1f77b4\",\"#1f77b4\",\"#aec7e8\",\"#aec7e8\",\"#1f77b4\",\"#1f77b4\",\"#1f77b4\",\"#1f77b4\",\"#1f77b4\",\"#1f77b4\",\"#1f77b4\",\"#aec7e8\",\"#1f77b4\",\"#1f77b4\",\"#ffbb78\",\"#1f77b4\",\"#1f77b4\",\"#1f77b4\",\"#1f77b4\",\"#1f77b4\",\"#1f77b4\",\"#1f77b4\",\"#1f77b4\",\"#aec7e8\",\"#1f77b4\",\"#1f77b4\",\"#1f77b4\",\"#1f77b4\",\"#1f77b4\",\"#1f77b4\",\"#1f77b4\",\"#1f77b4\",\"#ff7f0e\",\"#1f77b4\",\"#1f77b4\",\"#1f77b4\",\"#1f77b4\",\"#1f77b4\",\"#1f77b4\",\"#1f77b4\",\"#1f77b4\",\"#1f77b4\",\"#1f77b4\",\"#1f77b4\",\"#aec7e8\",\"#1f77b4\",\"#1f77b4\",\"#1f77b4\",\"#aec7e8\",\"#1f77b4\",\"#1f77b4\",\"#1f77b4\",\"#1f77b4\",\"#1f77b4\",\"#1f77b4\",\"#1f77b4\",\"#aec7e8\",\"#1f77b4\",\"#aec7e8\",\"#1f77b4\",\"#1f77b4\",\"#ffbb78\",\"#1f77b4\",\"#1f77b4\",\"#1f77b4\",\"#1f77b4\",\"#1f77b4\",\"#1f77b4\",\"#1f77b4\",\"#1f77b4\",\"#1f77b4\",\"#1f77b4\",\"#ff7f0e\",\"#1f77b4\",\"#1f77b4\",\"#aec7e8\",\"#1f77b4\",\"#1f77b4\",\"#1f77b4\",\"#1f77b4\",\"#1f77b4\",\"#1f77b4\",\"#1f77b4\",\"#1f77b4\",\"#1f77b4\",\"#1f77b4\",\"#1f77b4\",\"#1f77b4\",\"#1f77b4\",\"#1f77b4\",\"#1f77b4\",\"#1f77b4\",\"#1f77b4\",\"#1f77b4\",\"#1f77b4\",\"#1f77b4\",\"#1f77b4\",\"#1f77b4\",\"#1f77b4\",\"#1f77b4\",\"#1f77b4\",\"#1f77b4\",\"#1f77b4\",\"#1f77b4\",\"#1f77b4\",\"#1f77b4\",\"#1f77b4\",\"#1f77b4\",\"#aec7e8\",\"#1f77b4\",\"#1f77b4\",\"#1f77b4\",\"#1f77b4\",\"#1f77b4\",\"#aec7e8\",\"#aec7e8\",\"#ff7f0e\",\"#aec7e8\",\"#aec7e8\",\"#1f77b4\",\"#1f77b4\",\"#1f77b4\",\"#1f77b4\",\"#1f77b4\",\"#1f77b4\",\"#1f77b4\",\"#1f77b4\",\"#1f77b4\",\"#1f77b4\",\"#1f77b4\",\"#1f77b4\",\"#1f77b4\",\"#1f77b4\",\"#1f77b4\",\"#1f77b4\",\"#aec7e8\",\"#1f77b4\",\"#1f77b4\",\"#1f77b4\",\"#1f77b4\",\"#1f77b4\",\"#ff7f0e\",\"#ff7f0e\",\"#1f77b4\",\"#1f77b4\",\"#aec7e8\",\"#1f77b4\",\"#1f77b4\",\"#aec7e8\",\"#1f77b4\",\"#1f77b4\",\"#1f77b4\",\"#1f77b4\",\"#1f77b4\",\"#1f77b4\",\"#1f77b4\",\"#aec7e8\",\"#1f77b4\",\"#1f77b4\",\"#aec7e8\",\"#aec7e8\",\"#1f77b4\",\"#1f77b4\",\"#1f77b4\",\"#1f77b4\",\"#1f77b4\",\"#1f77b4\",\"#1f77b4\",\"#1f77b4\",\"#1f77b4\",\"#1f77b4\",\"#aec7e8\",\"#aec7e8\",\"#1f77b4\",\"#1f77b4\",\"#ff7f0e\",\"#1f77b4\",\"#aec7e8\",\"#1f77b4\",\"#1f77b4\",\"#1f77b4\",\"#aec7e8\",\"#1f77b4\",\"#1f77b4\",\"#1f77b4\",\"#1f77b4\",\"#aec7e8\",\"#1f77b4\",\"#1f77b4\",\"#1f77b4\",\"#1f77b4\",\"#1f77b4\",\"#ff7f0e\",\"#1f77b4\",\"#1f77b4\",\"#1f77b4\",\"#1f77b4\",\"#1f77b4\",\"#1f77b4\",\"#1f77b4\",\"#aec7e8\",\"#1f77b4\",\"#1f77b4\",\"#1f77b4\",\"#1f77b4\",\"#1f77b4\",\"#1f77b4\",\"#1f77b4\",\"#1f77b4\",\"#1f77b4\",\"#1f77b4\",\"#1f77b4\",\"#1f77b4\",\"#1f77b4\",\"#1f77b4\",\"#1f77b4\",\"#1f77b4\",\"#aec7e8\",\"#ff7f0e\",\"#1f77b4\",\"#1f77b4\",\"#1f77b4\",\"#1f77b4\",\"#1f77b4\",\"#1f77b4\",\"#1f77b4\",\"#1f77b4\",\"#aec7e8\",\"#1f77b4\",\"#1f77b4\",\"#1f77b4\",\"#1f77b4\",\"#1f77b4\",\"#1f77b4\",\"#aec7e8\",\"#1f77b4\",\"#1f77b4\",\"#1f77b4\",\"#1f77b4\",\"#1f77b4\",\"#1f77b4\",\"#1f77b4\",\"#aec7e8\",\"#1f77b4\",\"#1f77b4\",\"#1f77b4\",\"#aec7e8\",\"#1f77b4\",\"#1f77b4\",\"#1f77b4\",\"#1f77b4\",\"#1f77b4\",\"#1f77b4\",\"#1f77b4\",\"#1f77b4\",\"#1f77b4\",\"#1f77b4\",\"#1f77b4\",\"#1f77b4\",\"#1f77b4\",\"#1f77b4\",\"#1f77b4\",\"#aec7e8\",\"#1f77b4\",\"#1f77b4\",\"#1f77b4\",\"#aec7e8\",\"#1f77b4\",\"#1f77b4\",\"#1f77b4\",\"#1f77b4\",\"#aec7e8\",\"#1f77b4\",\"#1f77b4\",\"#1f77b4\",\"#1f77b4\",\"#aec7e8\",\"#1f77b4\",\"#aec7e8\",\"#1f77b4\",\"#1f77b4\",\"#1f77b4\",\"#1f77b4\",\"#1f77b4\",\"#1f77b4\",\"#1f77b4\",\"#1f77b4\",\"#1f77b4\",\"#1f77b4\",\"#1f77b4\",\"#1f77b4\",\"#1f77b4\",\"#1f77b4\",\"#1f77b4\",\"#ff7f0e\",\"#1f77b4\",\"#1f77b4\",\"#1f77b4\",\"#1f77b4\",\"#1f77b4\",\"#1f77b4\",\"#1f77b4\",\"#1f77b4\",\"#1f77b4\",\"#1f77b4\",\"#ffbb78\",\"#1f77b4\",\"#1f77b4\",\"#1f77b4\",\"#1f77b4\",\"#1f77b4\",\"#1f77b4\",\"#1f77b4\",\"#1f77b4\",\"#1f77b4\",\"#1f77b4\",\"#1f77b4\",\"#1f77b4\",\"#1f77b4\",\"#1f77b4\",\"#1f77b4\",\"#1f77b4\",\"#1f77b4\",\"#1f77b4\",\"#1f77b4\",\"#1f77b4\",\"#1f77b4\",\"#1f77b4\",\"#1f77b4\",\"#1f77b4\",\"#1f77b4\",\"#1f77b4\",\"#1f77b4\",\"#1f77b4\",\"#1f77b4\",\"#1f77b4\",\"#1f77b4\",\"#1f77b4\",\"#1f77b4\",\"#ff7f0e\",\"#1f77b4\",\"#1f77b4\",\"#aec7e8\",\"#1f77b4\",\"#aec7e8\",\"#1f77b4\",\"#1f77b4\",\"#1f77b4\",\"#aec7e8\",\"#1f77b4\",\"#1f77b4\",\"#1f77b4\",\"#1f77b4\",\"#1f77b4\",\"#aec7e8\",\"#1f77b4\",\"#1f77b4\",\"#1f77b4\",\"#1f77b4\",\"#1f77b4\",\"#1f77b4\",\"#1f77b4\",\"#1f77b4\",\"#aec7e8\",\"#1f77b4\",\"#1f77b4\",\"#1f77b4\",\"#1f77b4\",\"#1f77b4\",\"#1f77b4\",\"#aec7e8\",\"#aec7e8\",\"#aec7e8\",\"#aec7e8\",\"#1f77b4\",\"#1f77b4\",\"#1f77b4\",\"#aec7e8\",\"#aec7e8\",\"#1f77b4\",\"#aec7e8\",\"#1f77b4\",\"#1f77b4\",\"#1f77b4\",\"#1f77b4\",\"#1f77b4\",\"#1f77b4\",\"#1f77b4\",\"#1f77b4\",\"#1f77b4\",\"#1f77b4\",\"#aec7e8\",\"#1f77b4\",\"#aec7e8\",\"#1f77b4\",\"#1f77b4\",\"#1f77b4\",\"#1f77b4\",\"#1f77b4\",\"#1f77b4\",\"#aec7e8\",\"#1f77b4\",\"#1f77b4\",\"#1f77b4\",\"#1f77b4\",\"#1f77b4\"],\"shape\":[1217],\"dtype\":\"object\",\"order\":\"little\"}],[\"hatch_color\",{\"type\":\"ndarray\",\"array\":[\"#1f77b4\",\"#1f77b4\",\"#1f77b4\",\"#aec7e8\",\"#1f77b4\",\"#1f77b4\",\"#1f77b4\",\"#1f77b4\",\"#1f77b4\",\"#1f77b4\",\"#1f77b4\",\"#1f77b4\",\"#1f77b4\",\"#1f77b4\",\"#1f77b4\",\"#1f77b4\",\"#1f77b4\",\"#aec7e8\",\"#1f77b4\",\"#1f77b4\",\"#1f77b4\",\"#1f77b4\",\"#1f77b4\",\"#aec7e8\",\"#1f77b4\",\"#1f77b4\",\"#1f77b4\",\"#1f77b4\",\"#1f77b4\",\"#1f77b4\",\"#1f77b4\",\"#1f77b4\",\"#aec7e8\",\"#1f77b4\",\"#1f77b4\",\"#1f77b4\",\"#aec7e8\",\"#1f77b4\",\"#1f77b4\",\"#1f77b4\",\"#1f77b4\",\"#ff7f0e\",\"#1f77b4\",\"#1f77b4\",\"#1f77b4\",\"#1f77b4\",\"#1f77b4\",\"#1f77b4\",\"#1f77b4\",\"#1f77b4\",\"#1f77b4\",\"#1f77b4\",\"#aec7e8\",\"#1f77b4\",\"#1f77b4\",\"#1f77b4\",\"#1f77b4\",\"#1f77b4\",\"#1f77b4\",\"#aec7e8\",\"#1f77b4\",\"#1f77b4\",\"#1f77b4\",\"#1f77b4\",\"#1f77b4\",\"#1f77b4\",\"#1f77b4\",\"#1f77b4\",\"#1f77b4\",\"#1f77b4\",\"#1f77b4\",\"#1f77b4\",\"#1f77b4\",\"#aec7e8\",\"#1f77b4\",\"#1f77b4\",\"#1f77b4\",\"#1f77b4\",\"#1f77b4\",\"#1f77b4\",\"#ff7f0e\",\"#1f77b4\",\"#1f77b4\",\"#1f77b4\",\"#1f77b4\",\"#1f77b4\",\"#1f77b4\",\"#1f77b4\",\"#aec7e8\",\"#1f77b4\",\"#1f77b4\",\"#1f77b4\",\"#1f77b4\",\"#1f77b4\",\"#ff7f0e\",\"#1f77b4\",\"#1f77b4\",\"#1f77b4\",\"#1f77b4\",\"#1f77b4\",\"#1f77b4\",\"#1f77b4\",\"#1f77b4\",\"#1f77b4\",\"#1f77b4\",\"#1f77b4\",\"#1f77b4\",\"#1f77b4\",\"#1f77b4\",\"#1f77b4\",\"#1f77b4\",\"#1f77b4\",\"#aec7e8\",\"#1f77b4\",\"#1f77b4\",\"#1f77b4\",\"#1f77b4\",\"#1f77b4\",\"#1f77b4\",\"#1f77b4\",\"#1f77b4\",\"#aec7e8\",\"#1f77b4\",\"#1f77b4\",\"#1f77b4\",\"#1f77b4\",\"#aec7e8\",\"#1f77b4\",\"#1f77b4\",\"#1f77b4\",\"#1f77b4\",\"#1f77b4\",\"#aec7e8\",\"#aec7e8\",\"#1f77b4\",\"#1f77b4\",\"#1f77b4\",\"#ff7f0e\",\"#1f77b4\",\"#1f77b4\",\"#1f77b4\",\"#ff7f0e\",\"#1f77b4\",\"#aec7e8\",\"#1f77b4\",\"#1f77b4\",\"#1f77b4\",\"#1f77b4\",\"#1f77b4\",\"#ff7f0e\",\"#1f77b4\",\"#1f77b4\",\"#aec7e8\",\"#aec7e8\",\"#aec7e8\",\"#1f77b4\",\"#1f77b4\",\"#1f77b4\",\"#1f77b4\",\"#1f77b4\",\"#1f77b4\",\"#1f77b4\",\"#1f77b4\",\"#1f77b4\",\"#1f77b4\",\"#1f77b4\",\"#1f77b4\",\"#1f77b4\",\"#1f77b4\",\"#aec7e8\",\"#1f77b4\",\"#1f77b4\",\"#1f77b4\",\"#1f77b4\",\"#aec7e8\",\"#1f77b4\",\"#1f77b4\",\"#1f77b4\",\"#1f77b4\",\"#1f77b4\",\"#1f77b4\",\"#1f77b4\",\"#ff7f0e\",\"#1f77b4\",\"#1f77b4\",\"#1f77b4\",\"#1f77b4\",\"#1f77b4\",\"#ff7f0e\",\"#1f77b4\",\"#aec7e8\",\"#1f77b4\",\"#1f77b4\",\"#1f77b4\",\"#1f77b4\",\"#1f77b4\",\"#aec7e8\",\"#aec7e8\",\"#1f77b4\",\"#1f77b4\",\"#1f77b4\",\"#1f77b4\",\"#1f77b4\",\"#1f77b4\",\"#1f77b4\",\"#1f77b4\",\"#1f77b4\",\"#1f77b4\",\"#aec7e8\",\"#1f77b4\",\"#1f77b4\",\"#1f77b4\",\"#ffbb78\",\"#1f77b4\",\"#1f77b4\",\"#1f77b4\",\"#1f77b4\",\"#1f77b4\",\"#1f77b4\",\"#1f77b4\",\"#1f77b4\",\"#1f77b4\",\"#ff7f0e\",\"#1f77b4\",\"#1f77b4\",\"#1f77b4\",\"#1f77b4\",\"#1f77b4\",\"#1f77b4\",\"#1f77b4\",\"#1f77b4\",\"#1f77b4\",\"#1f77b4\",\"#1f77b4\",\"#1f77b4\",\"#1f77b4\",\"#1f77b4\",\"#1f77b4\",\"#1f77b4\",\"#1f77b4\",\"#aec7e8\",\"#1f77b4\",\"#1f77b4\",\"#aec7e8\",\"#aec7e8\",\"#1f77b4\",\"#1f77b4\",\"#1f77b4\",\"#1f77b4\",\"#1f77b4\",\"#1f77b4\",\"#1f77b4\",\"#1f77b4\",\"#1f77b4\",\"#1f77b4\",\"#1f77b4\",\"#aec7e8\",\"#1f77b4\",\"#1f77b4\",\"#1f77b4\",\"#1f77b4\",\"#1f77b4\",\"#1f77b4\",\"#1f77b4\",\"#1f77b4\",\"#1f77b4\",\"#1f77b4\",\"#1f77b4\",\"#1f77b4\",\"#1f77b4\",\"#1f77b4\",\"#1f77b4\",\"#1f77b4\",\"#aec7e8\",\"#aec7e8\",\"#1f77b4\",\"#1f77b4\",\"#1f77b4\",\"#1f77b4\",\"#1f77b4\",\"#1f77b4\",\"#1f77b4\",\"#1f77b4\",\"#1f77b4\",\"#1f77b4\",\"#1f77b4\",\"#1f77b4\",\"#aec7e8\",\"#aec7e8\",\"#1f77b4\",\"#1f77b4\",\"#1f77b4\",\"#1f77b4\",\"#aec7e8\",\"#1f77b4\",\"#1f77b4\",\"#1f77b4\",\"#1f77b4\",\"#1f77b4\",\"#1f77b4\",\"#1f77b4\",\"#1f77b4\",\"#1f77b4\",\"#1f77b4\",\"#1f77b4\",\"#1f77b4\",\"#1f77b4\",\"#1f77b4\",\"#1f77b4\",\"#1f77b4\",\"#1f77b4\",\"#1f77b4\",\"#1f77b4\",\"#1f77b4\",\"#1f77b4\",\"#1f77b4\",\"#1f77b4\",\"#1f77b4\",\"#1f77b4\",\"#aec7e8\",\"#1f77b4\",\"#1f77b4\",\"#1f77b4\",\"#1f77b4\",\"#1f77b4\",\"#1f77b4\",\"#1f77b4\",\"#1f77b4\",\"#1f77b4\",\"#1f77b4\",\"#1f77b4\",\"#ffbb78\",\"#aec7e8\",\"#aec7e8\",\"#1f77b4\",\"#aec7e8\",\"#1f77b4\",\"#1f77b4\",\"#1f77b4\",\"#1f77b4\",\"#1f77b4\",\"#1f77b4\",\"#1f77b4\",\"#aec7e8\",\"#1f77b4\",\"#1f77b4\",\"#1f77b4\",\"#1f77b4\",\"#1f77b4\",\"#1f77b4\",\"#1f77b4\",\"#1f77b4\",\"#1f77b4\",\"#aec7e8\",\"#1f77b4\",\"#1f77b4\",\"#1f77b4\",\"#1f77b4\",\"#1f77b4\",\"#1f77b4\",\"#1f77b4\",\"#1f77b4\",\"#1f77b4\",\"#1f77b4\",\"#1f77b4\",\"#1f77b4\",\"#1f77b4\",\"#1f77b4\",\"#1f77b4\",\"#1f77b4\",\"#1f77b4\",\"#1f77b4\",\"#1f77b4\",\"#1f77b4\",\"#1f77b4\",\"#1f77b4\",\"#1f77b4\",\"#1f77b4\",\"#1f77b4\",\"#1f77b4\",\"#1f77b4\",\"#1f77b4\",\"#1f77b4\",\"#1f77b4\",\"#1f77b4\",\"#1f77b4\",\"#1f77b4\",\"#aec7e8\",\"#1f77b4\",\"#1f77b4\",\"#1f77b4\",\"#1f77b4\",\"#1f77b4\",\"#1f77b4\",\"#1f77b4\",\"#1f77b4\",\"#ff7f0e\",\"#1f77b4\",\"#1f77b4\",\"#1f77b4\",\"#1f77b4\",\"#1f77b4\",\"#1f77b4\",\"#aec7e8\",\"#1f77b4\",\"#1f77b4\",\"#ff7f0e\",\"#1f77b4\",\"#1f77b4\",\"#1f77b4\",\"#aec7e8\",\"#1f77b4\",\"#1f77b4\",\"#1f77b4\",\"#1f77b4\",\"#1f77b4\",\"#1f77b4\",\"#1f77b4\",\"#1f77b4\",\"#1f77b4\",\"#1f77b4\",\"#1f77b4\",\"#1f77b4\",\"#1f77b4\",\"#1f77b4\",\"#1f77b4\",\"#1f77b4\",\"#1f77b4\",\"#1f77b4\",\"#1f77b4\",\"#1f77b4\",\"#aec7e8\",\"#1f77b4\",\"#1f77b4\",\"#1f77b4\",\"#aec7e8\",\"#1f77b4\",\"#aec7e8\",\"#1f77b4\",\"#aec7e8\",\"#1f77b4\",\"#1f77b4\",\"#1f77b4\",\"#1f77b4\",\"#1f77b4\",\"#1f77b4\",\"#1f77b4\",\"#1f77b4\",\"#1f77b4\",\"#1f77b4\",\"#1f77b4\",\"#aec7e8\",\"#1f77b4\",\"#1f77b4\",\"#1f77b4\",\"#1f77b4\",\"#1f77b4\",\"#1f77b4\",\"#aec7e8\",\"#ffbb78\",\"#1f77b4\",\"#1f77b4\",\"#1f77b4\",\"#1f77b4\",\"#1f77b4\",\"#1f77b4\",\"#1f77b4\",\"#aec7e8\",\"#1f77b4\",\"#1f77b4\",\"#aec7e8\",\"#1f77b4\",\"#1f77b4\",\"#1f77b4\",\"#1f77b4\",\"#1f77b4\",\"#1f77b4\",\"#1f77b4\",\"#1f77b4\",\"#1f77b4\",\"#1f77b4\",\"#1f77b4\",\"#1f77b4\",\"#1f77b4\",\"#1f77b4\",\"#1f77b4\",\"#1f77b4\",\"#1f77b4\",\"#1f77b4\",\"#1f77b4\",\"#1f77b4\",\"#1f77b4\",\"#1f77b4\",\"#aec7e8\",\"#1f77b4\",\"#1f77b4\",\"#1f77b4\",\"#1f77b4\",\"#1f77b4\",\"#aec7e8\",\"#1f77b4\",\"#1f77b4\",\"#1f77b4\",\"#1f77b4\",\"#1f77b4\",\"#1f77b4\",\"#1f77b4\",\"#1f77b4\",\"#1f77b4\",\"#1f77b4\",\"#aec7e8\",\"#1f77b4\",\"#1f77b4\",\"#1f77b4\",\"#1f77b4\",\"#1f77b4\",\"#ff7f0e\",\"#1f77b4\",\"#aec7e8\",\"#1f77b4\",\"#1f77b4\",\"#1f77b4\",\"#ff7f0e\",\"#1f77b4\",\"#1f77b4\",\"#1f77b4\",\"#1f77b4\",\"#1f77b4\",\"#1f77b4\",\"#1f77b4\",\"#1f77b4\",\"#1f77b4\",\"#1f77b4\",\"#1f77b4\",\"#1f77b4\",\"#1f77b4\",\"#aec7e8\",\"#1f77b4\",\"#1f77b4\",\"#1f77b4\",\"#1f77b4\",\"#1f77b4\",\"#1f77b4\",\"#1f77b4\",\"#1f77b4\",\"#1f77b4\",\"#1f77b4\",\"#1f77b4\",\"#1f77b4\",\"#1f77b4\",\"#1f77b4\",\"#1f77b4\",\"#1f77b4\",\"#1f77b4\",\"#1f77b4\",\"#1f77b4\",\"#1f77b4\",\"#1f77b4\",\"#1f77b4\",\"#1f77b4\",\"#1f77b4\",\"#ffbb78\",\"#1f77b4\",\"#1f77b4\",\"#1f77b4\",\"#1f77b4\",\"#1f77b4\",\"#1f77b4\",\"#1f77b4\",\"#1f77b4\",\"#1f77b4\",\"#1f77b4\",\"#1f77b4\",\"#1f77b4\",\"#1f77b4\",\"#1f77b4\",\"#1f77b4\",\"#1f77b4\",\"#1f77b4\",\"#1f77b4\",\"#1f77b4\",\"#aec7e8\",\"#1f77b4\",\"#1f77b4\",\"#1f77b4\",\"#1f77b4\",\"#1f77b4\",\"#1f77b4\",\"#1f77b4\",\"#1f77b4\",\"#1f77b4\",\"#1f77b4\",\"#1f77b4\",\"#1f77b4\",\"#aec7e8\",\"#1f77b4\",\"#aec7e8\",\"#1f77b4\",\"#1f77b4\",\"#1f77b4\",\"#1f77b4\",\"#1f77b4\",\"#1f77b4\",\"#1f77b4\",\"#1f77b4\",\"#1f77b4\",\"#1f77b4\",\"#1f77b4\",\"#aec7e8\",\"#aec7e8\",\"#1f77b4\",\"#1f77b4\",\"#1f77b4\",\"#1f77b4\",\"#ff7f0e\",\"#1f77b4\",\"#1f77b4\",\"#1f77b4\",\"#1f77b4\",\"#1f77b4\",\"#1f77b4\",\"#1f77b4\",\"#1f77b4\",\"#1f77b4\",\"#1f77b4\",\"#1f77b4\",\"#1f77b4\",\"#1f77b4\",\"#1f77b4\",\"#1f77b4\",\"#1f77b4\",\"#1f77b4\",\"#ff7f0e\",\"#aec7e8\",\"#1f77b4\",\"#1f77b4\",\"#1f77b4\",\"#1f77b4\",\"#1f77b4\",\"#1f77b4\",\"#1f77b4\",\"#1f77b4\",\"#1f77b4\",\"#1f77b4\",\"#1f77b4\",\"#1f77b4\",\"#1f77b4\",\"#1f77b4\",\"#1f77b4\",\"#1f77b4\",\"#1f77b4\",\"#1f77b4\",\"#1f77b4\",\"#1f77b4\",\"#1f77b4\",\"#1f77b4\",\"#aec7e8\",\"#1f77b4\",\"#1f77b4\",\"#1f77b4\",\"#1f77b4\",\"#1f77b4\",\"#1f77b4\",\"#1f77b4\",\"#1f77b4\",\"#1f77b4\",\"#aec7e8\",\"#1f77b4\",\"#1f77b4\",\"#aec7e8\",\"#1f77b4\",\"#1f77b4\",\"#1f77b4\",\"#1f77b4\",\"#1f77b4\",\"#aec7e8\",\"#ff7f0e\",\"#aec7e8\",\"#1f77b4\",\"#1f77b4\",\"#1f77b4\",\"#1f77b4\",\"#1f77b4\",\"#1f77b4\",\"#1f77b4\",\"#1f77b4\",\"#1f77b4\",\"#1f77b4\",\"#1f77b4\",\"#1f77b4\",\"#1f77b4\",\"#1f77b4\",\"#1f77b4\",\"#1f77b4\",\"#1f77b4\",\"#ffbb78\",\"#1f77b4\",\"#1f77b4\",\"#ff7f0e\",\"#1f77b4\",\"#1f77b4\",\"#1f77b4\",\"#1f77b4\",\"#ff7f0e\",\"#1f77b4\",\"#1f77b4\",\"#1f77b4\",\"#1f77b4\",\"#1f77b4\",\"#1f77b4\",\"#1f77b4\",\"#aec7e8\",\"#ff7f0e\",\"#1f77b4\",\"#aec7e8\",\"#1f77b4\",\"#1f77b4\",\"#1f77b4\",\"#1f77b4\",\"#1f77b4\",\"#1f77b4\",\"#ff7f0e\",\"#1f77b4\",\"#1f77b4\",\"#1f77b4\",\"#1f77b4\",\"#1f77b4\",\"#1f77b4\",\"#1f77b4\",\"#1f77b4\",\"#1f77b4\",\"#1f77b4\",\"#1f77b4\",\"#ff7f0e\",\"#1f77b4\",\"#1f77b4\",\"#1f77b4\",\"#1f77b4\",\"#1f77b4\",\"#1f77b4\",\"#1f77b4\",\"#1f77b4\",\"#1f77b4\",\"#aec7e8\",\"#1f77b4\",\"#1f77b4\",\"#1f77b4\",\"#1f77b4\",\"#1f77b4\",\"#1f77b4\",\"#1f77b4\",\"#1f77b4\",\"#1f77b4\",\"#1f77b4\",\"#1f77b4\",\"#1f77b4\",\"#1f77b4\",\"#1f77b4\",\"#1f77b4\",\"#1f77b4\",\"#1f77b4\",\"#1f77b4\",\"#1f77b4\",\"#1f77b4\",\"#1f77b4\",\"#1f77b4\",\"#aec7e8\",\"#1f77b4\",\"#aec7e8\",\"#1f77b4\",\"#1f77b4\",\"#1f77b4\",\"#1f77b4\",\"#ff7f0e\",\"#1f77b4\",\"#1f77b4\",\"#1f77b4\",\"#1f77b4\",\"#1f77b4\",\"#1f77b4\",\"#1f77b4\",\"#1f77b4\",\"#aec7e8\",\"#1f77b4\",\"#1f77b4\",\"#1f77b4\",\"#1f77b4\",\"#1f77b4\",\"#1f77b4\",\"#aec7e8\",\"#1f77b4\",\"#1f77b4\",\"#1f77b4\",\"#1f77b4\",\"#1f77b4\",\"#1f77b4\",\"#1f77b4\",\"#ffbb78\",\"#1f77b4\",\"#1f77b4\",\"#aec7e8\",\"#1f77b4\",\"#1f77b4\",\"#1f77b4\",\"#1f77b4\",\"#aec7e8\",\"#1f77b4\",\"#1f77b4\",\"#1f77b4\",\"#1f77b4\",\"#1f77b4\",\"#1f77b4\",\"#1f77b4\",\"#aec7e8\",\"#aec7e8\",\"#1f77b4\",\"#1f77b4\",\"#1f77b4\",\"#1f77b4\",\"#1f77b4\",\"#1f77b4\",\"#1f77b4\",\"#aec7e8\",\"#1f77b4\",\"#1f77b4\",\"#ffbb78\",\"#1f77b4\",\"#1f77b4\",\"#1f77b4\",\"#1f77b4\",\"#1f77b4\",\"#1f77b4\",\"#1f77b4\",\"#1f77b4\",\"#aec7e8\",\"#1f77b4\",\"#1f77b4\",\"#1f77b4\",\"#1f77b4\",\"#1f77b4\",\"#1f77b4\",\"#1f77b4\",\"#1f77b4\",\"#ff7f0e\",\"#1f77b4\",\"#1f77b4\",\"#1f77b4\",\"#1f77b4\",\"#1f77b4\",\"#1f77b4\",\"#1f77b4\",\"#1f77b4\",\"#1f77b4\",\"#1f77b4\",\"#1f77b4\",\"#aec7e8\",\"#1f77b4\",\"#1f77b4\",\"#1f77b4\",\"#aec7e8\",\"#1f77b4\",\"#1f77b4\",\"#1f77b4\",\"#1f77b4\",\"#1f77b4\",\"#1f77b4\",\"#1f77b4\",\"#aec7e8\",\"#1f77b4\",\"#aec7e8\",\"#1f77b4\",\"#1f77b4\",\"#ffbb78\",\"#1f77b4\",\"#1f77b4\",\"#1f77b4\",\"#1f77b4\",\"#1f77b4\",\"#1f77b4\",\"#1f77b4\",\"#1f77b4\",\"#1f77b4\",\"#1f77b4\",\"#ff7f0e\",\"#1f77b4\",\"#1f77b4\",\"#aec7e8\",\"#1f77b4\",\"#1f77b4\",\"#1f77b4\",\"#1f77b4\",\"#1f77b4\",\"#1f77b4\",\"#1f77b4\",\"#1f77b4\",\"#1f77b4\",\"#1f77b4\",\"#1f77b4\",\"#1f77b4\",\"#1f77b4\",\"#1f77b4\",\"#1f77b4\",\"#1f77b4\",\"#1f77b4\",\"#1f77b4\",\"#1f77b4\",\"#1f77b4\",\"#1f77b4\",\"#1f77b4\",\"#1f77b4\",\"#1f77b4\",\"#1f77b4\",\"#1f77b4\",\"#1f77b4\",\"#1f77b4\",\"#1f77b4\",\"#1f77b4\",\"#1f77b4\",\"#1f77b4\",\"#aec7e8\",\"#1f77b4\",\"#1f77b4\",\"#1f77b4\",\"#1f77b4\",\"#1f77b4\",\"#aec7e8\",\"#aec7e8\",\"#ff7f0e\",\"#aec7e8\",\"#aec7e8\",\"#1f77b4\",\"#1f77b4\",\"#1f77b4\",\"#1f77b4\",\"#1f77b4\",\"#1f77b4\",\"#1f77b4\",\"#1f77b4\",\"#1f77b4\",\"#1f77b4\",\"#1f77b4\",\"#1f77b4\",\"#1f77b4\",\"#1f77b4\",\"#1f77b4\",\"#1f77b4\",\"#aec7e8\",\"#1f77b4\",\"#1f77b4\",\"#1f77b4\",\"#1f77b4\",\"#1f77b4\",\"#ff7f0e\",\"#ff7f0e\",\"#1f77b4\",\"#1f77b4\",\"#aec7e8\",\"#1f77b4\",\"#1f77b4\",\"#aec7e8\",\"#1f77b4\",\"#1f77b4\",\"#1f77b4\",\"#1f77b4\",\"#1f77b4\",\"#1f77b4\",\"#1f77b4\",\"#aec7e8\",\"#1f77b4\",\"#1f77b4\",\"#aec7e8\",\"#aec7e8\",\"#1f77b4\",\"#1f77b4\",\"#1f77b4\",\"#1f77b4\",\"#1f77b4\",\"#1f77b4\",\"#1f77b4\",\"#1f77b4\",\"#1f77b4\",\"#1f77b4\",\"#aec7e8\",\"#aec7e8\",\"#1f77b4\",\"#1f77b4\",\"#ff7f0e\",\"#1f77b4\",\"#aec7e8\",\"#1f77b4\",\"#1f77b4\",\"#1f77b4\",\"#aec7e8\",\"#1f77b4\",\"#1f77b4\",\"#1f77b4\",\"#1f77b4\",\"#aec7e8\",\"#1f77b4\",\"#1f77b4\",\"#1f77b4\",\"#1f77b4\",\"#1f77b4\",\"#ff7f0e\",\"#1f77b4\",\"#1f77b4\",\"#1f77b4\",\"#1f77b4\",\"#1f77b4\",\"#1f77b4\",\"#1f77b4\",\"#aec7e8\",\"#1f77b4\",\"#1f77b4\",\"#1f77b4\",\"#1f77b4\",\"#1f77b4\",\"#1f77b4\",\"#1f77b4\",\"#1f77b4\",\"#1f77b4\",\"#1f77b4\",\"#1f77b4\",\"#1f77b4\",\"#1f77b4\",\"#1f77b4\",\"#1f77b4\",\"#1f77b4\",\"#aec7e8\",\"#ff7f0e\",\"#1f77b4\",\"#1f77b4\",\"#1f77b4\",\"#1f77b4\",\"#1f77b4\",\"#1f77b4\",\"#1f77b4\",\"#1f77b4\",\"#aec7e8\",\"#1f77b4\",\"#1f77b4\",\"#1f77b4\",\"#1f77b4\",\"#1f77b4\",\"#1f77b4\",\"#aec7e8\",\"#1f77b4\",\"#1f77b4\",\"#1f77b4\",\"#1f77b4\",\"#1f77b4\",\"#1f77b4\",\"#1f77b4\",\"#aec7e8\",\"#1f77b4\",\"#1f77b4\",\"#1f77b4\",\"#aec7e8\",\"#1f77b4\",\"#1f77b4\",\"#1f77b4\",\"#1f77b4\",\"#1f77b4\",\"#1f77b4\",\"#1f77b4\",\"#1f77b4\",\"#1f77b4\",\"#1f77b4\",\"#1f77b4\",\"#1f77b4\",\"#1f77b4\",\"#1f77b4\",\"#1f77b4\",\"#aec7e8\",\"#1f77b4\",\"#1f77b4\",\"#1f77b4\",\"#aec7e8\",\"#1f77b4\",\"#1f77b4\",\"#1f77b4\",\"#1f77b4\",\"#aec7e8\",\"#1f77b4\",\"#1f77b4\",\"#1f77b4\",\"#1f77b4\",\"#aec7e8\",\"#1f77b4\",\"#aec7e8\",\"#1f77b4\",\"#1f77b4\",\"#1f77b4\",\"#1f77b4\",\"#1f77b4\",\"#1f77b4\",\"#1f77b4\",\"#1f77b4\",\"#1f77b4\",\"#1f77b4\",\"#1f77b4\",\"#1f77b4\",\"#1f77b4\",\"#1f77b4\",\"#1f77b4\",\"#ff7f0e\",\"#1f77b4\",\"#1f77b4\",\"#1f77b4\",\"#1f77b4\",\"#1f77b4\",\"#1f77b4\",\"#1f77b4\",\"#1f77b4\",\"#1f77b4\",\"#1f77b4\",\"#ffbb78\",\"#1f77b4\",\"#1f77b4\",\"#1f77b4\",\"#1f77b4\",\"#1f77b4\",\"#1f77b4\",\"#1f77b4\",\"#1f77b4\",\"#1f77b4\",\"#1f77b4\",\"#1f77b4\",\"#1f77b4\",\"#1f77b4\",\"#1f77b4\",\"#1f77b4\",\"#1f77b4\",\"#1f77b4\",\"#1f77b4\",\"#1f77b4\",\"#1f77b4\",\"#1f77b4\",\"#1f77b4\",\"#1f77b4\",\"#1f77b4\",\"#1f77b4\",\"#1f77b4\",\"#1f77b4\",\"#1f77b4\",\"#1f77b4\",\"#1f77b4\",\"#1f77b4\",\"#1f77b4\",\"#1f77b4\",\"#ff7f0e\",\"#1f77b4\",\"#1f77b4\",\"#aec7e8\",\"#1f77b4\",\"#aec7e8\",\"#1f77b4\",\"#1f77b4\",\"#1f77b4\",\"#aec7e8\",\"#1f77b4\",\"#1f77b4\",\"#1f77b4\",\"#1f77b4\",\"#1f77b4\",\"#aec7e8\",\"#1f77b4\",\"#1f77b4\",\"#1f77b4\",\"#1f77b4\",\"#1f77b4\",\"#1f77b4\",\"#1f77b4\",\"#1f77b4\",\"#aec7e8\",\"#1f77b4\",\"#1f77b4\",\"#1f77b4\",\"#1f77b4\",\"#1f77b4\",\"#1f77b4\",\"#aec7e8\",\"#aec7e8\",\"#aec7e8\",\"#aec7e8\",\"#1f77b4\",\"#1f77b4\",\"#1f77b4\",\"#aec7e8\",\"#aec7e8\",\"#1f77b4\",\"#aec7e8\",\"#1f77b4\",\"#1f77b4\",\"#1f77b4\",\"#1f77b4\",\"#1f77b4\",\"#1f77b4\",\"#1f77b4\",\"#1f77b4\",\"#1f77b4\",\"#1f77b4\",\"#aec7e8\",\"#1f77b4\",\"#aec7e8\",\"#1f77b4\",\"#1f77b4\",\"#1f77b4\",\"#1f77b4\",\"#1f77b4\",\"#1f77b4\",\"#aec7e8\",\"#1f77b4\",\"#1f77b4\",\"#1f77b4\",\"#1f77b4\",\"#1f77b4\"],\"shape\":[1217],\"dtype\":\"object\",\"order\":\"little\"}],[\"line_color\",{\"type\":\"ndarray\",\"array\":[\"#1f77b4\",\"#1f77b4\",\"#1f77b4\",\"#aec7e8\",\"#1f77b4\",\"#1f77b4\",\"#1f77b4\",\"#1f77b4\",\"#1f77b4\",\"#1f77b4\",\"#1f77b4\",\"#1f77b4\",\"#1f77b4\",\"#1f77b4\",\"#1f77b4\",\"#1f77b4\",\"#1f77b4\",\"#aec7e8\",\"#1f77b4\",\"#1f77b4\",\"#1f77b4\",\"#1f77b4\",\"#1f77b4\",\"#aec7e8\",\"#1f77b4\",\"#1f77b4\",\"#1f77b4\",\"#1f77b4\",\"#1f77b4\",\"#1f77b4\",\"#1f77b4\",\"#1f77b4\",\"#aec7e8\",\"#1f77b4\",\"#1f77b4\",\"#1f77b4\",\"#aec7e8\",\"#1f77b4\",\"#1f77b4\",\"#1f77b4\",\"#1f77b4\",\"#ff7f0e\",\"#1f77b4\",\"#1f77b4\",\"#1f77b4\",\"#1f77b4\",\"#1f77b4\",\"#1f77b4\",\"#1f77b4\",\"#1f77b4\",\"#1f77b4\",\"#1f77b4\",\"#aec7e8\",\"#1f77b4\",\"#1f77b4\",\"#1f77b4\",\"#1f77b4\",\"#1f77b4\",\"#1f77b4\",\"#aec7e8\",\"#1f77b4\",\"#1f77b4\",\"#1f77b4\",\"#1f77b4\",\"#1f77b4\",\"#1f77b4\",\"#1f77b4\",\"#1f77b4\",\"#1f77b4\",\"#1f77b4\",\"#1f77b4\",\"#1f77b4\",\"#1f77b4\",\"#aec7e8\",\"#1f77b4\",\"#1f77b4\",\"#1f77b4\",\"#1f77b4\",\"#1f77b4\",\"#1f77b4\",\"#ff7f0e\",\"#1f77b4\",\"#1f77b4\",\"#1f77b4\",\"#1f77b4\",\"#1f77b4\",\"#1f77b4\",\"#1f77b4\",\"#aec7e8\",\"#1f77b4\",\"#1f77b4\",\"#1f77b4\",\"#1f77b4\",\"#1f77b4\",\"#ff7f0e\",\"#1f77b4\",\"#1f77b4\",\"#1f77b4\",\"#1f77b4\",\"#1f77b4\",\"#1f77b4\",\"#1f77b4\",\"#1f77b4\",\"#1f77b4\",\"#1f77b4\",\"#1f77b4\",\"#1f77b4\",\"#1f77b4\",\"#1f77b4\",\"#1f77b4\",\"#1f77b4\",\"#1f77b4\",\"#aec7e8\",\"#1f77b4\",\"#1f77b4\",\"#1f77b4\",\"#1f77b4\",\"#1f77b4\",\"#1f77b4\",\"#1f77b4\",\"#1f77b4\",\"#aec7e8\",\"#1f77b4\",\"#1f77b4\",\"#1f77b4\",\"#1f77b4\",\"#aec7e8\",\"#1f77b4\",\"#1f77b4\",\"#1f77b4\",\"#1f77b4\",\"#1f77b4\",\"#aec7e8\",\"#aec7e8\",\"#1f77b4\",\"#1f77b4\",\"#1f77b4\",\"#ff7f0e\",\"#1f77b4\",\"#1f77b4\",\"#1f77b4\",\"#ff7f0e\",\"#1f77b4\",\"#aec7e8\",\"#1f77b4\",\"#1f77b4\",\"#1f77b4\",\"#1f77b4\",\"#1f77b4\",\"#ff7f0e\",\"#1f77b4\",\"#1f77b4\",\"#aec7e8\",\"#aec7e8\",\"#aec7e8\",\"#1f77b4\",\"#1f77b4\",\"#1f77b4\",\"#1f77b4\",\"#1f77b4\",\"#1f77b4\",\"#1f77b4\",\"#1f77b4\",\"#1f77b4\",\"#1f77b4\",\"#1f77b4\",\"#1f77b4\",\"#1f77b4\",\"#1f77b4\",\"#aec7e8\",\"#1f77b4\",\"#1f77b4\",\"#1f77b4\",\"#1f77b4\",\"#aec7e8\",\"#1f77b4\",\"#1f77b4\",\"#1f77b4\",\"#1f77b4\",\"#1f77b4\",\"#1f77b4\",\"#1f77b4\",\"#ff7f0e\",\"#1f77b4\",\"#1f77b4\",\"#1f77b4\",\"#1f77b4\",\"#1f77b4\",\"#ff7f0e\",\"#1f77b4\",\"#aec7e8\",\"#1f77b4\",\"#1f77b4\",\"#1f77b4\",\"#1f77b4\",\"#1f77b4\",\"#aec7e8\",\"#aec7e8\",\"#1f77b4\",\"#1f77b4\",\"#1f77b4\",\"#1f77b4\",\"#1f77b4\",\"#1f77b4\",\"#1f77b4\",\"#1f77b4\",\"#1f77b4\",\"#1f77b4\",\"#aec7e8\",\"#1f77b4\",\"#1f77b4\",\"#1f77b4\",\"#ffbb78\",\"#1f77b4\",\"#1f77b4\",\"#1f77b4\",\"#1f77b4\",\"#1f77b4\",\"#1f77b4\",\"#1f77b4\",\"#1f77b4\",\"#1f77b4\",\"#ff7f0e\",\"#1f77b4\",\"#1f77b4\",\"#1f77b4\",\"#1f77b4\",\"#1f77b4\",\"#1f77b4\",\"#1f77b4\",\"#1f77b4\",\"#1f77b4\",\"#1f77b4\",\"#1f77b4\",\"#1f77b4\",\"#1f77b4\",\"#1f77b4\",\"#1f77b4\",\"#1f77b4\",\"#1f77b4\",\"#aec7e8\",\"#1f77b4\",\"#1f77b4\",\"#aec7e8\",\"#aec7e8\",\"#1f77b4\",\"#1f77b4\",\"#1f77b4\",\"#1f77b4\",\"#1f77b4\",\"#1f77b4\",\"#1f77b4\",\"#1f77b4\",\"#1f77b4\",\"#1f77b4\",\"#1f77b4\",\"#aec7e8\",\"#1f77b4\",\"#1f77b4\",\"#1f77b4\",\"#1f77b4\",\"#1f77b4\",\"#1f77b4\",\"#1f77b4\",\"#1f77b4\",\"#1f77b4\",\"#1f77b4\",\"#1f77b4\",\"#1f77b4\",\"#1f77b4\",\"#1f77b4\",\"#1f77b4\",\"#1f77b4\",\"#aec7e8\",\"#aec7e8\",\"#1f77b4\",\"#1f77b4\",\"#1f77b4\",\"#1f77b4\",\"#1f77b4\",\"#1f77b4\",\"#1f77b4\",\"#1f77b4\",\"#1f77b4\",\"#1f77b4\",\"#1f77b4\",\"#1f77b4\",\"#aec7e8\",\"#aec7e8\",\"#1f77b4\",\"#1f77b4\",\"#1f77b4\",\"#1f77b4\",\"#aec7e8\",\"#1f77b4\",\"#1f77b4\",\"#1f77b4\",\"#1f77b4\",\"#1f77b4\",\"#1f77b4\",\"#1f77b4\",\"#1f77b4\",\"#1f77b4\",\"#1f77b4\",\"#1f77b4\",\"#1f77b4\",\"#1f77b4\",\"#1f77b4\",\"#1f77b4\",\"#1f77b4\",\"#1f77b4\",\"#1f77b4\",\"#1f77b4\",\"#1f77b4\",\"#1f77b4\",\"#1f77b4\",\"#1f77b4\",\"#1f77b4\",\"#1f77b4\",\"#aec7e8\",\"#1f77b4\",\"#1f77b4\",\"#1f77b4\",\"#1f77b4\",\"#1f77b4\",\"#1f77b4\",\"#1f77b4\",\"#1f77b4\",\"#1f77b4\",\"#1f77b4\",\"#1f77b4\",\"#ffbb78\",\"#aec7e8\",\"#aec7e8\",\"#1f77b4\",\"#aec7e8\",\"#1f77b4\",\"#1f77b4\",\"#1f77b4\",\"#1f77b4\",\"#1f77b4\",\"#1f77b4\",\"#1f77b4\",\"#aec7e8\",\"#1f77b4\",\"#1f77b4\",\"#1f77b4\",\"#1f77b4\",\"#1f77b4\",\"#1f77b4\",\"#1f77b4\",\"#1f77b4\",\"#1f77b4\",\"#aec7e8\",\"#1f77b4\",\"#1f77b4\",\"#1f77b4\",\"#1f77b4\",\"#1f77b4\",\"#1f77b4\",\"#1f77b4\",\"#1f77b4\",\"#1f77b4\",\"#1f77b4\",\"#1f77b4\",\"#1f77b4\",\"#1f77b4\",\"#1f77b4\",\"#1f77b4\",\"#1f77b4\",\"#1f77b4\",\"#1f77b4\",\"#1f77b4\",\"#1f77b4\",\"#1f77b4\",\"#1f77b4\",\"#1f77b4\",\"#1f77b4\",\"#1f77b4\",\"#1f77b4\",\"#1f77b4\",\"#1f77b4\",\"#1f77b4\",\"#1f77b4\",\"#1f77b4\",\"#1f77b4\",\"#1f77b4\",\"#aec7e8\",\"#1f77b4\",\"#1f77b4\",\"#1f77b4\",\"#1f77b4\",\"#1f77b4\",\"#1f77b4\",\"#1f77b4\",\"#1f77b4\",\"#ff7f0e\",\"#1f77b4\",\"#1f77b4\",\"#1f77b4\",\"#1f77b4\",\"#1f77b4\",\"#1f77b4\",\"#aec7e8\",\"#1f77b4\",\"#1f77b4\",\"#ff7f0e\",\"#1f77b4\",\"#1f77b4\",\"#1f77b4\",\"#aec7e8\",\"#1f77b4\",\"#1f77b4\",\"#1f77b4\",\"#1f77b4\",\"#1f77b4\",\"#1f77b4\",\"#1f77b4\",\"#1f77b4\",\"#1f77b4\",\"#1f77b4\",\"#1f77b4\",\"#1f77b4\",\"#1f77b4\",\"#1f77b4\",\"#1f77b4\",\"#1f77b4\",\"#1f77b4\",\"#1f77b4\",\"#1f77b4\",\"#1f77b4\",\"#aec7e8\",\"#1f77b4\",\"#1f77b4\",\"#1f77b4\",\"#aec7e8\",\"#1f77b4\",\"#aec7e8\",\"#1f77b4\",\"#aec7e8\",\"#1f77b4\",\"#1f77b4\",\"#1f77b4\",\"#1f77b4\",\"#1f77b4\",\"#1f77b4\",\"#1f77b4\",\"#1f77b4\",\"#1f77b4\",\"#1f77b4\",\"#1f77b4\",\"#aec7e8\",\"#1f77b4\",\"#1f77b4\",\"#1f77b4\",\"#1f77b4\",\"#1f77b4\",\"#1f77b4\",\"#aec7e8\",\"#ffbb78\",\"#1f77b4\",\"#1f77b4\",\"#1f77b4\",\"#1f77b4\",\"#1f77b4\",\"#1f77b4\",\"#1f77b4\",\"#aec7e8\",\"#1f77b4\",\"#1f77b4\",\"#aec7e8\",\"#1f77b4\",\"#1f77b4\",\"#1f77b4\",\"#1f77b4\",\"#1f77b4\",\"#1f77b4\",\"#1f77b4\",\"#1f77b4\",\"#1f77b4\",\"#1f77b4\",\"#1f77b4\",\"#1f77b4\",\"#1f77b4\",\"#1f77b4\",\"#1f77b4\",\"#1f77b4\",\"#1f77b4\",\"#1f77b4\",\"#1f77b4\",\"#1f77b4\",\"#1f77b4\",\"#1f77b4\",\"#aec7e8\",\"#1f77b4\",\"#1f77b4\",\"#1f77b4\",\"#1f77b4\",\"#1f77b4\",\"#aec7e8\",\"#1f77b4\",\"#1f77b4\",\"#1f77b4\",\"#1f77b4\",\"#1f77b4\",\"#1f77b4\",\"#1f77b4\",\"#1f77b4\",\"#1f77b4\",\"#1f77b4\",\"#aec7e8\",\"#1f77b4\",\"#1f77b4\",\"#1f77b4\",\"#1f77b4\",\"#1f77b4\",\"#ff7f0e\",\"#1f77b4\",\"#aec7e8\",\"#1f77b4\",\"#1f77b4\",\"#1f77b4\",\"#ff7f0e\",\"#1f77b4\",\"#1f77b4\",\"#1f77b4\",\"#1f77b4\",\"#1f77b4\",\"#1f77b4\",\"#1f77b4\",\"#1f77b4\",\"#1f77b4\",\"#1f77b4\",\"#1f77b4\",\"#1f77b4\",\"#1f77b4\",\"#aec7e8\",\"#1f77b4\",\"#1f77b4\",\"#1f77b4\",\"#1f77b4\",\"#1f77b4\",\"#1f77b4\",\"#1f77b4\",\"#1f77b4\",\"#1f77b4\",\"#1f77b4\",\"#1f77b4\",\"#1f77b4\",\"#1f77b4\",\"#1f77b4\",\"#1f77b4\",\"#1f77b4\",\"#1f77b4\",\"#1f77b4\",\"#1f77b4\",\"#1f77b4\",\"#1f77b4\",\"#1f77b4\",\"#1f77b4\",\"#1f77b4\",\"#ffbb78\",\"#1f77b4\",\"#1f77b4\",\"#1f77b4\",\"#1f77b4\",\"#1f77b4\",\"#1f77b4\",\"#1f77b4\",\"#1f77b4\",\"#1f77b4\",\"#1f77b4\",\"#1f77b4\",\"#1f77b4\",\"#1f77b4\",\"#1f77b4\",\"#1f77b4\",\"#1f77b4\",\"#1f77b4\",\"#1f77b4\",\"#1f77b4\",\"#aec7e8\",\"#1f77b4\",\"#1f77b4\",\"#1f77b4\",\"#1f77b4\",\"#1f77b4\",\"#1f77b4\",\"#1f77b4\",\"#1f77b4\",\"#1f77b4\",\"#1f77b4\",\"#1f77b4\",\"#1f77b4\",\"#aec7e8\",\"#1f77b4\",\"#aec7e8\",\"#1f77b4\",\"#1f77b4\",\"#1f77b4\",\"#1f77b4\",\"#1f77b4\",\"#1f77b4\",\"#1f77b4\",\"#1f77b4\",\"#1f77b4\",\"#1f77b4\",\"#1f77b4\",\"#aec7e8\",\"#aec7e8\",\"#1f77b4\",\"#1f77b4\",\"#1f77b4\",\"#1f77b4\",\"#ff7f0e\",\"#1f77b4\",\"#1f77b4\",\"#1f77b4\",\"#1f77b4\",\"#1f77b4\",\"#1f77b4\",\"#1f77b4\",\"#1f77b4\",\"#1f77b4\",\"#1f77b4\",\"#1f77b4\",\"#1f77b4\",\"#1f77b4\",\"#1f77b4\",\"#1f77b4\",\"#1f77b4\",\"#1f77b4\",\"#ff7f0e\",\"#aec7e8\",\"#1f77b4\",\"#1f77b4\",\"#1f77b4\",\"#1f77b4\",\"#1f77b4\",\"#1f77b4\",\"#1f77b4\",\"#1f77b4\",\"#1f77b4\",\"#1f77b4\",\"#1f77b4\",\"#1f77b4\",\"#1f77b4\",\"#1f77b4\",\"#1f77b4\",\"#1f77b4\",\"#1f77b4\",\"#1f77b4\",\"#1f77b4\",\"#1f77b4\",\"#1f77b4\",\"#1f77b4\",\"#aec7e8\",\"#1f77b4\",\"#1f77b4\",\"#1f77b4\",\"#1f77b4\",\"#1f77b4\",\"#1f77b4\",\"#1f77b4\",\"#1f77b4\",\"#1f77b4\",\"#aec7e8\",\"#1f77b4\",\"#1f77b4\",\"#aec7e8\",\"#1f77b4\",\"#1f77b4\",\"#1f77b4\",\"#1f77b4\",\"#1f77b4\",\"#aec7e8\",\"#ff7f0e\",\"#aec7e8\",\"#1f77b4\",\"#1f77b4\",\"#1f77b4\",\"#1f77b4\",\"#1f77b4\",\"#1f77b4\",\"#1f77b4\",\"#1f77b4\",\"#1f77b4\",\"#1f77b4\",\"#1f77b4\",\"#1f77b4\",\"#1f77b4\",\"#1f77b4\",\"#1f77b4\",\"#1f77b4\",\"#1f77b4\",\"#ffbb78\",\"#1f77b4\",\"#1f77b4\",\"#ff7f0e\",\"#1f77b4\",\"#1f77b4\",\"#1f77b4\",\"#1f77b4\",\"#ff7f0e\",\"#1f77b4\",\"#1f77b4\",\"#1f77b4\",\"#1f77b4\",\"#1f77b4\",\"#1f77b4\",\"#1f77b4\",\"#aec7e8\",\"#ff7f0e\",\"#1f77b4\",\"#aec7e8\",\"#1f77b4\",\"#1f77b4\",\"#1f77b4\",\"#1f77b4\",\"#1f77b4\",\"#1f77b4\",\"#ff7f0e\",\"#1f77b4\",\"#1f77b4\",\"#1f77b4\",\"#1f77b4\",\"#1f77b4\",\"#1f77b4\",\"#1f77b4\",\"#1f77b4\",\"#1f77b4\",\"#1f77b4\",\"#1f77b4\",\"#ff7f0e\",\"#1f77b4\",\"#1f77b4\",\"#1f77b4\",\"#1f77b4\",\"#1f77b4\",\"#1f77b4\",\"#1f77b4\",\"#1f77b4\",\"#1f77b4\",\"#aec7e8\",\"#1f77b4\",\"#1f77b4\",\"#1f77b4\",\"#1f77b4\",\"#1f77b4\",\"#1f77b4\",\"#1f77b4\",\"#1f77b4\",\"#1f77b4\",\"#1f77b4\",\"#1f77b4\",\"#1f77b4\",\"#1f77b4\",\"#1f77b4\",\"#1f77b4\",\"#1f77b4\",\"#1f77b4\",\"#1f77b4\",\"#1f77b4\",\"#1f77b4\",\"#1f77b4\",\"#1f77b4\",\"#aec7e8\",\"#1f77b4\",\"#aec7e8\",\"#1f77b4\",\"#1f77b4\",\"#1f77b4\",\"#1f77b4\",\"#ff7f0e\",\"#1f77b4\",\"#1f77b4\",\"#1f77b4\",\"#1f77b4\",\"#1f77b4\",\"#1f77b4\",\"#1f77b4\",\"#1f77b4\",\"#aec7e8\",\"#1f77b4\",\"#1f77b4\",\"#1f77b4\",\"#1f77b4\",\"#1f77b4\",\"#1f77b4\",\"#aec7e8\",\"#1f77b4\",\"#1f77b4\",\"#1f77b4\",\"#1f77b4\",\"#1f77b4\",\"#1f77b4\",\"#1f77b4\",\"#ffbb78\",\"#1f77b4\",\"#1f77b4\",\"#aec7e8\",\"#1f77b4\",\"#1f77b4\",\"#1f77b4\",\"#1f77b4\",\"#aec7e8\",\"#1f77b4\",\"#1f77b4\",\"#1f77b4\",\"#1f77b4\",\"#1f77b4\",\"#1f77b4\",\"#1f77b4\",\"#aec7e8\",\"#aec7e8\",\"#1f77b4\",\"#1f77b4\",\"#1f77b4\",\"#1f77b4\",\"#1f77b4\",\"#1f77b4\",\"#1f77b4\",\"#aec7e8\",\"#1f77b4\",\"#1f77b4\",\"#ffbb78\",\"#1f77b4\",\"#1f77b4\",\"#1f77b4\",\"#1f77b4\",\"#1f77b4\",\"#1f77b4\",\"#1f77b4\",\"#1f77b4\",\"#aec7e8\",\"#1f77b4\",\"#1f77b4\",\"#1f77b4\",\"#1f77b4\",\"#1f77b4\",\"#1f77b4\",\"#1f77b4\",\"#1f77b4\",\"#ff7f0e\",\"#1f77b4\",\"#1f77b4\",\"#1f77b4\",\"#1f77b4\",\"#1f77b4\",\"#1f77b4\",\"#1f77b4\",\"#1f77b4\",\"#1f77b4\",\"#1f77b4\",\"#1f77b4\",\"#aec7e8\",\"#1f77b4\",\"#1f77b4\",\"#1f77b4\",\"#aec7e8\",\"#1f77b4\",\"#1f77b4\",\"#1f77b4\",\"#1f77b4\",\"#1f77b4\",\"#1f77b4\",\"#1f77b4\",\"#aec7e8\",\"#1f77b4\",\"#aec7e8\",\"#1f77b4\",\"#1f77b4\",\"#ffbb78\",\"#1f77b4\",\"#1f77b4\",\"#1f77b4\",\"#1f77b4\",\"#1f77b4\",\"#1f77b4\",\"#1f77b4\",\"#1f77b4\",\"#1f77b4\",\"#1f77b4\",\"#ff7f0e\",\"#1f77b4\",\"#1f77b4\",\"#aec7e8\",\"#1f77b4\",\"#1f77b4\",\"#1f77b4\",\"#1f77b4\",\"#1f77b4\",\"#1f77b4\",\"#1f77b4\",\"#1f77b4\",\"#1f77b4\",\"#1f77b4\",\"#1f77b4\",\"#1f77b4\",\"#1f77b4\",\"#1f77b4\",\"#1f77b4\",\"#1f77b4\",\"#1f77b4\",\"#1f77b4\",\"#1f77b4\",\"#1f77b4\",\"#1f77b4\",\"#1f77b4\",\"#1f77b4\",\"#1f77b4\",\"#1f77b4\",\"#1f77b4\",\"#1f77b4\",\"#1f77b4\",\"#1f77b4\",\"#1f77b4\",\"#1f77b4\",\"#1f77b4\",\"#aec7e8\",\"#1f77b4\",\"#1f77b4\",\"#1f77b4\",\"#1f77b4\",\"#1f77b4\",\"#aec7e8\",\"#aec7e8\",\"#ff7f0e\",\"#aec7e8\",\"#aec7e8\",\"#1f77b4\",\"#1f77b4\",\"#1f77b4\",\"#1f77b4\",\"#1f77b4\",\"#1f77b4\",\"#1f77b4\",\"#1f77b4\",\"#1f77b4\",\"#1f77b4\",\"#1f77b4\",\"#1f77b4\",\"#1f77b4\",\"#1f77b4\",\"#1f77b4\",\"#1f77b4\",\"#aec7e8\",\"#1f77b4\",\"#1f77b4\",\"#1f77b4\",\"#1f77b4\",\"#1f77b4\",\"#ff7f0e\",\"#ff7f0e\",\"#1f77b4\",\"#1f77b4\",\"#aec7e8\",\"#1f77b4\",\"#1f77b4\",\"#aec7e8\",\"#1f77b4\",\"#1f77b4\",\"#1f77b4\",\"#1f77b4\",\"#1f77b4\",\"#1f77b4\",\"#1f77b4\",\"#aec7e8\",\"#1f77b4\",\"#1f77b4\",\"#aec7e8\",\"#aec7e8\",\"#1f77b4\",\"#1f77b4\",\"#1f77b4\",\"#1f77b4\",\"#1f77b4\",\"#1f77b4\",\"#1f77b4\",\"#1f77b4\",\"#1f77b4\",\"#1f77b4\",\"#aec7e8\",\"#aec7e8\",\"#1f77b4\",\"#1f77b4\",\"#ff7f0e\",\"#1f77b4\",\"#aec7e8\",\"#1f77b4\",\"#1f77b4\",\"#1f77b4\",\"#aec7e8\",\"#1f77b4\",\"#1f77b4\",\"#1f77b4\",\"#1f77b4\",\"#aec7e8\",\"#1f77b4\",\"#1f77b4\",\"#1f77b4\",\"#1f77b4\",\"#1f77b4\",\"#ff7f0e\",\"#1f77b4\",\"#1f77b4\",\"#1f77b4\",\"#1f77b4\",\"#1f77b4\",\"#1f77b4\",\"#1f77b4\",\"#aec7e8\",\"#1f77b4\",\"#1f77b4\",\"#1f77b4\",\"#1f77b4\",\"#1f77b4\",\"#1f77b4\",\"#1f77b4\",\"#1f77b4\",\"#1f77b4\",\"#1f77b4\",\"#1f77b4\",\"#1f77b4\",\"#1f77b4\",\"#1f77b4\",\"#1f77b4\",\"#1f77b4\",\"#aec7e8\",\"#ff7f0e\",\"#1f77b4\",\"#1f77b4\",\"#1f77b4\",\"#1f77b4\",\"#1f77b4\",\"#1f77b4\",\"#1f77b4\",\"#1f77b4\",\"#aec7e8\",\"#1f77b4\",\"#1f77b4\",\"#1f77b4\",\"#1f77b4\",\"#1f77b4\",\"#1f77b4\",\"#aec7e8\",\"#1f77b4\",\"#1f77b4\",\"#1f77b4\",\"#1f77b4\",\"#1f77b4\",\"#1f77b4\",\"#1f77b4\",\"#aec7e8\",\"#1f77b4\",\"#1f77b4\",\"#1f77b4\",\"#aec7e8\",\"#1f77b4\",\"#1f77b4\",\"#1f77b4\",\"#1f77b4\",\"#1f77b4\",\"#1f77b4\",\"#1f77b4\",\"#1f77b4\",\"#1f77b4\",\"#1f77b4\",\"#1f77b4\",\"#1f77b4\",\"#1f77b4\",\"#1f77b4\",\"#1f77b4\",\"#aec7e8\",\"#1f77b4\",\"#1f77b4\",\"#1f77b4\",\"#aec7e8\",\"#1f77b4\",\"#1f77b4\",\"#1f77b4\",\"#1f77b4\",\"#aec7e8\",\"#1f77b4\",\"#1f77b4\",\"#1f77b4\",\"#1f77b4\",\"#aec7e8\",\"#1f77b4\",\"#aec7e8\",\"#1f77b4\",\"#1f77b4\",\"#1f77b4\",\"#1f77b4\",\"#1f77b4\",\"#1f77b4\",\"#1f77b4\",\"#1f77b4\",\"#1f77b4\",\"#1f77b4\",\"#1f77b4\",\"#1f77b4\",\"#1f77b4\",\"#1f77b4\",\"#1f77b4\",\"#ff7f0e\",\"#1f77b4\",\"#1f77b4\",\"#1f77b4\",\"#1f77b4\",\"#1f77b4\",\"#1f77b4\",\"#1f77b4\",\"#1f77b4\",\"#1f77b4\",\"#1f77b4\",\"#ffbb78\",\"#1f77b4\",\"#1f77b4\",\"#1f77b4\",\"#1f77b4\",\"#1f77b4\",\"#1f77b4\",\"#1f77b4\",\"#1f77b4\",\"#1f77b4\",\"#1f77b4\",\"#1f77b4\",\"#1f77b4\",\"#1f77b4\",\"#1f77b4\",\"#1f77b4\",\"#1f77b4\",\"#1f77b4\",\"#1f77b4\",\"#1f77b4\",\"#1f77b4\",\"#1f77b4\",\"#1f77b4\",\"#1f77b4\",\"#1f77b4\",\"#1f77b4\",\"#1f77b4\",\"#1f77b4\",\"#1f77b4\",\"#1f77b4\",\"#1f77b4\",\"#1f77b4\",\"#1f77b4\",\"#1f77b4\",\"#ff7f0e\",\"#1f77b4\",\"#1f77b4\",\"#aec7e8\",\"#1f77b4\",\"#aec7e8\",\"#1f77b4\",\"#1f77b4\",\"#1f77b4\",\"#aec7e8\",\"#1f77b4\",\"#1f77b4\",\"#1f77b4\",\"#1f77b4\",\"#1f77b4\",\"#aec7e8\",\"#1f77b4\",\"#1f77b4\",\"#1f77b4\",\"#1f77b4\",\"#1f77b4\",\"#1f77b4\",\"#1f77b4\",\"#1f77b4\",\"#aec7e8\",\"#1f77b4\",\"#1f77b4\",\"#1f77b4\",\"#1f77b4\",\"#1f77b4\",\"#1f77b4\",\"#aec7e8\",\"#aec7e8\",\"#aec7e8\",\"#aec7e8\",\"#1f77b4\",\"#1f77b4\",\"#1f77b4\",\"#aec7e8\",\"#aec7e8\",\"#1f77b4\",\"#aec7e8\",\"#1f77b4\",\"#1f77b4\",\"#1f77b4\",\"#1f77b4\",\"#1f77b4\",\"#1f77b4\",\"#1f77b4\",\"#1f77b4\",\"#1f77b4\",\"#1f77b4\",\"#aec7e8\",\"#1f77b4\",\"#aec7e8\",\"#1f77b4\",\"#1f77b4\",\"#1f77b4\",\"#1f77b4\",\"#1f77b4\",\"#1f77b4\",\"#aec7e8\",\"#1f77b4\",\"#1f77b4\",\"#1f77b4\",\"#1f77b4\",\"#1f77b4\"],\"shape\":[1217],\"dtype\":\"object\",\"order\":\"little\"}]]}}},\"view\":{\"type\":\"object\",\"name\":\"CDSView\",\"id\":\"p1045\",\"attributes\":{\"filter\":{\"type\":\"object\",\"name\":\"AllIndices\",\"id\":\"p1046\"}}},\"glyph\":{\"type\":\"object\",\"name\":\"Scatter\",\"id\":\"p1041\",\"attributes\":{\"x\":{\"type\":\"field\",\"field\":\"x\"},\"y\":{\"type\":\"field\",\"field\":\"y\"},\"line_color\":{\"type\":\"field\",\"field\":\"line_color\"},\"fill_color\":{\"type\":\"field\",\"field\":\"fill_color\"},\"hatch_color\":{\"type\":\"field\",\"field\":\"hatch_color\"}}},\"nonselection_glyph\":{\"type\":\"object\",\"name\":\"Scatter\",\"id\":\"p1042\",\"attributes\":{\"x\":{\"type\":\"field\",\"field\":\"x\"},\"y\":{\"type\":\"field\",\"field\":\"y\"},\"line_color\":{\"type\":\"field\",\"field\":\"line_color\"},\"line_alpha\":{\"type\":\"value\",\"value\":0.1},\"fill_color\":{\"type\":\"field\",\"field\":\"fill_color\"},\"fill_alpha\":{\"type\":\"value\",\"value\":0.1},\"hatch_color\":{\"type\":\"field\",\"field\":\"hatch_color\"},\"hatch_alpha\":{\"type\":\"value\",\"value\":0.1}}},\"muted_glyph\":{\"type\":\"object\",\"name\":\"Scatter\",\"id\":\"p1043\",\"attributes\":{\"x\":{\"type\":\"field\",\"field\":\"x\"},\"y\":{\"type\":\"field\",\"field\":\"y\"},\"line_color\":{\"type\":\"field\",\"field\":\"line_color\"},\"line_alpha\":{\"type\":\"value\",\"value\":0.2},\"fill_color\":{\"type\":\"field\",\"field\":\"fill_color\"},\"fill_alpha\":{\"type\":\"value\",\"value\":0.2},\"hatch_color\":{\"type\":\"field\",\"field\":\"hatch_color\"},\"hatch_alpha\":{\"type\":\"value\",\"value\":0.2}}}}}],\"toolbar\":{\"type\":\"object\",\"name\":\"Toolbar\",\"id\":\"p1012\",\"attributes\":{\"tools\":[{\"type\":\"object\",\"name\":\"PanTool\",\"id\":\"p1025\"},{\"type\":\"object\",\"name\":\"WheelZoomTool\",\"id\":\"p1026\",\"attributes\":{\"renderers\":\"auto\"}},{\"type\":\"object\",\"name\":\"BoxZoomTool\",\"id\":\"p1027\",\"attributes\":{\"dimensions\":\"both\",\"overlay\":{\"type\":\"object\",\"name\":\"BoxAnnotation\",\"id\":\"p1028\",\"attributes\":{\"syncable\":false,\"line_color\":\"black\",\"line_alpha\":1.0,\"line_width\":2,\"line_dash\":[4,4],\"fill_color\":\"lightgrey\",\"fill_alpha\":0.5,\"level\":\"overlay\",\"visible\":false,\"left\":{\"type\":\"number\",\"value\":\"nan\"},\"right\":{\"type\":\"number\",\"value\":\"nan\"},\"top\":{\"type\":\"number\",\"value\":\"nan\"},\"bottom\":{\"type\":\"number\",\"value\":\"nan\"},\"left_units\":\"canvas\",\"right_units\":\"canvas\",\"top_units\":\"canvas\",\"bottom_units\":\"canvas\",\"handles\":{\"type\":\"object\",\"name\":\"BoxInteractionHandles\",\"id\":\"p1034\",\"attributes\":{\"all\":{\"type\":\"object\",\"name\":\"AreaVisuals\",\"id\":\"p1033\",\"attributes\":{\"fill_color\":\"white\",\"hover_fill_color\":\"lightgray\"}}}}}}}},{\"type\":\"object\",\"name\":\"SaveTool\",\"id\":\"p1035\"},{\"type\":\"object\",\"name\":\"ResetTool\",\"id\":\"p1036\"},{\"type\":\"object\",\"name\":\"HelpTool\",\"id\":\"p1037\"}]}},\"left\":[{\"type\":\"object\",\"name\":\"LinearAxis\",\"id\":\"p1020\",\"attributes\":{\"ticker\":{\"type\":\"object\",\"name\":\"BasicTicker\",\"id\":\"p1021\",\"attributes\":{\"mantissas\":[1,2,5]}},\"formatter\":{\"type\":\"object\",\"name\":\"BasicTickFormatter\",\"id\":\"p1022\"},\"major_label_policy\":{\"type\":\"object\",\"name\":\"AllLabels\",\"id\":\"p1023\"}}}],\"below\":[{\"type\":\"object\",\"name\":\"LinearAxis\",\"id\":\"p1015\",\"attributes\":{\"ticker\":{\"type\":\"object\",\"name\":\"BasicTicker\",\"id\":\"p1016\",\"attributes\":{\"mantissas\":[1,2,5]}},\"formatter\":{\"type\":\"object\",\"name\":\"BasicTickFormatter\",\"id\":\"p1017\"},\"major_label_policy\":{\"type\":\"object\",\"name\":\"AllLabels\",\"id\":\"p1018\"}}}],\"center\":[{\"type\":\"object\",\"name\":\"Grid\",\"id\":\"p1019\",\"attributes\":{\"axis\":{\"id\":\"p1015\"}}},{\"type\":\"object\",\"name\":\"Grid\",\"id\":\"p1024\",\"attributes\":{\"dimension\":1,\"axis\":{\"id\":\"p1020\"}}},{\"type\":\"object\",\"name\":\"Label\",\"id\":\"p1047\",\"attributes\":{\"text\":\"bbva millones a\\u00f1o empresas banco\",\"text_color\":\"black\",\"x\":-1.4019125699996948,\"y\":-2.417198419570923}},{\"type\":\"object\",\"name\":\"Label\",\"id\":\"p1048\",\"attributes\":{\"text\":\"inflaci\\u00f3n precios a\\u00f1o alimentos ipc\",\"text_color\":\"black\",\"x\":11.572090148925781,\"y\":21.46079444885254}},{\"type\":\"object\",\"name\":\"Label\",\"id\":\"p1049\",\"attributes\":{\"text\":\"energ\\u00eda agua electricidad el\\u00e9ctrica puede\",\"text_color\":\"black\",\"x\":-4.149060249328613,\"y\":6.42255973815918}},{\"type\":\"object\",\"name\":\"Label\",\"id\":\"p1050\",\"attributes\":{\"text\":\"datos informaci\\u00f3n clientes ciencia modelos\",\"text_color\":\"black\",\"x\":-16.358238220214844,\"y\":1.93241548538208}}]}}]}};\n",
              "  const render_items = [{\"docid\":\"09034ed7-3c89-4d9b-879f-0946f211c4e8\",\"roots\":{\"p1003\":\"e32e38fb-48f8-4c9f-a70e-9524231af74a\"},\"root_ids\":[\"p1003\"]}];\n",
              "  void root.Bokeh.embed.embed_items_notebook(docs_json, render_items);\n",
              "  }\n",
              "  if (root.Bokeh !== undefined) {\n",
              "    embed_document(root);\n",
              "  } else {\n",
              "    let attempts = 0;\n",
              "    const timer = setInterval(function(root) {\n",
              "      if (root.Bokeh !== undefined) {\n",
              "        clearInterval(timer);\n",
              "        embed_document(root);\n",
              "      } else {\n",
              "        attempts++;\n",
              "        if (attempts > 100) {\n",
              "          clearInterval(timer);\n",
              "          console.log(\"Bokeh: ERROR: Unable to run BokehJS code because BokehJS library is missing\");\n",
              "        }\n",
              "      }\n",
              "    }, 10, root)\n",
              "  }\n",
              "})(window);"
            ],
            "application/vnd.bokehjs_exec.v0+json": ""
          },
          "metadata": {
            "application/vnd.bokehjs_exec.v0+json": {
              "id": "p1003"
            }
          }
        },
        {
          "output_type": "stream",
          "name": "stdout",
          "text": [
            "\n",
            "Topic Labels:\n",
            "Topic 0:bbva millones año empresas banco\n",
            "Topic 1:inflación precios año alimentos ipc\n",
            "Topic 2:energía agua electricidad eléctrica puede\n",
            "Topic 3:datos información clientes ciencia modelos\n"
          ]
        }
      ]
    },
    {
      "cell_type": "markdown",
      "source": [
        "### Búsqueda de hiperparámetros"
      ],
      "metadata": {
        "id": "E4djcFyAL6gb"
      }
    },
    {
      "cell_type": "markdown",
      "source": [
        "La búsqueda de hiperparámetros es un paso crítico para encontrar la configuración óptima del modelo LSA. Utilizamos GridSearchCV para explorar sistemáticamente diferentes valores para el número de componentes.\n",
        "\n",
        "La métrica más adecuada para LSA en un contexto no supervisado es el error de reconstrucción (o su negativo)."
      ],
      "metadata": {
        "id": "IlXy5Ju6gtxN"
      }
    },
    {
      "cell_type": "markdown",
      "source": [
        "#### Optimización LSA usando Error de reconstrucción\n",
        "\n",
        "Esta métrica evalúa qué tan bien el modelo puede representar los datos originales en un espacio de menor dimensión y luego reconstruirlos. Un menor error de reconstrucción (o un valor negativo maximizado) indica un modelo que preserva mejor la información del corpus.\n",
        "\n",
        "**Nota sobre la implementación:** Aunque conceptualmente el 'error de reconstrucción' es la métrica correcta, la implementación de GridSearchCV con scorers personalizados para modelos no supervisados en Scikit-learn puede presentar desafíos, como se observa en los resultados nan. Esto a menudo se debe a cómo GridSearchCV espera un y_true incluso si el scorer no lo usa directamente. La función make_scorer puede requerir una configuración específica (como needs_y=False) o una adaptación para manejar la ausencia de y de manera explícita en el pipeline del modelo no supervisado. A pesar de los resultados nan en la ejecución de ejemplo, el método lsa_reconstruction_scorer sigue siendo la aproximación teóricamente correcta."
      ],
      "metadata": {
        "id": "ydfyRRDLpMHV"
      }
    },
    {
      "cell_type": "code",
      "source": [
        "# Se define un scorer no supervisado basado en error de reconstrucción.\n",
        "def lsa_reconstruction_scorer(estimator, X, y=None):\n",
        "    # Se extraen pasos del pipeline\n",
        "    vec = estimator.named_steps['vectorizer']\n",
        "    lsa = estimator.named_steps['lsa']\n",
        "    # Se vectoriza el conjunto de validación\n",
        "    X_dtm = vec.transform(X)\n",
        "    # Se proyecta y reconstruye\n",
        "    X_proj = lsa.transform(X_dtm)\n",
        "    X_recon = lsa.inverse_transform(X_proj)\n",
        "    # Se calcula MSE de reconstrucción (menor = mejor).\n",
        "    # Se devuelve NEGADO para que GridSearchCV maximice el score.\n",
        "    return -mean_squared_error(X_dtm.toarray(), X_recon)\n",
        "\n",
        "recon_scorer = make_scorer(lsa_reconstruction_scorer, greater_is_better=True)\n",
        "\n",
        "# Pipeline: vectorización + LSA\n",
        "lsa_pipeline = Pipeline([\n",
        "    ('vectorizer', CountVectorizer(stop_words=spanish_stop_words,\n",
        "                                   max_features=40000,   # ajusta si hay memoria justa\n",
        "                                   ngram_range=(1,1))), # unigramas típicos para LSA básico\n",
        "    ('lsa', TruncatedSVD(random_state=42, algorithm='randomized'))\n",
        "])\n",
        "\n",
        "# Rango de parámetros a explorar\n",
        "lsa_param_grid = {\n",
        "    'lsa__n_components': [3, 4, 5, 6, 7, 8, 10, 15]\n",
        "}\n",
        "\n",
        "lsa_search = GridSearchCV(\n",
        "    lsa_pipeline,\n",
        "    param_grid=lsa_param_grid,\n",
        "    cv=3,\n",
        "    scoring=recon_scorer,   # <- scorer no supervisado\n",
        "    n_jobs=-1,\n",
        "    verbose=2\n",
        ")\n",
        "\n",
        "lsa_search.fit(data['news'])\n",
        "print(\"Mejores parámetros LSA:\", lsa_search.best_params_)\n",
        "print(\"Mejor (−MSE) de reconstrucción (cv):\", lsa_search.best_score_)"
      ],
      "metadata": {
        "colab": {
          "base_uri": "https://localhost:8080/"
        },
        "id": "IlZ43q9nLw-o",
        "outputId": "237a2b75-93f1-4641-c29a-6c33b3fcbbe9"
      },
      "execution_count": 22,
      "outputs": [
        {
          "output_type": "stream",
          "name": "stdout",
          "text": [
            "Fitting 3 folds for each of 8 candidates, totalling 24 fits\n"
          ]
        },
        {
          "output_type": "stream",
          "name": "stderr",
          "text": [
            "/usr/local/lib/python3.12/dist-packages/sklearn/model_selection/_search.py:1108: UserWarning: One or more of the test scores are non-finite: [nan nan nan nan nan nan nan nan]\n",
            "  warnings.warn(\n"
          ]
        },
        {
          "output_type": "stream",
          "name": "stdout",
          "text": [
            "Mejores parámetros LSA: {'lsa__n_components': 3}\n",
            "Mejor (−MSE) de reconstrucción (cv): nan\n"
          ]
        }
      ]
    },
    {
      "cell_type": "markdown",
      "source": [
        "## **Latent Dirichilet Allocation**\n",
        "\n",
        "A diferencia de LSA, LDA es un modelo probabilístico generativo diseñado para descubrir la estructura temática latente en un corpus de texto. Asume que cada documento es una mezcla de tópicos, y cada tópico es una mezcla de palabras. Este enfoque bayesiano permite una interpretación probabilística de la asignación de palabras a tópicos y de tópicos a documentos.\n",
        "\n",
        "Repetiremos el proceso de identificación y visualización de tópicos, esta vez utilizando LDA."
      ],
      "metadata": {
        "id": "JP_o_L1UIpDc"
      }
    },
    {
      "cell_type": "code",
      "source": [
        "n_topics = 4\n",
        "lda_model = LatentDirichletAllocation(n_components=n_topics, learning_method='online',\n",
        "                                          random_state=0, verbose=0)\n",
        "\n",
        "lda_topic_matrix = lda_model.fit_transform(document_term_matrix)"
      ],
      "metadata": {
        "id": "ZIHZBdgcI1uy"
      },
      "execution_count": 23,
      "outputs": []
    },
    {
      "cell_type": "code",
      "source": [
        "lda_keys = get_keys(lda_topic_matrix)\n",
        "lda_categories, lda_counts = keys_to_counts(lda_keys)"
      ],
      "metadata": {
        "id": "4vhTOmQhI5WN"
      },
      "execution_count": 24,
      "outputs": []
    },
    {
      "cell_type": "markdown",
      "source": [
        "Al igual que con LSA, visualizamos la distribución de noticias por tópico y la agrupación de estas utilizando t-SNE para evaluar la claridad y separación de los temas generados por LDA. Las etiquetas de los centroides con las 5 palabras principales de cada tópico nos ayudan a interpretar el contenido temático."
      ],
      "metadata": {
        "id": "2UdGEP_xiKDO"
      }
    },
    {
      "cell_type": "code",
      "source": [
        "top_n_words_lda = get_top_n_words(5, lda_keys, document_term_matrix, vectorizer)\n",
        "\n",
        "for i in range(len(top_n_words_lda)):\n",
        "    print(\"Topic {}: \".format(i+1), top_n_words_lda[i])"
      ],
      "metadata": {
        "colab": {
          "base_uri": "https://localhost:8080/"
        },
        "id": "ZwzOOpsII64q",
        "outputId": "10cf7a16-bbfb-4a85-f105-eaca580aaaef"
      },
      "execution_count": 25,
      "outputs": [
        {
          "output_type": "stream",
          "name": "stdout",
          "text": [
            "Topic 1:  inflación precios año millones mayor\n",
            "Topic 2:  energía agua bbva puede sostenible\n",
            "Topic 3:  bbva empresas clientes banco colombia\n",
            "Topic 4:  mujeres cine avianca millones viva\n"
          ]
        }
      ]
    },
    {
      "cell_type": "code",
      "source": [
        "labels = ['Topic {}: \\n'.format(i) + top_n_words_lda[i] for i in lda_categories]\n",
        "\n",
        "fig, ax = plt.subplots(figsize=(16,8))\n",
        "ax.bar(lda_categories, lda_counts);\n",
        "ax.set_xticks(lda_categories);\n",
        "ax.set_xticklabels(labels);\n",
        "ax.set_title('LDA topic counts');\n",
        "ax.set_ylabel('Number of headlines');"
      ],
      "metadata": {
        "colab": {
          "base_uri": "https://localhost:8080/",
          "height": 556
        },
        "id": "Ewd_7duCI8-5",
        "outputId": "5969d4de-2017-44d4-9828-597d8ee6f6c3"
      },
      "execution_count": 26,
      "outputs": [
        {
          "output_type": "display_data",
          "data": {
            "text/plain": [
              "<Figure size 1600x800 with 1 Axes>"
            ],
            "image/png": "[encoded data removed]"
          },
          "metadata": {}
        }
      ]
    },
    {
      "cell_type": "code",
      "source": [
        "tsne_lda_model = TSNE(n_components=2, perplexity=50, learning_rate=100,\n",
        "                        n_iter=2000, verbose=1, random_state=0, angle=0.75)\n",
        "tsne_lda_vectors = tsne_lda_model.fit_transform(lda_topic_matrix)"
      ],
      "metadata": {
        "colab": {
          "base_uri": "https://localhost:8080/"
        },
        "id": "oaTCmQpoJDsN",
        "outputId": "8b400f67-a558-4ea9-cefa-aa4bd0232b5d"
      },
      "execution_count": 27,
      "outputs": [
        {
          "output_type": "stream",
          "name": "stderr",
          "text": [
            "/usr/local/lib/python3.12/dist-packages/sklearn/manifold/_t_sne.py:1164: FutureWarning: 'n_iter' was renamed to 'max_iter' in version 1.5 and will be removed in 1.7.\n",
            "  warnings.warn(\n"
          ]
        },
        {
          "output_type": "stream",
          "name": "stdout",
          "text": [
            "[t-SNE] Computing 151 nearest neighbors...\n",
            "[t-SNE] Indexed 1217 samples in 0.002s...\n",
            "[t-SNE] Computed neighbors for 1217 samples in 0.032s...\n",
            "[t-SNE] Computed conditional probabilities for sample 1000 / 1217\n",
            "[t-SNE] Computed conditional probabilities for sample 1217 / 1217\n",
            "[t-SNE] Mean sigma: 0.000654\n",
            "[t-SNE] KL divergence after 250 iterations with early exaggeration: 48.313885\n",
            "[t-SNE] KL divergence after 2000 iterations: 0.164075\n"
          ]
        }
      ]
    },
    {
      "cell_type": "code",
      "source": [
        "plot = figure(title=\"t-SNE Clustering of {} LDA Topics\".format(n_topics), width=700, height=700)\n",
        "plot.scatter(x=tsne_lda_vectors[:,0], y=tsne_lda_vectors[:,1], color=colormap[lda_keys])\n",
        "\n",
        "text_color = \"black\"\n",
        "\n",
        "for t in range(n_topics):\n",
        "  label = Label(x=lsa_mean_topic_vectors[t][0], y=lsa_mean_topic_vectors[t][1],\n",
        "                text=top_n_words_lda[t], text_color=text_color)\n",
        "  plot.add_layout(label)\n",
        "\n",
        "show(plot)\n",
        "\n",
        "print(\"\\n Topic Labels:\")\n",
        "for i, topic in enumerate(lda_categories):\n",
        "  label = \"Topic {}:\".format(i) + top_n_words_lda[i]\n",
        "  print(label)"
      ],
      "metadata": {
        "colab": {
          "base_uri": "https://localhost:8080/",
          "height": 821
        },
        "id": "yVqZSg4JJGOs",
        "outputId": "1e042aaa-f915-40c4-db9b-204c9369b930"
      },
      "execution_count": 28,
      "outputs": [
        {
          "output_type": "display_data",
          "data": {
            "application/javascript": [
              "'use strict';\n",
              "(function(root) {\n",
              "  function now() {\n",
              "    return new Date();\n",
              "  }\n",
              "\n",
              "  const force = true;\n",
              "\n",
              "  if (typeof root._bokeh_onload_callbacks === \"undefined\" || force === true) {\n",
              "    root._bokeh_onload_callbacks = [];\n",
              "    root._bokeh_is_loading = undefined;\n",
              "  }\n",
              "\n",
              "const JS_MIME_TYPE = 'application/javascript';\n",
              "  const HTML_MIME_TYPE = 'text/html';\n",
              "  const EXEC_MIME_TYPE = 'application/vnd.bokehjs_exec.v0+json';\n",
              "  const CLASS_NAME = 'output_bokeh rendered_html';\n",
              "\n",
              "  /**\n",
              "   * Render data to the DOM node\n",
              "   */\n",
              "  function render(props, node) {\n",
              "    const script = document.createElement(\"script\");\n",
              "    node.appendChild(script);\n",
              "  }\n",
              "\n",
              "  /**\n",
              "   * Handle when an output is cleared or removed\n",
              "   */\n",
              "  function handleClearOutput(event, handle) {\n",
              "    function drop(id) {\n",
              "      const view = Bokeh.index.get_by_id(id)\n",
              "      if (view != null) {\n",
              "        view.model.document.clear()\n",
              "        Bokeh.index.delete(view)\n",
              "      }\n",
              "    }\n",
              "\n",
              "    const cell = handle.cell;\n",
              "\n",
              "    const id = cell.output_area._bokeh_element_id;\n",
              "    const server_id = cell.output_area._bokeh_server_id;\n",
              "\n",
              "    // Clean up Bokeh references\n",
              "    if (id != null) {\n",
              "      drop(id)\n",
              "    }\n",
              "\n",
              "    if (server_id !== undefined) {\n",
              "      // Clean up Bokeh references\n",
              "      const cmd_clean = \"from bokeh.io.state import curstate; print(curstate().uuid_to_server['\" + server_id + \"'].get_sessions()[0].document.roots[0]._id)\";\n",
              "      cell.notebook.kernel.execute(cmd_clean, {\n",
              "        iopub: {\n",
              "          output: function(msg) {\n",
              "            const id = msg.content.text.trim()\n",
              "            drop(id)\n",
              "          }\n",
              "        }\n",
              "      });\n",
              "      // Destroy server and session\n",
              "      const cmd_destroy = \"import bokeh.io.notebook as ion; ion.destroy_server('\" + server_id + \"')\";\n",
              "      cell.notebook.kernel.execute(cmd_destroy);\n",
              "    }\n",
              "  }\n",
              "\n",
              "  /**\n",
              "   * Handle when a new output is added\n",
              "   */\n",
              "  function handleAddOutput(event, handle) {\n",
              "    const output_area = handle.output_area;\n",
              "    const output = handle.output;\n",
              "\n",
              "    // limit handleAddOutput to display_data with EXEC_MIME_TYPE content only\n",
              "    if ((output.output_type != \"display_data\") || (!Object.prototype.hasOwnProperty.call(output.data, EXEC_MIME_TYPE))) {\n",
              "      return\n",
              "    }\n",
              "\n",
              "    const toinsert = output_area.element.find(\".\" + CLASS_NAME.split(' ')[0]);\n",
              "\n",
              "    if (output.metadata[EXEC_MIME_TYPE][\"id\"] !== undefined) {\n",
              "      toinsert[toinsert.length - 1].firstChild.textContent = output.data[JS_MIME_TYPE];\n",
              "      // store reference to embed id on output_area\n",
              "      output_area._bokeh_element_id = output.metadata[EXEC_MIME_TYPE][\"id\"];\n",
              "    }\n",
              "    if (output.metadata[EXEC_MIME_TYPE][\"server_id\"] !== undefined) {\n",
              "      const bk_div = document.createElement(\"div\");\n",
              "      bk_div.innerHTML = output.data[HTML_MIME_TYPE];\n",
              "      const script_attrs = bk_div.children[0].attributes;\n",
              "      for (let i = 0; i < script_attrs.length; i++) {\n",
              "        toinsert[toinsert.length - 1].firstChild.setAttribute(script_attrs[i].name, script_attrs[i].value);\n",
              "        toinsert[toinsert.length - 1].firstChild.textContent = bk_div.children[0].textContent\n",
              "      }\n",
              "      // store reference to server id on output_area\n",
              "      output_area._bokeh_server_id = output.metadata[EXEC_MIME_TYPE][\"server_id\"];\n",
              "    }\n",
              "  }\n",
              "\n",
              "  function register_renderer(events, OutputArea) {\n",
              "\n",
              "    function append_mime(data, metadata, element) {\n",
              "      // create a DOM node to render to\n",
              "      const toinsert = this.create_output_subarea(\n",
              "        metadata,\n",
              "        CLASS_NAME,\n",
              "        EXEC_MIME_TYPE\n",
              "      );\n",
              "      this.keyboard_manager.register_events(toinsert);\n",
              "      // Render to node\n",
              "      const props = {data: data, metadata: metadata[EXEC_MIME_TYPE]};\n",
              "      render(props, toinsert[toinsert.length - 1]);\n",
              "      element.append(toinsert);\n",
              "      return toinsert\n",
              "    }\n",
              "\n",
              "    /* Handle when an output is cleared or removed */\n",
              "    events.on('clear_output.CodeCell', handleClearOutput);\n",
              "    events.on('delete.Cell', handleClearOutput);\n",
              "\n",
              "    /* Handle when a new output is added */\n",
              "    events.on('output_added.OutputArea', handleAddOutput);\n",
              "\n",
              "    /**\n",
              "     * Register the mime type and append_mime function with output_area\n",
              "     */\n",
              "    OutputArea.prototype.register_mime_type(EXEC_MIME_TYPE, append_mime, {\n",
              "      /* Is output safe? */\n",
              "      safe: true,\n",
              "      /* Index of renderer in `output_area.display_order` */\n",
              "      index: 0\n",
              "    });\n",
              "  }\n",
              "\n",
              "  // register the mime type if in Jupyter Notebook environment and previously unregistered\n",
              "  if (root.Jupyter !== undefined) {\n",
              "    const events = require('base/js/events');\n",
              "    const OutputArea = require('notebook/js/outputarea').OutputArea;\n",
              "\n",
              "    if (OutputArea.prototype.mime_types().indexOf(EXEC_MIME_TYPE) == -1) {\n",
              "      register_renderer(events, OutputArea);\n",
              "    }\n",
              "  }\n",
              "  if (typeof (root._bokeh_timeout) === \"undefined\" || force === true) {\n",
              "    root._bokeh_timeout = Date.now() + 5000;\n",
              "    root._bokeh_failed_load = false;\n",
              "  }\n",
              "\n",
              "  const NB_LOAD_WARNING = {'data': {'text/html':\n",
              "     \"<div style='background-color: #fdd'>\\n\"+\n",
              "     \"<p>\\n\"+\n",
              "     \"BokehJS does not appear to have successfully loaded. If loading BokehJS from CDN, this \\n\"+\n",
              "     \"may be due to a slow or bad network connection. Possible fixes:\\n\"+\n",
              "     \"</p>\\n\"+\n",
              "     \"<ul>\\n\"+\n",
              "     \"<li>re-rerun `output_notebook()` to attempt to load from CDN again, or</li>\\n\"+\n",
              "     \"<li>use INLINE resources instead, as so:</li>\\n\"+\n",
              "     \"</ul>\\n\"+\n",
              "     \"<code>\\n\"+\n",
              "     \"from bokeh.resources import INLINE\\n\"+\n",
              "     \"output_notebook(resources=INLINE)\\n\"+\n",
              "     \"</code>\\n\"+\n",
              "     \"</div>\"}};\n",
              "\n",
              "  function display_loaded(error = null) {\n",
              "    const el = document.getElementById(null);\n",
              "    if (el != null) {\n",
              "      const html = (() => {\n",
              "        if (typeof root.Bokeh === \"undefined\") {\n",
              "          if (error == null) {\n",
              "            return \"BokehJS is loading ...\";\n",
              "          } else {\n",
              "            return \"BokehJS failed to load.\";\n",
              "          }\n",
              "        } else {\n",
              "          const prefix = `BokehJS ${root.Bokeh.version}`;\n",
              "          if (error == null) {\n",
              "            return `${prefix} successfully loaded.`;\n",
              "          } else {\n",
              "            return `${prefix} <b>encountered errors</b> while loading and may not function as expected.`;\n",
              "          }\n",
              "        }\n",
              "      })();\n",
              "      el.innerHTML = html;\n",
              "\n",
              "      if (error != null) {\n",
              "        const wrapper = document.createElement(\"div\");\n",
              "        wrapper.style.overflow = \"auto\";\n",
              "        wrapper.style.height = \"5em\";\n",
              "        wrapper.style.resize = \"vertical\";\n",
              "        const content = document.createElement(\"div\");\n",
              "        content.style.fontFamily = \"monospace\";\n",
              "        content.style.whiteSpace = \"pre-wrap\";\n",
              "        content.style.backgroundColor = \"rgb(255, 221, 221)\";\n",
              "        content.textContent = error.stack ?? error.toString();\n",
              "        wrapper.append(content);\n",
              "        el.append(wrapper);\n",
              "      }\n",
              "    } else if (Date.now() < root._bokeh_timeout) {\n",
              "      setTimeout(() => display_loaded(error), 100);\n",
              "    }\n",
              "  }\n",
              "\n",
              "  function run_callbacks() {\n",
              "    try {\n",
              "      root._bokeh_onload_callbacks.forEach(function(callback) {\n",
              "        if (callback != null)\n",
              "          callback();\n",
              "      });\n",
              "    } finally {\n",
              "      delete root._bokeh_onload_callbacks\n",
              "    }\n",
              "    console.debug(\"Bokeh: all callbacks have finished\");\n",
              "  }\n",
              "\n",
              "  function load_libs(css_urls, js_urls, callback) {\n",
              "    if (css_urls == null) css_urls = [];\n",
              "    if (js_urls == null) js_urls = [];\n",
              "\n",
              "    root._bokeh_onload_callbacks.push(callback);\n",
              "    if (root._bokeh_is_loading > 0) {\n",
              "      console.debug(\"Bokeh: BokehJS is being loaded, scheduling callback at\", now());\n",
              "      return null;\n",
              "    }\n",
              "    if (js_urls == null || js_urls.length === 0) {\n",
              "      run_callbacks();\n",
              "      return null;\n",
              "    }\n",
              "    console.debug(\"Bokeh: BokehJS not loaded, scheduling load and callback at\", now());\n",
              "    root._bokeh_is_loading = css_urls.length + js_urls.length;\n",
              "\n",
              "    function on_load() {\n",
              "      root._bokeh_is_loading--;\n",
              "      if (root._bokeh_is_loading === 0) {\n",
              "        console.debug(\"Bokeh: all BokehJS libraries/stylesheets loaded\");\n",
              "        run_callbacks()\n",
              "      }\n",
              "    }\n",
              "\n",
              "    function on_error(url) {\n",
              "      console.error(\"failed to load \" + url);\n",
              "    }\n",
              "\n",
              "    for (let i = 0; i < css_urls.length; i++) {\n",
              "      const url = css_urls[i];\n",
              "      const element = document.createElement(\"link\");\n",
              "      element.onload = on_load;\n",
              "      element.onerror = on_error.bind(null, url);\n",
              "      element.rel = \"stylesheet\";\n",
              "      element.type = \"text/css\";\n",
              "      element.href = url;\n",
              "      console.debug(\"Bokeh: injecting link tag for BokehJS stylesheet: \", url);\n",
              "      document.body.appendChild(element);\n",
              "    }\n",
              "\n",
              "    for (let i = 0; i < js_urls.length; i++) {\n",
              "      const url = js_urls[i];\n",
              "      const element = document.createElement('script');\n",
              "      element.onload = on_load;\n",
              "      element.onerror = on_error.bind(null, url);\n",
              "      element.async = false;\n",
              "      element.src = url;\n",
              "      console.debug(\"Bokeh: injecting script tag for BokehJS library: \", url);\n",
              "      document.head.appendChild(element);\n",
              "    }\n",
              "  };\n",
              "\n",
              "  function inject_raw_css(css) {\n",
              "    const element = document.createElement(\"style\");\n",
              "    element.appendChild(document.createTextNode(css));\n",
              "    document.body.appendChild(element);\n",
              "  }\n",
              "\n",
              "  const js_urls = [\"https://cdn.bokeh.org/bokeh/release/bokeh-3.7.3.min.js\", \"https://cdn.bokeh.org/bokeh/release/bokeh-gl-3.7.3.min.js\", \"https://cdn.bokeh.org/bokeh/release/bokeh-widgets-3.7.3.min.js\", \"https://cdn.bokeh.org/bokeh/release/bokeh-tables-3.7.3.min.js\", \"https://cdn.bokeh.org/bokeh/release/bokeh-mathjax-3.7.3.min.js\"];\n",
              "  const css_urls = [];\n",
              "\n",
              "  const inline_js = [    function(Bokeh) {\n",
              "      Bokeh.set_log_level(\"info\");\n",
              "    },\n",
              "function(Bokeh) {\n",
              "    }\n",
              "  ];\n",
              "\n",
              "  function run_inline_js() {\n",
              "    if (root.Bokeh !== undefined || force === true) {\n",
              "      try {\n",
              "            for (let i = 0; i < inline_js.length; i++) {\n",
              "      inline_js[i].call(root, root.Bokeh);\n",
              "    }\n",
              "\n",
              "      } catch (error) {throw error;\n",
              "      }} else if (Date.now() < root._bokeh_timeout) {\n",
              "      setTimeout(run_inline_js, 100);\n",
              "    } else if (!root._bokeh_failed_load) {\n",
              "      console.log(\"Bokeh: BokehJS failed to load within specified timeout.\");\n",
              "      root._bokeh_failed_load = true;\n",
              "    } else if (force !== true) {\n",
              "      const cell = $(document.getElementById(null)).parents('.cell').data().cell;\n",
              "      cell.output_area.append_execute_result(NB_LOAD_WARNING)\n",
              "    }\n",
              "  }\n",
              "\n",
              "  if (root._bokeh_is_loading === 0) {\n",
              "    console.debug(\"Bokeh: BokehJS loaded, going straight to plotting\");\n",
              "    run_inline_js();\n",
              "  } else {\n",
              "    load_libs(css_urls, js_urls, function() {\n",
              "      console.debug(\"Bokeh: BokehJS plotting callback run at\", now());\n",
              "      run_inline_js();\n",
              "    });\n",
              "  }\n",
              "}(window));"
            ],
            "application/vnd.bokehjs_load.v0+json": "'use strict';\n(function(root) {\n  function now() {\n    return new Date();\n  }\n\n  const force = true;\n\n  if (typeof root._bokeh_onload_callbacks === \"undefined\" || force === true) {\n    root._bokeh_onload_callbacks = [];\n    root._bokeh_is_loading = undefined;\n  }\n\n\n  if (typeof (root._bokeh_timeout) === \"undefined\" || force === true) {\n    root._bokeh_timeout = Date.now() + 5000;\n    root._bokeh_failed_load = false;\n  }\n\n  const NB_LOAD_WARNING = {'data': {'text/html':\n     \"<div style='background-color: #fdd'>\\n\"+\n     \"<p>\\n\"+\n     \"BokehJS does not appear to have successfully loaded. If loading BokehJS from CDN, this \\n\"+\n     \"may be due to a slow or bad network connection. Possible fixes:\\n\"+\n     \"</p>\\n\"+\n     \"<ul>\\n\"+\n     \"<li>re-rerun `output_notebook()` to attempt to load from CDN again, or</li>\\n\"+\n     \"<li>use INLINE resources instead, as so:</li>\\n\"+\n     \"</ul>\\n\"+\n     \"<code>\\n\"+\n     \"from bokeh.resources import INLINE\\n\"+\n     \"output_notebook(resources=INLINE)\\n\"+\n     \"</code>\\n\"+\n     \"</div>\"}};\n\n  function display_loaded(error = null) {\n    const el = document.getElementById(null);\n    if (el != null) {\n      const html = (() => {\n        if (typeof root.Bokeh === \"undefined\") {\n          if (error == null) {\n            return \"BokehJS is loading ...\";\n          } else {\n            return \"BokehJS failed to load.\";\n          }\n        } else {\n          const prefix = `BokehJS ${root.Bokeh.version}`;\n          if (error == null) {\n            return `${prefix} successfully loaded.`;\n          } else {\n            return `${prefix} <b>encountered errors</b> while loading and may not function as expected.`;\n          }\n        }\n      })();\n      el.innerHTML = html;\n\n      if (error != null) {\n        const wrapper = document.createElement(\"div\");\n        wrapper.style.overflow = \"auto\";\n        wrapper.style.height = \"5em\";\n        wrapper.style.resize = \"vertical\";\n        const content = document.createElement(\"div\");\n        content.style.fontFamily = \"monospace\";\n        content.style.whiteSpace = \"pre-wrap\";\n        content.style.backgroundColor = \"rgb(255, 221, 221)\";\n        content.textContent = error.stack ?? error.toString();\n        wrapper.append(content);\n        el.append(wrapper);\n      }\n    } else if (Date.now() < root._bokeh_timeout) {\n      setTimeout(() => display_loaded(error), 100);\n    }\n  }\n\n  function run_callbacks() {\n    try {\n      root._bokeh_onload_callbacks.forEach(function(callback) {\n        if (callback != null)\n          callback();\n      });\n    } finally {\n      delete root._bokeh_onload_callbacks\n    }\n    console.debug(\"Bokeh: all callbacks have finished\");\n  }\n\n  function load_libs(css_urls, js_urls, callback) {\n    if (css_urls == null) css_urls = [];\n    if (js_urls == null) js_urls = [];\n\n    root._bokeh_onload_callbacks.push(callback);\n    if (root._bokeh_is_loading > 0) {\n      console.debug(\"Bokeh: BokehJS is being loaded, scheduling callback at\", now());\n      return null;\n    }\n    if (js_urls == null || js_urls.length === 0) {\n      run_callbacks();\n      return null;\n    }\n    console.debug(\"Bokeh: BokehJS not loaded, scheduling load and callback at\", now());\n    root._bokeh_is_loading = css_urls.length + js_urls.length;\n\n    function on_load() {\n      root._bokeh_is_loading--;\n      if (root._bokeh_is_loading === 0) {\n        console.debug(\"Bokeh: all BokehJS libraries/stylesheets loaded\");\n        run_callbacks()\n      }\n    }\n\n    function on_error(url) {\n      console.error(\"failed to load \" + url);\n    }\n\n    for (let i = 0; i < css_urls.length; i++) {\n      const url = css_urls[i];\n      const element = document.createElement(\"link\");\n      element.onload = on_load;\n      element.onerror = on_error.bind(null, url);\n      element.rel = \"stylesheet\";\n      element.type = \"text/css\";\n      element.href = url;\n      console.debug(\"Bokeh: injecting link tag for BokehJS stylesheet: \", url);\n      document.body.appendChild(element);\n    }\n\n    for (let i = 0; i < js_urls.length; i++) {\n      const url = js_urls[i];\n      const element = document.createElement('script');\n      element.onload = on_load;\n      element.onerror = on_error.bind(null, url);\n      element.async = false;\n      element.src = url;\n      console.debug(\"Bokeh: injecting script tag for BokehJS library: \", url);\n      document.head.appendChild(element);\n    }\n  };\n\n  function inject_raw_css(css) {\n    const element = document.createElement(\"style\");\n    element.appendChild(document.createTextNode(css));\n    document.body.appendChild(element);\n  }\n\n  const js_urls = [\"https://cdn.bokeh.org/bokeh/release/bokeh-3.7.3.min.js\", \"https://cdn.bokeh.org/bokeh/release/bokeh-gl-3.7.3.min.js\", \"https://cdn.bokeh.org/bokeh/release/bokeh-widgets-3.7.3.min.js\", \"https://cdn.bokeh.org/bokeh/release/bokeh-tables-3.7.3.min.js\", \"https://cdn.bokeh.org/bokeh/release/bokeh-mathjax-3.7.3.min.js\"];\n  const css_urls = [];\n\n  const inline_js = [    function(Bokeh) {\n      Bokeh.set_log_level(\"info\");\n    },\nfunction(Bokeh) {\n    }\n  ];\n\n  function run_inline_js() {\n    if (root.Bokeh !== undefined || force === true) {\n      try {\n            for (let i = 0; i < inline_js.length; i++) {\n      inline_js[i].call(root, root.Bokeh);\n    }\n\n      } catch (error) {throw error;\n      }} else if (Date.now() < root._bokeh_timeout) {\n      setTimeout(run_inline_js, 100);\n    } else if (!root._bokeh_failed_load) {\n      console.log(\"Bokeh: BokehJS failed to load within specified timeout.\");\n      root._bokeh_failed_load = true;\n    } else if (force !== true) {\n      const cell = $(document.getElementById(null)).parents('.cell').data().cell;\n      cell.output_area.append_execute_result(NB_LOAD_WARNING)\n    }\n  }\n\n  if (root._bokeh_is_loading === 0) {\n    console.debug(\"Bokeh: BokehJS loaded, going straight to plotting\");\n    run_inline_js();\n  } else {\n    load_libs(css_urls, js_urls, function() {\n      console.debug(\"Bokeh: BokehJS plotting callback run at\", now());\n      run_inline_js();\n    });\n  }\n}(window));"
          },
          "metadata": {}
        },
        {
          "output_type": "display_data",
          "data": {
            "text/html": [
              "\n",
              "  <div id=\"dd088bb1-0663-457b-a14e-9b729ea54b6c\" data-root-id=\"p1053\" style=\"display: contents;\"></div>\n"
            ]
          },
          "metadata": {}
        },
        {
          "output_type": "display_data",
          "data": {
            "application/javascript": [
              "(function(root) {\n",
              "  function embed_document(root) {\n",
              "  const docs_json = {\"825d15a3-a409-40ee-8b1b-475771a3f53e\":{\"version\":\"3.7.3\",\"title\":\"Bokeh Application\",\"roots\":[{\"type\":\"object\",\"name\":\"Figure\",\"id\":\"p1053\",\"attributes\":{\"width\":700,\"height\":700,\"x_range\":{\"type\":\"object\",\"name\":\"DataRange1d\",\"id\":\"p1054\"},\"y_range\":{\"type\":\"object\",\"name\":\"DataRange1d\",\"id\":\"p1055\"},\"x_scale\":{\"type\":\"object\",\"name\":\"LinearScale\",\"id\":\"p1063\"},\"y_scale\":{\"type\":\"object\",\"name\":\"LinearScale\",\"id\":\"p1064\"},\"title\":{\"type\":\"object\",\"name\":\"Title\",\"id\":\"p1056\",\"attributes\":{\"text\":\"t-SNE Clustering of 4 LDA Topics\"}},\"renderers\":[{\"type\":\"object\",\"name\":\"GlyphRenderer\",\"id\":\"p1094\",\"attributes\":{\"data_source\":{\"type\":\"object\",\"name\":\"ColumnDataSource\",\"id\":\"p1088\",\"attributes\":{\"selected\":{\"type\":\"object\",\"name\":\"Selection\",\"id\":\"p1089\",\"attributes\":{\"indices\":[],\"line_indices\":[]}},\"selection_policy\":{\"type\":\"object\",\"name\":\"UnionRenderers\",\"id\":\"p1090\"},\"data\":{\"type\":\"map\",\"entries\":[[\"x\",{\"type\":\"ndarray\",\"array\":{\"type\":\"bytes\",\"data\":\"Yhyyway9BkHL4H9A4KD2QS4xpEARaqbBW1boQSXdiT4p3GfBGZicwcLlRkEfKMfBDEhiwWWA7cGVpTRAgmDRQSW3y8EwLw5CUqLWwQdoEcG+h0VB2LWYvzNUzMGSzMlBzJDEwOal7cGOdOLBrVTKwKjbDUIEWjvBbYODQRX0AkL6bPNBjUDcQW52K0HKzEPBXd8LQs5/5sFRh+1BNdQKQuAtg0EIMqHADY3IQYfTOMBOthXBMzpBwUjj20HUgPVBuELSwEouDEIaOuJBPWNIwRgKAkLhMQ5CAhtrwXMtxsGbZJ7Ba4MLQpNCxcDMb85BIlU4wOMryEEpzuPBPG6NwRY2x8Frl67B+djfwRJ7uUE4+OLBxgMqwV4N9L9VVRNBxUJ3wcsD8kFSwnzBV9UHwR3gfsHXivbAuMrTwfTW78Ekpj3B1+kDwQEr7cEJt4RBdOhEwHyNH8F37+/AnOnYwTv8/0FBO6rBeVKdQa0VPL9T4O3BZ22NQCSFwMCJVgxCMZ/nwQOk9EEXuEjB79nCQa/8K0AGMkO/S0eOwVpg7MEsBMtB0EWswS4C7kAVH/pB3l8FQo+GUcHQKkPBsl43wdLpB0KxjY/B4SI9vqH71MFMAOrBHNLTQX2Z90BwUp/AUsKNweYmykGvSg5Cz9vcPhLvVsESn9DBlZPZQWKLqMFi91DB1HrPwWHi50EtCOBBtPIIQtZqBkINu+zBtx3RwaZ7A0LRSKHAdeTLQQhP2cFuVvxAzVGTwIlWDELX69FBU8StQNOAhsEwq4rBp1TUQEM9eb9p5KHAL2Tbwc98Jj/ZpwxCIajLQRXuAkJ6dCBB/H0IQhVqjUGTlOC+iL3UQQUt0cHjbwpCPw8twTrWlsBLR47BDYHMwcwL78EP37zBgJPCvig8u0GF0C/Bw3zNwUJArsGW0GRBQHDWQbx6tb+aSYrBKsnjwbn+7sEyv/hBe6f+vmEK5MHxurXAVrJAwWHp90FjmDXBsV2FwTlKiEHtoa/A8XvDwGQOAULCgZLB/ANuwdKqisHMVt1Bvp6iwddJDUK8oOVBb+zowU0e6cBq891Bz2D+vp3o68Hv20nAeNyFv9WOx8G+Sr/B9BgRwe1J0UFiXNHBfkvvQc0h1MHBzcPBT3RsQSkgyMETptDBz5o3wRKqvUFd0S9BG4ztwVLld0Bh1+XAvEIowVExD0BbFyfBWSLUwepO8MECE+nA5jgOQv1QrsGUSghCqdXBv5Sz9EF5TdDBeazlwc0v3UEfKMfBHhw8QURs00H6nu3BXg7HQVPErUA52LlB6rvxQWNO8EHyaLzBjcxRQW+RwcFIxERBXwJPwUmAK0CgcbtB/utiQOxUJsCfY7M/r0UBwaFpxUGowXvBwe/BwSFY18AMsjzBUW4eweNVtMFtmY3B7HbuwUwEiT+we7vBoxDNQaJA7sGD+7NAP+POQTEuRsGeu7RBM+cNQtHv4EHaYpJB9+3uwfDswcBRzvDBziPaQWaS7cE2vuzB+LwNQti6XEETfNbBkZbtwdp81kGFftFBHqnhQWC/f0GaaavB8BAbQTAx2sGn99ZByEYfwfyOCkL5Xk3AUsXHQbXQjcFBzD3BQ92GwYg+XcArFivBcgaKP1FIDUKf7wnBDX9KwSHhZUEoZjfBOb2UQYc+DkJZoFLBiuDewN5NDEJN4M9B78OXPTLw0cHF3wBChn5ewJki3kEL767BCHlgwUwet8EZt4TBHofvwd6KH8FR9FtBPl1SwPsO/L+sfUTB23Wqwc+t38E84dFBXh8KQgCDrsB9wN5BtoHgwfg3VsF/ft5BT3ZUwZpJisHnlOLBQT2eQPH8CUJL08TBipQKwfCCIMHMZ2TAkT7uwZoi+0Aa6K8/a4MLQm5mxcEXpPpBt1XjwW9DDkIPtwM/cuFuwe+W/EGTsDnBwFeIQbsBxkGwdNRByrPCwTsp6sFsIvrABYRvwQCpzEHeK8fBYKVvQYoBxMHTS15BnsEJQv2wscDH8PJAz+PtwXZwsT90uRLBvyLNwWvZ80GkShjBmnhuwRS1SsHrBHtB+LwNQlZjUMHOCNhBIi8NQlLErUDwAOfBc1HbwYJIeEEzVMzBO5TUwWrzk8Gn8OLBV+zCwCBSZcG1riXBHcv0QQ41gkFlVAtCA1azwBcHAUK2vCjB7uPwweVFn8A5HD3BBoOWQaq60UFRc/RB9q+mwadt1kEy0J5BFE60wCBImcHHhwnAEBe/wYZMN8BnJB/BiYxywEC4E8FXZN3BtrT0QajbDUJPj8rBpJPYwQP9UcF0zfpAJ0vRwQdq1cGXnwFCw5tHwQD/Lr8AnJjBmZvtQVkev8EcasxBEVxcwdzdCkKbDLtBb0EMwd17CsG67e7B12PowSi23MFMrJfAHBl6wYddi8E2VUTBr35xQb6BB0IY+P7AavOTwfXl68EMe9PAQrLGQaYh78FIFPJBylzEwa1WysHqV/pBUIyyQbJrR0HP4+3BbsjlQQgohsEyLc9Bb/xNwTwCyUHX1A1ClqzEwdF4t0ENvoZAjZBuwQ0W3cAZNmJB39HVQRNR78Hd+d3AWn8FwbUWXcEbezbBOKXpwaLt1UHeTQxCw4X6Qbsgr8Fq2NDB0nXswS+s0kHagS7AAe7VP5cOD0LGYNNBgi3PQWYG0MHkAsPB9c0awaUcDUJyLrXA23WqwXQbSMElVy3B7i0gQNXvgcHk6e3B/8+rQduryUHwHcJBwNXoQYyC58E0yPDBTX7MwYjH20BcClTBp5/AwBwG1MHAFA1CxxYyQC/GMsGobu7BfgKVwGIXmEClMs/BoOKfP0YW6EAgeELB233dwd/SccFFQPZBtY33QL8mKcHLCJnBYWQzwX7uBkIHhuVBLaeMwWdZk8ENQOrBZ18LQj5WbsERs9nBMoK0wcUKSkB1Ke7BQi7xQdTSCEJHRw5Ccgl0QfM12MG2fe7BLTVcwTxVwEGZwFHBqZnMQQCcmMENtOvBh12LwV3SccGprT/B7kTwwbWpj0CA12XBpLrjQW+N0sG0rUTBJtKFQfb83D23T0rBp43WwYyC58EKs+7BA6SgwfPgeMHq6ItBYwXzPw8h7UE13/5BnjIOQrty6MH90Q5Co6LuwVm6VEBqdJHB/EHxwfAUh0FBSejBRxylwHGO8UGSwwtCBpiWwMfu5cDKHSPBzb7XQVTaLsEiLw1CokDuwWgZR8HqEp/BSWzkwcuVrsCBrtdB26zawUB770EkUwhCC//DwT+D6T53b8dBX330QVRjn0FvQw5C/bjCwbYRE8GagEDBPtS4wF0a78HNp4xBuKddwIAEUcEO5z7A3H+NwWRpSMEsxsxAUmLYQXbo5cFQJpFBDvPhP30a68G1OZNBwAA+v+7ETcG3QsPAWjEBQjJgpUFZbAc9Puj/wBc5kEHUpF3Bc7jDQXfX20Hy9IpA6ejIQa0scEFjI91BETHkwcvLMMG7950/RrttQaLnskFI0WFBie3NwRv2OsFzdXZBSbatPhn0EMBOP8VBecdNPwqqPcENtOvBhZgxwdPM2EHmqH2/KWbowRX9vsFbwsg/9JjMQdeTkT/c+x7BNkP8QcRDCEL4dQpABuMeQEtv68FAsg1A3goCQsZtxcC0/stBsV2Fwd5CY8Hx79LBXLWJQek7V8C0qKHBi+zcwYlo3MHy1ttACnPowakHxMGAetnBDgIOQu7ETcE879bBUjrpQBphscFosL/B3+WJQZc45kFMy6TAM8LwwOGCpMFCEcnBf2nzQFTjnMDVjsfBBfQ/QM4g2UHv4xPBu7Xkwc0om8HLbvHBDocJQu2hr8Be3bzBF0nJQWfovEEhr9hAGcgYwAqz7sH/Zv5BYXDxwT+TWcEzgbvBJdjnQT8V5MGhY2HBzMwCQptubsEb1SbB9+3uwf5YsD7nrEfBqbvLwZdRu8D9MQ+9tXLowW35y8GzZujBTADqwdtM1UGd07bBbjdNQScD8MF3IgVCcah5wb7twkFcmYdBf21GQFK6FkE1YNVBwPHtQZH+TEFznLvBEHwFQsQqokEz5a/B0MSqO9uTmEAhLvHBoBMHwWhWjEGGs03B+jQowR4cPEH6FN5B8bPsQeI42kGRu5zAZ8z5QVAgl0EAg67A+NZNwJIdm0HOc8vA3H+NwdpjHkEelcA9bfu+wVzXPEFInuzBv1YswTIMAUJmLA5Cc+3wQR2Z6UFzd7TB7KHXwMOEkMBmyW9AKGjwQSivXcDMKwxClHDTwRkxTEGM6ibB4wq+wcYvtcEEQd/BziLKQXkzpsH4ZAlCIJquwFaQ0UFO3glCwP3LQUlXBELw3srBBuXcwZlS8cHyFp7BpsbVwTNUzMEllwpCEBsLQoN5+EHC7PNB5vHNQY2c1sGAlsnBbOOowIm37cFd9EPBWU70QQi+FD+NKc1B2bnDwUYwZcFRSA1CFNtGwAoJyMG8x6LBlvdnwTxVwEGMmjzBejr9QQ3/1sHHwg1B/lSrwdmYUz/F3eXByXr9QbKrvsHEheDBCN/BwL9bikFdNefB18V6QbS3hMF0YSVBMUt1wdGDhEExr9TBqqaqQBBQPr2sNnZBpa3wQW8C80A216ZBKIrZwVQg/UH/Y9FBK77pwUsJ50FJ3eLBRy5fQQxJd8CS6arAe6zOQWZKQr5l1+FBWZl4wZgF4MEBNerBH48uQJNk6z90G0jB/nWPPglv5sG3h1vBc+3wQZMhA0JMIRDA9c0awZ+TWcHU0ghC7FLtwSWotUHa9l7B+c22waFYw0HTOtPAYlzRwbQy68Hp4mxBZU+ZwZVY0r8WkVlAkn4OQm9TFsGiHTnBekcuQIsF9cBDWhjBWlGmwYd8OMHE2s5AJBPnwZ5Rg8D8LPDBjuSqwbE470HcZgzBpqAawdMhUcBP+e3BnDMNwCVnDMHiOWzBotHFQTFxBkLuThbA8hvxwf3or8GvvNvBi0LHQYqV00HjgNVBck6YwKjKDELOl9FBCn6nvWsl2EFn+vA/8XfVwS32asAAzl/AHhw8QZNvTcHN7oJB8N7KwdlY0UEQF7/B9VBrQKW3XcDiKYBBXYbVwUlHCULyFp7BBZDYwSqNX0A2bcHBZkfGQejdwMCkJNPAU8StQBEhG8ErR+hB29rFvyxKB0KkW9xBvBn9wBUVYsEnyDHBci61wHuqtMHifV7AizzLwVECC0LLCJnBuenCQZtOBULmlQdCfbmdwK7Rk0EEUlpBwhu/wZUo878Se+hBKc7jwQfhlcGQd17BRrttQYygAEI6AdtBpCSPQWuDC0KHRQ3BZ2lIwQgW5EEkig1CFF4IQnk20cEAeuhBKVbQQYYN6sG33ujBfI0fwc/hCUKM8AHBPO23P+oSn8EhaNzB1MPEwWg9fkGePb/AkX4OQj+8j0HgafDBkZbtwbZKT0HxTGLBSFENQlKdrEFNB7s/m7wKQSYTCECxoPvA1aPpwXs9NsE2DBHBENL2QdQaxsDWh9bB+Pc8wXK5qMFIxERB+KS7wKYW78B09fdBzlQ3wWBgxcGw0jHBalDEwV1Ffz78pI/A1e+BwadHo8HL5HXBnnIJQuuvmcFVMNvBHyjHwV39bcG+LHZAoeiHQLBBDkKUR4VByGocwTKHxsDjtcHBQgdCwY/q7sHxe8PAc7DvQeHqmMC52FrBAPtuwVrH6UFkkxPB428KQjH6EcBWEuzBGOlWQdy98EF7peHBDN2gP3Qd2sEOnh/BT542wYKl+0GY2tbBx2YewbeMhEHm+AhCilcXwUPdhsFbTHTBcIvtQepq4sFDUyDByuXswc75u8FSo8ZBv2BdvigQt8A89BfBdZpgweYwDUI94AnB8xSdQeHiXEFikKRBvuQNQqqK6MElrQJCA51GwbFa2cHOAwLAXRTewUJpbEGtb+3BEzetP84CKMG7BA1CaIMFQVwHlsAGBBjBMYXqwRUVYsE9Dd9BtXLowdFWk8BzdO7BUfaDQbY27cEhEBbBaLC/wW+O1sBDqlq+GuGuQJZFSMFWg8C//F5UwYkRDEKgR4pBUJ5PwUr7ycEGIMNBE3/gvlaI58GuBmvBhvvUQeA21UEHaubBn2OzP3T+zcFWbIbBalnRQJ7lKMHraqRBjpmDP6HIMcEZmJzBpUPOwf5t6MHoFujBpv23wXaqhUAjB8HAQGDbQVevlMDwSfDBuU8qwadcyUHwPo2/rfPhQYis08HSaNnBWxiZwdRx+kEiHPc/Xku3wUur4cHW3OXBmX8dQe4t8kHfC+7BksMLQvFMYsHjPAhCPO/WwarqlMCRPu7BSNbzQXILDEIIh4/AdLvcwfIb8cGlIVvBSE1Gwaw8kr77d+NBQM73Qfa55UH3bghCygfCwRnTB0Ix5qvBmQXsQWO0xUFx68ZBlnzjQa/8K0BAf9DAse/IvgnSG8GnBPC/VKPJwVZIAELHIhVAmzsOwDzvxUGZrfxBDo50QenXxUGuhujBOh/9QaFTCcDracxAPq8vwFpgXD7L0wtCsYnGwcp4n0F++cDA9/vxwWgmyj8=\"},\"shape\":[1217],\"dtype\":\"float32\",\"order\":\"little\"}],[\"y\",{\"type\":\"ndarray\",\"array\":{\"type\":\"bytes\",\"data\":\"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\"},\"shape\":[1217],\"dtype\":\"float32\",\"order\":\"little\"}],[\"fill_color\",{\"type\":\"ndarray\",\"array\":[\"#ff7f0e\",\"#ff7f0e\",\"#ff7f0e\",\"#1f77b4\",\"#ff7f0e\",\"#ff7f0e\",\"#1f77b4\",\"#ff7f0e\",\"#ff7f0e\",\"#ff7f0e\",\"#ff7f0e\",\"#ff7f0e\",\"#ff7f0e\",\"#ff7f0e\",\"#ff7f0e\",\"#1f77b4\",\"#ff7f0e\",\"#1f77b4\",\"#ff7f0e\",\"#ff7f0e\",\"#ff7f0e\",\"#ff7f0e\",\"#ff7f0e\",\"#1f77b4\",\"#aec7e8\",\"#ff7f0e\",\"#ff7f0e\",\"#aec7e8\",\"#1f77b4\",\"#ff7f0e\",\"#1f77b4\",\"#1f77b4\",\"#1f77b4\",\"#1f77b4\",\"#ff7f0e\",\"#ff7f0e\",\"#1f77b4\",\"#ff7f0e\",\"#1f77b4\",\"#1f77b4\",\"#1f77b4\",\"#aec7e8\",\"#1f77b4\",\"#ff7f0e\",\"#ff7f0e\",\"#ff7f0e\",\"#1f77b4\",\"#1f77b4\",\"#ff7f0e\",\"#1f77b4\",\"#1f77b4\",\"#ff7f0e\",\"#1f77b4\",\"#1f77b4\",\"#ff7f0e\",\"#ff7f0e\",\"#ff7f0e\",\"#1f77b4\",\"#aec7e8\",\"#1f77b4\",\"#ff7f0e\",\"#1f77b4\",\"#ff7f0e\",\"#ff7f0e\",\"#ff7f0e\",\"#ff7f0e\",\"#ff7f0e\",\"#1f77b4\",\"#ff7f0e\",\"#ff7f0e\",\"#ff7f0e\",\"#ff7f0e\",\"#ff7f0e\",\"#1f77b4\",\"#ff7f0e\",\"#ff7f0e\",\"#ff7f0e\",\"#ff7f0e\",\"#ff7f0e\",\"#ff7f0e\",\"#ff7f0e\",\"#aec7e8\",\"#ff7f0e\",\"#1f77b4\",\"#ff7f0e\",\"#aec7e8\",\"#ff7f0e\",\"#ff7f0e\",\"#1f77b4\",\"#ff7f0e\",\"#1f77b4\",\"#ff7f0e\",\"#ff7f0e\",\"#ff7f0e\",\"#aec7e8\",\"#1f77b4\",\"#ff7f0e\",\"#1f77b4\",\"#ff7f0e\",\"#1f77b4\",\"#ffbb78\",\"#ff7f0e\",\"#ff7f0e\",\"#ff7f0e\",\"#1f77b4\",\"#ff7f0e\",\"#ff7f0e\",\"#1f77b4\",\"#1f77b4\",\"#ff7f0e\",\"#ff7f0e\",\"#aec7e8\",\"#1f77b4\",\"#ff7f0e\",\"#ff7f0e\",\"#ff7f0e\",\"#ff7f0e\",\"#1f77b4\",\"#ff7f0e\",\"#aec7e8\",\"#ff7f0e\",\"#1f77b4\",\"#1f77b4\",\"#ff7f0e\",\"#ff7f0e\",\"#ff7f0e\",\"#1f77b4\",\"#ff7f0e\",\"#ff7f0e\",\"#ff7f0e\",\"#1f77b4\",\"#1f77b4\",\"#1f77b4\",\"#1f77b4\",\"#ff7f0e\",\"#ff7f0e\",\"#1f77b4\",\"#aec7e8\",\"#1f77b4\",\"#ff7f0e\",\"#ff7f0e\",\"#aec7e8\",\"#1f77b4\",\"#1f77b4\",\"#1f77b4\",\"#ff7f0e\",\"#ff7f0e\",\"#ff7f0e\",\"#ff7f0e\",\"#aec7e8\",\"#ff7f0e\",\"#ff7f0e\",\"#1f77b4\",\"#1f77b4\",\"#1f77b4\",\"#ff7f0e\",\"#1f77b4\",\"#1f77b4\",\"#ff7f0e\",\"#1f77b4\",\"#ff7f0e\",\"#1f77b4\",\"#aec7e8\",\"#aec7e8\",\"#ff7f0e\",\"#ff7f0e\",\"#ff7f0e\",\"#ff7f0e\",\"#ff7f0e\",\"#1f77b4\",\"#ff7f0e\",\"#ff7f0e\",\"#ff7f0e\",\"#1f77b4\",\"#1f77b4\",\"#ff7f0e\",\"#ff7f0e\",\"#ff7f0e\",\"#ff7f0e\",\"#1f77b4\",\"#ff7f0e\",\"#ff7f0e\",\"#aec7e8\",\"#ff7f0e\",\"#1f77b4\",\"#ff7f0e\",\"#ff7f0e\",\"#1f77b4\",\"#aec7e8\",\"#aec7e8\",\"#1f77b4\",\"#ff7f0e\",\"#ff7f0e\",\"#ff7f0e\",\"#1f77b4\",\"#ff7f0e\",\"#1f77b4\",\"#1f77b4\",\"#ff7f0e\",\"#aec7e8\",\"#1f77b4\",\"#ff7f0e\",\"#ff7f0e\",\"#ff7f0e\",\"#ff7f0e\",\"#ff7f0e\",\"#ff7f0e\",\"#aec7e8\",\"#1f77b4\",\"#ff7f0e\",\"#1f77b4\",\"#ff7f0e\",\"#ff7f0e\",\"#1f77b4\",\"#ff7f0e\",\"#ff7f0e\",\"#ff7f0e\",\"#1f77b4\",\"#ff7f0e\",\"#ff7f0e\",\"#ff7f0e\",\"#aec7e8\",\"#aec7e8\",\"#ff7f0e\",\"#ff7f0e\",\"#ff7f0e\",\"#ff7f0e\",\"#ff7f0e\",\"#1f77b4\",\"#ff7f0e\",\"#1f77b4\",\"#ff7f0e\",\"#1f77b4\",\"#ff7f0e\",\"#ff7f0e\",\"#1f77b4\",\"#ff7f0e\",\"#ff7f0e\",\"#1f77b4\",\"#ff7f0e\",\"#1f77b4\",\"#1f77b4\",\"#1f77b4\",\"#1f77b4\",\"#1f77b4\",\"#ff7f0e\",\"#1f77b4\",\"#ff7f0e\",\"#ff7f0e\",\"#ff7f0e\",\"#ffbb78\",\"#1f77b4\",\"#ff7f0e\",\"#ff7f0e\",\"#ff7f0e\",\"#ff7f0e\",\"#1f77b4\",\"#ff7f0e\",\"#ff7f0e\",\"#aec7e8\",\"#ff7f0e\",\"#aec7e8\",\"#ff7f0e\",\"#ff7f0e\",\"#ff7f0e\",\"#ff7f0e\",\"#ff7f0e\",\"#1f77b4\",\"#ff7f0e\",\"#ff7f0e\",\"#1f77b4\",\"#ff7f0e\",\"#1f77b4\",\"#1f77b4\",\"#1f77b4\",\"#1f77b4\",\"#ff7f0e\",\"#aec7e8\",\"#ff7f0e\",\"#1f77b4\",\"#ff7f0e\",\"#ff7f0e\",\"#1f77b4\",\"#1f77b4\",\"#ff7f0e\",\"#ff7f0e\",\"#1f77b4\",\"#1f77b4\",\"#1f77b4\",\"#1f77b4\",\"#ff7f0e\",\"#ff7f0e\",\"#ff7f0e\",\"#1f77b4\",\"#aec7e8\",\"#1f77b4\",\"#ff7f0e\",\"#1f77b4\",\"#ff7f0e\",\"#ff7f0e\",\"#ff7f0e\",\"#ff7f0e\",\"#ff7f0e\",\"#ff7f0e\",\"#1f77b4\",\"#ff7f0e\",\"#ff7f0e\",\"#1f77b4\",\"#ff7f0e\",\"#1f77b4\",\"#1f77b4\",\"#ff7f0e\",\"#ff7f0e\",\"#1f77b4\",\"#1f77b4\",\"#ff7f0e\",\"#ff7f0e\",\"#1f77b4\",\"#ff7f0e\",\"#1f77b4\",\"#ff7f0e\",\"#ff7f0e\",\"#ff7f0e\",\"#ff7f0e\",\"#ff7f0e\",\"#aec7e8\",\"#ff7f0e\",\"#ff7f0e\",\"#ff7f0e\",\"#ff7f0e\",\"#ff7f0e\",\"#ff7f0e\",\"#1f77b4\",\"#1f77b4\",\"#aec7e8\",\"#1f77b4\",\"#ff7f0e\",\"#ff7f0e\",\"#1f77b4\",\"#ff7f0e\",\"#ff7f0e\",\"#ff7f0e\",\"#ff7f0e\",\"#1f77b4\",\"#ff7f0e\",\"#ff7f0e\",\"#aec7e8\",\"#ff7f0e\",\"#ff7f0e\",\"#ff7f0e\",\"#ff7f0e\",\"#1f77b4\",\"#ff7f0e\",\"#1f77b4\",\"#ff7f0e\",\"#1f77b4\",\"#ff7f0e\",\"#ff7f0e\",\"#1f77b4\",\"#ff7f0e\",\"#1f77b4\",\"#1f77b4\",\"#1f77b4\",\"#ff7f0e\",\"#ff7f0e\",\"#aec7e8\",\"#ff7f0e\",\"#1f77b4\",\"#ff7f0e\",\"#1f77b4\",\"#ff7f0e\",\"#1f77b4\",\"#1f77b4\",\"#aec7e8\",\"#ff7f0e\",\"#ff7f0e\",\"#ff7f0e\",\"#aec7e8\",\"#ff7f0e\",\"#1f77b4\",\"#aec7e8\",\"#ff7f0e\",\"#ff7f0e\",\"#1f77b4\",\"#1f77b4\",\"#ff7f0e\",\"#1f77b4\",\"#1f77b4\",\"#1f77b4\",\"#ff7f0e\",\"#ff7f0e\",\"#1f77b4\",\"#ff7f0e\",\"#ff7f0e\",\"#ff7f0e\",\"#ff7f0e\",\"#aec7e8\",\"#ff7f0e\",\"#aec7e8\",\"#1f77b4\",\"#1f77b4\",\"#1f77b4\",\"#aec7e8\",\"#1f77b4\",\"#ff7f0e\",\"#ff7f0e\",\"#aec7e8\",\"#ff7f0e\",\"#1f77b4\",\"#1f77b4\",\"#1f77b4\",\"#ff7f0e\",\"#1f77b4\",\"#1f77b4\",\"#ff7f0e\",\"#ff7f0e\",\"#ff7f0e\",\"#ff7f0e\",\"#ff7f0e\",\"#aec7e8\",\"#ff7f0e\",\"#aec7e8\",\"#ff7f0e\",\"#1f77b4\",\"#1f77b4\",\"#ff7f0e\",\"#ff7f0e\",\"#ff7f0e\",\"#ff7f0e\",\"#ff7f0e\",\"#ff7f0e\",\"#1f77b4\",\"#ff7f0e\",\"#ff7f0e\",\"#ff7f0e\",\"#1f77b4\",\"#ff7f0e\",\"#1f77b4\",\"#ff7f0e\",\"#1f77b4\",\"#1f77b4\",\"#ff7f0e\",\"#aec7e8\",\"#ff7f0e\",\"#ff7f0e\",\"#ff7f0e\",\"#aec7e8\",\"#ff7f0e\",\"#ff7f0e\",\"#ff7f0e\",\"#1f77b4\",\"#1f77b4\",\"#ff7f0e\",\"#ff7f0e\",\"#ff7f0e\",\"#aec7e8\",\"#1f77b4\",\"#ff7f0e\",\"#1f77b4\",\"#ff7f0e\",\"#ff7f0e\",\"#1f77b4\",\"#1f77b4\",\"#ff7f0e\",\"#ff7f0e\",\"#1f77b4\",\"#ff7f0e\",\"#1f77b4\",\"#ff7f0e\",\"#1f77b4\",\"#1f77b4\",\"#ff7f0e\",\"#1f77b4\",\"#ff7f0e\",\"#ff7f0e\",\"#ff7f0e\",\"#1f77b4\",\"#1f77b4\",\"#ff7f0e\",\"#ff7f0e\",\"#aec7e8\",\"#ff7f0e\",\"#ff7f0e\",\"#ff7f0e\",\"#1f77b4\",\"#1f77b4\",\"#1f77b4\",\"#ff7f0e\",\"#ff7f0e\",\"#ff7f0e\",\"#1f77b4\",\"#ff7f0e\",\"#ff7f0e\",\"#1f77b4\",\"#1f77b4\",\"#1f77b4\",\"#ff7f0e\",\"#ff7f0e\",\"#aec7e8\",\"#1f77b4\",\"#aec7e8\",\"#ff7f0e\",\"#ff7f0e\",\"#aec7e8\",\"#ff7f0e\",\"#ff7f0e\",\"#ff7f0e\",\"#1f77b4\",\"#1f77b4\",\"#1f77b4\",\"#1f77b4\",\"#ff7f0e\",\"#ff7f0e\",\"#ff7f0e\",\"#ff7f0e\",\"#ff7f0e\",\"#aec7e8\",\"#ff7f0e\",\"#1f77b4\",\"#ff7f0e\",\"#aec7e8\",\"#ff7f0e\",\"#aec7e8\",\"#ff7f0e\",\"#ff7f0e\",\"#ff7f0e\",\"#ff7f0e\",\"#ff7f0e\",\"#ff7f0e\",\"#ff7f0e\",\"#1f77b4\",\"#ff7f0e\",\"#aec7e8\",\"#ff7f0e\",\"#aec7e8\",\"#1f77b4\",\"#1f77b4\",\"#ff7f0e\",\"#ff7f0e\",\"#ff7f0e\",\"#1f77b4\",\"#ff7f0e\",\"#ff7f0e\",\"#ff7f0e\",\"#ff7f0e\",\"#ff7f0e\",\"#1f77b4\",\"#1f77b4\",\"#1f77b4\",\"#1f77b4\",\"#ff7f0e\",\"#ff7f0e\",\"#ff7f0e\",\"#1f77b4\",\"#ff7f0e\",\"#1f77b4\",\"#ff7f0e\",\"#ff7f0e\",\"#ff7f0e\",\"#ff7f0e\",\"#ff7f0e\",\"#ff7f0e\",\"#1f77b4\",\"#ff7f0e\",\"#1f77b4\",\"#ff7f0e\",\"#ff7f0e\",\"#1f77b4\",\"#ff7f0e\",\"#ff7f0e\",\"#ff7f0e\",\"#ff7f0e\",\"#ff7f0e\",\"#ff7f0e\",\"#ff7f0e\",\"#1f77b4\",\"#ff7f0e\",\"#1f77b4\",\"#1f77b4\",\"#1f77b4\",\"#ff7f0e\",\"#1f77b4\",\"#ff7f0e\",\"#ff7f0e\",\"#ff7f0e\",\"#ff7f0e\",\"#1f77b4\",\"#ff7f0e\",\"#aec7e8\",\"#1f77b4\",\"#1f77b4\",\"#ff7f0e\",\"#ff7f0e\",\"#aec7e8\",\"#1f77b4\",\"#ff7f0e\",\"#1f77b4\",\"#ff7f0e\",\"#ff7f0e\",\"#ff7f0e\",\"#ff7f0e\",\"#ff7f0e\",\"#1f77b4\",\"#ff7f0e\",\"#1f77b4\",\"#1f77b4\",\"#ff7f0e\",\"#ff7f0e\",\"#1f77b4\",\"#1f77b4\",\"#1f77b4\",\"#1f77b4\",\"#ff7f0e\",\"#aec7e8\",\"#ff7f0e\",\"#aec7e8\",\"#ff7f0e\",\"#1f77b4\",\"#ff7f0e\",\"#ff7f0e\",\"#ff7f0e\",\"#ff7f0e\",\"#ff7f0e\",\"#ff7f0e\",\"#1f77b4\",\"#ff7f0e\",\"#1f77b4\",\"#ff7f0e\",\"#ff7f0e\",\"#1f77b4\",\"#ff7f0e\",\"#ff7f0e\",\"#aec7e8\",\"#1f77b4\",\"#1f77b4\",\"#ff7f0e\",\"#aec7e8\",\"#1f77b4\",\"#ff7f0e\",\"#1f77b4\",\"#1f77b4\",\"#ff7f0e\",\"#1f77b4\",\"#1f77b4\",\"#1f77b4\",\"#ff7f0e\",\"#ff7f0e\",\"#ff7f0e\",\"#1f77b4\",\"#1f77b4\",\"#1f77b4\",\"#ff7f0e\",\"#ff7f0e\",\"#1f77b4\",\"#ff7f0e\",\"#ff7f0e\",\"#1f77b4\",\"#ff7f0e\",\"#ff7f0e\",\"#ff7f0e\",\"#ff7f0e\",\"#1f77b4\",\"#ff7f0e\",\"#ff7f0e\",\"#ff7f0e\",\"#ff7f0e\",\"#1f77b4\",\"#ff7f0e\",\"#ff7f0e\",\"#1f77b4\",\"#1f77b4\",\"#ffbb78\",\"#ffbb78\",\"#ff7f0e\",\"#ff7f0e\",\"#1f77b4\",\"#aec7e8\",\"#1f77b4\",\"#ff7f0e\",\"#ff7f0e\",\"#ff7f0e\",\"#1f77b4\",\"#ff7f0e\",\"#ff7f0e\",\"#ff7f0e\",\"#ff7f0e\",\"#ff7f0e\",\"#ff7f0e\",\"#ff7f0e\",\"#ff7f0e\",\"#1f77b4\",\"#ff7f0e\",\"#ff7f0e\",\"#ff7f0e\",\"#ff7f0e\",\"#ff7f0e\",\"#1f77b4\",\"#1f77b4\",\"#aec7e8\",\"#ff7f0e\",\"#ff7f0e\",\"#ff7f0e\",\"#ff7f0e\",\"#aec7e8\",\"#ff7f0e\",\"#ff7f0e\",\"#1f77b4\",\"#aec7e8\",\"#ff7f0e\",\"#ff7f0e\",\"#ff7f0e\",\"#1f77b4\",\"#aec7e8\",\"#ff7f0e\",\"#1f77b4\",\"#1f77b4\",\"#ff7f0e\",\"#ff7f0e\",\"#ff7f0e\",\"#1f77b4\",\"#ff7f0e\",\"#ff7f0e\",\"#ff7f0e\",\"#1f77b4\",\"#ff7f0e\",\"#ff7f0e\",\"#1f77b4\",\"#ff7f0e\",\"#aec7e8\",\"#ff7f0e\",\"#ff7f0e\",\"#ff7f0e\",\"#ff7f0e\",\"#aec7e8\",\"#ff7f0e\",\"#ff7f0e\",\"#ff7f0e\",\"#ff7f0e\",\"#ff7f0e\",\"#1f77b4\",\"#ff7f0e\",\"#ff7f0e\",\"#ff7f0e\",\"#1f77b4\",\"#ff7f0e\",\"#1f77b4\",\"#1f77b4\",\"#ff7f0e\",\"#ff7f0e\",\"#1f77b4\",\"#1f77b4\",\"#ff7f0e\",\"#ff7f0e\",\"#1f77b4\",\"#1f77b4\",\"#ff7f0e\",\"#ff7f0e\",\"#ff7f0e\",\"#ff7f0e\",\"#aec7e8\",\"#1f77b4\",\"#ff7f0e\",\"#ff7f0e\",\"#ff7f0e\",\"#1f77b4\",\"#1f77b4\",\"#1f77b4\",\"#ff7f0e\",\"#1f77b4\",\"#1f77b4\",\"#aec7e8\",\"#ff7f0e\",\"#1f77b4\",\"#aec7e8\",\"#ff7f0e\",\"#ff7f0e\",\"#ff7f0e\",\"#ff7f0e\",\"#ff7f0e\",\"#ff7f0e\",\"#aec7e8\",\"#1f77b4\",\"#1f77b4\",\"#1f77b4\",\"#1f77b4\",\"#ff7f0e\",\"#aec7e8\",\"#ff7f0e\",\"#ff7f0e\",\"#1f77b4\",\"#ff7f0e\",\"#1f77b4\",\"#ff7f0e\",\"#ff7f0e\",\"#ff7f0e\",\"#ff7f0e\",\"#ff7f0e\",\"#ff7f0e\",\"#1f77b4\",\"#ff7f0e\",\"#1f77b4\",\"#aec7e8\",\"#1f77b4\",\"#1f77b4\",\"#1f77b4\",\"#1f77b4\",\"#ff7f0e\",\"#ff7f0e\",\"#ff7f0e\",\"#ff7f0e\",\"#ff7f0e\",\"#ff7f0e\",\"#1f77b4\",\"#1f77b4\",\"#1f77b4\",\"#1f77b4\",\"#1f77b4\",\"#ff7f0e\",\"#ff7f0e\",\"#aec7e8\",\"#ff7f0e\",\"#ff7f0e\",\"#1f77b4\",\"#ff7f0e\",\"#1f77b4\",\"#ff7f0e\",\"#ff7f0e\",\"#1f77b4\",\"#ff7f0e\",\"#ff7f0e\",\"#ff7f0e\",\"#ff7f0e\",\"#1f77b4\",\"#ff7f0e\",\"#1f77b4\",\"#ff7f0e\",\"#ff7f0e\",\"#ff7f0e\",\"#ff7f0e\",\"#ff7f0e\",\"#1f77b4\",\"#ff7f0e\",\"#ff7f0e\",\"#aec7e8\",\"#1f77b4\",\"#ff7f0e\",\"#1f77b4\",\"#ff7f0e\",\"#ff7f0e\",\"#ff7f0e\",\"#1f77b4\",\"#ff7f0e\",\"#ff7f0e\",\"#ff7f0e\",\"#1f77b4\",\"#1f77b4\",\"#ff7f0e\",\"#1f77b4\",\"#ff7f0e\",\"#1f77b4\",\"#1f77b4\",\"#ff7f0e\",\"#1f77b4\",\"#ff7f0e\",\"#1f77b4\",\"#ff7f0e\",\"#ff7f0e\",\"#1f77b4\",\"#ff7f0e\",\"#1f77b4\",\"#ff7f0e\",\"#ff7f0e\",\"#ff7f0e\",\"#ff7f0e\",\"#ff7f0e\",\"#ff7f0e\",\"#ff7f0e\",\"#ff7f0e\",\"#ff7f0e\",\"#1f77b4\",\"#1f77b4\",\"#ff7f0e\",\"#aec7e8\",\"#ff7f0e\",\"#1f77b4\",\"#ff7f0e\",\"#1f77b4\",\"#ff7f0e\",\"#ff7f0e\",\"#1f77b4\",\"#ff7f0e\",\"#ff7f0e\",\"#ff7f0e\",\"#1f77b4\",\"#ff7f0e\",\"#ff7f0e\",\"#ff7f0e\",\"#1f77b4\",\"#aec7e8\",\"#ff7f0e\",\"#ff7f0e\",\"#ff7f0e\",\"#aec7e8\",\"#ff7f0e\",\"#aec7e8\",\"#ff7f0e\",\"#ff7f0e\",\"#ff7f0e\",\"#ff7f0e\",\"#ff7f0e\",\"#1f77b4\",\"#aec7e8\",\"#aec7e8\",\"#ff7f0e\",\"#ff7f0e\",\"#ff7f0e\",\"#ff7f0e\",\"#ff7f0e\",\"#1f77b4\",\"#1f77b4\",\"#ff7f0e\",\"#ff7f0e\",\"#ff7f0e\",\"#ff7f0e\",\"#1f77b4\",\"#1f77b4\",\"#1f77b4\",\"#aec7e8\",\"#1f77b4\",\"#1f77b4\",\"#ff7f0e\",\"#1f77b4\",\"#ff7f0e\",\"#ff7f0e\",\"#ff7f0e\",\"#ff7f0e\",\"#ff7f0e\",\"#ff7f0e\",\"#1f77b4\",\"#ff7f0e\",\"#1f77b4\",\"#ff7f0e\",\"#ff7f0e\",\"#ff7f0e\",\"#1f77b4\",\"#ff7f0e\",\"#1f77b4\",\"#ff7f0e\",\"#ff7f0e\",\"#ff7f0e\",\"#ff7f0e\",\"#1f77b4\",\"#aec7e8\",\"#aec7e8\",\"#1f77b4\",\"#aec7e8\",\"#1f77b4\",\"#ff7f0e\",\"#1f77b4\",\"#1f77b4\",\"#ff7f0e\",\"#ff7f0e\",\"#aec7e8\",\"#aec7e8\",\"#ff7f0e\",\"#ff7f0e\",\"#ff7f0e\",\"#1f77b4\",\"#ff7f0e\",\"#1f77b4\",\"#1f77b4\",\"#1f77b4\",\"#ff7f0e\",\"#1f77b4\",\"#1f77b4\",\"#ff7f0e\",\"#ff7f0e\",\"#1f77b4\",\"#ff7f0e\",\"#ff7f0e\",\"#ff7f0e\",\"#1f77b4\",\"#1f77b4\",\"#1f77b4\",\"#1f77b4\",\"#1f77b4\",\"#aec7e8\",\"#ff7f0e\",\"#1f77b4\",\"#1f77b4\",\"#1f77b4\",\"#ff7f0e\",\"#1f77b4\",\"#1f77b4\",\"#ff7f0e\",\"#ff7f0e\",\"#aec7e8\",\"#1f77b4\",\"#ff7f0e\",\"#ff7f0e\",\"#ff7f0e\",\"#ff7f0e\",\"#ff7f0e\",\"#1f77b4\",\"#ff7f0e\",\"#1f77b4\",\"#1f77b4\",\"#ff7f0e\",\"#ff7f0e\",\"#1f77b4\",\"#ff7f0e\",\"#1f77b4\",\"#1f77b4\",\"#ff7f0e\",\"#ff7f0e\",\"#ff7f0e\",\"#aec7e8\",\"#ff7f0e\",\"#aec7e8\",\"#ff7f0e\",\"#1f77b4\",\"#aec7e8\",\"#ff7f0e\",\"#ff7f0e\",\"#ff7f0e\",\"#ff7f0e\",\"#ff7f0e\",\"#ff7f0e\",\"#1f77b4\",\"#ff7f0e\",\"#ff7f0e\",\"#aec7e8\",\"#ff7f0e\",\"#ff7f0e\",\"#ff7f0e\",\"#ff7f0e\",\"#ff7f0e\",\"#ff7f0e\",\"#1f77b4\",\"#ff7f0e\",\"#ff7f0e\",\"#ff7f0e\",\"#ff7f0e\",\"#ff7f0e\",\"#ff7f0e\",\"#1f77b4\",\"#1f77b4\",\"#ff7f0e\",\"#ff7f0e\",\"#ff7f0e\",\"#ff7f0e\",\"#ff7f0e\",\"#aec7e8\",\"#1f77b4\",\"#ff7f0e\",\"#ff7f0e\",\"#ff7f0e\",\"#1f77b4\",\"#ff7f0e\",\"#1f77b4\",\"#ff7f0e\",\"#ff7f0e\",\"#1f77b4\",\"#1f77b4\",\"#ff7f0e\",\"#ff7f0e\",\"#ff7f0e\",\"#ff7f0e\",\"#aec7e8\",\"#1f77b4\",\"#ff7f0e\",\"#ff7f0e\",\"#1f77b4\",\"#1f77b4\",\"#aec7e8\",\"#ff7f0e\",\"#ff7f0e\",\"#1f77b4\",\"#ff7f0e\",\"#aec7e8\",\"#ff7f0e\",\"#ff7f0e\",\"#1f77b4\",\"#ff7f0e\",\"#aec7e8\",\"#aec7e8\",\"#ff7f0e\",\"#1f77b4\",\"#aec7e8\",\"#1f77b4\",\"#1f77b4\",\"#1f77b4\",\"#1f77b4\",\"#ff7f0e\",\"#1f77b4\",\"#ff7f0e\",\"#ff7f0e\",\"#ff7f0e\",\"#ff7f0e\",\"#1f77b4\",\"#ff7f0e\",\"#ff7f0e\",\"#aec7e8\",\"#1f77b4\",\"#ff7f0e\",\"#aec7e8\",\"#aec7e8\",\"#ff7f0e\",\"#ff7f0e\",\"#1f77b4\",\"#ff7f0e\",\"#aec7e8\",\"#ff7f0e\",\"#1f77b4\",\"#ff7f0e\",\"#aec7e8\",\"#ff7f0e\",\"#aec7e8\",\"#ff7f0e\",\"#ff7f0e\",\"#ff7f0e\",\"#ff7f0e\",\"#ff7f0e\",\"#1f77b4\",\"#1f77b4\",\"#ff7f0e\",\"#ff7f0e\",\"#1f77b4\",\"#ff7f0e\",\"#ff7f0e\",\"#ff7f0e\",\"#1f77b4\",\"#1f77b4\",\"#ff7f0e\",\"#ff7f0e\",\"#ff7f0e\",\"#ff7f0e\",\"#ff7f0e\",\"#ff7f0e\",\"#1f77b4\",\"#ff7f0e\",\"#aec7e8\",\"#ff7f0e\",\"#ff7f0e\",\"#ff7f0e\",\"#ff7f0e\",\"#ff7f0e\",\"#ff7f0e\",\"#aec7e8\",\"#1f77b4\",\"#aec7e8\",\"#ff7f0e\",\"#aec7e8\",\"#1f77b4\",\"#ff7f0e\",\"#1f77b4\",\"#ff7f0e\",\"#ff7f0e\",\"#ff7f0e\",\"#1f77b4\",\"#ffbb78\",\"#ff7f0e\",\"#ff7f0e\",\"#ff7f0e\",\"#ff7f0e\",\"#1f77b4\",\"#ff7f0e\",\"#1f77b4\",\"#ff7f0e\",\"#1f77b4\",\"#ff7f0e\",\"#aec7e8\",\"#ff7f0e\",\"#1f77b4\",\"#1f77b4\",\"#ff7f0e\",\"#ff7f0e\",\"#ff7f0e\",\"#ff7f0e\",\"#ff7f0e\",\"#ff7f0e\",\"#1f77b4\",\"#1f77b4\",\"#1f77b4\",\"#1f77b4\",\"#ff7f0e\",\"#1f77b4\",\"#ff7f0e\",\"#1f77b4\",\"#1f77b4\",\"#1f77b4\",\"#1f77b4\",\"#ffbb78\",\"#aec7e8\",\"#ff7f0e\",\"#ff7f0e\",\"#ff7f0e\",\"#ff7f0e\",\"#1f77b4\",\"#ffbb78\",\"#ff7f0e\",\"#1f77b4\",\"#1f77b4\",\"#1f77b4\",\"#1f77b4\",\"#ff7f0e\",\"#1f77b4\",\"#ff7f0e\",\"#ff7f0e\",\"#ff7f0e\",\"#ff7f0e\",\"#1f77b4\",\"#ff7f0e\",\"#1f77b4\",\"#aec7e8\",\"#ff7f0e\",\"#ff7f0e\"],\"shape\":[1217],\"dtype\":\"object\",\"order\":\"little\"}],[\"hatch_color\",{\"type\":\"ndarray\",\"array\":[\"#ff7f0e\",\"#ff7f0e\",\"#ff7f0e\",\"#1f77b4\",\"#ff7f0e\",\"#ff7f0e\",\"#1f77b4\",\"#ff7f0e\",\"#ff7f0e\",\"#ff7f0e\",\"#ff7f0e\",\"#ff7f0e\",\"#ff7f0e\",\"#ff7f0e\",\"#ff7f0e\",\"#1f77b4\",\"#ff7f0e\",\"#1f77b4\",\"#ff7f0e\",\"#ff7f0e\",\"#ff7f0e\",\"#ff7f0e\",\"#ff7f0e\",\"#1f77b4\",\"#aec7e8\",\"#ff7f0e\",\"#ff7f0e\",\"#aec7e8\",\"#1f77b4\",\"#ff7f0e\",\"#1f77b4\",\"#1f77b4\",\"#1f77b4\",\"#1f77b4\",\"#ff7f0e\",\"#ff7f0e\",\"#1f77b4\",\"#ff7f0e\",\"#1f77b4\",\"#1f77b4\",\"#1f77b4\",\"#aec7e8\",\"#1f77b4\",\"#ff7f0e\",\"#ff7f0e\",\"#ff7f0e\",\"#1f77b4\",\"#1f77b4\",\"#ff7f0e\",\"#1f77b4\",\"#1f77b4\",\"#ff7f0e\",\"#1f77b4\",\"#1f77b4\",\"#ff7f0e\",\"#ff7f0e\",\"#ff7f0e\",\"#1f77b4\",\"#aec7e8\",\"#1f77b4\",\"#ff7f0e\",\"#1f77b4\",\"#ff7f0e\",\"#ff7f0e\",\"#ff7f0e\",\"#ff7f0e\",\"#ff7f0e\",\"#1f77b4\",\"#ff7f0e\",\"#ff7f0e\",\"#ff7f0e\",\"#ff7f0e\",\"#ff7f0e\",\"#1f77b4\",\"#ff7f0e\",\"#ff7f0e\",\"#ff7f0e\",\"#ff7f0e\",\"#ff7f0e\",\"#ff7f0e\",\"#ff7f0e\",\"#aec7e8\",\"#ff7f0e\",\"#1f77b4\",\"#ff7f0e\",\"#aec7e8\",\"#ff7f0e\",\"#ff7f0e\",\"#1f77b4\",\"#ff7f0e\",\"#1f77b4\",\"#ff7f0e\",\"#ff7f0e\",\"#ff7f0e\",\"#aec7e8\",\"#1f77b4\",\"#ff7f0e\",\"#1f77b4\",\"#ff7f0e\",\"#1f77b4\",\"#ffbb78\",\"#ff7f0e\",\"#ff7f0e\",\"#ff7f0e\",\"#1f77b4\",\"#ff7f0e\",\"#ff7f0e\",\"#1f77b4\",\"#1f77b4\",\"#ff7f0e\",\"#ff7f0e\",\"#aec7e8\",\"#1f77b4\",\"#ff7f0e\",\"#ff7f0e\",\"#ff7f0e\",\"#ff7f0e\",\"#1f77b4\",\"#ff7f0e\",\"#aec7e8\",\"#ff7f0e\",\"#1f77b4\",\"#1f77b4\",\"#ff7f0e\",\"#ff7f0e\",\"#ff7f0e\",\"#1f77b4\",\"#ff7f0e\",\"#ff7f0e\",\"#ff7f0e\",\"#1f77b4\",\"#1f77b4\",\"#1f77b4\",\"#1f77b4\",\"#ff7f0e\",\"#ff7f0e\",\"#1f77b4\",\"#aec7e8\",\"#1f77b4\",\"#ff7f0e\",\"#ff7f0e\",\"#aec7e8\",\"#1f77b4\",\"#1f77b4\",\"#1f77b4\",\"#ff7f0e\",\"#ff7f0e\",\"#ff7f0e\",\"#ff7f0e\",\"#aec7e8\",\"#ff7f0e\",\"#ff7f0e\",\"#1f77b4\",\"#1f77b4\",\"#1f77b4\",\"#ff7f0e\",\"#1f77b4\",\"#1f77b4\",\"#ff7f0e\",\"#1f77b4\",\"#ff7f0e\",\"#1f77b4\",\"#aec7e8\",\"#aec7e8\",\"#ff7f0e\",\"#ff7f0e\",\"#ff7f0e\",\"#ff7f0e\",\"#ff7f0e\",\"#1f77b4\",\"#ff7f0e\",\"#ff7f0e\",\"#ff7f0e\",\"#1f77b4\",\"#1f77b4\",\"#ff7f0e\",\"#ff7f0e\",\"#ff7f0e\",\"#ff7f0e\",\"#1f77b4\",\"#ff7f0e\",\"#ff7f0e\",\"#aec7e8\",\"#ff7f0e\",\"#1f77b4\",\"#ff7f0e\",\"#ff7f0e\",\"#1f77b4\",\"#aec7e8\",\"#aec7e8\",\"#1f77b4\",\"#ff7f0e\",\"#ff7f0e\",\"#ff7f0e\",\"#1f77b4\",\"#ff7f0e\",\"#1f77b4\",\"#1f77b4\",\"#ff7f0e\",\"#aec7e8\",\"#1f77b4\",\"#ff7f0e\",\"#ff7f0e\",\"#ff7f0e\",\"#ff7f0e\",\"#ff7f0e\",\"#ff7f0e\",\"#aec7e8\",\"#1f77b4\",\"#ff7f0e\",\"#1f77b4\",\"#ff7f0e\",\"#ff7f0e\",\"#1f77b4\",\"#ff7f0e\",\"#ff7f0e\",\"#ff7f0e\",\"#1f77b4\",\"#ff7f0e\",\"#ff7f0e\",\"#ff7f0e\",\"#aec7e8\",\"#aec7e8\",\"#ff7f0e\",\"#ff7f0e\",\"#ff7f0e\",\"#ff7f0e\",\"#ff7f0e\",\"#1f77b4\",\"#ff7f0e\",\"#1f77b4\",\"#ff7f0e\",\"#1f77b4\",\"#ff7f0e\",\"#ff7f0e\",\"#1f77b4\",\"#ff7f0e\",\"#ff7f0e\",\"#1f77b4\",\"#ff7f0e\",\"#1f77b4\",\"#1f77b4\",\"#1f77b4\",\"#1f77b4\",\"#1f77b4\",\"#ff7f0e\",\"#1f77b4\",\"#ff7f0e\",\"#ff7f0e\",\"#ff7f0e\",\"#ffbb78\",\"#1f77b4\",\"#ff7f0e\",\"#ff7f0e\",\"#ff7f0e\",\"#ff7f0e\",\"#1f77b4\",\"#ff7f0e\",\"#ff7f0e\",\"#aec7e8\",\"#ff7f0e\",\"#aec7e8\",\"#ff7f0e\",\"#ff7f0e\",\"#ff7f0e\",\"#ff7f0e\",\"#ff7f0e\",\"#1f77b4\",\"#ff7f0e\",\"#ff7f0e\",\"#1f77b4\",\"#ff7f0e\",\"#1f77b4\",\"#1f77b4\",\"#1f77b4\",\"#1f77b4\",\"#ff7f0e\",\"#aec7e8\",\"#ff7f0e\",\"#1f77b4\",\"#ff7f0e\",\"#ff7f0e\",\"#1f77b4\",\"#1f77b4\",\"#ff7f0e\",\"#ff7f0e\",\"#1f77b4\",\"#1f77b4\",\"#1f77b4\",\"#1f77b4\",\"#ff7f0e\",\"#ff7f0e\",\"#ff7f0e\",\"#1f77b4\",\"#aec7e8\",\"#1f77b4\",\"#ff7f0e\",\"#1f77b4\",\"#ff7f0e\",\"#ff7f0e\",\"#ff7f0e\",\"#ff7f0e\",\"#ff7f0e\",\"#ff7f0e\",\"#1f77b4\",\"#ff7f0e\",\"#ff7f0e\",\"#1f77b4\",\"#ff7f0e\",\"#1f77b4\",\"#1f77b4\",\"#ff7f0e\",\"#ff7f0e\",\"#1f77b4\",\"#1f77b4\",\"#ff7f0e\",\"#ff7f0e\",\"#1f77b4\",\"#ff7f0e\",\"#1f77b4\",\"#ff7f0e\",\"#ff7f0e\",\"#ff7f0e\",\"#ff7f0e\",\"#ff7f0e\",\"#aec7e8\",\"#ff7f0e\",\"#ff7f0e\",\"#ff7f0e\",\"#ff7f0e\",\"#ff7f0e\",\"#ff7f0e\",\"#1f77b4\",\"#1f77b4\",\"#aec7e8\",\"#1f77b4\",\"#ff7f0e\",\"#ff7f0e\",\"#1f77b4\",\"#ff7f0e\",\"#ff7f0e\",\"#ff7f0e\",\"#ff7f0e\",\"#1f77b4\",\"#ff7f0e\",\"#ff7f0e\",\"#aec7e8\",\"#ff7f0e\",\"#ff7f0e\",\"#ff7f0e\",\"#ff7f0e\",\"#1f77b4\",\"#ff7f0e\",\"#1f77b4\",\"#ff7f0e\",\"#1f77b4\",\"#ff7f0e\",\"#ff7f0e\",\"#1f77b4\",\"#ff7f0e\",\"#1f77b4\",\"#1f77b4\",\"#1f77b4\",\"#ff7f0e\",\"#ff7f0e\",\"#aec7e8\",\"#ff7f0e\",\"#1f77b4\",\"#ff7f0e\",\"#1f77b4\",\"#ff7f0e\",\"#1f77b4\",\"#1f77b4\",\"#aec7e8\",\"#ff7f0e\",\"#ff7f0e\",\"#ff7f0e\",\"#aec7e8\",\"#ff7f0e\",\"#1f77b4\",\"#aec7e8\",\"#ff7f0e\",\"#ff7f0e\",\"#1f77b4\",\"#1f77b4\",\"#ff7f0e\",\"#1f77b4\",\"#1f77b4\",\"#1f77b4\",\"#ff7f0e\",\"#ff7f0e\",\"#1f77b4\",\"#ff7f0e\",\"#ff7f0e\",\"#ff7f0e\",\"#ff7f0e\",\"#aec7e8\",\"#ff7f0e\",\"#aec7e8\",\"#1f77b4\",\"#1f77b4\",\"#1f77b4\",\"#aec7e8\",\"#1f77b4\",\"#ff7f0e\",\"#ff7f0e\",\"#aec7e8\",\"#ff7f0e\",\"#1f77b4\",\"#1f77b4\",\"#1f77b4\",\"#ff7f0e\",\"#1f77b4\",\"#1f77b4\",\"#ff7f0e\",\"#ff7f0e\",\"#ff7f0e\",\"#ff7f0e\",\"#ff7f0e\",\"#aec7e8\",\"#ff7f0e\",\"#aec7e8\",\"#ff7f0e\",\"#1f77b4\",\"#1f77b4\",\"#ff7f0e\",\"#ff7f0e\",\"#ff7f0e\",\"#ff7f0e\",\"#ff7f0e\",\"#ff7f0e\",\"#1f77b4\",\"#ff7f0e\",\"#ff7f0e\",\"#ff7f0e\",\"#1f77b4\",\"#ff7f0e\",\"#1f77b4\",\"#ff7f0e\",\"#1f77b4\",\"#1f77b4\",\"#ff7f0e\",\"#aec7e8\",\"#ff7f0e\",\"#ff7f0e\",\"#ff7f0e\",\"#aec7e8\",\"#ff7f0e\",\"#ff7f0e\",\"#ff7f0e\",\"#1f77b4\",\"#1f77b4\",\"#ff7f0e\",\"#ff7f0e\",\"#ff7f0e\",\"#aec7e8\",\"#1f77b4\",\"#ff7f0e\",\"#1f77b4\",\"#ff7f0e\",\"#ff7f0e\",\"#1f77b4\",\"#1f77b4\",\"#ff7f0e\",\"#ff7f0e\",\"#1f77b4\",\"#ff7f0e\",\"#1f77b4\",\"#ff7f0e\",\"#1f77b4\",\"#1f77b4\",\"#ff7f0e\",\"#1f77b4\",\"#ff7f0e\",\"#ff7f0e\",\"#ff7f0e\",\"#1f77b4\",\"#1f77b4\",\"#ff7f0e\",\"#ff7f0e\",\"#aec7e8\",\"#ff7f0e\",\"#ff7f0e\",\"#ff7f0e\",\"#1f77b4\",\"#1f77b4\",\"#1f77b4\",\"#ff7f0e\",\"#ff7f0e\",\"#ff7f0e\",\"#1f77b4\",\"#ff7f0e\",\"#ff7f0e\",\"#1f77b4\",\"#1f77b4\",\"#1f77b4\",\"#ff7f0e\",\"#ff7f0e\",\"#aec7e8\",\"#1f77b4\",\"#aec7e8\",\"#ff7f0e\",\"#ff7f0e\",\"#aec7e8\",\"#ff7f0e\",\"#ff7f0e\",\"#ff7f0e\",\"#1f77b4\",\"#1f77b4\",\"#1f77b4\",\"#1f77b4\",\"#ff7f0e\",\"#ff7f0e\",\"#ff7f0e\",\"#ff7f0e\",\"#ff7f0e\",\"#aec7e8\",\"#ff7f0e\",\"#1f77b4\",\"#ff7f0e\",\"#aec7e8\",\"#ff7f0e\",\"#aec7e8\",\"#ff7f0e\",\"#ff7f0e\",\"#ff7f0e\",\"#ff7f0e\",\"#ff7f0e\",\"#ff7f0e\",\"#ff7f0e\",\"#1f77b4\",\"#ff7f0e\",\"#aec7e8\",\"#ff7f0e\",\"#aec7e8\",\"#1f77b4\",\"#1f77b4\",\"#ff7f0e\",\"#ff7f0e\",\"#ff7f0e\",\"#1f77b4\",\"#ff7f0e\",\"#ff7f0e\",\"#ff7f0e\",\"#ff7f0e\",\"#ff7f0e\",\"#1f77b4\",\"#1f77b4\",\"#1f77b4\",\"#1f77b4\",\"#ff7f0e\",\"#ff7f0e\",\"#ff7f0e\",\"#1f77b4\",\"#ff7f0e\",\"#1f77b4\",\"#ff7f0e\",\"#ff7f0e\",\"#ff7f0e\",\"#ff7f0e\",\"#ff7f0e\",\"#ff7f0e\",\"#1f77b4\",\"#ff7f0e\",\"#1f77b4\",\"#ff7f0e\",\"#ff7f0e\",\"#1f77b4\",\"#ff7f0e\",\"#ff7f0e\",\"#ff7f0e\",\"#ff7f0e\",\"#ff7f0e\",\"#ff7f0e\",\"#ff7f0e\",\"#1f77b4\",\"#ff7f0e\",\"#1f77b4\",\"#1f77b4\",\"#1f77b4\",\"#ff7f0e\",\"#1f77b4\",\"#ff7f0e\",\"#ff7f0e\",\"#ff7f0e\",\"#ff7f0e\",\"#1f77b4\",\"#ff7f0e\",\"#aec7e8\",\"#1f77b4\",\"#1f77b4\",\"#ff7f0e\",\"#ff7f0e\",\"#aec7e8\",\"#1f77b4\",\"#ff7f0e\",\"#1f77b4\",\"#ff7f0e\",\"#ff7f0e\",\"#ff7f0e\",\"#ff7f0e\",\"#ff7f0e\",\"#1f77b4\",\"#ff7f0e\",\"#1f77b4\",\"#1f77b4\",\"#ff7f0e\",\"#ff7f0e\",\"#1f77b4\",\"#1f77b4\",\"#1f77b4\",\"#1f77b4\",\"#ff7f0e\",\"#aec7e8\",\"#ff7f0e\",\"#aec7e8\",\"#ff7f0e\",\"#1f77b4\",\"#ff7f0e\",\"#ff7f0e\",\"#ff7f0e\",\"#ff7f0e\",\"#ff7f0e\",\"#ff7f0e\",\"#1f77b4\",\"#ff7f0e\",\"#1f77b4\",\"#ff7f0e\",\"#ff7f0e\",\"#1f77b4\",\"#ff7f0e\",\"#ff7f0e\",\"#aec7e8\",\"#1f77b4\",\"#1f77b4\",\"#ff7f0e\",\"#aec7e8\",\"#1f77b4\",\"#ff7f0e\",\"#1f77b4\",\"#1f77b4\",\"#ff7f0e\",\"#1f77b4\",\"#1f77b4\",\"#1f77b4\",\"#ff7f0e\",\"#ff7f0e\",\"#ff7f0e\",\"#1f77b4\",\"#1f77b4\",\"#1f77b4\",\"#ff7f0e\",\"#ff7f0e\",\"#1f77b4\",\"#ff7f0e\",\"#ff7f0e\",\"#1f77b4\",\"#ff7f0e\",\"#ff7f0e\",\"#ff7f0e\",\"#ff7f0e\",\"#1f77b4\",\"#ff7f0e\",\"#ff7f0e\",\"#ff7f0e\",\"#ff7f0e\",\"#1f77b4\",\"#ff7f0e\",\"#ff7f0e\",\"#1f77b4\",\"#1f77b4\",\"#ffbb78\",\"#ffbb78\",\"#ff7f0e\",\"#ff7f0e\",\"#1f77b4\",\"#aec7e8\",\"#1f77b4\",\"#ff7f0e\",\"#ff7f0e\",\"#ff7f0e\",\"#1f77b4\",\"#ff7f0e\",\"#ff7f0e\",\"#ff7f0e\",\"#ff7f0e\",\"#ff7f0e\",\"#ff7f0e\",\"#ff7f0e\",\"#ff7f0e\",\"#1f77b4\",\"#ff7f0e\",\"#ff7f0e\",\"#ff7f0e\",\"#ff7f0e\",\"#ff7f0e\",\"#1f77b4\",\"#1f77b4\",\"#aec7e8\",\"#ff7f0e\",\"#ff7f0e\",\"#ff7f0e\",\"#ff7f0e\",\"#aec7e8\",\"#ff7f0e\",\"#ff7f0e\",\"#1f77b4\",\"#aec7e8\",\"#ff7f0e\",\"#ff7f0e\",\"#ff7f0e\",\"#1f77b4\",\"#aec7e8\",\"#ff7f0e\",\"#1f77b4\",\"#1f77b4\",\"#ff7f0e\",\"#ff7f0e\",\"#ff7f0e\",\"#1f77b4\",\"#ff7f0e\",\"#ff7f0e\",\"#ff7f0e\",\"#1f77b4\",\"#ff7f0e\",\"#ff7f0e\",\"#1f77b4\",\"#ff7f0e\",\"#aec7e8\",\"#ff7f0e\",\"#ff7f0e\",\"#ff7f0e\",\"#ff7f0e\",\"#aec7e8\",\"#ff7f0e\",\"#ff7f0e\",\"#ff7f0e\",\"#ff7f0e\",\"#ff7f0e\",\"#1f77b4\",\"#ff7f0e\",\"#ff7f0e\",\"#ff7f0e\",\"#1f77b4\",\"#ff7f0e\",\"#1f77b4\",\"#1f77b4\",\"#ff7f0e\",\"#ff7f0e\",\"#1f77b4\",\"#1f77b4\",\"#ff7f0e\",\"#ff7f0e\",\"#1f77b4\",\"#1f77b4\",\"#ff7f0e\",\"#ff7f0e\",\"#ff7f0e\",\"#ff7f0e\",\"#aec7e8\",\"#1f77b4\",\"#ff7f0e\",\"#ff7f0e\",\"#ff7f0e\",\"#1f77b4\",\"#1f77b4\",\"#1f77b4\",\"#ff7f0e\",\"#1f77b4\",\"#1f77b4\",\"#aec7e8\",\"#ff7f0e\",\"#1f77b4\",\"#aec7e8\",\"#ff7f0e\",\"#ff7f0e\",\"#ff7f0e\",\"#ff7f0e\",\"#ff7f0e\",\"#ff7f0e\",\"#aec7e8\",\"#1f77b4\",\"#1f77b4\",\"#1f77b4\",\"#1f77b4\",\"#ff7f0e\",\"#aec7e8\",\"#ff7f0e\",\"#ff7f0e\",\"#1f77b4\",\"#ff7f0e\",\"#1f77b4\",\"#ff7f0e\",\"#ff7f0e\",\"#ff7f0e\",\"#ff7f0e\",\"#ff7f0e\",\"#ff7f0e\",\"#1f77b4\",\"#ff7f0e\",\"#1f77b4\",\"#aec7e8\",\"#1f77b4\",\"#1f77b4\",\"#1f77b4\",\"#1f77b4\",\"#ff7f0e\",\"#ff7f0e\",\"#ff7f0e\",\"#ff7f0e\",\"#ff7f0e\",\"#ff7f0e\",\"#1f77b4\",\"#1f77b4\",\"#1f77b4\",\"#1f77b4\",\"#1f77b4\",\"#ff7f0e\",\"#ff7f0e\",\"#aec7e8\",\"#ff7f0e\",\"#ff7f0e\",\"#1f77b4\",\"#ff7f0e\",\"#1f77b4\",\"#ff7f0e\",\"#ff7f0e\",\"#1f77b4\",\"#ff7f0e\",\"#ff7f0e\",\"#ff7f0e\",\"#ff7f0e\",\"#1f77b4\",\"#ff7f0e\",\"#1f77b4\",\"#ff7f0e\",\"#ff7f0e\",\"#ff7f0e\",\"#ff7f0e\",\"#ff7f0e\",\"#1f77b4\",\"#ff7f0e\",\"#ff7f0e\",\"#aec7e8\",\"#1f77b4\",\"#ff7f0e\",\"#1f77b4\",\"#ff7f0e\",\"#ff7f0e\",\"#ff7f0e\",\"#1f77b4\",\"#ff7f0e\",\"#ff7f0e\",\"#ff7f0e\",\"#1f77b4\",\"#1f77b4\",\"#ff7f0e\",\"#1f77b4\",\"#ff7f0e\",\"#1f77b4\",\"#1f77b4\",\"#ff7f0e\",\"#1f77b4\",\"#ff7f0e\",\"#1f77b4\",\"#ff7f0e\",\"#ff7f0e\",\"#1f77b4\",\"#ff7f0e\",\"#1f77b4\",\"#ff7f0e\",\"#ff7f0e\",\"#ff7f0e\",\"#ff7f0e\",\"#ff7f0e\",\"#ff7f0e\",\"#ff7f0e\",\"#ff7f0e\",\"#ff7f0e\",\"#1f77b4\",\"#1f77b4\",\"#ff7f0e\",\"#aec7e8\",\"#ff7f0e\",\"#1f77b4\",\"#ff7f0e\",\"#1f77b4\",\"#ff7f0e\",\"#ff7f0e\",\"#1f77b4\",\"#ff7f0e\",\"#ff7f0e\",\"#ff7f0e\",\"#1f77b4\",\"#ff7f0e\",\"#ff7f0e\",\"#ff7f0e\",\"#1f77b4\",\"#aec7e8\",\"#ff7f0e\",\"#ff7f0e\",\"#ff7f0e\",\"#aec7e8\",\"#ff7f0e\",\"#aec7e8\",\"#ff7f0e\",\"#ff7f0e\",\"#ff7f0e\",\"#ff7f0e\",\"#ff7f0e\",\"#1f77b4\",\"#aec7e8\",\"#aec7e8\",\"#ff7f0e\",\"#ff7f0e\",\"#ff7f0e\",\"#ff7f0e\",\"#ff7f0e\",\"#1f77b4\",\"#1f77b4\",\"#ff7f0e\",\"#ff7f0e\",\"#ff7f0e\",\"#ff7f0e\",\"#1f77b4\",\"#1f77b4\",\"#1f77b4\",\"#aec7e8\",\"#1f77b4\",\"#1f77b4\",\"#ff7f0e\",\"#1f77b4\",\"#ff7f0e\",\"#ff7f0e\",\"#ff7f0e\",\"#ff7f0e\",\"#ff7f0e\",\"#ff7f0e\",\"#1f77b4\",\"#ff7f0e\",\"#1f77b4\",\"#ff7f0e\",\"#ff7f0e\",\"#ff7f0e\",\"#1f77b4\",\"#ff7f0e\",\"#1f77b4\",\"#ff7f0e\",\"#ff7f0e\",\"#ff7f0e\",\"#ff7f0e\",\"#1f77b4\",\"#aec7e8\",\"#aec7e8\",\"#1f77b4\",\"#aec7e8\",\"#1f77b4\",\"#ff7f0e\",\"#1f77b4\",\"#1f77b4\",\"#ff7f0e\",\"#ff7f0e\",\"#aec7e8\",\"#aec7e8\",\"#ff7f0e\",\"#ff7f0e\",\"#ff7f0e\",\"#1f77b4\",\"#ff7f0e\",\"#1f77b4\",\"#1f77b4\",\"#1f77b4\",\"#ff7f0e\",\"#1f77b4\",\"#1f77b4\",\"#ff7f0e\",\"#ff7f0e\",\"#1f77b4\",\"#ff7f0e\",\"#ff7f0e\",\"#ff7f0e\",\"#1f77b4\",\"#1f77b4\",\"#1f77b4\",\"#1f77b4\",\"#1f77b4\",\"#aec7e8\",\"#ff7f0e\",\"#1f77b4\",\"#1f77b4\",\"#1f77b4\",\"#ff7f0e\",\"#1f77b4\",\"#1f77b4\",\"#ff7f0e\",\"#ff7f0e\",\"#aec7e8\",\"#1f77b4\",\"#ff7f0e\",\"#ff7f0e\",\"#ff7f0e\",\"#ff7f0e\",\"#ff7f0e\",\"#1f77b4\",\"#ff7f0e\",\"#1f77b4\",\"#1f77b4\",\"#ff7f0e\",\"#ff7f0e\",\"#1f77b4\",\"#ff7f0e\",\"#1f77b4\",\"#1f77b4\",\"#ff7f0e\",\"#ff7f0e\",\"#ff7f0e\",\"#aec7e8\",\"#ff7f0e\",\"#aec7e8\",\"#ff7f0e\",\"#1f77b4\",\"#aec7e8\",\"#ff7f0e\",\"#ff7f0e\",\"#ff7f0e\",\"#ff7f0e\",\"#ff7f0e\",\"#ff7f0e\",\"#1f77b4\",\"#ff7f0e\",\"#ff7f0e\",\"#aec7e8\",\"#ff7f0e\",\"#ff7f0e\",\"#ff7f0e\",\"#ff7f0e\",\"#ff7f0e\",\"#ff7f0e\",\"#1f77b4\",\"#ff7f0e\",\"#ff7f0e\",\"#ff7f0e\",\"#ff7f0e\",\"#ff7f0e\",\"#ff7f0e\",\"#1f77b4\",\"#1f77b4\",\"#ff7f0e\",\"#ff7f0e\",\"#ff7f0e\",\"#ff7f0e\",\"#ff7f0e\",\"#aec7e8\",\"#1f77b4\",\"#ff7f0e\",\"#ff7f0e\",\"#ff7f0e\",\"#1f77b4\",\"#ff7f0e\",\"#1f77b4\",\"#ff7f0e\",\"#ff7f0e\",\"#1f77b4\",\"#1f77b4\",\"#ff7f0e\",\"#ff7f0e\",\"#ff7f0e\",\"#ff7f0e\",\"#aec7e8\",\"#1f77b4\",\"#ff7f0e\",\"#ff7f0e\",\"#1f77b4\",\"#1f77b4\",\"#aec7e8\",\"#ff7f0e\",\"#ff7f0e\",\"#1f77b4\",\"#ff7f0e\",\"#aec7e8\",\"#ff7f0e\",\"#ff7f0e\",\"#1f77b4\",\"#ff7f0e\",\"#aec7e8\",\"#aec7e8\",\"#ff7f0e\",\"#1f77b4\",\"#aec7e8\",\"#1f77b4\",\"#1f77b4\",\"#1f77b4\",\"#1f77b4\",\"#ff7f0e\",\"#1f77b4\",\"#ff7f0e\",\"#ff7f0e\",\"#ff7f0e\",\"#ff7f0e\",\"#1f77b4\",\"#ff7f0e\",\"#ff7f0e\",\"#aec7e8\",\"#1f77b4\",\"#ff7f0e\",\"#aec7e8\",\"#aec7e8\",\"#ff7f0e\",\"#ff7f0e\",\"#1f77b4\",\"#ff7f0e\",\"#aec7e8\",\"#ff7f0e\",\"#1f77b4\",\"#ff7f0e\",\"#aec7e8\",\"#ff7f0e\",\"#aec7e8\",\"#ff7f0e\",\"#ff7f0e\",\"#ff7f0e\",\"#ff7f0e\",\"#ff7f0e\",\"#1f77b4\",\"#1f77b4\",\"#ff7f0e\",\"#ff7f0e\",\"#1f77b4\",\"#ff7f0e\",\"#ff7f0e\",\"#ff7f0e\",\"#1f77b4\",\"#1f77b4\",\"#ff7f0e\",\"#ff7f0e\",\"#ff7f0e\",\"#ff7f0e\",\"#ff7f0e\",\"#ff7f0e\",\"#1f77b4\",\"#ff7f0e\",\"#aec7e8\",\"#ff7f0e\",\"#ff7f0e\",\"#ff7f0e\",\"#ff7f0e\",\"#ff7f0e\",\"#ff7f0e\",\"#aec7e8\",\"#1f77b4\",\"#aec7e8\",\"#ff7f0e\",\"#aec7e8\",\"#1f77b4\",\"#ff7f0e\",\"#1f77b4\",\"#ff7f0e\",\"#ff7f0e\",\"#ff7f0e\",\"#1f77b4\",\"#ffbb78\",\"#ff7f0e\",\"#ff7f0e\",\"#ff7f0e\",\"#ff7f0e\",\"#1f77b4\",\"#ff7f0e\",\"#1f77b4\",\"#ff7f0e\",\"#1f77b4\",\"#ff7f0e\",\"#aec7e8\",\"#ff7f0e\",\"#1f77b4\",\"#1f77b4\",\"#ff7f0e\",\"#ff7f0e\",\"#ff7f0e\",\"#ff7f0e\",\"#ff7f0e\",\"#ff7f0e\",\"#1f77b4\",\"#1f77b4\",\"#1f77b4\",\"#1f77b4\",\"#ff7f0e\",\"#1f77b4\",\"#ff7f0e\",\"#1f77b4\",\"#1f77b4\",\"#1f77b4\",\"#1f77b4\",\"#ffbb78\",\"#aec7e8\",\"#ff7f0e\",\"#ff7f0e\",\"#ff7f0e\",\"#ff7f0e\",\"#1f77b4\",\"#ffbb78\",\"#ff7f0e\",\"#1f77b4\",\"#1f77b4\",\"#1f77b4\",\"#1f77b4\",\"#ff7f0e\",\"#1f77b4\",\"#ff7f0e\",\"#ff7f0e\",\"#ff7f0e\",\"#ff7f0e\",\"#1f77b4\",\"#ff7f0e\",\"#1f77b4\",\"#aec7e8\",\"#ff7f0e\",\"#ff7f0e\"],\"shape\":[1217],\"dtype\":\"object\",\"order\":\"little\"}],[\"line_color\",{\"type\":\"ndarray\",\"array\":[\"#ff7f0e\",\"#ff7f0e\",\"#ff7f0e\",\"#1f77b4\",\"#ff7f0e\",\"#ff7f0e\",\"#1f77b4\",\"#ff7f0e\",\"#ff7f0e\",\"#ff7f0e\",\"#ff7f0e\",\"#ff7f0e\",\"#ff7f0e\",\"#ff7f0e\",\"#ff7f0e\",\"#1f77b4\",\"#ff7f0e\",\"#1f77b4\",\"#ff7f0e\",\"#ff7f0e\",\"#ff7f0e\",\"#ff7f0e\",\"#ff7f0e\",\"#1f77b4\",\"#aec7e8\",\"#ff7f0e\",\"#ff7f0e\",\"#aec7e8\",\"#1f77b4\",\"#ff7f0e\",\"#1f77b4\",\"#1f77b4\",\"#1f77b4\",\"#1f77b4\",\"#ff7f0e\",\"#ff7f0e\",\"#1f77b4\",\"#ff7f0e\",\"#1f77b4\",\"#1f77b4\",\"#1f77b4\",\"#aec7e8\",\"#1f77b4\",\"#ff7f0e\",\"#ff7f0e\",\"#ff7f0e\",\"#1f77b4\",\"#1f77b4\",\"#ff7f0e\",\"#1f77b4\",\"#1f77b4\",\"#ff7f0e\",\"#1f77b4\",\"#1f77b4\",\"#ff7f0e\",\"#ff7f0e\",\"#ff7f0e\",\"#1f77b4\",\"#aec7e8\",\"#1f77b4\",\"#ff7f0e\",\"#1f77b4\",\"#ff7f0e\",\"#ff7f0e\",\"#ff7f0e\",\"#ff7f0e\",\"#ff7f0e\",\"#1f77b4\",\"#ff7f0e\",\"#ff7f0e\",\"#ff7f0e\",\"#ff7f0e\",\"#ff7f0e\",\"#1f77b4\",\"#ff7f0e\",\"#ff7f0e\",\"#ff7f0e\",\"#ff7f0e\",\"#ff7f0e\",\"#ff7f0e\",\"#ff7f0e\",\"#aec7e8\",\"#ff7f0e\",\"#1f77b4\",\"#ff7f0e\",\"#aec7e8\",\"#ff7f0e\",\"#ff7f0e\",\"#1f77b4\",\"#ff7f0e\",\"#1f77b4\",\"#ff7f0e\",\"#ff7f0e\",\"#ff7f0e\",\"#aec7e8\",\"#1f77b4\",\"#ff7f0e\",\"#1f77b4\",\"#ff7f0e\",\"#1f77b4\",\"#ffbb78\",\"#ff7f0e\",\"#ff7f0e\",\"#ff7f0e\",\"#1f77b4\",\"#ff7f0e\",\"#ff7f0e\",\"#1f77b4\",\"#1f77b4\",\"#ff7f0e\",\"#ff7f0e\",\"#aec7e8\",\"#1f77b4\",\"#ff7f0e\",\"#ff7f0e\",\"#ff7f0e\",\"#ff7f0e\",\"#1f77b4\",\"#ff7f0e\",\"#aec7e8\",\"#ff7f0e\",\"#1f77b4\",\"#1f77b4\",\"#ff7f0e\",\"#ff7f0e\",\"#ff7f0e\",\"#1f77b4\",\"#ff7f0e\",\"#ff7f0e\",\"#ff7f0e\",\"#1f77b4\",\"#1f77b4\",\"#1f77b4\",\"#1f77b4\",\"#ff7f0e\",\"#ff7f0e\",\"#1f77b4\",\"#aec7e8\",\"#1f77b4\",\"#ff7f0e\",\"#ff7f0e\",\"#aec7e8\",\"#1f77b4\",\"#1f77b4\",\"#1f77b4\",\"#ff7f0e\",\"#ff7f0e\",\"#ff7f0e\",\"#ff7f0e\",\"#aec7e8\",\"#ff7f0e\",\"#ff7f0e\",\"#1f77b4\",\"#1f77b4\",\"#1f77b4\",\"#ff7f0e\",\"#1f77b4\",\"#1f77b4\",\"#ff7f0e\",\"#1f77b4\",\"#ff7f0e\",\"#1f77b4\",\"#aec7e8\",\"#aec7e8\",\"#ff7f0e\",\"#ff7f0e\",\"#ff7f0e\",\"#ff7f0e\",\"#ff7f0e\",\"#1f77b4\",\"#ff7f0e\",\"#ff7f0e\",\"#ff7f0e\",\"#1f77b4\",\"#1f77b4\",\"#ff7f0e\",\"#ff7f0e\",\"#ff7f0e\",\"#ff7f0e\",\"#1f77b4\",\"#ff7f0e\",\"#ff7f0e\",\"#aec7e8\",\"#ff7f0e\",\"#1f77b4\",\"#ff7f0e\",\"#ff7f0e\",\"#1f77b4\",\"#aec7e8\",\"#aec7e8\",\"#1f77b4\",\"#ff7f0e\",\"#ff7f0e\",\"#ff7f0e\",\"#1f77b4\",\"#ff7f0e\",\"#1f77b4\",\"#1f77b4\",\"#ff7f0e\",\"#aec7e8\",\"#1f77b4\",\"#ff7f0e\",\"#ff7f0e\",\"#ff7f0e\",\"#ff7f0e\",\"#ff7f0e\",\"#ff7f0e\",\"#aec7e8\",\"#1f77b4\",\"#ff7f0e\",\"#1f77b4\",\"#ff7f0e\",\"#ff7f0e\",\"#1f77b4\",\"#ff7f0e\",\"#ff7f0e\",\"#ff7f0e\",\"#1f77b4\",\"#ff7f0e\",\"#ff7f0e\",\"#ff7f0e\",\"#aec7e8\",\"#aec7e8\",\"#ff7f0e\",\"#ff7f0e\",\"#ff7f0e\",\"#ff7f0e\",\"#ff7f0e\",\"#1f77b4\",\"#ff7f0e\",\"#1f77b4\",\"#ff7f0e\",\"#1f77b4\",\"#ff7f0e\",\"#ff7f0e\",\"#1f77b4\",\"#ff7f0e\",\"#ff7f0e\",\"#1f77b4\",\"#ff7f0e\",\"#1f77b4\",\"#1f77b4\",\"#1f77b4\",\"#1f77b4\",\"#1f77b4\",\"#ff7f0e\",\"#1f77b4\",\"#ff7f0e\",\"#ff7f0e\",\"#ff7f0e\",\"#ffbb78\",\"#1f77b4\",\"#ff7f0e\",\"#ff7f0e\",\"#ff7f0e\",\"#ff7f0e\",\"#1f77b4\",\"#ff7f0e\",\"#ff7f0e\",\"#aec7e8\",\"#ff7f0e\",\"#aec7e8\",\"#ff7f0e\",\"#ff7f0e\",\"#ff7f0e\",\"#ff7f0e\",\"#ff7f0e\",\"#1f77b4\",\"#ff7f0e\",\"#ff7f0e\",\"#1f77b4\",\"#ff7f0e\",\"#1f77b4\",\"#1f77b4\",\"#1f77b4\",\"#1f77b4\",\"#ff7f0e\",\"#aec7e8\",\"#ff7f0e\",\"#1f77b4\",\"#ff7f0e\",\"#ff7f0e\",\"#1f77b4\",\"#1f77b4\",\"#ff7f0e\",\"#ff7f0e\",\"#1f77b4\",\"#1f77b4\",\"#1f77b4\",\"#1f77b4\",\"#ff7f0e\",\"#ff7f0e\",\"#ff7f0e\",\"#1f77b4\",\"#aec7e8\",\"#1f77b4\",\"#ff7f0e\",\"#1f77b4\",\"#ff7f0e\",\"#ff7f0e\",\"#ff7f0e\",\"#ff7f0e\",\"#ff7f0e\",\"#ff7f0e\",\"#1f77b4\",\"#ff7f0e\",\"#ff7f0e\",\"#1f77b4\",\"#ff7f0e\",\"#1f77b4\",\"#1f77b4\",\"#ff7f0e\",\"#ff7f0e\",\"#1f77b4\",\"#1f77b4\",\"#ff7f0e\",\"#ff7f0e\",\"#1f77b4\",\"#ff7f0e\",\"#1f77b4\",\"#ff7f0e\",\"#ff7f0e\",\"#ff7f0e\",\"#ff7f0e\",\"#ff7f0e\",\"#aec7e8\",\"#ff7f0e\",\"#ff7f0e\",\"#ff7f0e\",\"#ff7f0e\",\"#ff7f0e\",\"#ff7f0e\",\"#1f77b4\",\"#1f77b4\",\"#aec7e8\",\"#1f77b4\",\"#ff7f0e\",\"#ff7f0e\",\"#1f77b4\",\"#ff7f0e\",\"#ff7f0e\",\"#ff7f0e\",\"#ff7f0e\",\"#1f77b4\",\"#ff7f0e\",\"#ff7f0e\",\"#aec7e8\",\"#ff7f0e\",\"#ff7f0e\",\"#ff7f0e\",\"#ff7f0e\",\"#1f77b4\",\"#ff7f0e\",\"#1f77b4\",\"#ff7f0e\",\"#1f77b4\",\"#ff7f0e\",\"#ff7f0e\",\"#1f77b4\",\"#ff7f0e\",\"#1f77b4\",\"#1f77b4\",\"#1f77b4\",\"#ff7f0e\",\"#ff7f0e\",\"#aec7e8\",\"#ff7f0e\",\"#1f77b4\",\"#ff7f0e\",\"#1f77b4\",\"#ff7f0e\",\"#1f77b4\",\"#1f77b4\",\"#aec7e8\",\"#ff7f0e\",\"#ff7f0e\",\"#ff7f0e\",\"#aec7e8\",\"#ff7f0e\",\"#1f77b4\",\"#aec7e8\",\"#ff7f0e\",\"#ff7f0e\",\"#1f77b4\",\"#1f77b4\",\"#ff7f0e\",\"#1f77b4\",\"#1f77b4\",\"#1f77b4\",\"#ff7f0e\",\"#ff7f0e\",\"#1f77b4\",\"#ff7f0e\",\"#ff7f0e\",\"#ff7f0e\",\"#ff7f0e\",\"#aec7e8\",\"#ff7f0e\",\"#aec7e8\",\"#1f77b4\",\"#1f77b4\",\"#1f77b4\",\"#aec7e8\",\"#1f77b4\",\"#ff7f0e\",\"#ff7f0e\",\"#aec7e8\",\"#ff7f0e\",\"#1f77b4\",\"#1f77b4\",\"#1f77b4\",\"#ff7f0e\",\"#1f77b4\",\"#1f77b4\",\"#ff7f0e\",\"#ff7f0e\",\"#ff7f0e\",\"#ff7f0e\",\"#ff7f0e\",\"#aec7e8\",\"#ff7f0e\",\"#aec7e8\",\"#ff7f0e\",\"#1f77b4\",\"#1f77b4\",\"#ff7f0e\",\"#ff7f0e\",\"#ff7f0e\",\"#ff7f0e\",\"#ff7f0e\",\"#ff7f0e\",\"#1f77b4\",\"#ff7f0e\",\"#ff7f0e\",\"#ff7f0e\",\"#1f77b4\",\"#ff7f0e\",\"#1f77b4\",\"#ff7f0e\",\"#1f77b4\",\"#1f77b4\",\"#ff7f0e\",\"#aec7e8\",\"#ff7f0e\",\"#ff7f0e\",\"#ff7f0e\",\"#aec7e8\",\"#ff7f0e\",\"#ff7f0e\",\"#ff7f0e\",\"#1f77b4\",\"#1f77b4\",\"#ff7f0e\",\"#ff7f0e\",\"#ff7f0e\",\"#aec7e8\",\"#1f77b4\",\"#ff7f0e\",\"#1f77b4\",\"#ff7f0e\",\"#ff7f0e\",\"#1f77b4\",\"#1f77b4\",\"#ff7f0e\",\"#ff7f0e\",\"#1f77b4\",\"#ff7f0e\",\"#1f77b4\",\"#ff7f0e\",\"#1f77b4\",\"#1f77b4\",\"#ff7f0e\",\"#1f77b4\",\"#ff7f0e\",\"#ff7f0e\",\"#ff7f0e\",\"#1f77b4\",\"#1f77b4\",\"#ff7f0e\",\"#ff7f0e\",\"#aec7e8\",\"#ff7f0e\",\"#ff7f0e\",\"#ff7f0e\",\"#1f77b4\",\"#1f77b4\",\"#1f77b4\",\"#ff7f0e\",\"#ff7f0e\",\"#ff7f0e\",\"#1f77b4\",\"#ff7f0e\",\"#ff7f0e\",\"#1f77b4\",\"#1f77b4\",\"#1f77b4\",\"#ff7f0e\",\"#ff7f0e\",\"#aec7e8\",\"#1f77b4\",\"#aec7e8\",\"#ff7f0e\",\"#ff7f0e\",\"#aec7e8\",\"#ff7f0e\",\"#ff7f0e\",\"#ff7f0e\",\"#1f77b4\",\"#1f77b4\",\"#1f77b4\",\"#1f77b4\",\"#ff7f0e\",\"#ff7f0e\",\"#ff7f0e\",\"#ff7f0e\",\"#ff7f0e\",\"#aec7e8\",\"#ff7f0e\",\"#1f77b4\",\"#ff7f0e\",\"#aec7e8\",\"#ff7f0e\",\"#aec7e8\",\"#ff7f0e\",\"#ff7f0e\",\"#ff7f0e\",\"#ff7f0e\",\"#ff7f0e\",\"#ff7f0e\",\"#ff7f0e\",\"#1f77b4\",\"#ff7f0e\",\"#aec7e8\",\"#ff7f0e\",\"#aec7e8\",\"#1f77b4\",\"#1f77b4\",\"#ff7f0e\",\"#ff7f0e\",\"#ff7f0e\",\"#1f77b4\",\"#ff7f0e\",\"#ff7f0e\",\"#ff7f0e\",\"#ff7f0e\",\"#ff7f0e\",\"#1f77b4\",\"#1f77b4\",\"#1f77b4\",\"#1f77b4\",\"#ff7f0e\",\"#ff7f0e\",\"#ff7f0e\",\"#1f77b4\",\"#ff7f0e\",\"#1f77b4\",\"#ff7f0e\",\"#ff7f0e\",\"#ff7f0e\",\"#ff7f0e\",\"#ff7f0e\",\"#ff7f0e\",\"#1f77b4\",\"#ff7f0e\",\"#1f77b4\",\"#ff7f0e\",\"#ff7f0e\",\"#1f77b4\",\"#ff7f0e\",\"#ff7f0e\",\"#ff7f0e\",\"#ff7f0e\",\"#ff7f0e\",\"#ff7f0e\",\"#ff7f0e\",\"#1f77b4\",\"#ff7f0e\",\"#1f77b4\",\"#1f77b4\",\"#1f77b4\",\"#ff7f0e\",\"#1f77b4\",\"#ff7f0e\",\"#ff7f0e\",\"#ff7f0e\",\"#ff7f0e\",\"#1f77b4\",\"#ff7f0e\",\"#aec7e8\",\"#1f77b4\",\"#1f77b4\",\"#ff7f0e\",\"#ff7f0e\",\"#aec7e8\",\"#1f77b4\",\"#ff7f0e\",\"#1f77b4\",\"#ff7f0e\",\"#ff7f0e\",\"#ff7f0e\",\"#ff7f0e\",\"#ff7f0e\",\"#1f77b4\",\"#ff7f0e\",\"#1f77b4\",\"#1f77b4\",\"#ff7f0e\",\"#ff7f0e\",\"#1f77b4\",\"#1f77b4\",\"#1f77b4\",\"#1f77b4\",\"#ff7f0e\",\"#aec7e8\",\"#ff7f0e\",\"#aec7e8\",\"#ff7f0e\",\"#1f77b4\",\"#ff7f0e\",\"#ff7f0e\",\"#ff7f0e\",\"#ff7f0e\",\"#ff7f0e\",\"#ff7f0e\",\"#1f77b4\",\"#ff7f0e\",\"#1f77b4\",\"#ff7f0e\",\"#ff7f0e\",\"#1f77b4\",\"#ff7f0e\",\"#ff7f0e\",\"#aec7e8\",\"#1f77b4\",\"#1f77b4\",\"#ff7f0e\",\"#aec7e8\",\"#1f77b4\",\"#ff7f0e\",\"#1f77b4\",\"#1f77b4\",\"#ff7f0e\",\"#1f77b4\",\"#1f77b4\",\"#1f77b4\",\"#ff7f0e\",\"#ff7f0e\",\"#ff7f0e\",\"#1f77b4\",\"#1f77b4\",\"#1f77b4\",\"#ff7f0e\",\"#ff7f0e\",\"#1f77b4\",\"#ff7f0e\",\"#ff7f0e\",\"#1f77b4\",\"#ff7f0e\",\"#ff7f0e\",\"#ff7f0e\",\"#ff7f0e\",\"#1f77b4\",\"#ff7f0e\",\"#ff7f0e\",\"#ff7f0e\",\"#ff7f0e\",\"#1f77b4\",\"#ff7f0e\",\"#ff7f0e\",\"#1f77b4\",\"#1f77b4\",\"#ffbb78\",\"#ffbb78\",\"#ff7f0e\",\"#ff7f0e\",\"#1f77b4\",\"#aec7e8\",\"#1f77b4\",\"#ff7f0e\",\"#ff7f0e\",\"#ff7f0e\",\"#1f77b4\",\"#ff7f0e\",\"#ff7f0e\",\"#ff7f0e\",\"#ff7f0e\",\"#ff7f0e\",\"#ff7f0e\",\"#ff7f0e\",\"#ff7f0e\",\"#1f77b4\",\"#ff7f0e\",\"#ff7f0e\",\"#ff7f0e\",\"#ff7f0e\",\"#ff7f0e\",\"#1f77b4\",\"#1f77b4\",\"#aec7e8\",\"#ff7f0e\",\"#ff7f0e\",\"#ff7f0e\",\"#ff7f0e\",\"#aec7e8\",\"#ff7f0e\",\"#ff7f0e\",\"#1f77b4\",\"#aec7e8\",\"#ff7f0e\",\"#ff7f0e\",\"#ff7f0e\",\"#1f77b4\",\"#aec7e8\",\"#ff7f0e\",\"#1f77b4\",\"#1f77b4\",\"#ff7f0e\",\"#ff7f0e\",\"#ff7f0e\",\"#1f77b4\",\"#ff7f0e\",\"#ff7f0e\",\"#ff7f0e\",\"#1f77b4\",\"#ff7f0e\",\"#ff7f0e\",\"#1f77b4\",\"#ff7f0e\",\"#aec7e8\",\"#ff7f0e\",\"#ff7f0e\",\"#ff7f0e\",\"#ff7f0e\",\"#aec7e8\",\"#ff7f0e\",\"#ff7f0e\",\"#ff7f0e\",\"#ff7f0e\",\"#ff7f0e\",\"#1f77b4\",\"#ff7f0e\",\"#ff7f0e\",\"#ff7f0e\",\"#1f77b4\",\"#ff7f0e\",\"#1f77b4\",\"#1f77b4\",\"#ff7f0e\",\"#ff7f0e\",\"#1f77b4\",\"#1f77b4\",\"#ff7f0e\",\"#ff7f0e\",\"#1f77b4\",\"#1f77b4\",\"#ff7f0e\",\"#ff7f0e\",\"#ff7f0e\",\"#ff7f0e\",\"#aec7e8\",\"#1f77b4\",\"#ff7f0e\",\"#ff7f0e\",\"#ff7f0e\",\"#1f77b4\",\"#1f77b4\",\"#1f77b4\",\"#ff7f0e\",\"#1f77b4\",\"#1f77b4\",\"#aec7e8\",\"#ff7f0e\",\"#1f77b4\",\"#aec7e8\",\"#ff7f0e\",\"#ff7f0e\",\"#ff7f0e\",\"#ff7f0e\",\"#ff7f0e\",\"#ff7f0e\",\"#aec7e8\",\"#1f77b4\",\"#1f77b4\",\"#1f77b4\",\"#1f77b4\",\"#ff7f0e\",\"#aec7e8\",\"#ff7f0e\",\"#ff7f0e\",\"#1f77b4\",\"#ff7f0e\",\"#1f77b4\",\"#ff7f0e\",\"#ff7f0e\",\"#ff7f0e\",\"#ff7f0e\",\"#ff7f0e\",\"#ff7f0e\",\"#1f77b4\",\"#ff7f0e\",\"#1f77b4\",\"#aec7e8\",\"#1f77b4\",\"#1f77b4\",\"#1f77b4\",\"#1f77b4\",\"#ff7f0e\",\"#ff7f0e\",\"#ff7f0e\",\"#ff7f0e\",\"#ff7f0e\",\"#ff7f0e\",\"#1f77b4\",\"#1f77b4\",\"#1f77b4\",\"#1f77b4\",\"#1f77b4\",\"#ff7f0e\",\"#ff7f0e\",\"#aec7e8\",\"#ff7f0e\",\"#ff7f0e\",\"#1f77b4\",\"#ff7f0e\",\"#1f77b4\",\"#ff7f0e\",\"#ff7f0e\",\"#1f77b4\",\"#ff7f0e\",\"#ff7f0e\",\"#ff7f0e\",\"#ff7f0e\",\"#1f77b4\",\"#ff7f0e\",\"#1f77b4\",\"#ff7f0e\",\"#ff7f0e\",\"#ff7f0e\",\"#ff7f0e\",\"#ff7f0e\",\"#1f77b4\",\"#ff7f0e\",\"#ff7f0e\",\"#aec7e8\",\"#1f77b4\",\"#ff7f0e\",\"#1f77b4\",\"#ff7f0e\",\"#ff7f0e\",\"#ff7f0e\",\"#1f77b4\",\"#ff7f0e\",\"#ff7f0e\",\"#ff7f0e\",\"#1f77b4\",\"#1f77b4\",\"#ff7f0e\",\"#1f77b4\",\"#ff7f0e\",\"#1f77b4\",\"#1f77b4\",\"#ff7f0e\",\"#1f77b4\",\"#ff7f0e\",\"#1f77b4\",\"#ff7f0e\",\"#ff7f0e\",\"#1f77b4\",\"#ff7f0e\",\"#1f77b4\",\"#ff7f0e\",\"#ff7f0e\",\"#ff7f0e\",\"#ff7f0e\",\"#ff7f0e\",\"#ff7f0e\",\"#ff7f0e\",\"#ff7f0e\",\"#ff7f0e\",\"#1f77b4\",\"#1f77b4\",\"#ff7f0e\",\"#aec7e8\",\"#ff7f0e\",\"#1f77b4\",\"#ff7f0e\",\"#1f77b4\",\"#ff7f0e\",\"#ff7f0e\",\"#1f77b4\",\"#ff7f0e\",\"#ff7f0e\",\"#ff7f0e\",\"#1f77b4\",\"#ff7f0e\",\"#ff7f0e\",\"#ff7f0e\",\"#1f77b4\",\"#aec7e8\",\"#ff7f0e\",\"#ff7f0e\",\"#ff7f0e\",\"#aec7e8\",\"#ff7f0e\",\"#aec7e8\",\"#ff7f0e\",\"#ff7f0e\",\"#ff7f0e\",\"#ff7f0e\",\"#ff7f0e\",\"#1f77b4\",\"#aec7e8\",\"#aec7e8\",\"#ff7f0e\",\"#ff7f0e\",\"#ff7f0e\",\"#ff7f0e\",\"#ff7f0e\",\"#1f77b4\",\"#1f77b4\",\"#ff7f0e\",\"#ff7f0e\",\"#ff7f0e\",\"#ff7f0e\",\"#1f77b4\",\"#1f77b4\",\"#1f77b4\",\"#aec7e8\",\"#1f77b4\",\"#1f77b4\",\"#ff7f0e\",\"#1f77b4\",\"#ff7f0e\",\"#ff7f0e\",\"#ff7f0e\",\"#ff7f0e\",\"#ff7f0e\",\"#ff7f0e\",\"#1f77b4\",\"#ff7f0e\",\"#1f77b4\",\"#ff7f0e\",\"#ff7f0e\",\"#ff7f0e\",\"#1f77b4\",\"#ff7f0e\",\"#1f77b4\",\"#ff7f0e\",\"#ff7f0e\",\"#ff7f0e\",\"#ff7f0e\",\"#1f77b4\",\"#aec7e8\",\"#aec7e8\",\"#1f77b4\",\"#aec7e8\",\"#1f77b4\",\"#ff7f0e\",\"#1f77b4\",\"#1f77b4\",\"#ff7f0e\",\"#ff7f0e\",\"#aec7e8\",\"#aec7e8\",\"#ff7f0e\",\"#ff7f0e\",\"#ff7f0e\",\"#1f77b4\",\"#ff7f0e\",\"#1f77b4\",\"#1f77b4\",\"#1f77b4\",\"#ff7f0e\",\"#1f77b4\",\"#1f77b4\",\"#ff7f0e\",\"#ff7f0e\",\"#1f77b4\",\"#ff7f0e\",\"#ff7f0e\",\"#ff7f0e\",\"#1f77b4\",\"#1f77b4\",\"#1f77b4\",\"#1f77b4\",\"#1f77b4\",\"#aec7e8\",\"#ff7f0e\",\"#1f77b4\",\"#1f77b4\",\"#1f77b4\",\"#ff7f0e\",\"#1f77b4\",\"#1f77b4\",\"#ff7f0e\",\"#ff7f0e\",\"#aec7e8\",\"#1f77b4\",\"#ff7f0e\",\"#ff7f0e\",\"#ff7f0e\",\"#ff7f0e\",\"#ff7f0e\",\"#1f77b4\",\"#ff7f0e\",\"#1f77b4\",\"#1f77b4\",\"#ff7f0e\",\"#ff7f0e\",\"#1f77b4\",\"#ff7f0e\",\"#1f77b4\",\"#1f77b4\",\"#ff7f0e\",\"#ff7f0e\",\"#ff7f0e\",\"#aec7e8\",\"#ff7f0e\",\"#aec7e8\",\"#ff7f0e\",\"#1f77b4\",\"#aec7e8\",\"#ff7f0e\",\"#ff7f0e\",\"#ff7f0e\",\"#ff7f0e\",\"#ff7f0e\",\"#ff7f0e\",\"#1f77b4\",\"#ff7f0e\",\"#ff7f0e\",\"#aec7e8\",\"#ff7f0e\",\"#ff7f0e\",\"#ff7f0e\",\"#ff7f0e\",\"#ff7f0e\",\"#ff7f0e\",\"#1f77b4\",\"#ff7f0e\",\"#ff7f0e\",\"#ff7f0e\",\"#ff7f0e\",\"#ff7f0e\",\"#ff7f0e\",\"#1f77b4\",\"#1f77b4\",\"#ff7f0e\",\"#ff7f0e\",\"#ff7f0e\",\"#ff7f0e\",\"#ff7f0e\",\"#aec7e8\",\"#1f77b4\",\"#ff7f0e\",\"#ff7f0e\",\"#ff7f0e\",\"#1f77b4\",\"#ff7f0e\",\"#1f77b4\",\"#ff7f0e\",\"#ff7f0e\",\"#1f77b4\",\"#1f77b4\",\"#ff7f0e\",\"#ff7f0e\",\"#ff7f0e\",\"#ff7f0e\",\"#aec7e8\",\"#1f77b4\",\"#ff7f0e\",\"#ff7f0e\",\"#1f77b4\",\"#1f77b4\",\"#aec7e8\",\"#ff7f0e\",\"#ff7f0e\",\"#1f77b4\",\"#ff7f0e\",\"#aec7e8\",\"#ff7f0e\",\"#ff7f0e\",\"#1f77b4\",\"#ff7f0e\",\"#aec7e8\",\"#aec7e8\",\"#ff7f0e\",\"#1f77b4\",\"#aec7e8\",\"#1f77b4\",\"#1f77b4\",\"#1f77b4\",\"#1f77b4\",\"#ff7f0e\",\"#1f77b4\",\"#ff7f0e\",\"#ff7f0e\",\"#ff7f0e\",\"#ff7f0e\",\"#1f77b4\",\"#ff7f0e\",\"#ff7f0e\",\"#aec7e8\",\"#1f77b4\",\"#ff7f0e\",\"#aec7e8\",\"#aec7e8\",\"#ff7f0e\",\"#ff7f0e\",\"#1f77b4\",\"#ff7f0e\",\"#aec7e8\",\"#ff7f0e\",\"#1f77b4\",\"#ff7f0e\",\"#aec7e8\",\"#ff7f0e\",\"#aec7e8\",\"#ff7f0e\",\"#ff7f0e\",\"#ff7f0e\",\"#ff7f0e\",\"#ff7f0e\",\"#1f77b4\",\"#1f77b4\",\"#ff7f0e\",\"#ff7f0e\",\"#1f77b4\",\"#ff7f0e\",\"#ff7f0e\",\"#ff7f0e\",\"#1f77b4\",\"#1f77b4\",\"#ff7f0e\",\"#ff7f0e\",\"#ff7f0e\",\"#ff7f0e\",\"#ff7f0e\",\"#ff7f0e\",\"#1f77b4\",\"#ff7f0e\",\"#aec7e8\",\"#ff7f0e\",\"#ff7f0e\",\"#ff7f0e\",\"#ff7f0e\",\"#ff7f0e\",\"#ff7f0e\",\"#aec7e8\",\"#1f77b4\",\"#aec7e8\",\"#ff7f0e\",\"#aec7e8\",\"#1f77b4\",\"#ff7f0e\",\"#1f77b4\",\"#ff7f0e\",\"#ff7f0e\",\"#ff7f0e\",\"#1f77b4\",\"#ffbb78\",\"#ff7f0e\",\"#ff7f0e\",\"#ff7f0e\",\"#ff7f0e\",\"#1f77b4\",\"#ff7f0e\",\"#1f77b4\",\"#ff7f0e\",\"#1f77b4\",\"#ff7f0e\",\"#aec7e8\",\"#ff7f0e\",\"#1f77b4\",\"#1f77b4\",\"#ff7f0e\",\"#ff7f0e\",\"#ff7f0e\",\"#ff7f0e\",\"#ff7f0e\",\"#ff7f0e\",\"#1f77b4\",\"#1f77b4\",\"#1f77b4\",\"#1f77b4\",\"#ff7f0e\",\"#1f77b4\",\"#ff7f0e\",\"#1f77b4\",\"#1f77b4\",\"#1f77b4\",\"#1f77b4\",\"#ffbb78\",\"#aec7e8\",\"#ff7f0e\",\"#ff7f0e\",\"#ff7f0e\",\"#ff7f0e\",\"#1f77b4\",\"#ffbb78\",\"#ff7f0e\",\"#1f77b4\",\"#1f77b4\",\"#1f77b4\",\"#1f77b4\",\"#ff7f0e\",\"#1f77b4\",\"#ff7f0e\",\"#ff7f0e\",\"#ff7f0e\",\"#ff7f0e\",\"#1f77b4\",\"#ff7f0e\",\"#1f77b4\",\"#aec7e8\",\"#ff7f0e\",\"#ff7f0e\"],\"shape\":[1217],\"dtype\":\"object\",\"order\":\"little\"}]]}}},\"view\":{\"type\":\"object\",\"name\":\"CDSView\",\"id\":\"p1095\",\"attributes\":{\"filter\":{\"type\":\"object\",\"name\":\"AllIndices\",\"id\":\"p1096\"}}},\"glyph\":{\"type\":\"object\",\"name\":\"Scatter\",\"id\":\"p1091\",\"attributes\":{\"x\":{\"type\":\"field\",\"field\":\"x\"},\"y\":{\"type\":\"field\",\"field\":\"y\"},\"line_color\":{\"type\":\"field\",\"field\":\"line_color\"},\"fill_color\":{\"type\":\"field\",\"field\":\"fill_color\"},\"hatch_color\":{\"type\":\"field\",\"field\":\"hatch_color\"}}},\"nonselection_glyph\":{\"type\":\"object\",\"name\":\"Scatter\",\"id\":\"p1092\",\"attributes\":{\"x\":{\"type\":\"field\",\"field\":\"x\"},\"y\":{\"type\":\"field\",\"field\":\"y\"},\"line_color\":{\"type\":\"field\",\"field\":\"line_color\"},\"line_alpha\":{\"type\":\"value\",\"value\":0.1},\"fill_color\":{\"type\":\"field\",\"field\":\"fill_color\"},\"fill_alpha\":{\"type\":\"value\",\"value\":0.1},\"hatch_color\":{\"type\":\"field\",\"field\":\"hatch_color\"},\"hatch_alpha\":{\"type\":\"value\",\"value\":0.1}}},\"muted_glyph\":{\"type\":\"object\",\"name\":\"Scatter\",\"id\":\"p1093\",\"attributes\":{\"x\":{\"type\":\"field\",\"field\":\"x\"},\"y\":{\"type\":\"field\",\"field\":\"y\"},\"line_color\":{\"type\":\"field\",\"field\":\"line_color\"},\"line_alpha\":{\"type\":\"value\",\"value\":0.2},\"fill_color\":{\"type\":\"field\",\"field\":\"fill_color\"},\"fill_alpha\":{\"type\":\"value\",\"value\":0.2},\"hatch_color\":{\"type\":\"field\",\"field\":\"hatch_color\"},\"hatch_alpha\":{\"type\":\"value\",\"value\":0.2}}}}}],\"toolbar\":{\"type\":\"object\",\"name\":\"Toolbar\",\"id\":\"p1062\",\"attributes\":{\"tools\":[{\"type\":\"object\",\"name\":\"PanTool\",\"id\":\"p1075\"},{\"type\":\"object\",\"name\":\"WheelZoomTool\",\"id\":\"p1076\",\"attributes\":{\"renderers\":\"auto\"}},{\"type\":\"object\",\"name\":\"BoxZoomTool\",\"id\":\"p1077\",\"attributes\":{\"dimensions\":\"both\",\"overlay\":{\"type\":\"object\",\"name\":\"BoxAnnotation\",\"id\":\"p1078\",\"attributes\":{\"syncable\":false,\"line_color\":\"black\",\"line_alpha\":1.0,\"line_width\":2,\"line_dash\":[4,4],\"fill_color\":\"lightgrey\",\"fill_alpha\":0.5,\"level\":\"overlay\",\"visible\":false,\"left\":{\"type\":\"number\",\"value\":\"nan\"},\"right\":{\"type\":\"number\",\"value\":\"nan\"},\"top\":{\"type\":\"number\",\"value\":\"nan\"},\"bottom\":{\"type\":\"number\",\"value\":\"nan\"},\"left_units\":\"canvas\",\"right_units\":\"canvas\",\"top_units\":\"canvas\",\"bottom_units\":\"canvas\",\"handles\":{\"type\":\"object\",\"name\":\"BoxInteractionHandles\",\"id\":\"p1084\",\"attributes\":{\"all\":{\"type\":\"object\",\"name\":\"AreaVisuals\",\"id\":\"p1083\",\"attributes\":{\"fill_color\":\"white\",\"hover_fill_color\":\"lightgray\"}}}}}}}},{\"type\":\"object\",\"name\":\"SaveTool\",\"id\":\"p1085\"},{\"type\":\"object\",\"name\":\"ResetTool\",\"id\":\"p1086\"},{\"type\":\"object\",\"name\":\"HelpTool\",\"id\":\"p1087\"}]}},\"left\":[{\"type\":\"object\",\"name\":\"LinearAxis\",\"id\":\"p1070\",\"attributes\":{\"ticker\":{\"type\":\"object\",\"name\":\"BasicTicker\",\"id\":\"p1071\",\"attributes\":{\"mantissas\":[1,2,5]}},\"formatter\":{\"type\":\"object\",\"name\":\"BasicTickFormatter\",\"id\":\"p1072\"},\"major_label_policy\":{\"type\":\"object\",\"name\":\"AllLabels\",\"id\":\"p1073\"}}}],\"below\":[{\"type\":\"object\",\"name\":\"LinearAxis\",\"id\":\"p1065\",\"attributes\":{\"ticker\":{\"type\":\"object\",\"name\":\"BasicTicker\",\"id\":\"p1066\",\"attributes\":{\"mantissas\":[1,2,5]}},\"formatter\":{\"type\":\"object\",\"name\":\"BasicTickFormatter\",\"id\":\"p1067\"},\"major_label_policy\":{\"type\":\"object\",\"name\":\"AllLabels\",\"id\":\"p1068\"}}}],\"center\":[{\"type\":\"object\",\"name\":\"Grid\",\"id\":\"p1069\",\"attributes\":{\"axis\":{\"id\":\"p1065\"}}},{\"type\":\"object\",\"name\":\"Grid\",\"id\":\"p1074\",\"attributes\":{\"dimension\":1,\"axis\":{\"id\":\"p1070\"}}},{\"type\":\"object\",\"name\":\"Label\",\"id\":\"p1097\",\"attributes\":{\"text\":\"inflaci\\u00f3n precios a\\u00f1o millones mayor\",\"text_color\":\"black\",\"x\":-1.4019125699996948,\"y\":-2.417198419570923}},{\"type\":\"object\",\"name\":\"Label\",\"id\":\"p1098\",\"attributes\":{\"text\":\"energ\\u00eda agua bbva puede sostenible\",\"text_color\":\"black\",\"x\":11.572090148925781,\"y\":21.46079444885254}},{\"type\":\"object\",\"name\":\"Label\",\"id\":\"p1099\",\"attributes\":{\"text\":\"bbva empresas clientes banco colombia\",\"text_color\":\"black\",\"x\":-4.149060249328613,\"y\":6.42255973815918}},{\"type\":\"object\",\"name\":\"Label\",\"id\":\"p1100\",\"attributes\":{\"text\":\"mujeres cine avianca millones viva\",\"text_color\":\"black\",\"x\":-16.358238220214844,\"y\":1.93241548538208}}]}}]}};\n",
              "  const render_items = [{\"docid\":\"825d15a3-a409-40ee-8b1b-475771a3f53e\",\"roots\":{\"p1053\":\"dd088bb1-0663-457b-a14e-9b729ea54b6c\"},\"root_ids\":[\"p1053\"]}];\n",
              "  void root.Bokeh.embed.embed_items_notebook(docs_json, render_items);\n",
              "  }\n",
              "  if (root.Bokeh !== undefined) {\n",
              "    embed_document(root);\n",
              "  } else {\n",
              "    let attempts = 0;\n",
              "    const timer = setInterval(function(root) {\n",
              "      if (root.Bokeh !== undefined) {\n",
              "        clearInterval(timer);\n",
              "        embed_document(root);\n",
              "      } else {\n",
              "        attempts++;\n",
              "        if (attempts > 100) {\n",
              "          clearInterval(timer);\n",
              "          console.log(\"Bokeh: ERROR: Unable to run BokehJS code because BokehJS library is missing\");\n",
              "        }\n",
              "      }\n",
              "    }, 10, root)\n",
              "  }\n",
              "})(window);"
            ],
            "application/vnd.bokehjs_exec.v0+json": ""
          },
          "metadata": {
            "application/vnd.bokehjs_exec.v0+json": {
              "id": "p1053"
            }
          }
        },
        {
          "output_type": "stream",
          "name": "stdout",
          "text": [
            "\n",
            " Topic Labels:\n",
            "Topic 0:inflación precios año millones mayor\n",
            "Topic 1:energía agua bbva puede sostenible\n",
            "Topic 2:bbva empresas clientes banco colombia\n",
            "Topic 3:mujeres cine avianca millones viva\n"
          ]
        }
      ]
    },
    {
      "cell_type": "markdown",
      "source": [
        "#### Búsqueda de hiperparámetros"
      ],
      "metadata": {
        "id": "iLiGoywvMBiA"
      }
    },
    {
      "cell_type": "markdown",
      "source": [
        "Optimizar los hiperparámetros de LDA es crucial para obtener tópicos coherentes y bien definidos. Exploramos diferentes configuraciones para el número de tópicos (n_components), el método de aprendizaje (learning_method) y el decaimiento del aprendizaje (learning_decay).\n",
        "\n",
        "Para LDA, las métricas más robustas y comúnmente aceptadas son la perplejidad (a minimizar) y la coherencia de tópicos (C_v) (a maximizar). La perplejidad mide qué tan bien el modelo predice el conjunto de datos (menor es mejor), mientras que la coherencia C_v evalúa la interpretabilidad de los tópicos al medir la similitud semántica de sus palabras más prominentes (mayor es mejor).\n",
        "\n",
        "También se puede utilizar el log-likelihood (a maximizar), que indica la probabilidad de que el modelo haya generado el corpus observado. Sin embargo, la coherencia C_v a menudo se correlaciona mejor con la evaluación humana de la calidad de los tópicos."
      ],
      "metadata": {
        "id": "mO0W8PcfiswR"
      }
    },
    {
      "cell_type": "markdown",
      "source": [
        "##### 1. Optimización de LDA usando Perplexity\n",
        "\n",
        "La perplejidad es una métrica estadística que mide cuán bien un modelo probabilístico predice un conjunto de datos, siendo un valor menor, mejor."
      ],
      "metadata": {
        "id": "60NW-R8slre5"
      }
    },
    {
      "cell_type": "code",
      "source": [
        "# Rango de hiperparámetros a probar\n",
        "param_grid = {\n",
        "    \"n_components\": [3, 4, 5, 6, 7, 8, 9, 10],  # número de tópicos\n",
        "    \"learning_decay\": [0.5, 0.7, 0.9],         # factor de aprendizaje\n",
        "    \"learning_method\": [\"online\", \"batch\"]     # método de entrenamiento\n",
        "}\n",
        "\n",
        "best_perplexity = float(\"inf\")\n",
        "best_model_perplexity = None\n",
        "best_params_perplexity = None\n",
        "\n",
        "# Bucle de búsqueda\n",
        "for n in param_grid[\"n_components\"]:\n",
        "    for decay in param_grid[\"learning_decay\"]:\n",
        "        for method in param_grid[\"learning_method\"]:\n",
        "            lda = LatentDirichletAllocation(\n",
        "                n_components=n,\n",
        "                learning_decay=decay,\n",
        "                learning_method=method,\n",
        "                random_state=0 # Se fija random_state para reproducibilidad [22-24]\n",
        "            )\n",
        "            lda.fit(document_term_matrix)\n",
        "\n",
        "            perplexity = lda.perplexity(document_term_matrix)\n",
        "            print(f\"n={n}, decay={decay}, method={method} → perplexity={perplexity:.2f}\")\n",
        "\n",
        "            if perplexity < best_perplexity:\n",
        "                best_perplexity = perplexity\n",
        "                best_model_perplexity = lda\n",
        "                best_params_perplexity = {\"n_components\": n, \"learning_decay\": decay, \"learning_method\": method}\n",
        "\n",
        "print(\"\\nMejores parámetros LDA (Perplejidad):\", best_params_perplexity)\n",
        "print(\"Mejor perplexity:\", best_perplexity)"
      ],
      "metadata": {
        "colab": {
          "base_uri": "https://localhost:8080/"
        },
        "id": "4NTxUaAmL3Eg",
        "outputId": "13d6fbfb-b42b-4785-a268-4e64edad99c8"
      },
      "execution_count": 29,
      "outputs": [
        {
          "output_type": "stream",
          "name": "stdout",
          "text": [
            "n=3, decay=0.5, method=online → perplexity=5689.91\n",
            "n=3, decay=0.5, method=batch → perplexity=5684.89\n",
            "n=3, decay=0.7, method=online → perplexity=5648.63\n",
            "n=3, decay=0.7, method=batch → perplexity=5684.89\n",
            "n=3, decay=0.9, method=online → perplexity=5706.51\n",
            "n=3, decay=0.9, method=batch → perplexity=5684.89\n",
            "n=4, decay=0.5, method=online → perplexity=5636.15\n",
            "n=4, decay=0.5, method=batch → perplexity=5674.37\n",
            "n=4, decay=0.7, method=online → perplexity=5598.67\n",
            "n=4, decay=0.7, method=batch → perplexity=5674.37\n",
            "n=4, decay=0.9, method=online → perplexity=5688.34\n",
            "n=4, decay=0.9, method=batch → perplexity=5674.37\n",
            "n=5, decay=0.5, method=online → perplexity=5616.72\n",
            "n=5, decay=0.5, method=batch → perplexity=5684.23\n",
            "n=5, decay=0.7, method=online → perplexity=5591.17\n",
            "n=5, decay=0.7, method=batch → perplexity=5684.23\n",
            "n=5, decay=0.9, method=online → perplexity=5720.10\n",
            "n=5, decay=0.9, method=batch → perplexity=5684.23\n",
            "n=6, decay=0.5, method=online → perplexity=5600.63\n",
            "n=6, decay=0.5, method=batch → perplexity=5739.06\n",
            "n=6, decay=0.7, method=online → perplexity=5586.69\n",
            "n=6, decay=0.7, method=batch → perplexity=5739.06\n",
            "n=6, decay=0.9, method=online → perplexity=5758.93\n",
            "n=6, decay=0.9, method=batch → perplexity=5739.06\n",
            "n=7, decay=0.5, method=online → perplexity=5596.52\n",
            "n=7, decay=0.5, method=batch → perplexity=5803.05\n",
            "n=7, decay=0.7, method=online → perplexity=5589.98\n",
            "n=7, decay=0.7, method=batch → perplexity=5803.05\n",
            "n=7, decay=0.9, method=online → perplexity=5829.03\n",
            "n=7, decay=0.9, method=batch → perplexity=5803.05\n",
            "n=8, decay=0.5, method=online → perplexity=5732.15\n",
            "n=8, decay=0.5, method=batch → perplexity=5882.66\n",
            "n=8, decay=0.7, method=online → perplexity=6050.32\n",
            "n=8, decay=0.7, method=batch → perplexity=5882.66\n",
            "n=8, decay=0.9, method=online → perplexity=6654.29\n",
            "n=8, decay=0.9, method=batch → perplexity=5882.66\n",
            "n=9, decay=0.5, method=online → perplexity=5692.04\n",
            "n=9, decay=0.5, method=batch → perplexity=5891.35\n",
            "n=9, decay=0.7, method=online → perplexity=6096.47\n",
            "n=9, decay=0.7, method=batch → perplexity=5891.35\n",
            "n=9, decay=0.9, method=online → perplexity=6684.40\n",
            "n=9, decay=0.9, method=batch → perplexity=5891.35\n",
            "n=10, decay=0.5, method=online → perplexity=5780.34\n",
            "n=10, decay=0.5, method=batch → perplexity=5939.42\n",
            "n=10, decay=0.7, method=online → perplexity=6187.59\n",
            "n=10, decay=0.7, method=batch → perplexity=5939.42\n",
            "n=10, decay=0.9, method=online → perplexity=6854.23\n",
            "n=10, decay=0.9, method=batch → perplexity=5939.42\n",
            "\n",
            "Mejores parámetros LDA (Perplejidad): {'n_components': 6, 'learning_decay': 0.7, 'learning_method': 'online'}\n",
            "Mejor perplexity: 5586.693698714493\n"
          ]
        }
      ]
    },
    {
      "cell_type": "markdown",
      "source": [
        "En este caso el número de tópicos es de 6."
      ],
      "metadata": {
        "id": "p-SjwCcUktn2"
      }
    },
    {
      "cell_type": "markdown",
      "source": [
        "##### 2. Optimización de LDA usando Coherencia de Tópicos (C_v)"
      ],
      "metadata": {
        "id": "Ruy8Tib1loke"
      }
    },
    {
      "cell_type": "markdown",
      "source": [
        "La coherencia de tópicos (C_v) evalúa la interpretabilidad de los tópicos midiendo la similitud semántica de sus palabras más prominentes, siendo un valor mayor, mejor. Este enfoque utiliza la librería gensim."
      ],
      "metadata": {
        "id": "hSpO_-dGly7G"
      }
    },
    {
      "cell_type": "code",
      "source": [
        "#Prepara los textos como listas de palabras ---\n",
        "texts = [doc.split() for doc in data['news']]\n",
        "\n",
        "#Diccionario y corpus en formato gensim ---\n",
        "dictionary = corpora.Dictionary(texts)\n",
        "corpus = [dictionary.doc2bow(text) for text in texts]\n",
        "\n",
        "#Definir rango de hiperparámetros a evaluar\n",
        "param_grid_coherence = {\n",
        "    \"num_topics\": [3, 4, 5, 6, 7, 8, 9, 10],  # número de tópicos\n",
        "    \"passes\": [5, 10, 19],    # número de pasadas sobre el corpus\n",
        "    \"alpha\": ['symmetric', 'asymmetric'], # priors de distribución\n",
        "}\n",
        "\n",
        "best_coherence = -1\n",
        "best_model_coherence = None\n",
        "best_params_coherence = None\n",
        "\n",
        "# --- 4. Bucle de búsqueda --- [27]\n",
        "for n in param_grid_coherence[\"num_topics\"]:\n",
        "    for p in param_grid_coherence[\"passes\"]:\n",
        "        for a in param_grid_coherence[\"alpha\"]:\n",
        "            lda_model = gensim.models.LdaModel(\n",
        "                corpus=corpus,\n",
        "                id2word=dictionary,\n",
        "                num_topics=n,\n",
        "                passes=p,\n",
        "                alpha=a,\n",
        "                random_state=0, # Se fija random_state para reproducibilidad\n",
        "                eval_every=None # Se desactiva evaluación interna\n",
        "            )\n",
        "            coherence_model = CoherenceModel(\n",
        "                model=lda_model,\n",
        "                texts=texts,\n",
        "                dictionary=dictionary,\n",
        "                coherence='c_v'\n",
        "            )\n",
        "            coherence_score = coherence_model.get_coherence()\n",
        "\n",
        "            print(f\"n={n}, passes={p}, alpha={a} → coherence={coherence_score:.4f}\")\n",
        "\n",
        "            if coherence_score > best_coherence:\n",
        "                best_coherence = coherence_score\n",
        "                best_model_coherence = lda_model\n",
        "                best_params_coherence = {\"num_topics\": n, \"passes\": p, \"alpha\": a}\n",
        "\n",
        "print(\"\\nMejores parámetros (Coherencia C_v):\", best_params_coherence)\n",
        "print(\"Mejor coherencia (C_v):\", best_coherence)"
      ],
      "metadata": {
        "colab": {
          "base_uri": "https://localhost:8080/"
        },
        "id": "t4c4i4j2lyvL",
        "outputId": "ed5e5507-990e-4b07-b202-eb303ce68192"
      },
      "execution_count": 30,
      "outputs": [
        {
          "output_type": "stream",
          "name": "stderr",
          "text": [
            "WARNING:gensim.models.ldamodel:too few updates, training might not converge; consider increasing the number of passes or iterations to improve accuracy\n",
            "WARNING:gensim.models.ldamodel:too few updates, training might not converge; consider increasing the number of passes or iterations to improve accuracy\n"
          ]
        },
        {
          "output_type": "stream",
          "name": "stdout",
          "text": [
            "n=3, passes=5, alpha=symmetric → coherence=0.2147\n",
            "n=3, passes=5, alpha=asymmetric → coherence=0.2147\n",
            "n=3, passes=10, alpha=symmetric → coherence=0.2158\n",
            "n=3, passes=10, alpha=asymmetric → coherence=0.2158\n",
            "n=3, passes=19, alpha=symmetric → coherence=0.2204\n"
          ]
        },
        {
          "output_type": "stream",
          "name": "stderr",
          "text": [
            "WARNING:gensim.models.ldamodel:too few updates, training might not converge; consider increasing the number of passes or iterations to improve accuracy\n"
          ]
        },
        {
          "output_type": "stream",
          "name": "stdout",
          "text": [
            "n=3, passes=19, alpha=asymmetric → coherence=0.2158\n"
          ]
        },
        {
          "output_type": "stream",
          "name": "stderr",
          "text": [
            "WARNING:gensim.models.ldamodel:too few updates, training might not converge; consider increasing the number of passes or iterations to improve accuracy\n"
          ]
        },
        {
          "output_type": "stream",
          "name": "stdout",
          "text": [
            "n=4, passes=5, alpha=symmetric → coherence=0.2146\n",
            "n=4, passes=5, alpha=asymmetric → coherence=0.2146\n",
            "n=4, passes=10, alpha=symmetric → coherence=0.2041\n",
            "n=4, passes=10, alpha=asymmetric → coherence=0.2586\n",
            "n=4, passes=19, alpha=symmetric → coherence=0.2531\n"
          ]
        },
        {
          "output_type": "stream",
          "name": "stderr",
          "text": [
            "WARNING:gensim.models.ldamodel:too few updates, training might not converge; consider increasing the number of passes or iterations to improve accuracy\n"
          ]
        },
        {
          "output_type": "stream",
          "name": "stdout",
          "text": [
            "n=4, passes=19, alpha=asymmetric → coherence=0.3806\n"
          ]
        },
        {
          "output_type": "stream",
          "name": "stderr",
          "text": [
            "WARNING:gensim.models.ldamodel:too few updates, training might not converge; consider increasing the number of passes or iterations to improve accuracy\n"
          ]
        },
        {
          "output_type": "stream",
          "name": "stdout",
          "text": [
            "n=5, passes=5, alpha=symmetric → coherence=0.2145\n",
            "n=5, passes=5, alpha=asymmetric → coherence=0.2146\n",
            "n=5, passes=10, alpha=symmetric → coherence=0.2166\n",
            "n=5, passes=10, alpha=asymmetric → coherence=0.2172\n",
            "n=5, passes=19, alpha=symmetric → coherence=0.2388\n"
          ]
        },
        {
          "output_type": "stream",
          "name": "stderr",
          "text": [
            "WARNING:gensim.models.ldamodel:too few updates, training might not converge; consider increasing the number of passes or iterations to improve accuracy\n"
          ]
        },
        {
          "output_type": "stream",
          "name": "stdout",
          "text": [
            "n=5, passes=19, alpha=asymmetric → coherence=0.2363\n"
          ]
        },
        {
          "output_type": "stream",
          "name": "stderr",
          "text": [
            "WARNING:gensim.models.ldamodel:too few updates, training might not converge; consider increasing the number of passes or iterations to improve accuracy\n"
          ]
        },
        {
          "output_type": "stream",
          "name": "stdout",
          "text": [
            "n=6, passes=5, alpha=symmetric → coherence=0.2156\n",
            "n=6, passes=5, alpha=asymmetric → coherence=0.2149\n",
            "n=6, passes=10, alpha=symmetric → coherence=0.2115\n",
            "n=6, passes=10, alpha=asymmetric → coherence=0.2134\n",
            "n=6, passes=19, alpha=symmetric → coherence=0.2498\n"
          ]
        },
        {
          "output_type": "stream",
          "name": "stderr",
          "text": [
            "WARNING:gensim.models.ldamodel:too few updates, training might not converge; consider increasing the number of passes or iterations to improve accuracy\n"
          ]
        },
        {
          "output_type": "stream",
          "name": "stdout",
          "text": [
            "n=6, passes=19, alpha=asymmetric → coherence=0.2400\n"
          ]
        },
        {
          "output_type": "stream",
          "name": "stderr",
          "text": [
            "WARNING:gensim.models.ldamodel:too few updates, training might not converge; consider increasing the number of passes or iterations to improve accuracy\n"
          ]
        },
        {
          "output_type": "stream",
          "name": "stdout",
          "text": [
            "n=7, passes=5, alpha=symmetric → coherence=0.2155\n",
            "n=7, passes=5, alpha=asymmetric → coherence=0.2154\n",
            "n=7, passes=10, alpha=symmetric → coherence=0.2204\n",
            "n=7, passes=10, alpha=asymmetric → coherence=0.2196\n",
            "n=7, passes=19, alpha=symmetric → coherence=0.2912\n"
          ]
        },
        {
          "output_type": "stream",
          "name": "stderr",
          "text": [
            "WARNING:gensim.models.ldamodel:too few updates, training might not converge; consider increasing the number of passes or iterations to improve accuracy\n"
          ]
        },
        {
          "output_type": "stream",
          "name": "stdout",
          "text": [
            "n=7, passes=19, alpha=asymmetric → coherence=0.2633\n"
          ]
        },
        {
          "output_type": "stream",
          "name": "stderr",
          "text": [
            "WARNING:gensim.models.ldamodel:too few updates, training might not converge; consider increasing the number of passes or iterations to improve accuracy\n"
          ]
        },
        {
          "output_type": "stream",
          "name": "stdout",
          "text": [
            "n=8, passes=5, alpha=symmetric → coherence=0.2154\n",
            "n=8, passes=5, alpha=asymmetric → coherence=0.2154\n",
            "n=8, passes=10, alpha=symmetric → coherence=0.2289\n",
            "n=8, passes=10, alpha=asymmetric → coherence=0.2198\n",
            "n=8, passes=19, alpha=symmetric → coherence=0.2717\n"
          ]
        },
        {
          "output_type": "stream",
          "name": "stderr",
          "text": [
            "WARNING:gensim.models.ldamodel:too few updates, training might not converge; consider increasing the number of passes or iterations to improve accuracy\n"
          ]
        },
        {
          "output_type": "stream",
          "name": "stdout",
          "text": [
            "n=8, passes=19, alpha=asymmetric → coherence=0.2705\n"
          ]
        },
        {
          "output_type": "stream",
          "name": "stderr",
          "text": [
            "WARNING:gensim.models.ldamodel:too few updates, training might not converge; consider increasing the number of passes or iterations to improve accuracy\n"
          ]
        },
        {
          "output_type": "stream",
          "name": "stdout",
          "text": [
            "n=9, passes=5, alpha=symmetric → coherence=0.2154\n",
            "n=9, passes=5, alpha=asymmetric → coherence=0.2151\n",
            "n=9, passes=10, alpha=symmetric → coherence=0.2398\n",
            "n=9, passes=10, alpha=asymmetric → coherence=0.2338\n",
            "n=9, passes=19, alpha=symmetric → coherence=0.3259\n"
          ]
        },
        {
          "output_type": "stream",
          "name": "stderr",
          "text": [
            "WARNING:gensim.models.ldamodel:too few updates, training might not converge; consider increasing the number of passes or iterations to improve accuracy\n"
          ]
        },
        {
          "output_type": "stream",
          "name": "stdout",
          "text": [
            "n=9, passes=19, alpha=asymmetric → coherence=0.3588\n"
          ]
        },
        {
          "output_type": "stream",
          "name": "stderr",
          "text": [
            "WARNING:gensim.models.ldamodel:too few updates, training might not converge; consider increasing the number of passes or iterations to improve accuracy\n"
          ]
        },
        {
          "output_type": "stream",
          "name": "stdout",
          "text": [
            "n=10, passes=5, alpha=symmetric → coherence=0.2149\n",
            "n=10, passes=5, alpha=asymmetric → coherence=0.2145\n",
            "n=10, passes=10, alpha=symmetric → coherence=0.2320\n",
            "n=10, passes=10, alpha=asymmetric → coherence=0.2337\n",
            "n=10, passes=19, alpha=symmetric → coherence=0.3299\n",
            "n=10, passes=19, alpha=asymmetric → coherence=0.3321\n",
            "\n",
            "Mejores parámetros (Coherencia C_v): {'num_topics': 4, 'passes': 19, 'alpha': 'asymmetric'}\n",
            "Mejor coherencia (C_v): 0.3805600103237736\n"
          ]
        }
      ]
    },
    {
      "cell_type": "markdown",
      "source": [
        "En este caso el número de tópicos es de 6."
      ],
      "metadata": {
        "id": "D20gkLMonA3W"
      }
    },
    {
      "cell_type": "markdown",
      "source": [
        "##### Optimización de LDA usando Log-likelihood con GridSearchCV\n",
        "\n",
        "El log-likelihood (a maximizar) indica la probabilidad de que el modelo haya generado el corpus observado. Este método utiliza GridSearchCV de sklearn con un scorer personalizado."
      ],
      "metadata": {
        "id": "hKmg8Zc_mXw0"
      }
    },
    {
      "cell_type": "code",
      "source": [
        "# Se asegura la lista de textos de entrada; se asume que 'data' posee la columna 'news'.\n",
        "texts = data['news'].astype(str).tolist()\n",
        "\n",
        "# Se definen las stopwords en español; si ya existen en memoria, se reutilizan.\n",
        "try:\n",
        "    spanish_stop_words = spanish_stop_words\n",
        "except NameError:\n",
        "    from nltk.corpus import stopwords\n",
        "    spanish_stop_words = stopwords.words('spanish')\n",
        "\n",
        "# Se construye el pipeline Vectorizador (BoW) -> LDA con parámetros base reproducibles.\n",
        "lda_pipeline = Pipeline([\n",
        "    ('vectorizer', CountVectorizer(\n",
        "        stop_words=spanish_stop_words,   # Se eliminan palabras vacías en español.\n",
        "        max_features=40000,              # Se limita el vocabulario por memoria/ruido.\n",
        "        ngram_range=(1,1)                # Se emplean unigramas (recomendado para LDA clásico).\n",
        "    )),\n",
        "    ('lda', LatentDirichletAllocation(\n",
        "        random_state=42,                 # Se fija semilla para reproducibilidad.\n",
        "        max_iter=20,                     # Se fija número de iteraciones EM.\n",
        "        evaluate_every=0,                # Se desactiva evaluación interna (la hace GridSearch).\n",
        "        n_jobs=-1                        # Se paraleliza cuando es posible.\n",
        "    ))\n",
        "])\n",
        "\n",
        "# Se define un scorer no supervisado que maximiza el log-likelihood de LDA sobre X_val.\n",
        "def lda_loglik_scorer(estimator, X, y=None):\n",
        "    # Se obtiene el vectorizador y el modelo ya ajustados en el fold de entrenamiento.\n",
        "    vec = estimator.named_steps['vectorizer']\n",
        "    lda = estimator.named_steps['lda']\n",
        "    # Se transforma el conjunto de validación a matriz documento–término (DTM).\n",
        "    X_dtm = vec.transform(X)\n",
        "    # Se retorna el log-likelihood del modelo sobre la DTM (valor mayor es mejor).\n",
        "    return lda.score(X_dtm)\n",
        "\n",
        "# Se envuelve el scorer para que GridSearch lo maximice.\n",
        "loglik_scorer = make_scorer(lda_loglik_scorer, greater_is_better=True)\n",
        "\n",
        "# Se define la grilla de hiperparámetros a explorar.\n",
        "# Nota: 'learning_decay' solo aplica a 'online'; para 'batch' se ignora sin afectar el scoring.\n",
        "lda_param_grid = {\n",
        "    'lda__n_components': [3, 4, 6, 8, 10, 15, 20],  # Se exploran tamaños de K.\n",
        "    'lda__learning_method': ['online', 'batch'],    # Se compara 'online' vs 'batch'.\n",
        "    'lda__learning_decay': [0.5, 0.7, 0.9]          # Se prueba decaimiento (si 'online').\n",
        "}\n",
        "\n",
        "# (Opcional) Se realiza muestreo si el corpus es grande para acelerar la búsqueda.\n",
        "rng = np.random.RandomState(42)\n",
        "n = len(texts)\n",
        "frac = 1.0 if n <= 8000 else 0.3          # Se usa 30% para corpus grandes.\n",
        "subset_idx = rng.choice(n, size=int(n*frac), replace=False)\n",
        "texts_sample = [texts[i] for i in subset_idx]\n",
        "\n",
        "# Se configura la búsqueda con validación cruzada y el scorer no supervisado.\n",
        "lda_search = GridSearchCV(\n",
        "    lda_pipeline,\n",
        "    param_grid=lda_param_grid,\n",
        "    cv=3,\n",
        "    scoring=loglik_scorer,   # <- Se corrige la métrica: log-likelihood en lugar de MSE.\n",
        "    n_jobs=-1,\n",
        "    verbose=2\n",
        ")\n",
        "\n",
        "# Se ajusta la búsqueda sobre el subconjunto (o el total si n es pequeño).\n",
        "lda_search.fit(texts_sample)\n",
        "\n",
        "# Se imprimen los mejores hiperparámetros y el mejor score de validación cruzada.\n",
        "print(\"Mejores parámetros LDA:\", lda_search.best_params_)\n",
        "print(\"Mejor log-likelihood (cv):\", lda_search.best_score_)\n",
        "\n",
        "# Se reentrena el mejor pipeline sobre TODO el corpus para producir el modelo final.\n",
        "best_lda_pipeline = lda_search.best_estimator_\n",
        "best_lda_pipeline.fit(texts)\n",
        "\n",
        "# Se derivan objetos útiles para análisis posterior (DTM, distribución doc-tópico, vocabulario, etc.).\n",
        "best_vec = best_lda_pipeline.named_steps['vectorizer']\n",
        "best_lda = best_lda_pipeline.named_steps['lda']\n",
        "DTM = best_vec.transform(texts)                # Se obtiene la DTM final.\n",
        "THETA = best_lda.transform(DTM)                # Se calcula distribución de tópicos por documento.\n",
        "PHI = best_lda.components_                     # Se extraen pesos palabra por tópico.\n",
        "vocab = np.array(best_vec.get_feature_names_out())\n",
        "\n",
        "# (Opcional) Se listan las top palabras por tópico para inspección.\n",
        "def top_words_per_topic(phi, vocab, topn=10):\n",
        "    tops = []\n",
        "    for k in range(phi.shape[0]):\n",
        "        top_idx = np.argsort(phi[k])[::-1][:topn]\n",
        "        tops.append(vocab[top_idx].tolist())\n",
        "    return tops\n",
        "\n",
        "top10 = top_words_per_topic(PHI, vocab, topn=10)\n",
        "for k, words in enumerate(top10, 1):\n",
        "    print(f\"Tópico {k:02d}: {', '.join(words)}\")"
      ],
      "metadata": {
        "id": "W75fEFVqmY2E",
        "colab": {
          "base_uri": "https://localhost:8080/"
        },
        "outputId": "90baeb54-23a8-4c7c-a573-f7a42c27d2f1"
      },
      "execution_count": 31,
      "outputs": [
        {
          "output_type": "stream",
          "name": "stdout",
          "text": [
            "Fitting 3 folds for each of 42 candidates, totalling 126 fits\n"
          ]
        },
        {
          "output_type": "stream",
          "name": "stderr",
          "text": [
            "/usr/local/lib/python3.12/dist-packages/sklearn/model_selection/_search.py:1108: UserWarning: One or more of the test scores are non-finite: [nan nan nan nan nan nan nan nan nan nan nan nan nan nan nan nan nan nan\n",
            " nan nan nan nan nan nan nan nan nan nan nan nan nan nan nan nan nan nan\n",
            " nan nan nan nan nan nan]\n",
            "  warnings.warn(\n"
          ]
        },
        {
          "output_type": "stream",
          "name": "stdout",
          "text": [
            "Mejores parámetros LDA: {'lda__learning_decay': 0.5, 'lda__learning_method': 'online', 'lda__n_components': 3}\n",
            "Mejor log-likelihood (cv): nan\n",
            "Tópico 01: inflación, año, precios, mayor, millones, crecimiento, alimentos, tasa, aumento, mes\n",
            "Tópico 02: regulación, dijo, trabajo, si, criptomonedas, gobierno, ley, plataformas, ser, dos\n",
            "Tópico 03: bbva, empresas, clientes, banco, colombia, millones, además, través, 000, desarrollo\n"
          ]
        }
      ]
    },
    {
      "cell_type": "markdown",
      "source": [
        "En este caso el número de tópicos es de 3."
      ],
      "metadata": {
        "id": "eZHOCaf1nDGE"
      }
    },
    {
      "cell_type": "markdown",
      "source": [
        "# Conclusiones\n",
        "\n",
        "- **LSA** permite una representación reducida del espacio semántico, útil para identificar patrones globales,\n",
        "  pero sus tópicos pueden ser difíciles de interpretar.\n",
        "- **LDA** genera distribuciones más interpretables por documento y palabra.\n",
        "- El dataset en español presenta desafíos: variaciones morfológicas, palabras compuestas y necesidad de un preprocesamiento robusto.\n",
        "- La **coherencia** ayuda a seleccionar el número óptimo de tópicos, aunque no debe usarse de forma aislada: la interpretabilidad es clave.\n"
      ],
      "metadata": {
        "id": "iizqmHhkWLs1"
      }
    }
  ]
}