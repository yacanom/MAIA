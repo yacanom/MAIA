{
  "nbformat": 4,
  "nbformat_minor": 0,
  "metadata": {
    "colab": {
      "provenance": [],
      "toc_visible": true,
      "authorship_tag": "ABX9TyPd6E68VY7hRe43yQA/lrHD",
      "include_colab_link": true
    },
    "kernelspec": {
      "name": "python3",
      "display_name": "Python 3"
    },
    "language_info": {
      "name": "python"
    }
  },
  "cells": [
    {
      "cell_type": "markdown",
      "metadata": {
        "id": "view-in-github",
        "colab_type": "text"
      },
      "source": [
        "<a href=\"https://colab.research.google.com/github/yacanom/MAIA/blob/main/MLNS_Modelado_de_t%C3%B3picos.ipynb\" target=\"_parent\"><img src=\"https://colab.research.google.com/assets/colab-badge.svg\" alt=\"Open In Colab\"/></a>"
      ]
    },
    {
      "cell_type": "markdown",
      "source": [
        "# 0. Importación de paquetes"
      ],
      "metadata": {
        "id": "DPVjEmX420AP"
      }
    },
    {
      "cell_type": "code",
      "execution_count": 16,
      "metadata": {
        "colab": {
          "base_uri": "https://localhost:8080/"
        },
        "id": "YdIRS-9G2Nqb",
        "outputId": "e44269fc-79cf-42e7-d01c-73d3d25cfa83"
      },
      "outputs": [
        {
          "output_type": "stream",
          "name": "stderr",
          "text": [
            "[nltk_data] Downloading package stopwords to /root/nltk_data...\n",
            "[nltk_data]   Unzipping corpora/stopwords.zip.\n"
          ]
        }
      ],
      "source": [
        "import numpy as np\n",
        "import pandas as pd\n",
        "from IPython.display import display\n",
        "from tqdm import tqdm\n",
        "from collections import Counter\n",
        "import ast\n",
        "\n",
        "import nltk\n",
        "nltk.download('stopwords')\n",
        "from nltk.corpus import stopwords\n",
        "\n",
        "import matplotlib.pyplot as plt\n",
        "import matplotlib.mlab as mlab\n",
        "import seaborn as sb\n",
        "\n",
        "from sklearn.feature_extraction.text import CountVectorizer\n",
        "from textblob import TextBlob\n",
        "import scipy.stats as stats\n",
        "\n",
        "from sklearn.decomposition import TruncatedSVD\n",
        "from sklearn.decomposition import LatentDirichletAllocation\n",
        "from sklearn.manifold import TSNE\n",
        "\n",
        "%matplotlib inline\n"
      ]
    },
    {
      "cell_type": "markdown",
      "source": [
        "# Cargue datos"
      ],
      "metadata": {
        "id": "2nVQdnEK26Nm"
      }
    },
    {
      "cell_type": "code",
      "source": [
        "# Cargue de datos desde Kaggle usando\n",
        "!ls -lha kaggle.json\n",
        "!pip install -q kaggle # installing the kaggle package\n",
        "!mkdir -p ~/.kaggle # creating .kaggle folder where the key should be placed\n",
        "!cp kaggle.json ~/.kaggle/ # move the key to the folder\n",
        "!pwd # checking the present working directory\n",
        "\n",
        "!chmod 600 ~/.kaggle/kaggle.json"
      ],
      "metadata": {
        "colab": {
          "base_uri": "https://localhost:8080/"
        },
        "id": "IntmoLyC27gJ",
        "outputId": "92f65e4b-90ef-41f3-93da-6d68821f2c71"
      },
      "execution_count": 2,
      "outputs": [
        {
          "output_type": "stream",
          "name": "stdout",
          "text": [
            "-rw-r--r-- 1 root root 65 Aug 25 01:45 kaggle.json\n",
            "/content\n",
            "ref                                                              title                                                     size  lastUpdated                 downloadCount  voteCount  usabilityRating  \n",
            "---------------------------------------------------------------  --------------------------------------------------  ----------  --------------------------  -------------  ---------  ---------------  \n",
            "yashdevladdha/uber-ride-analytics-dashboard                      Uber Data Analytics Dashboard                         17324552  2025-08-08 11:13:42.920000          18264        417  1.0              \n",
            "mdsultanulislamovi/student-stress-monitoring-datasets            Student Stress Monitoring Datasets                       24336  2025-07-24 16:30:01.617000           9944        168  1.0              \n",
            "rohitgrewal/airlines-flights-data                                Airlines Flights Data                                  2440299  2025-07-29 09:16:00.463000          21775        397  1.0              \n",
            "pratyushpuri/multilingual-mobile-app-reviews-dataset-2025        Multilingual Mobile App Review Dataset August 2025      136331  2025-07-31 03:09:08.217000           3272        130  1.0              \n",
            "pratyushpuri/heart-disease-dataset-3k-rows-python-code-2025      Heart Disease Dataset - 3000 Records in 2025            290034  2025-08-15 12:03:19.677000            931         28  1.0              \n",
            "y0ussefkandil/bmw-sales2010-2024                                 BMW SALES(2010-2024)                                    853340  2025-08-09 12:59:09.653000           1941         34  0.88235295       \n",
            "sumanbera19/bengaluru-house-price-dataset                        Bengaluru House Price Dataset                           198657  2025-08-22 04:38:42.523000            668         27  1.0              \n",
            "abdulmalik1518/cars-datasets-2025                                Cars Datasets (2025)                                     25987  2025-07-17 21:43:28.493000          16318        320  1.0              \n",
            "wasiqaliyasir/breast-cancer-dataset                              Breast cancer dataset                                    49830  2025-07-30 12:52:44.057000          11311        357  1.0              \n",
            "rohitgrewal/netflix-data                                         Netflix Data                                           1224095  2025-07-31 06:07:40.333000           4853         63  1.0              \n",
            "umerhaddii/gold-stock-data-2025                                  GOLD Stock Data 2025                                    102564  2025-08-13 14:38:58.587000            545         27  1.0              \n",
            "rohitgrewal/restaurant-sales-data                                Restaurant Sales Data                                     2237  2025-07-31 17:29:16.597000           4816         65  1.0              \n",
            "poushal02/student-academic-stress-real-world-dataset             Student Academic Stress Real World Dataset                2104  2025-08-20 07:49:12.590000           1926         49  1.0              \n",
            "pratyushpuri/ev-electrical-vehicles-dataset-3k-records-2025      EV Electrical Vehicles Dataset: 3K+ Records 2025        520016  2025-08-17 13:20:16.130000           1371         30  1.0              \n",
            "adharshinikumar/2025-hearing-wellness-survey                     2025 Hearing Wellness Survey                              9495  2025-08-09 17:54:06.720000           1235         40  1.0              \n",
            "pratyushpuri/online-furniture-orders-delivery-and-assembly-2025  Online Furniture Orders : Delivery & Assembly 2025      350833  2025-08-10 06:27:36.367000            836         27  1.0              \n",
            "dansbecker/melbourne-housing-snapshot                            Melbourne Housing Snapshot                              461423  2018-06-05 12:52:24.087000         189608       1665  0.7058824        \n",
            "muhammedderric/fitness-classification-dataset-synthetic          Fitness Classification Dataset (Synthetic)               34176  2025-08-01 10:39:52.983000           1088         22  1.0              \n",
            "zynicide/wine-reviews                                            Wine Reviews                                          53336293  2017-11-27 17:08:04.700000         333197       3766  0.7941176        \n",
            "datasnaek/youtube-new                                            Trending YouTube Video Statistics                    210575746  2019-06-03 00:56:47.177000         281417       5758  0.7941176        \n"
          ]
        }
      ]
    },
    {
      "cell_type": "code",
      "source": [
        "!kaggle datasets download -d kevinmorgado/spanish-news-classification"
      ],
      "metadata": {
        "colab": {
          "base_uri": "https://localhost:8080/"
        },
        "id": "DNNX9m6q4viM",
        "outputId": "a8a08ca4-2495-4f87-ca19-59607bb3aeb9"
      },
      "execution_count": 4,
      "outputs": [
        {
          "output_type": "stream",
          "name": "stdout",
          "text": [
            "Dataset URL: https://www.kaggle.com/datasets/kevinmorgado/spanish-news-classification\n",
            "License(s): CC0-1.0\n",
            "Downloading spanish-news-classification.zip to /content\n",
            "  0% 0.00/1.38M [00:00<?, ?B/s]\n",
            "100% 1.38M/1.38M [00:00<00:00, 956MB/s]\n"
          ]
        }
      ]
    },
    {
      "cell_type": "code",
      "source": [
        "!unzip /content/spanish-news-classification"
      ],
      "metadata": {
        "colab": {
          "base_uri": "https://localhost:8080/"
        },
        "id": "pebHncsF6BdU",
        "outputId": "846c308c-8fde-4781-c316-55c0a56fa8aa"
      },
      "execution_count": 5,
      "outputs": [
        {
          "output_type": "stream",
          "name": "stdout",
          "text": [
            "Archive:  /content/spanish-news-classification.zip\n",
            "  inflating: df_total.csv            \n"
          ]
        }
      ]
    },
    {
      "cell_type": "markdown",
      "source": [
        "# **Preparación de los Datos**"
      ],
      "metadata": {
        "id": "qxpHG-qn62B2"
      }
    },
    {
      "cell_type": "code",
      "source": [
        "datafile = '/content/df_total.csv'\n",
        "df = pd.read_csv(datafile)\n",
        "\n",
        "df.head()"
      ],
      "metadata": {
        "colab": {
          "base_uri": "https://localhost:8080/",
          "height": 206
        },
        "id": "ErlZNstM7FlT",
        "outputId": "2acb5e94-c2c8-4b1b-8fc3-aa8ae363b4de"
      },
      "execution_count": 9,
      "outputs": [
        {
          "output_type": "execute_result",
          "data": {
            "text/plain": [
              "                                                url  \\\n",
              "0  https://www.larepublica.co/redirect/post/3201905   \n",
              "1  https://www.larepublica.co/redirect/post/3210288   \n",
              "2  https://www.larepublica.co/redirect/post/3240676   \n",
              "3  https://www.larepublica.co/redirect/post/3342889   \n",
              "4  https://www.larepublica.co/redirect/post/3427208   \n",
              "\n",
              "                                                news           Type  \n",
              "0  Durante el foro La banca articulador empresari...           Otra  \n",
              "1  El regulador de valores de China dijo el domin...   Regulaciones  \n",
              "2  En una industria históricamente masculina como...       Alianzas  \n",
              "3  Con el dato de marzo el IPC interanual encaden...  Macroeconomia  \n",
              "4  Ayer en Cartagena se dio inicio a la versión n...           Otra  "
            ],
            "text/html": [
              "\n",
              "  <div id=\"df-ac93919a-b56b-4bb0-870b-529e6ee13eee\" class=\"colab-df-container\">\n",
              "    <div>\n",
              "<style scoped>\n",
              "    .dataframe tbody tr th:only-of-type {\n",
              "        vertical-align: middle;\n",
              "    }\n",
              "\n",
              "    .dataframe tbody tr th {\n",
              "        vertical-align: top;\n",
              "    }\n",
              "\n",
              "    .dataframe thead th {\n",
              "        text-align: right;\n",
              "    }\n",
              "</style>\n",
              "<table border=\"1\" class=\"dataframe\">\n",
              "  <thead>\n",
              "    <tr style=\"text-align: right;\">\n",
              "      <th></th>\n",
              "      <th>url</th>\n",
              "      <th>news</th>\n",
              "      <th>Type</th>\n",
              "    </tr>\n",
              "  </thead>\n",
              "  <tbody>\n",
              "    <tr>\n",
              "      <th>0</th>\n",
              "      <td>https://www.larepublica.co/redirect/post/3201905</td>\n",
              "      <td>Durante el foro La banca articulador empresari...</td>\n",
              "      <td>Otra</td>\n",
              "    </tr>\n",
              "    <tr>\n",
              "      <th>1</th>\n",
              "      <td>https://www.larepublica.co/redirect/post/3210288</td>\n",
              "      <td>El regulador de valores de China dijo el domin...</td>\n",
              "      <td>Regulaciones</td>\n",
              "    </tr>\n",
              "    <tr>\n",
              "      <th>2</th>\n",
              "      <td>https://www.larepublica.co/redirect/post/3240676</td>\n",
              "      <td>En una industria históricamente masculina como...</td>\n",
              "      <td>Alianzas</td>\n",
              "    </tr>\n",
              "    <tr>\n",
              "      <th>3</th>\n",
              "      <td>https://www.larepublica.co/redirect/post/3342889</td>\n",
              "      <td>Con el dato de marzo el IPC interanual encaden...</td>\n",
              "      <td>Macroeconomia</td>\n",
              "    </tr>\n",
              "    <tr>\n",
              "      <th>4</th>\n",
              "      <td>https://www.larepublica.co/redirect/post/3427208</td>\n",
              "      <td>Ayer en Cartagena se dio inicio a la versión n...</td>\n",
              "      <td>Otra</td>\n",
              "    </tr>\n",
              "  </tbody>\n",
              "</table>\n",
              "</div>\n",
              "    <div class=\"colab-df-buttons\">\n",
              "\n",
              "  <div class=\"colab-df-container\">\n",
              "    <button class=\"colab-df-convert\" onclick=\"convertToInteractive('df-ac93919a-b56b-4bb0-870b-529e6ee13eee')\"\n",
              "            title=\"Convert this dataframe to an interactive table.\"\n",
              "            style=\"display:none;\">\n",
              "\n",
              "  <svg xmlns=\"http://www.w3.org/2000/svg\" height=\"24px\" viewBox=\"0 -960 960 960\">\n",
              "    <path d=\"M120-120v-720h720v720H120Zm60-500h600v-160H180v160Zm220 220h160v-160H400v160Zm0 220h160v-160H400v160ZM180-400h160v-160H180v160Zm440 0h160v-160H620v160ZM180-180h160v-160H180v160Zm440 0h160v-160H620v160Z\"/>\n",
              "  </svg>\n",
              "    </button>\n",
              "\n",
              "  <style>\n",
              "    .colab-df-container {\n",
              "      display:flex;\n",
              "      gap: 12px;\n",
              "    }\n",
              "\n",
              "    .colab-df-convert {\n",
              "      background-color: #E8F0FE;\n",
              "      border: none;\n",
              "      border-radius: 50%;\n",
              "      cursor: pointer;\n",
              "      display: none;\n",
              "      fill: #1967D2;\n",
              "      height: 32px;\n",
              "      padding: 0 0 0 0;\n",
              "      width: 32px;\n",
              "    }\n",
              "\n",
              "    .colab-df-convert:hover {\n",
              "      background-color: #E2EBFA;\n",
              "      box-shadow: 0px 1px 2px rgba(60, 64, 67, 0.3), 0px 1px 3px 1px rgba(60, 64, 67, 0.15);\n",
              "      fill: #174EA6;\n",
              "    }\n",
              "\n",
              "    .colab-df-buttons div {\n",
              "      margin-bottom: 4px;\n",
              "    }\n",
              "\n",
              "    [theme=dark] .colab-df-convert {\n",
              "      background-color: #3B4455;\n",
              "      fill: #D2E3FC;\n",
              "    }\n",
              "\n",
              "    [theme=dark] .colab-df-convert:hover {\n",
              "      background-color: #434B5C;\n",
              "      box-shadow: 0px 1px 3px 1px rgba(0, 0, 0, 0.15);\n",
              "      filter: drop-shadow(0px 1px 2px rgba(0, 0, 0, 0.3));\n",
              "      fill: #FFFFFF;\n",
              "    }\n",
              "  </style>\n",
              "\n",
              "    <script>\n",
              "      const buttonEl =\n",
              "        document.querySelector('#df-ac93919a-b56b-4bb0-870b-529e6ee13eee button.colab-df-convert');\n",
              "      buttonEl.style.display =\n",
              "        google.colab.kernel.accessAllowed ? 'block' : 'none';\n",
              "\n",
              "      async function convertToInteractive(key) {\n",
              "        const element = document.querySelector('#df-ac93919a-b56b-4bb0-870b-529e6ee13eee');\n",
              "        const dataTable =\n",
              "          await google.colab.kernel.invokeFunction('convertToInteractive',\n",
              "                                                    [key], {});\n",
              "        if (!dataTable) return;\n",
              "\n",
              "        const docLinkHtml = 'Like what you see? Visit the ' +\n",
              "          '<a target=\"_blank\" href=https://colab.research.google.com/notebooks/data_table.ipynb>data table notebook</a>'\n",
              "          + ' to learn more about interactive tables.';\n",
              "        element.innerHTML = '';\n",
              "        dataTable['output_type'] = 'display_data';\n",
              "        await google.colab.output.renderOutput(dataTable, element);\n",
              "        const docLink = document.createElement('div');\n",
              "        docLink.innerHTML = docLinkHtml;\n",
              "        element.appendChild(docLink);\n",
              "      }\n",
              "    </script>\n",
              "  </div>\n",
              "\n",
              "\n",
              "    <div id=\"df-0223821a-1532-4fd8-b690-053fa46bfa7a\">\n",
              "      <button class=\"colab-df-quickchart\" onclick=\"quickchart('df-0223821a-1532-4fd8-b690-053fa46bfa7a')\"\n",
              "                title=\"Suggest charts\"\n",
              "                style=\"display:none;\">\n",
              "\n",
              "<svg xmlns=\"http://www.w3.org/2000/svg\" height=\"24px\"viewBox=\"0 0 24 24\"\n",
              "     width=\"24px\">\n",
              "    <g>\n",
              "        <path d=\"M19 3H5c-1.1 0-2 .9-2 2v14c0 1.1.9 2 2 2h14c1.1 0 2-.9 2-2V5c0-1.1-.9-2-2-2zM9 17H7v-7h2v7zm4 0h-2V7h2v10zm4 0h-2v-4h2v4z\"/>\n",
              "    </g>\n",
              "</svg>\n",
              "      </button>\n",
              "\n",
              "<style>\n",
              "  .colab-df-quickchart {\n",
              "      --bg-color: #E8F0FE;\n",
              "      --fill-color: #1967D2;\n",
              "      --hover-bg-color: #E2EBFA;\n",
              "      --hover-fill-color: #174EA6;\n",
              "      --disabled-fill-color: #AAA;\n",
              "      --disabled-bg-color: #DDD;\n",
              "  }\n",
              "\n",
              "  [theme=dark] .colab-df-quickchart {\n",
              "      --bg-color: #3B4455;\n",
              "      --fill-color: #D2E3FC;\n",
              "      --hover-bg-color: #434B5C;\n",
              "      --hover-fill-color: #FFFFFF;\n",
              "      --disabled-bg-color: #3B4455;\n",
              "      --disabled-fill-color: #666;\n",
              "  }\n",
              "\n",
              "  .colab-df-quickchart {\n",
              "    background-color: var(--bg-color);\n",
              "    border: none;\n",
              "    border-radius: 50%;\n",
              "    cursor: pointer;\n",
              "    display: none;\n",
              "    fill: var(--fill-color);\n",
              "    height: 32px;\n",
              "    padding: 0;\n",
              "    width: 32px;\n",
              "  }\n",
              "\n",
              "  .colab-df-quickchart:hover {\n",
              "    background-color: var(--hover-bg-color);\n",
              "    box-shadow: 0 1px 2px rgba(60, 64, 67, 0.3), 0 1px 3px 1px rgba(60, 64, 67, 0.15);\n",
              "    fill: var(--button-hover-fill-color);\n",
              "  }\n",
              "\n",
              "  .colab-df-quickchart-complete:disabled,\n",
              "  .colab-df-quickchart-complete:disabled:hover {\n",
              "    background-color: var(--disabled-bg-color);\n",
              "    fill: var(--disabled-fill-color);\n",
              "    box-shadow: none;\n",
              "  }\n",
              "\n",
              "  .colab-df-spinner {\n",
              "    border: 2px solid var(--fill-color);\n",
              "    border-color: transparent;\n",
              "    border-bottom-color: var(--fill-color);\n",
              "    animation:\n",
              "      spin 1s steps(1) infinite;\n",
              "  }\n",
              "\n",
              "  @keyframes spin {\n",
              "    0% {\n",
              "      border-color: transparent;\n",
              "      border-bottom-color: var(--fill-color);\n",
              "      border-left-color: var(--fill-color);\n",
              "    }\n",
              "    20% {\n",
              "      border-color: transparent;\n",
              "      border-left-color: var(--fill-color);\n",
              "      border-top-color: var(--fill-color);\n",
              "    }\n",
              "    30% {\n",
              "      border-color: transparent;\n",
              "      border-left-color: var(--fill-color);\n",
              "      border-top-color: var(--fill-color);\n",
              "      border-right-color: var(--fill-color);\n",
              "    }\n",
              "    40% {\n",
              "      border-color: transparent;\n",
              "      border-right-color: var(--fill-color);\n",
              "      border-top-color: var(--fill-color);\n",
              "    }\n",
              "    60% {\n",
              "      border-color: transparent;\n",
              "      border-right-color: var(--fill-color);\n",
              "    }\n",
              "    80% {\n",
              "      border-color: transparent;\n",
              "      border-right-color: var(--fill-color);\n",
              "      border-bottom-color: var(--fill-color);\n",
              "    }\n",
              "    90% {\n",
              "      border-color: transparent;\n",
              "      border-bottom-color: var(--fill-color);\n",
              "    }\n",
              "  }\n",
              "</style>\n",
              "\n",
              "      <script>\n",
              "        async function quickchart(key) {\n",
              "          const quickchartButtonEl =\n",
              "            document.querySelector('#' + key + ' button');\n",
              "          quickchartButtonEl.disabled = true;  // To prevent multiple clicks.\n",
              "          quickchartButtonEl.classList.add('colab-df-spinner');\n",
              "          try {\n",
              "            const charts = await google.colab.kernel.invokeFunction(\n",
              "                'suggestCharts', [key], {});\n",
              "          } catch (error) {\n",
              "            console.error('Error during call to suggestCharts:', error);\n",
              "          }\n",
              "          quickchartButtonEl.classList.remove('colab-df-spinner');\n",
              "          quickchartButtonEl.classList.add('colab-df-quickchart-complete');\n",
              "        }\n",
              "        (() => {\n",
              "          let quickchartButtonEl =\n",
              "            document.querySelector('#df-0223821a-1532-4fd8-b690-053fa46bfa7a button');\n",
              "          quickchartButtonEl.style.display =\n",
              "            google.colab.kernel.accessAllowed ? 'block' : 'none';\n",
              "        })();\n",
              "      </script>\n",
              "    </div>\n",
              "\n",
              "    </div>\n",
              "  </div>\n"
            ],
            "application/vnd.google.colaboratory.intrinsic+json": {
              "type": "dataframe",
              "variable_name": "df",
              "summary": "{\n  \"name\": \"df\",\n  \"rows\": 1217,\n  \"fields\": [\n    {\n      \"column\": \"url\",\n      \"properties\": {\n        \"dtype\": \"string\",\n        \"num_unique_values\": 1101,\n        \"samples\": [\n          \"https://www.bbva.com/es/sostenibilidad/por-la-tierra-por-el-mundo-por-todos-un-dia-y-una-sola-tierra/\",\n          \"https://www.larepublica.co/redirect/post/3307565\",\n          \"https://www.bbva.com/es/ar/bbva-ofrece-una-amplia-variedad-de-productos-y-servicios-agropecuarios-en-expoagro/\"\n        ],\n        \"semantic_type\": \"\",\n        \"description\": \"\"\n      }\n    },\n    {\n      \"column\": \"news\",\n      \"properties\": {\n        \"dtype\": \"string\",\n        \"num_unique_values\": 1138,\n        \"samples\": [\n          \"Se anunci\\u00f3 una alianza estrat\\u00e9gica entre la fintech de soluciones financieras Omni Latam y JP Morgan para crear una plataforma que brinde soluciones financieras digitales para grandes empresas y pyme garantiz\\u00e1ndoles liquidez y acceso a capital de trabajo.La iniciativa busca proteger la cadena de suministro de los compradores frente a cualquier necesidad crediticia y desajuste de financiaci\\u00f3n. Se asegurar\\u00e1 que los proveedores tengan acceso a un programa de pagos anticipados de facturas.Con esta alianza combinamos las s\\u00f3lidas capacidades financieras de J.P. Morgan en Am\\u00e9rica Latina y la innovaci\\u00f3n tecnol\\u00f3gica de Omni Latam al servicio de las empresas proporcionando alternativas hechas a la medida de nuestros clientes que se adaptan tanto a compradores como a proveedores. El objetivo es facilitar el acceso al capital de trabajo adicional que necesitan para escalar sus negocios mejorando la estabilidad de la cadena de suministro as\\u00ed como su relaci\\u00f3n y reputaci\\u00f3n en el mercado dijo Diego Caicedo CEO  Cofundador de Omni Latam.Se espera que el acuerdo acelere la participaci\\u00f3n de JP Morgan en la regi\\u00f3n. La compa\\u00f1\\u00eda ya procesa cerca de 40 millones de transacciones diarias siendo el principal liquidador de d\\u00f3lares del mundo.Buscamos solventar las necesidades de los empresarios latinoamericanos por medio de soluciones de financiaci\\u00f3n de la cadena de suministro. Creemos que somos los mejor posicionados para atender esas necesidades de la mano de Omni Latam dijo Ignacio Munoz De Cote director de pagos para Latinoam\\u00e9rica en JP Morgan.\",\n          \"\\u00bfSon los filtros del agua realmente necesarios donde el acceso al agua potable est\\u00e1 garantizado? \\u00bfTienen beneficios para la salud y el medioambiente? Mientras en lugares sin agua potable, los filtros pueden significar una aut\\u00e9ntica revoluci\\u00f3n; en los hogares con agua de grifo potable, hay que tener en cuenta para qu\\u00e9 vas a utilizar las distintas tecnolog\\u00edas de filtrado. Importante: los filtros ayudan a solucionar el desaf\\u00edo del agua embotellada en pl\\u00e1stico, lo que contribuye con la sostenibilidad.\\r\\nTres \\u00e1tomos forman una mol\\u00e9cula sencilla. Dos hidr\\u00f3genos y un ox\\u00edgeno est\\u00e1n en la base de la revoluci\\u00f3n de la vida en nuestro planeta. Sin el agua no existir\\u00eda nada de lo que conocemos. Y, sin embargo, cuando abrimos el grifo y la dejamos correr no pensamos en esto. Lo damos por sentado, a pesar de que se trata de un bien m\\u00e1s escaso y con m\\u00e1s amenazas de lo que podr\\u00edamos pensar.\\r\\nEn el mundo, hoy, la mayor\\u00eda de las personas tienen acceso a agua potable. Sin embargo, seg\\u00fan la Organizaci\\u00f3n Mundial de la Salud, m\\u00e1s de 2000 millones de habitantes consumen a diario agua que tiene el potencial de estar contaminada. La diferencia, en la mayor\\u00eda de los casos, la marca la presencia de sistemas de filtrado, depuraci\\u00f3n y potabilizaci\\u00f3n industriales, as\\u00ed como controles que aseguran que beberla no implica riesgos para la salud.\\r\\nAdem\\u00e1s, siempre existe la posibilidad de instalar purificadores de agua a nivel dom\\u00e9stico. Pero \\u00bfson realmente necesarios en aquellos lugares donde el acceso al agua potable est\\u00e1 garantizado? \\u00bfQu\\u00e9 tipos existen y c\\u00f3mo funcionan? \\u00bfTienen realmente beneficios para la salud y el medioambiente?\\r\\nAgua limpia y saneamiento\\r\\nDurante tres d\\u00edas, diversos distritos de Lima y el Callao tendr\\u00e1n el servicio de agua restringido. Debido a este escenario, los peruanos tienen la oportunidad de reflexionar sobre los cuidados que se le debe dar al agua. A continuaci\\u00f3n, algunos consejos sobre qu\\u00e9 se debe hacer para ahorrarla y qu\\u00e9 trucos hay seguir cuando no se cuenta con muchas reservas.\\r\\n\\u201cLa variedad de part\\u00edculas que pueden ser encontradas dentro del agua de grifo es muy grande. Dependiendo de cada regi\\u00f3n e incluso dentro de la misma provincia puede cambiar notablemente, ya que los acu\\u00edferos y los procesos de tratamiento y transporte son distintos\\u201d, explica Alex Dakov, responsable de la ONG Oceanic Global y CEO de Agua NEA y Green Motive. Lo que s\\u00ed est\\u00e1 claro es que lo que habitualmente llamamos agua es mucho m\\u00e1s que hidr\\u00f3geno y ox\\u00edgeno.\\r\\nEn estado natural, el agua contiene microorganismos y multitud de part\\u00edculas en suspensi\\u00f3n y elementos qu\\u00edmicos disueltos que recoge de su entorno. A ellos se han sumado los micropl\\u00e1sticos, aunque su impacto en la salud todav\\u00eda no se ha logrado determinar. En los pa\\u00edses en los que el acceso al agua potable est\\u00e1 garantizado, se llevan a cabo una serie de procesos de filtrado y desinfecci\\u00f3n para garantizar que la mayor\\u00eda de estos elementos no acabe siendo ingerida. Aun as\\u00ed, existen otras razones por las que se puede querer instalar un filtro en casa.\\r\\n\\u201cCuando hablamos de agua, muchas veces influye un criterio por encima de otros: la percepci\\u00f3n del sabor. Un criterio totalmente subjetivo que cada persona siente o aplica de manera diferente\\u201d, a\\u00f1ade Dakov. \\u201cLas tecnolog\\u00edas de filtrado ayudan a modificar esa percepci\\u00f3n, y por tanto pueden ayudar a beber agua del grifo, pese a no ser necesario desde un punto de vista qu\\u00edmico\\u201d.\\r\\nLa cosa cambia si hablamos de lugares en los que el agua corriente no es potable o ni siquiera existe tal red de agua corriente. Aqu\\u00ed, un filtro puede marcar un antes y un despu\\u00e9s, aunque garantizar la potabilidad, desde un punto de vista qu\\u00edmico y biol\\u00f3gico, es m\\u00e1s complejo que instalar un sistema de filtrado. \\u201cPara muchas comunidades donde el acceso al agua potable es complicado, un filtro puede ser una aut\\u00e9ntica revoluci\\u00f3n. Puede facilitar el acceso a una fuente de vida b\\u00e1sica para el ser humano de una manera econ\\u00f3mica y universal\\u201d, subraya el responsable de Oceanic Global.\\r\\nGesti\\u00f3n del Agua\\r\\nEl agua es un elemento imprescindible para el d\\u00eda a d\\u00eda a cuyo consumo no se le presta la debida atenci\\u00f3n \\u2013salvo en los cada vez m\\u00e1s frecuentes momentos de sequ\\u00eda\\u2013 debido a que su acceso y precio son a\\u00fan muy asequibles para el servicio que presta. El aumento de la concienciaci\\u00f3n ecol\\u00f3gica que se vive de unos a\\u00f1os a esta parte no es, sin embargo, todav\\u00eda suficiente para que los h\\u00e1bitos de los ciudadanos se hayan adecuado a las crecientes necesidades de ahorro de agua que demandan los tiempos que corren. De ah\\u00ed que sea muy oportuno revisar una serie de consejos para controlar la utilizaci\\u00f3n del l\\u00edquido elemento.\\r\\nLos filtros de agua para el hogar han ganado en variedad y eficiencia en los \\u00faltimos a\\u00f1os. Van desde sistemas sencillos para eliminar olores o sabores hasta unidades de desinfecci\\u00f3n o de desmineralizaci\\u00f3n. Estas son las principales tecnolog\\u00edas de filtrado disponibles para uso dom\\u00e9stico en la actualidad, seg\\u00fan el Centro para el Control y la Prevenci\\u00f3n de Enfermedades (CDC) de Estados Unidos.\\r\\nPara elegir filtro, debemos tener en cuenta el tipo de agua de nuestra zona y el prop\\u00f3sito que vamos a darle al agua filtrada. \\u201cCada filtro tiene un uso y unas caracter\\u00edsticas; y no tenerlo en cuenta puede dar lugar a una modificaci\\u00f3n negativa para el agua que se bebe. Por ejemplo, no cambiar un filtro de carbono cuando corresponde, puede acabar contaminando el agua que se est\\u00e1 bebiendo\\u201d, explica Alex Dakov.\\r\\nCada a\\u00f1o generamos m\\u00e1s de 300 millones de toneladas de residuos pl\\u00e1sticos en todo el mundo. La mayor\\u00eda no se recicla (m\\u00e1s de un 80 %) y unos ocho millones de toneladas acaban en los oc\\u00e9anos, seg\\u00fan datos de la agencia medioambiental de la ONU. Cada a\\u00f1o, se producen cerca de 500.000 millones de botellas pl\\u00e1sticas para agua y otras bebidas, la mayor\\u00eda de las cuales acaban en nuestro entorno como basura. En entidades financieras como BBVA, el pl\\u00e1stico es una especie en extinci\\u00f3n.\\r\\nAgua limpia y saneamiento\\r\\nA Rosa Ancco todav\\u00eda le sorprende o\\u00edr en su casa el sonido del agua corriendo. La costumbre no le deja olvidar que hasta hace poco ba\\u00f1aba a sus hijos con botellas de agua caliente. No ha tenido una vida f\\u00e1cil, pero su deseo de darle a su familia un techo digno bajo el que vivir y el apoyo de la Fundaci\\u00f3n Microfinanzas BBVA han sido suficientes para conseguirlo.\\r\\nEl problema de los pl\\u00e1sticos es complejo y atiende a muchas causas, pero la falta de acceso a agua potable es una de ellas. Seg\\u00fan el \\u00faltimo informe de Ocean Panel, mejorar la gesti\\u00f3n del agua y el saneamiento en el mundo es una de las principales l\\u00edneas de acci\\u00f3n para reducir la contaminaci\\u00f3n pl\\u00e1stica (y mejorar la salud global).\\r\\n\\u201cUna de las mayores ventajas que tiene el agua del grifo es que reduce el impacto medioambiental que genera el agua embotellada\\u201d, subraya el CEO de Agua NEA.\\u00a0\\u201cNo solo por la incesante producci\\u00f3n de pl\\u00e1sticos que supone la fabricaci\\u00f3n de las botellas o garrafas, se estima que en el mundo se abren m\\u00e1s de un mill\\u00f3n de botellas de pl\\u00e1stico cada minuto, sino tambi\\u00e9n por los costes medioambientales de su transporte\\u201d.\\r\\nEn este sentido, los filtros de agua y, sobre todo, los aplicados para mejorar la red de agua potable de localidades que dependen en gran medida del agua embotellada, pueden ser una soluci\\u00f3n.\\u00a0 \\u201cUno de los retos a los que la humanidad se enfrentar\\u00e1 en este siglo ser\\u00e1 garantizar el acceso a agua potable para los 8.000 millones de personas que pronto poblaremos el planeta, sin que eso multiplique el problema que tenemos con los pl\\u00e1sticos\\u201d, a\\u00f1ade Dakov.\\r\\nDisponer de una fuente de agua potable en todos los hogares es esencial para la salud humana y del medioambiente. Y disfrutar de agua limpia y desag\\u00fces es un factor m\\u00e1s para luchar contra la desigualdad. En la medida en que reducen la dependencia del agua embotellada, los filtros de agua pueden suponer una de las soluciones a este desaf\\u00edo. Sin embargo, como ya hemos se\\u00f1alado, garantizar la potabilidad del agua desde un punto de vista qu\\u00edmico y biol\\u00f3gico es mucho m\\u00e1s complicado que instalar un filtro en casa.\",\n          \"Los presidentes de Iberia e Iberia Express y el consejero delegado de Cepsa han firmado hoy un acuerdo para avanzar en la descarbonizaci\\u00f3n del sector a\\u00e9reo a trav\\u00e9s del desarrollo e investigaci\\u00f3n de combustibles de origen sostenible y otras alternativas energ\\u00e9ticas como el hidr\\u00f3geno renovable y la electricidad para fomentar la movilidad sostenible de aviones y de la flota de veh\\u00edculos que les prestan servicios en aeropuertos.Para las tres compa\\u00f1\\u00edas el desarrollo de los combustibles de origen sostenible SAF son una prioridad para continuar avanzando hacia una industria cada vez m\\u00e1s baja en carbono y contribuir as\\u00ed a la consecuci\\u00f3n de la Agenda 2030. Este proyecto que contempla la investigaci\\u00f3n y pruebas en vuelo con SAF contribuye a los Objetivos para el Desarrollo Sostenible n\\u00famero 7 Garantizar el acceso a una energ\\u00eda asequible segura sostenible y moderna 8 Promover el crecimiento econ\\u00f3mico inclusivo y sostenible el empleo y el trabajo dignoy 13 adoptar medidas urgentes para combatir el cambio clim\\u00e1tico y sus efectos.Cepsa est\\u00e1 trabajando en un ambicioso plan para dar un giro verde a todos sus negocios y convertirse en un referente de la transici\\u00f3n energ\\u00e9tica en su sector. Adem\\u00e1s la compa\\u00f1\\u00eda cuenta con una amplia experiencia en este \\u00e1mbito lleva m\\u00e1s de 10 a\\u00f1os produciendo biocombustibles en sus centros industriales y desarrolla estudios pioneros a nivel mundial para convertir residuos y aceites usados en combustibles de origen renovable de alto valor energ\\u00e9tico.Para Maarten Wetselaar consejero delegado de Cepsa esta alianza muestra la apuesta de Cepsa por la sostenibilidad y la firme determinaci\\u00f3n de apoyar a nuestros clientes dot\\u00e1ndolos de soluciones viables que aceleren su transici\\u00f3n energ\\u00e9tica. Como referente en el suministro de combustibles para el sector a\\u00e9reo compartimos con el Grupo Iberia el objetivo com\\u00fan de impulsar la descarbonizaci\\u00f3n del transporte como herramienta de lucha contra el cambio clim\\u00e1tico.Como parte del Grupo IAG Iberia e Iberia Express se han comprometido a lograr cero emisiones netas en 2050 y a operar un m\\u00ednimo de un 10 de sus vuelos con combustibles de origen sostenible en 2030.Para la descarbonizaci\\u00f3n del sector a\\u00e9reo es imprescindible el desarrollo producci\\u00f3n y distribuci\\u00f3n de los combustibles de origen sostenible a precios asequibles y en cantidad suficiente para abastecer a las aerol\\u00edneas. Confiamos en que este acuerdo con Cepsa contribuya a ese objetivo ha comentado Javier S\\u00e1nchezPrieto presidente y CEO de Iberia.Combustibles sosteniblesLos biocombustibles para la aviaci\\u00f3n tienen un papel clave en la descarbonizaci\\u00f3n del turismo y del transporte a\\u00e9reo. En comparaci\\u00f3n con el combustible convencional el SAF puede reducir las emisiones de la aviaci\\u00f3n hasta en un 80 respecto al queroseno convencional durante todo su ciclo de vida seg\\u00fan la Asociaci\\u00f3n Internacional de Transporte A\\u00e9reo.Adem\\u00e1s aportan otros beneficios impulsa la econom\\u00eda circular aumenta la independencia energ\\u00e9tica y con ella la seguridad de suministro asegura el mantenimiento de un importante motor de la econom\\u00eda espa\\u00f1ola 200.000 empleos de calidad y puede utilizarse de manera inmediata sin necesidad de renovar la flota y aprovechando las infraestructuras de suministro actuales.Para la consecuci\\u00f3n del objetivo de crecimiento cero de las emisiones de carbono desde 2020 la Asociaci\\u00f3n del Transporte A\\u00e9reo Internacional IATA est\\u00e1 impulsando el uso de biocombustibles sostenibles entre otras iniciativas por su significativa reducci\\u00f3n de CO2.Este acuerdo entre Cepsa y el Grupo Iberia est\\u00e1 en l\\u00ednea con el conjunto de medidas Fit for 55 de la Comisi\\u00f3n Europea que incluye una iniciativa legislativa denominada RefuelEU Aviation que pretende impulsar la oferta y demanda de biocombustibles de aviaci\\u00f3n en la Uni\\u00f3n Europea alcanzando un uso de 2 en 2025 de 5 en 2030 y de 63 en 2050.\"\n        ],\n        \"semantic_type\": \"\",\n        \"description\": \"\"\n      }\n    },\n    {\n      \"column\": \"Type\",\n      \"properties\": {\n        \"dtype\": \"category\",\n        \"num_unique_values\": 7,\n        \"samples\": [\n          \"Otra\",\n          \"Regulaciones\",\n          \"Sostenibilidad\"\n        ],\n        \"semantic_type\": \"\",\n        \"description\": \"\"\n      }\n    }\n  ]\n}"
            }
          },
          "metadata": {},
          "execution_count": 9
        }
      ]
    },
    {
      "cell_type": "code",
      "source": [
        "df.info()"
      ],
      "metadata": {
        "colab": {
          "base_uri": "https://localhost:8080/"
        },
        "id": "JGpJCtzh6xdV",
        "outputId": "6ffaddbb-750a-46cb-97ec-ff7c72366953"
      },
      "execution_count": 10,
      "outputs": [
        {
          "output_type": "stream",
          "name": "stdout",
          "text": [
            "<class 'pandas.core.frame.DataFrame'>\n",
            "RangeIndex: 1217 entries, 0 to 1216\n",
            "Data columns (total 3 columns):\n",
            " #   Column  Non-Null Count  Dtype \n",
            "---  ------  --------------  ----- \n",
            " 0   url     1217 non-null   object\n",
            " 1   news    1217 non-null   object\n",
            " 2   Type    1217 non-null   object\n",
            "dtypes: object(3)\n",
            "memory usage: 28.7+ KB\n"
          ]
        }
      ]
    },
    {
      "cell_type": "code",
      "source": [
        "data = df[['news']]\n",
        "print(data.info())\n",
        "data.head()"
      ],
      "metadata": {
        "colab": {
          "base_uri": "https://localhost:8080/",
          "height": 362
        },
        "id": "75SV66E9DLDi",
        "outputId": "de883d29-ca08-4c09-8d93-e5aa3654b353"
      },
      "execution_count": 13,
      "outputs": [
        {
          "output_type": "stream",
          "name": "stdout",
          "text": [
            "<class 'pandas.core.frame.DataFrame'>\n",
            "RangeIndex: 1217 entries, 0 to 1216\n",
            "Data columns (total 1 columns):\n",
            " #   Column  Non-Null Count  Dtype \n",
            "---  ------  --------------  ----- \n",
            " 0   news    1217 non-null   object\n",
            "dtypes: object(1)\n",
            "memory usage: 9.6+ KB\n",
            "None\n"
          ]
        },
        {
          "output_type": "execute_result",
          "data": {
            "text/plain": [
              "                                                news\n",
              "0  Durante el foro La banca articulador empresari...\n",
              "1  El regulador de valores de China dijo el domin...\n",
              "2  En una industria históricamente masculina como...\n",
              "3  Con el dato de marzo el IPC interanual encaden...\n",
              "4  Ayer en Cartagena se dio inicio a la versión n..."
            ],
            "text/html": [
              "\n",
              "  <div id=\"df-832c5a0b-fb34-4648-ae14-c9db01ab0966\" class=\"colab-df-container\">\n",
              "    <div>\n",
              "<style scoped>\n",
              "    .dataframe tbody tr th:only-of-type {\n",
              "        vertical-align: middle;\n",
              "    }\n",
              "\n",
              "    .dataframe tbody tr th {\n",
              "        vertical-align: top;\n",
              "    }\n",
              "\n",
              "    .dataframe thead th {\n",
              "        text-align: right;\n",
              "    }\n",
              "</style>\n",
              "<table border=\"1\" class=\"dataframe\">\n",
              "  <thead>\n",
              "    <tr style=\"text-align: right;\">\n",
              "      <th></th>\n",
              "      <th>news</th>\n",
              "    </tr>\n",
              "  </thead>\n",
              "  <tbody>\n",
              "    <tr>\n",
              "      <th>0</th>\n",
              "      <td>Durante el foro La banca articulador empresari...</td>\n",
              "    </tr>\n",
              "    <tr>\n",
              "      <th>1</th>\n",
              "      <td>El regulador de valores de China dijo el domin...</td>\n",
              "    </tr>\n",
              "    <tr>\n",
              "      <th>2</th>\n",
              "      <td>En una industria históricamente masculina como...</td>\n",
              "    </tr>\n",
              "    <tr>\n",
              "      <th>3</th>\n",
              "      <td>Con el dato de marzo el IPC interanual encaden...</td>\n",
              "    </tr>\n",
              "    <tr>\n",
              "      <th>4</th>\n",
              "      <td>Ayer en Cartagena se dio inicio a la versión n...</td>\n",
              "    </tr>\n",
              "  </tbody>\n",
              "</table>\n",
              "</div>\n",
              "    <div class=\"colab-df-buttons\">\n",
              "\n",
              "  <div class=\"colab-df-container\">\n",
              "    <button class=\"colab-df-convert\" onclick=\"convertToInteractive('df-832c5a0b-fb34-4648-ae14-c9db01ab0966')\"\n",
              "            title=\"Convert this dataframe to an interactive table.\"\n",
              "            style=\"display:none;\">\n",
              "\n",
              "  <svg xmlns=\"http://www.w3.org/2000/svg\" height=\"24px\" viewBox=\"0 -960 960 960\">\n",
              "    <path d=\"M120-120v-720h720v720H120Zm60-500h600v-160H180v160Zm220 220h160v-160H400v160Zm0 220h160v-160H400v160ZM180-400h160v-160H180v160Zm440 0h160v-160H620v160ZM180-180h160v-160H180v160Zm440 0h160v-160H620v160Z\"/>\n",
              "  </svg>\n",
              "    </button>\n",
              "\n",
              "  <style>\n",
              "    .colab-df-container {\n",
              "      display:flex;\n",
              "      gap: 12px;\n",
              "    }\n",
              "\n",
              "    .colab-df-convert {\n",
              "      background-color: #E8F0FE;\n",
              "      border: none;\n",
              "      border-radius: 50%;\n",
              "      cursor: pointer;\n",
              "      display: none;\n",
              "      fill: #1967D2;\n",
              "      height: 32px;\n",
              "      padding: 0 0 0 0;\n",
              "      width: 32px;\n",
              "    }\n",
              "\n",
              "    .colab-df-convert:hover {\n",
              "      background-color: #E2EBFA;\n",
              "      box-shadow: 0px 1px 2px rgba(60, 64, 67, 0.3), 0px 1px 3px 1px rgba(60, 64, 67, 0.15);\n",
              "      fill: #174EA6;\n",
              "    }\n",
              "\n",
              "    .colab-df-buttons div {\n",
              "      margin-bottom: 4px;\n",
              "    }\n",
              "\n",
              "    [theme=dark] .colab-df-convert {\n",
              "      background-color: #3B4455;\n",
              "      fill: #D2E3FC;\n",
              "    }\n",
              "\n",
              "    [theme=dark] .colab-df-convert:hover {\n",
              "      background-color: #434B5C;\n",
              "      box-shadow: 0px 1px 3px 1px rgba(0, 0, 0, 0.15);\n",
              "      filter: drop-shadow(0px 1px 2px rgba(0, 0, 0, 0.3));\n",
              "      fill: #FFFFFF;\n",
              "    }\n",
              "  </style>\n",
              "\n",
              "    <script>\n",
              "      const buttonEl =\n",
              "        document.querySelector('#df-832c5a0b-fb34-4648-ae14-c9db01ab0966 button.colab-df-convert');\n",
              "      buttonEl.style.display =\n",
              "        google.colab.kernel.accessAllowed ? 'block' : 'none';\n",
              "\n",
              "      async function convertToInteractive(key) {\n",
              "        const element = document.querySelector('#df-832c5a0b-fb34-4648-ae14-c9db01ab0966');\n",
              "        const dataTable =\n",
              "          await google.colab.kernel.invokeFunction('convertToInteractive',\n",
              "                                                    [key], {});\n",
              "        if (!dataTable) return;\n",
              "\n",
              "        const docLinkHtml = 'Like what you see? Visit the ' +\n",
              "          '<a target=\"_blank\" href=https://colab.research.google.com/notebooks/data_table.ipynb>data table notebook</a>'\n",
              "          + ' to learn more about interactive tables.';\n",
              "        element.innerHTML = '';\n",
              "        dataTable['output_type'] = 'display_data';\n",
              "        await google.colab.output.renderOutput(dataTable, element);\n",
              "        const docLink = document.createElement('div');\n",
              "        docLink.innerHTML = docLinkHtml;\n",
              "        element.appendChild(docLink);\n",
              "      }\n",
              "    </script>\n",
              "  </div>\n",
              "\n",
              "\n",
              "    <div id=\"df-2de39173-8ba2-478e-91bc-141ccadda63e\">\n",
              "      <button class=\"colab-df-quickchart\" onclick=\"quickchart('df-2de39173-8ba2-478e-91bc-141ccadda63e')\"\n",
              "                title=\"Suggest charts\"\n",
              "                style=\"display:none;\">\n",
              "\n",
              "<svg xmlns=\"http://www.w3.org/2000/svg\" height=\"24px\"viewBox=\"0 0 24 24\"\n",
              "     width=\"24px\">\n",
              "    <g>\n",
              "        <path d=\"M19 3H5c-1.1 0-2 .9-2 2v14c0 1.1.9 2 2 2h14c1.1 0 2-.9 2-2V5c0-1.1-.9-2-2-2zM9 17H7v-7h2v7zm4 0h-2V7h2v10zm4 0h-2v-4h2v4z\"/>\n",
              "    </g>\n",
              "</svg>\n",
              "      </button>\n",
              "\n",
              "<style>\n",
              "  .colab-df-quickchart {\n",
              "      --bg-color: #E8F0FE;\n",
              "      --fill-color: #1967D2;\n",
              "      --hover-bg-color: #E2EBFA;\n",
              "      --hover-fill-color: #174EA6;\n",
              "      --disabled-fill-color: #AAA;\n",
              "      --disabled-bg-color: #DDD;\n",
              "  }\n",
              "\n",
              "  [theme=dark] .colab-df-quickchart {\n",
              "      --bg-color: #3B4455;\n",
              "      --fill-color: #D2E3FC;\n",
              "      --hover-bg-color: #434B5C;\n",
              "      --hover-fill-color: #FFFFFF;\n",
              "      --disabled-bg-color: #3B4455;\n",
              "      --disabled-fill-color: #666;\n",
              "  }\n",
              "\n",
              "  .colab-df-quickchart {\n",
              "    background-color: var(--bg-color);\n",
              "    border: none;\n",
              "    border-radius: 50%;\n",
              "    cursor: pointer;\n",
              "    display: none;\n",
              "    fill: var(--fill-color);\n",
              "    height: 32px;\n",
              "    padding: 0;\n",
              "    width: 32px;\n",
              "  }\n",
              "\n",
              "  .colab-df-quickchart:hover {\n",
              "    background-color: var(--hover-bg-color);\n",
              "    box-shadow: 0 1px 2px rgba(60, 64, 67, 0.3), 0 1px 3px 1px rgba(60, 64, 67, 0.15);\n",
              "    fill: var(--button-hover-fill-color);\n",
              "  }\n",
              "\n",
              "  .colab-df-quickchart-complete:disabled,\n",
              "  .colab-df-quickchart-complete:disabled:hover {\n",
              "    background-color: var(--disabled-bg-color);\n",
              "    fill: var(--disabled-fill-color);\n",
              "    box-shadow: none;\n",
              "  }\n",
              "\n",
              "  .colab-df-spinner {\n",
              "    border: 2px solid var(--fill-color);\n",
              "    border-color: transparent;\n",
              "    border-bottom-color: var(--fill-color);\n",
              "    animation:\n",
              "      spin 1s steps(1) infinite;\n",
              "  }\n",
              "\n",
              "  @keyframes spin {\n",
              "    0% {\n",
              "      border-color: transparent;\n",
              "      border-bottom-color: var(--fill-color);\n",
              "      border-left-color: var(--fill-color);\n",
              "    }\n",
              "    20% {\n",
              "      border-color: transparent;\n",
              "      border-left-color: var(--fill-color);\n",
              "      border-top-color: var(--fill-color);\n",
              "    }\n",
              "    30% {\n",
              "      border-color: transparent;\n",
              "      border-left-color: var(--fill-color);\n",
              "      border-top-color: var(--fill-color);\n",
              "      border-right-color: var(--fill-color);\n",
              "    }\n",
              "    40% {\n",
              "      border-color: transparent;\n",
              "      border-right-color: var(--fill-color);\n",
              "      border-top-color: var(--fill-color);\n",
              "    }\n",
              "    60% {\n",
              "      border-color: transparent;\n",
              "      border-right-color: var(--fill-color);\n",
              "    }\n",
              "    80% {\n",
              "      border-color: transparent;\n",
              "      border-right-color: var(--fill-color);\n",
              "      border-bottom-color: var(--fill-color);\n",
              "    }\n",
              "    90% {\n",
              "      border-color: transparent;\n",
              "      border-bottom-color: var(--fill-color);\n",
              "    }\n",
              "  }\n",
              "</style>\n",
              "\n",
              "      <script>\n",
              "        async function quickchart(key) {\n",
              "          const quickchartButtonEl =\n",
              "            document.querySelector('#' + key + ' button');\n",
              "          quickchartButtonEl.disabled = true;  // To prevent multiple clicks.\n",
              "          quickchartButtonEl.classList.add('colab-df-spinner');\n",
              "          try {\n",
              "            const charts = await google.colab.kernel.invokeFunction(\n",
              "                'suggestCharts', [key], {});\n",
              "          } catch (error) {\n",
              "            console.error('Error during call to suggestCharts:', error);\n",
              "          }\n",
              "          quickchartButtonEl.classList.remove('colab-df-spinner');\n",
              "          quickchartButtonEl.classList.add('colab-df-quickchart-complete');\n",
              "        }\n",
              "        (() => {\n",
              "          let quickchartButtonEl =\n",
              "            document.querySelector('#df-2de39173-8ba2-478e-91bc-141ccadda63e button');\n",
              "          quickchartButtonEl.style.display =\n",
              "            google.colab.kernel.accessAllowed ? 'block' : 'none';\n",
              "        })();\n",
              "      </script>\n",
              "    </div>\n",
              "\n",
              "    </div>\n",
              "  </div>\n"
            ],
            "application/vnd.google.colaboratory.intrinsic+json": {
              "type": "dataframe",
              "variable_name": "data",
              "summary": "{\n  \"name\": \"data\",\n  \"rows\": 1217,\n  \"fields\": [\n    {\n      \"column\": \"news\",\n      \"properties\": {\n        \"dtype\": \"string\",\n        \"num_unique_values\": 1138,\n        \"samples\": [\n          \"Se anunci\\u00f3 una alianza estrat\\u00e9gica entre la fintech de soluciones financieras Omni Latam y JP Morgan para crear una plataforma que brinde soluciones financieras digitales para grandes empresas y pyme garantiz\\u00e1ndoles liquidez y acceso a capital de trabajo.La iniciativa busca proteger la cadena de suministro de los compradores frente a cualquier necesidad crediticia y desajuste de financiaci\\u00f3n. Se asegurar\\u00e1 que los proveedores tengan acceso a un programa de pagos anticipados de facturas.Con esta alianza combinamos las s\\u00f3lidas capacidades financieras de J.P. Morgan en Am\\u00e9rica Latina y la innovaci\\u00f3n tecnol\\u00f3gica de Omni Latam al servicio de las empresas proporcionando alternativas hechas a la medida de nuestros clientes que se adaptan tanto a compradores como a proveedores. El objetivo es facilitar el acceso al capital de trabajo adicional que necesitan para escalar sus negocios mejorando la estabilidad de la cadena de suministro as\\u00ed como su relaci\\u00f3n y reputaci\\u00f3n en el mercado dijo Diego Caicedo CEO  Cofundador de Omni Latam.Se espera que el acuerdo acelere la participaci\\u00f3n de JP Morgan en la regi\\u00f3n. La compa\\u00f1\\u00eda ya procesa cerca de 40 millones de transacciones diarias siendo el principal liquidador de d\\u00f3lares del mundo.Buscamos solventar las necesidades de los empresarios latinoamericanos por medio de soluciones de financiaci\\u00f3n de la cadena de suministro. Creemos que somos los mejor posicionados para atender esas necesidades de la mano de Omni Latam dijo Ignacio Munoz De Cote director de pagos para Latinoam\\u00e9rica en JP Morgan.\",\n          \"\\u00bfSon los filtros del agua realmente necesarios donde el acceso al agua potable est\\u00e1 garantizado? \\u00bfTienen beneficios para la salud y el medioambiente? Mientras en lugares sin agua potable, los filtros pueden significar una aut\\u00e9ntica revoluci\\u00f3n; en los hogares con agua de grifo potable, hay que tener en cuenta para qu\\u00e9 vas a utilizar las distintas tecnolog\\u00edas de filtrado. Importante: los filtros ayudan a solucionar el desaf\\u00edo del agua embotellada en pl\\u00e1stico, lo que contribuye con la sostenibilidad.\\r\\nTres \\u00e1tomos forman una mol\\u00e9cula sencilla. Dos hidr\\u00f3genos y un ox\\u00edgeno est\\u00e1n en la base de la revoluci\\u00f3n de la vida en nuestro planeta. Sin el agua no existir\\u00eda nada de lo que conocemos. Y, sin embargo, cuando abrimos el grifo y la dejamos correr no pensamos en esto. Lo damos por sentado, a pesar de que se trata de un bien m\\u00e1s escaso y con m\\u00e1s amenazas de lo que podr\\u00edamos pensar.\\r\\nEn el mundo, hoy, la mayor\\u00eda de las personas tienen acceso a agua potable. Sin embargo, seg\\u00fan la Organizaci\\u00f3n Mundial de la Salud, m\\u00e1s de 2000 millones de habitantes consumen a diario agua que tiene el potencial de estar contaminada. La diferencia, en la mayor\\u00eda de los casos, la marca la presencia de sistemas de filtrado, depuraci\\u00f3n y potabilizaci\\u00f3n industriales, as\\u00ed como controles que aseguran que beberla no implica riesgos para la salud.\\r\\nAdem\\u00e1s, siempre existe la posibilidad de instalar purificadores de agua a nivel dom\\u00e9stico. Pero \\u00bfson realmente necesarios en aquellos lugares donde el acceso al agua potable est\\u00e1 garantizado? \\u00bfQu\\u00e9 tipos existen y c\\u00f3mo funcionan? \\u00bfTienen realmente beneficios para la salud y el medioambiente?\\r\\nAgua limpia y saneamiento\\r\\nDurante tres d\\u00edas, diversos distritos de Lima y el Callao tendr\\u00e1n el servicio de agua restringido. Debido a este escenario, los peruanos tienen la oportunidad de reflexionar sobre los cuidados que se le debe dar al agua. A continuaci\\u00f3n, algunos consejos sobre qu\\u00e9 se debe hacer para ahorrarla y qu\\u00e9 trucos hay seguir cuando no se cuenta con muchas reservas.\\r\\n\\u201cLa variedad de part\\u00edculas que pueden ser encontradas dentro del agua de grifo es muy grande. Dependiendo de cada regi\\u00f3n e incluso dentro de la misma provincia puede cambiar notablemente, ya que los acu\\u00edferos y los procesos de tratamiento y transporte son distintos\\u201d, explica Alex Dakov, responsable de la ONG Oceanic Global y CEO de Agua NEA y Green Motive. Lo que s\\u00ed est\\u00e1 claro es que lo que habitualmente llamamos agua es mucho m\\u00e1s que hidr\\u00f3geno y ox\\u00edgeno.\\r\\nEn estado natural, el agua contiene microorganismos y multitud de part\\u00edculas en suspensi\\u00f3n y elementos qu\\u00edmicos disueltos que recoge de su entorno. A ellos se han sumado los micropl\\u00e1sticos, aunque su impacto en la salud todav\\u00eda no se ha logrado determinar. En los pa\\u00edses en los que el acceso al agua potable est\\u00e1 garantizado, se llevan a cabo una serie de procesos de filtrado y desinfecci\\u00f3n para garantizar que la mayor\\u00eda de estos elementos no acabe siendo ingerida. Aun as\\u00ed, existen otras razones por las que se puede querer instalar un filtro en casa.\\r\\n\\u201cCuando hablamos de agua, muchas veces influye un criterio por encima de otros: la percepci\\u00f3n del sabor. Un criterio totalmente subjetivo que cada persona siente o aplica de manera diferente\\u201d, a\\u00f1ade Dakov. \\u201cLas tecnolog\\u00edas de filtrado ayudan a modificar esa percepci\\u00f3n, y por tanto pueden ayudar a beber agua del grifo, pese a no ser necesario desde un punto de vista qu\\u00edmico\\u201d.\\r\\nLa cosa cambia si hablamos de lugares en los que el agua corriente no es potable o ni siquiera existe tal red de agua corriente. Aqu\\u00ed, un filtro puede marcar un antes y un despu\\u00e9s, aunque garantizar la potabilidad, desde un punto de vista qu\\u00edmico y biol\\u00f3gico, es m\\u00e1s complejo que instalar un sistema de filtrado. \\u201cPara muchas comunidades donde el acceso al agua potable es complicado, un filtro puede ser una aut\\u00e9ntica revoluci\\u00f3n. Puede facilitar el acceso a una fuente de vida b\\u00e1sica para el ser humano de una manera econ\\u00f3mica y universal\\u201d, subraya el responsable de Oceanic Global.\\r\\nGesti\\u00f3n del Agua\\r\\nEl agua es un elemento imprescindible para el d\\u00eda a d\\u00eda a cuyo consumo no se le presta la debida atenci\\u00f3n \\u2013salvo en los cada vez m\\u00e1s frecuentes momentos de sequ\\u00eda\\u2013 debido a que su acceso y precio son a\\u00fan muy asequibles para el servicio que presta. El aumento de la concienciaci\\u00f3n ecol\\u00f3gica que se vive de unos a\\u00f1os a esta parte no es, sin embargo, todav\\u00eda suficiente para que los h\\u00e1bitos de los ciudadanos se hayan adecuado a las crecientes necesidades de ahorro de agua que demandan los tiempos que corren. De ah\\u00ed que sea muy oportuno revisar una serie de consejos para controlar la utilizaci\\u00f3n del l\\u00edquido elemento.\\r\\nLos filtros de agua para el hogar han ganado en variedad y eficiencia en los \\u00faltimos a\\u00f1os. Van desde sistemas sencillos para eliminar olores o sabores hasta unidades de desinfecci\\u00f3n o de desmineralizaci\\u00f3n. Estas son las principales tecnolog\\u00edas de filtrado disponibles para uso dom\\u00e9stico en la actualidad, seg\\u00fan el Centro para el Control y la Prevenci\\u00f3n de Enfermedades (CDC) de Estados Unidos.\\r\\nPara elegir filtro, debemos tener en cuenta el tipo de agua de nuestra zona y el prop\\u00f3sito que vamos a darle al agua filtrada. \\u201cCada filtro tiene un uso y unas caracter\\u00edsticas; y no tenerlo en cuenta puede dar lugar a una modificaci\\u00f3n negativa para el agua que se bebe. Por ejemplo, no cambiar un filtro de carbono cuando corresponde, puede acabar contaminando el agua que se est\\u00e1 bebiendo\\u201d, explica Alex Dakov.\\r\\nCada a\\u00f1o generamos m\\u00e1s de 300 millones de toneladas de residuos pl\\u00e1sticos en todo el mundo. La mayor\\u00eda no se recicla (m\\u00e1s de un 80 %) y unos ocho millones de toneladas acaban en los oc\\u00e9anos, seg\\u00fan datos de la agencia medioambiental de la ONU. Cada a\\u00f1o, se producen cerca de 500.000 millones de botellas pl\\u00e1sticas para agua y otras bebidas, la mayor\\u00eda de las cuales acaban en nuestro entorno como basura. En entidades financieras como BBVA, el pl\\u00e1stico es una especie en extinci\\u00f3n.\\r\\nAgua limpia y saneamiento\\r\\nA Rosa Ancco todav\\u00eda le sorprende o\\u00edr en su casa el sonido del agua corriendo. La costumbre no le deja olvidar que hasta hace poco ba\\u00f1aba a sus hijos con botellas de agua caliente. No ha tenido una vida f\\u00e1cil, pero su deseo de darle a su familia un techo digno bajo el que vivir y el apoyo de la Fundaci\\u00f3n Microfinanzas BBVA han sido suficientes para conseguirlo.\\r\\nEl problema de los pl\\u00e1sticos es complejo y atiende a muchas causas, pero la falta de acceso a agua potable es una de ellas. Seg\\u00fan el \\u00faltimo informe de Ocean Panel, mejorar la gesti\\u00f3n del agua y el saneamiento en el mundo es una de las principales l\\u00edneas de acci\\u00f3n para reducir la contaminaci\\u00f3n pl\\u00e1stica (y mejorar la salud global).\\r\\n\\u201cUna de las mayores ventajas que tiene el agua del grifo es que reduce el impacto medioambiental que genera el agua embotellada\\u201d, subraya el CEO de Agua NEA.\\u00a0\\u201cNo solo por la incesante producci\\u00f3n de pl\\u00e1sticos que supone la fabricaci\\u00f3n de las botellas o garrafas, se estima que en el mundo se abren m\\u00e1s de un mill\\u00f3n de botellas de pl\\u00e1stico cada minuto, sino tambi\\u00e9n por los costes medioambientales de su transporte\\u201d.\\r\\nEn este sentido, los filtros de agua y, sobre todo, los aplicados para mejorar la red de agua potable de localidades que dependen en gran medida del agua embotellada, pueden ser una soluci\\u00f3n.\\u00a0 \\u201cUno de los retos a los que la humanidad se enfrentar\\u00e1 en este siglo ser\\u00e1 garantizar el acceso a agua potable para los 8.000 millones de personas que pronto poblaremos el planeta, sin que eso multiplique el problema que tenemos con los pl\\u00e1sticos\\u201d, a\\u00f1ade Dakov.\\r\\nDisponer de una fuente de agua potable en todos los hogares es esencial para la salud humana y del medioambiente. Y disfrutar de agua limpia y desag\\u00fces es un factor m\\u00e1s para luchar contra la desigualdad. En la medida en que reducen la dependencia del agua embotellada, los filtros de agua pueden suponer una de las soluciones a este desaf\\u00edo. Sin embargo, como ya hemos se\\u00f1alado, garantizar la potabilidad del agua desde un punto de vista qu\\u00edmico y biol\\u00f3gico es mucho m\\u00e1s complicado que instalar un filtro en casa.\",\n          \"Los presidentes de Iberia e Iberia Express y el consejero delegado de Cepsa han firmado hoy un acuerdo para avanzar en la descarbonizaci\\u00f3n del sector a\\u00e9reo a trav\\u00e9s del desarrollo e investigaci\\u00f3n de combustibles de origen sostenible y otras alternativas energ\\u00e9ticas como el hidr\\u00f3geno renovable y la electricidad para fomentar la movilidad sostenible de aviones y de la flota de veh\\u00edculos que les prestan servicios en aeropuertos.Para las tres compa\\u00f1\\u00edas el desarrollo de los combustibles de origen sostenible SAF son una prioridad para continuar avanzando hacia una industria cada vez m\\u00e1s baja en carbono y contribuir as\\u00ed a la consecuci\\u00f3n de la Agenda 2030. Este proyecto que contempla la investigaci\\u00f3n y pruebas en vuelo con SAF contribuye a los Objetivos para el Desarrollo Sostenible n\\u00famero 7 Garantizar el acceso a una energ\\u00eda asequible segura sostenible y moderna 8 Promover el crecimiento econ\\u00f3mico inclusivo y sostenible el empleo y el trabajo dignoy 13 adoptar medidas urgentes para combatir el cambio clim\\u00e1tico y sus efectos.Cepsa est\\u00e1 trabajando en un ambicioso plan para dar un giro verde a todos sus negocios y convertirse en un referente de la transici\\u00f3n energ\\u00e9tica en su sector. Adem\\u00e1s la compa\\u00f1\\u00eda cuenta con una amplia experiencia en este \\u00e1mbito lleva m\\u00e1s de 10 a\\u00f1os produciendo biocombustibles en sus centros industriales y desarrolla estudios pioneros a nivel mundial para convertir residuos y aceites usados en combustibles de origen renovable de alto valor energ\\u00e9tico.Para Maarten Wetselaar consejero delegado de Cepsa esta alianza muestra la apuesta de Cepsa por la sostenibilidad y la firme determinaci\\u00f3n de apoyar a nuestros clientes dot\\u00e1ndolos de soluciones viables que aceleren su transici\\u00f3n energ\\u00e9tica. Como referente en el suministro de combustibles para el sector a\\u00e9reo compartimos con el Grupo Iberia el objetivo com\\u00fan de impulsar la descarbonizaci\\u00f3n del transporte como herramienta de lucha contra el cambio clim\\u00e1tico.Como parte del Grupo IAG Iberia e Iberia Express se han comprometido a lograr cero emisiones netas en 2050 y a operar un m\\u00ednimo de un 10 de sus vuelos con combustibles de origen sostenible en 2030.Para la descarbonizaci\\u00f3n del sector a\\u00e9reo es imprescindible el desarrollo producci\\u00f3n y distribuci\\u00f3n de los combustibles de origen sostenible a precios asequibles y en cantidad suficiente para abastecer a las aerol\\u00edneas. Confiamos en que este acuerdo con Cepsa contribuya a ese objetivo ha comentado Javier S\\u00e1nchezPrieto presidente y CEO de Iberia.Combustibles sosteniblesLos biocombustibles para la aviaci\\u00f3n tienen un papel clave en la descarbonizaci\\u00f3n del turismo y del transporte a\\u00e9reo. En comparaci\\u00f3n con el combustible convencional el SAF puede reducir las emisiones de la aviaci\\u00f3n hasta en un 80 respecto al queroseno convencional durante todo su ciclo de vida seg\\u00fan la Asociaci\\u00f3n Internacional de Transporte A\\u00e9reo.Adem\\u00e1s aportan otros beneficios impulsa la econom\\u00eda circular aumenta la independencia energ\\u00e9tica y con ella la seguridad de suministro asegura el mantenimiento de un importante motor de la econom\\u00eda espa\\u00f1ola 200.000 empleos de calidad y puede utilizarse de manera inmediata sin necesidad de renovar la flota y aprovechando las infraestructuras de suministro actuales.Para la consecuci\\u00f3n del objetivo de crecimiento cero de las emisiones de carbono desde 2020 la Asociaci\\u00f3n del Transporte A\\u00e9reo Internacional IATA est\\u00e1 impulsando el uso de biocombustibles sostenibles entre otras iniciativas por su significativa reducci\\u00f3n de CO2.Este acuerdo entre Cepsa y el Grupo Iberia est\\u00e1 en l\\u00ednea con el conjunto de medidas Fit for 55 de la Comisi\\u00f3n Europea que incluye una iniciativa legislativa denominada RefuelEU Aviation que pretende impulsar la oferta y demanda de biocombustibles de aviaci\\u00f3n en la Uni\\u00f3n Europea alcanzando un uso de 2 en 2025 de 5 en 2030 y de 63 en 2050.\"\n        ],\n        \"semantic_type\": \"\",\n        \"description\": \"\"\n      }\n    }\n  ]\n}"
            }
          },
          "metadata": {},
          "execution_count": 13
        }
      ]
    },
    {
      "cell_type": "markdown",
      "source": [
        "El único paso de preprocesamiento necesario en nuestro caso es la construcción de características, en la que tomamos el texto de las noticias y los representamos en algún espacio de características manejable. En la práctica, esto significa simplemente convertir cada cadena en un vector numérico."
      ],
      "metadata": {
        "id": "NvzO12WgDK0h"
      }
    },
    {
      "cell_type": "code",
      "source": [
        "# Vectorization with stopwords in Spanish (assuming Spanish text)\n",
        "spanish_stop_words = stopwords.words('spanish')\n",
        "\n",
        "vectorizer = CountVectorizer(stop_words=spanish_stop_words, max_features=40000)\n",
        "document_term_matrix = vectorizer.fit_transform(data['news'])\n",
        "\n",
        "# Obtain the vocabulary using the recommended method\n",
        "vocabulary = vectorizer.get_feature_names_out()\n",
        "\n",
        "# Ejemplo: Obtener el vector de un texto específico\n",
        "text_to_vectorize = data['news'].iloc[0]  # Obtener el primer texto\n",
        "text_vector = vectorizer.transform([text_to_vectorize]).toarray()\n",
        "\n",
        "print('Vector del texto:', text_vector)\n",
        "print('Vocabulario:', vocabulary)"
      ],
      "metadata": {
        "colab": {
          "base_uri": "https://localhost:8080/"
        },
        "id": "0KhmFalQEDCe",
        "outputId": "45974d06-9894-4546-9fbb-c58afa857f61"
      },
      "execution_count": 17,
      "outputs": [
        {
          "output_type": "stream",
          "name": "stdout",
          "text": [
            "Vector del texto: [[0 0 0 ... 0 0 0]]\n",
            "Vocabulario: ['00' '000' '000a' ... 'úrsula' 'útil' 'útiles']\n"
          ]
        }
      ]
    },
    {
      "cell_type": "markdown",
      "source": [
        "## **Modelamiento**"
      ],
      "metadata": {
        "id": "A2-Jc55IE2Qb"
      }
    },
    {
      "cell_type": "markdown",
      "source": [
        "### Latent Semantic Analysis"
      ],
      "metadata": {
        "id": "NjdMi5mUItDE"
      }
    },
    {
      "cell_type": "code",
      "source": [
        "n_topics = 4\n",
        "\n",
        "lsa_model = TruncatedSVD(n_components=n_topics)\n",
        "lsa_topic_matrix = lsa_model.fit_transform(document_term_matrix)"
      ],
      "metadata": {
        "id": "hFO9V03dGII2"
      },
      "execution_count": 19,
      "outputs": []
    },
    {
      "cell_type": "markdown",
      "source": [
        "Si tomamos el argmáx de cada queja en esta matriz de temas, obtendremos los temas previstos para cada queja. A continuación, podemos clasificarlos en recuentos de cada tema."
      ],
      "metadata": {
        "id": "w18PyTJfGprB"
      }
    },
    {
      "cell_type": "code",
      "source": [
        "# Define helper functions\n",
        "def get_keys(topic_matrix):\n",
        "    '''\n",
        "    returns an integer list of predicted topic\n",
        "    categories for a given topic matrix\n",
        "    '''\n",
        "    keys = topic_matrix.argmax(axis=1).tolist()\n",
        "    return keys\n",
        "\n",
        "def keys_to_counts(keys):\n",
        "    '''\n",
        "    returns a tuple of topic categories and their\n",
        "    accompanying magnitudes for a given list of keys\n",
        "    '''\n",
        "    count_pairs = Counter(keys).items()\n",
        "    categories = [pair[0] for pair in count_pairs]\n",
        "    counts = [pair[1] for pair in count_pairs]\n",
        "    return (categories, counts)"
      ],
      "metadata": {
        "id": "ixr0InQNGtmk"
      },
      "execution_count": 20,
      "outputs": []
    },
    {
      "cell_type": "code",
      "source": [
        "lsa_keys = get_keys(lsa_topic_matrix)\n",
        "lsa_categories, lsa_counts = keys_to_counts(lsa_keys)"
      ],
      "metadata": {
        "id": "gmUJCcr0Gvo6"
      },
      "execution_count": 21,
      "outputs": []
    },
    {
      "cell_type": "markdown",
      "source": [
        "Para caracterizarlas mejor, será útil encontrar las palabras más frecuentes en cada una de ellas."
      ],
      "metadata": {
        "id": "tr8SMhZaGy7o"
      }
    },
    {
      "cell_type": "code",
      "source": [
        "# Define helper functions\n",
        "def get_top_n_words(n, keys, document_term_matrix, count_vectorizer):\n",
        "    '''\n",
        "    returns a list of n_topic strings, where each string contains the n most common\n",
        "    words in a predicted category, in order\n",
        "    '''\n",
        "    top_word_indices = []\n",
        "    for topic in range(n_topics):\n",
        "        temp_vector_sum = 0\n",
        "        for i in range(len(keys)):\n",
        "            if keys[i] == topic:\n",
        "                temp_vector_sum += document_term_matrix[i]\n",
        "        temp_vector_sum = temp_vector_sum.toarray()\n",
        "        top_n_word_indices = np.flip(np.argsort(temp_vector_sum)[0][-n:],0)\n",
        "        top_word_indices.append(top_n_word_indices)\n",
        "    top_words = []\n",
        "    for topic in top_word_indices:\n",
        "        topic_words = []\n",
        "        for index in topic:\n",
        "            temp_word_vector = np.zeros((1,document_term_matrix.shape[1]))\n",
        "            temp_word_vector[:,index] = 1\n",
        "            the_word = count_vectorizer.inverse_transform(temp_word_vector)[0][0]\n",
        "            topic_words.append(the_word.encode('utf-8').decode('utf-8'))\n",
        "        top_words.append(\" \".join(topic_words))\n",
        "    return top_words"
      ],
      "metadata": {
        "id": "kanmZyVPG18m"
      },
      "execution_count": 24,
      "outputs": []
    },
    {
      "cell_type": "code",
      "source": [
        "top_n_words_lsa = get_top_n_words(10, lsa_keys, document_term_matrix, vectorizer)\n",
        "\n",
        "for i in range(len(top_n_words_lsa)):\n",
        "    print(\"Topic {}: \".format(i+1), top_n_words_lsa[i])"
      ],
      "metadata": {
        "colab": {
          "base_uri": "https://localhost:8080/"
        },
        "id": "hh8CC1_vG-aO",
        "outputId": "00a00204-9bb9-41c5-e551-cdad443b50c5"
      },
      "execution_count": 25,
      "outputs": [
        {
          "output_type": "stream",
          "name": "stdout",
          "text": [
            "Topic 1:  bbva millones año empresas banco clientes colombia país crecimiento además\n",
            "Topic 2:  inflación precios año alimentos ipc mes puntos tasa aumento variación\n",
            "Topic 3:  energía agua electricidad eléctrica puede consumo solar renovables energías ser\n",
            "Topic 4:  datos información clientes ciencia forma modelos learning empresas machine aprendizaje\n"
          ]
        }
      ]
    },
    {
      "cell_type": "markdown",
      "source": [
        "Así, tenemos una lista de categorías temáticas previstas, en la que cada categoría se caracteriza por sus palabras más frecuentes. Las magnitudes relativas de cada una de estas categorías pueden visualizarse fácilmente mediante un gráfico de barras."
      ],
      "metadata": {
        "id": "B8qqfLl2HiWk"
      }
    },
    {
      "cell_type": "code",
      "source": [
        "top_3_words = get_top_n_words(3, lsa_keys, document_term_matrix, vectorizer)\n",
        "labels = ['Topic {}: \\n'.format(i) + top_3_words[i] for i in lsa_categories]\n",
        "\n",
        "print(\"Topic Labels:\")\n",
        "for i, category in enumerate(lsa_categories):\n",
        "    label = \"Topic {}: \\n\".format(i) + top_3_words[i]\n",
        "    print(label)\n",
        "\n",
        "# Create the bar chart with unformatted category labels\n",
        "fig, ax = plt.subplots(figsize=(16, 8))\n",
        "ax.bar(lsa_categories, lsa_counts);\n",
        "ax.set_xticks(lsa_categories);\n",
        "ax.set_xlabel('Topic Category');  # Change label to 'Topic Category'\n",
        "ax.set_ylabel('Number of quejas');\n",
        "ax.set_title('LSA topic counts');\n",
        "plt.show()"
      ],
      "metadata": {
        "colab": {
          "base_uri": "https://localhost:8080/",
          "height": 874
        },
        "id": "9a5CfoCvHiNA",
        "outputId": "1c47ffa3-fa1f-42b3-e4bb-876e8c602ed0"
      },
      "execution_count": 26,
      "outputs": [
        {
          "output_type": "stream",
          "name": "stdout",
          "text": [
            "Topic Labels:\n",
            "Topic 0: \n",
            "bbva millones año\n",
            "Topic 1: \n",
            "inflación precios año\n",
            "Topic 2: \n",
            "energía agua electricidad\n",
            "Topic 3: \n",
            "datos información clientes\n"
          ]
        },
        {
          "output_type": "display_data",
          "data": {
            "text/plain": [
              "<Figure size 1600x800 with 1 Axes>"
            ],
            "image/png": "[encoded data removed]"
          },
          "metadata": {}
        }
      ]
    },
    {
      "cell_type": "code",
      "source": [
        "tsne_lsa_model = TSNE(n_components=2, perplexity=50, learning_rate=100,\n",
        "                        n_iter=2000, verbose=1, random_state=0, angle=0.75)\n",
        "tsne_lsa_vectors = tsne_lsa_model.fit_transform(lsa_topic_matrix)"
      ],
      "metadata": {
        "colab": {
          "base_uri": "https://localhost:8080/"
        },
        "id": "-MSNBc5jHl8L",
        "outputId": "d4ab92ad-7ac8-4844-b6b6-53243b797c53"
      },
      "execution_count": 27,
      "outputs": [
        {
          "output_type": "stream",
          "name": "stderr",
          "text": [
            "/usr/local/lib/python3.12/dist-packages/sklearn/manifold/_t_sne.py:1164: FutureWarning: 'n_iter' was renamed to 'max_iter' in version 1.5 and will be removed in 1.7.\n",
            "  warnings.warn(\n"
          ]
        },
        {
          "output_type": "stream",
          "name": "stdout",
          "text": [
            "[t-SNE] Computing 151 nearest neighbors...\n",
            "[t-SNE] Indexed 1217 samples in 0.003s...\n",
            "[t-SNE] Computed neighbors for 1217 samples in 0.052s...\n",
            "[t-SNE] Computed conditional probabilities for sample 1000 / 1217\n",
            "[t-SNE] Computed conditional probabilities for sample 1217 / 1217\n",
            "[t-SNE] Mean sigma: 0.918583\n",
            "[t-SNE] KL divergence after 250 iterations with early exaggeration: 59.743050\n",
            "[t-SNE] KL divergence after 2000 iterations: 0.619754\n"
          ]
        }
      ]
    },
    {
      "cell_type": "markdown",
      "source": [
        "hora que hemos reducido estos vectores n_topics-dimensionales a representaciones bidimensionales, podemos trazar los clusters utilizando Bokeh. Antes de hacerlo, sin embargo, será útil derivar la ubicación del centroide de cada tema, a fin de contextualizar mejor nuestra visualización."
      ],
      "metadata": {
        "id": "XzEkPu5YHzwy"
      }
    },
    {
      "cell_type": "code",
      "source": [
        "# Define helper functions\n",
        "def get_mean_topic_vectors(keys, two_dim_vectors):\n",
        "    '''\n",
        "    returns a list of centroid vectors from each predicted topic category\n",
        "    '''\n",
        "    mean_topic_vectors = []\n",
        "    for t in range(n_topics):\n",
        "        articles_in_that_topic = []\n",
        "        for i in range(len(keys)):\n",
        "            if keys[i] == t:\n",
        "                articles_in_that_topic.append(two_dim_vectors[i])\n",
        "\n",
        "        articles_in_that_topic = np.vstack(articles_in_that_topic)\n",
        "        mean_article_in_that_topic = np.mean(articles_in_that_topic, axis=0)\n",
        "        mean_topic_vectors.append(mean_article_in_that_topic)\n",
        "    return mean_topic_vectors"
      ],
      "metadata": {
        "id": "CRBAR7ZaHzFi"
      },
      "execution_count": 28,
      "outputs": []
    },
    {
      "cell_type": "code",
      "source": [
        "colormap = np.array([\n",
        "    \"#1f77b4\", \"#aec7e8\", \"#ff7f0e\", \"#ffbb78\", \"#2ca02c\",\n",
        "    \"#98df8a\", \"#d62728\", \"#ff9896\", \"#9467bd\", \"#c5b0d5\",\n",
        "    \"#8c564b\", \"#c49c94\", \"#e377c2\", \"#f7b6d2\", \"#7f7f7f\",\n",
        "    \"#c7c7c7\", \"#bcbd22\", \"#dbdb8d\", \"#17becf\", \"#9edae5\" ])\n",
        "colormap = colormap[:n_topics]"
      ],
      "metadata": {
        "id": "TUauk6SjH3O1"
      },
      "execution_count": 29,
      "outputs": []
    },
    {
      "cell_type": "code",
      "source": [
        "from bokeh.plotting import figure, output_file, show\n",
        "from bokeh.models import Label\n",
        "\n",
        "top_3_words_lsa = get_top_n_words(3, lsa_keys, document_term_matrix, vectorizer)\n",
        "lsa_mean_topic_vectors = get_mean_topic_vectors(lsa_keys, tsne_lsa_vectors)\n",
        "\n",
        "plot = figure(title=\"t-SNE Clustering of {} LSA Topics\".format(n_topics), width=700, height=700)\n",
        "plot.scatter(x=tsne_lsa_vectors[:,0], y=tsne_lsa_vectors[:,1], color=colormap[lsa_keys])\n",
        "\n",
        "# Define el color del texto de las etiquetas en negro\n",
        "text_color = \"black\"\n",
        "\n",
        "for t in range(n_topics):\n",
        "  label = Label(x=lsa_mean_topic_vectors[t][0], y=lsa_mean_topic_vectors[t][1],\n",
        "                text=top_3_words_lsa[t], text_color=text_color)\n",
        "  plot.add_layout(label)\n",
        "\n",
        "show(plot)\n",
        "\n",
        "print(\"\\nTopic Labels:\")\n",
        "for i, topic in enumerate(lsa_categories):\n",
        "  label = \"Topic {}:\".format(i) + top_3_words_lsa[i]\n",
        "  print(label)"
      ],
      "metadata": {
        "colab": {
          "base_uri": "https://localhost:8080/"
        },
        "collapsed": true,
        "id": "9dAOFHUbH5O6",
        "outputId": "a25de4f9-fb38-4a9a-fa20-b2092a4103f5"
      },
      "execution_count": 34,
      "outputs": [
        {
          "output_type": "stream",
          "name": "stdout",
          "text": [
            "\n",
            "Topic Labels:\n",
            "Topic 0:bbva millones año\n",
            "Topic 1:inflación precios año\n",
            "Topic 2:energía agua electricidad\n",
            "Topic 3:datos información clientes\n"
          ]
        }
      ]
    },
    {
      "cell_type": "markdown",
      "source": [
        "### Latent Dirichilet Allocation\n",
        "Ahora repetimos este proceso utilizando LDA en lugar de LSA. En cambio, LDA es un proceso probabilístico generativo, diseñado con el objetivo específico de descubrir la estructura temática latente en corpus de texto."
      ],
      "metadata": {
        "id": "JP_o_L1UIpDc"
      }
    },
    {
      "cell_type": "code",
      "source": [
        "lda_model = LatentDirichletAllocation(n_components=n_topics, learning_method='online',\n",
        "                                          random_state=0, verbose=0)\n",
        "lda_topic_matrix = lda_model.fit_transform(document_term_matrix)"
      ],
      "metadata": {
        "id": "ZIHZBdgcI1uy"
      },
      "execution_count": 35,
      "outputs": []
    },
    {
      "cell_type": "markdown",
      "source": [],
      "metadata": {
        "id": "_KMt37FeI1e-"
      }
    },
    {
      "cell_type": "code",
      "source": [
        "lda_keys = get_keys(lda_topic_matrix)\n",
        "lda_categories, lda_counts = keys_to_counts(lda_keys)"
      ],
      "metadata": {
        "id": "4vhTOmQhI5WN"
      },
      "execution_count": 36,
      "outputs": []
    },
    {
      "cell_type": "code",
      "source": [
        "top_n_words_lda = get_top_n_words(10, lda_keys, document_term_matrix, vectorizer)\n",
        "\n",
        "for i in range(len(top_n_words_lda)):\n",
        "    print(\"Topic {}: \".format(i+1), top_n_words_lda[i])"
      ],
      "metadata": {
        "colab": {
          "base_uri": "https://localhost:8080/"
        },
        "id": "ZwzOOpsII64q",
        "outputId": "40d38fbe-e1d2-4c4b-b2d8-a7438885dedf"
      },
      "execution_count": 37,
      "outputs": [
        {
          "output_type": "stream",
          "name": "stdout",
          "text": [
            "Topic 1:  inflación precios año millones mayor crecimiento bbva alimentos aumento banco\n",
            "Topic 2:  energía agua bbva puede sostenible si emisiones consumo además cada\n",
            "Topic 3:  bbva empresas clientes banco colombia millones país través digital además\n",
            "Topic 4:  cine mujeres avianca millones viva rutas momento colombia valadez aerolínea\n"
          ]
        }
      ]
    },
    {
      "cell_type": "code",
      "source": [
        "top_3_words = get_top_n_words(3, lda_keys, document_term_matrix, vectorizer)\n",
        "labels = ['Topic {}: \\n'.format(i) + top_3_words[i] for i in lda_categories]\n",
        "\n",
        "fig, ax = plt.subplots(figsize=(16,8))\n",
        "ax.bar(lda_categories, lda_counts);\n",
        "ax.set_xticks(lda_categories);\n",
        "ax.set_xticklabels(labels);\n",
        "ax.set_title('LDA topic counts');\n",
        "ax.set_ylabel('Number of headlines');"
      ],
      "metadata": {
        "colab": {
          "base_uri": "https://localhost:8080/",
          "height": 715
        },
        "id": "Ewd_7duCI8-5",
        "outputId": "1969bb04-e08c-4c38-e4b8-ebe12f173c20"
      },
      "execution_count": 38,
      "outputs": [
        {
          "output_type": "display_data",
          "data": {
            "text/plain": [
              "<Figure size 1600x800 with 1 Axes>"
            ],
            "image/png": "[encoded data removed]"
          },
          "metadata": {}
        }
      ]
    },
    {
      "cell_type": "code",
      "source": [
        "tsne_lda_model = TSNE(n_components=2, perplexity=50, learning_rate=100,\n",
        "                        n_iter=2000, verbose=1, random_state=0, angle=0.75)\n",
        "tsne_lda_vectors = tsne_lda_model.fit_transform(lda_topic_matrix)"
      ],
      "metadata": {
        "colab": {
          "base_uri": "https://localhost:8080/"
        },
        "id": "oaTCmQpoJDsN",
        "outputId": "b66057d6-b55e-4286-b219-7e4bced9a594"
      },
      "execution_count": 39,
      "outputs": [
        {
          "output_type": "stream",
          "name": "stderr",
          "text": [
            "/usr/local/lib/python3.12/dist-packages/sklearn/manifold/_t_sne.py:1164: FutureWarning: 'n_iter' was renamed to 'max_iter' in version 1.5 and will be removed in 1.7.\n",
            "  warnings.warn(\n"
          ]
        },
        {
          "output_type": "stream",
          "name": "stdout",
          "text": [
            "[t-SNE] Computing 151 nearest neighbors...\n",
            "[t-SNE] Indexed 1217 samples in 0.002s...\n",
            "[t-SNE] Computed neighbors for 1217 samples in 0.029s...\n",
            "[t-SNE] Computed conditional probabilities for sample 1000 / 1217\n",
            "[t-SNE] Computed conditional probabilities for sample 1217 / 1217\n",
            "[t-SNE] Mean sigma: 0.000654\n",
            "[t-SNE] KL divergence after 250 iterations with early exaggeration: 48.313885\n",
            "[t-SNE] KL divergence after 2000 iterations: 0.164075\n"
          ]
        }
      ]
    },
    {
      "cell_type": "code",
      "source": [
        "top_3_words_lda = get_top_n_words(3, lda_keys, document_term_matrix, vectorizer)\n",
        "lda_mean_topic_vectors = get_mean_topic_vectors(lda_keys, tsne_lda_vectors)\n",
        "\n",
        "plot = figure(title=\"t-SNE Clustering of {} LDA Topics\".format(n_topics), width=700, height=700)\n",
        "plot.scatter(x=tsne_lda_vectors[:,0], y=tsne_lda_vectors[:,1], color=colormap[lda_keys])\n",
        "\n",
        "text_color = \"black\"\n",
        "\n",
        "for t in range(n_topics):\n",
        "  label = Label(x=lsa_mean_topic_vectors[t][0], y=lsa_mean_topic_vectors[t][1],\n",
        "                text=top_3_words_lsa[t], text_color=text_color)\n",
        "  plot.add_layout(label)\n",
        "\n",
        "show(plot)\n",
        "\n",
        "print(\"\\n Topic Labels:\")\n",
        "for i, topic in enumerate(lda_categories):\n",
        "  label = \"Topic {}:\".format(i) + top_3_words_lsa[i]\n",
        "  print(label)"
      ],
      "metadata": {
        "colab": {
          "base_uri": "https://localhost:8080/"
        },
        "id": "yVqZSg4JJGOs",
        "outputId": "1d5be870-7e27-4e1b-e347-f45eebb2b5f2"
      },
      "execution_count": 40,
      "outputs": [
        {
          "output_type": "stream",
          "name": "stdout",
          "text": [
            "\n",
            " Topic Labels:\n",
            "Topic 0:bbva millones año\n",
            "Topic 1:inflación precios año\n",
            "Topic 2:energía agua electricidad\n",
            "Topic 3:datos información clientes\n"
          ]
        }
      ]
    }
  ]
}